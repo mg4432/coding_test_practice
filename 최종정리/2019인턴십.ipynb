{
 "cells": [
  {
   "cell_type": "markdown",
   "metadata": {},
   "source": [
    "# 크레인 인형뽑기 게임 "
   ]
  },
  {
   "cell_type": "code",
   "execution_count": 29,
   "metadata": {
    "ExecuteTime": {
     "end_time": "2022-05-05T06:28:12.234592Z",
     "start_time": "2022-05-05T06:28:12.217582Z"
    }
   },
   "outputs": [],
   "source": [
    "def solution(board, moves) :\n",
    "    answer = 0\n",
    "    lst = []\n",
    "    cnt = 0\n",
    "    for move in moves : \n",
    "        for i in range(len(board)) : \n",
    "            popped = board[i][move-1]\n",
    "            if popped > 0:\n",
    "                if len(lst) == 0 : \n",
    "                    lst.append(popped)\n",
    "                else : \n",
    "                    if lst[-1] == popped : \n",
    "                        lst = lst[:-1]\n",
    "                        cnt += 2\n",
    "                    else : \n",
    "                        lst.append(popped)\n",
    "                board[i][move-1] = 0\n",
    "                break\n",
    "    return cnt"
   ]
  },
  {
   "cell_type": "code",
   "execution_count": 30,
   "metadata": {
    "ExecuteTime": {
     "end_time": "2022-05-05T06:28:12.370528Z",
     "start_time": "2022-05-05T06:28:12.355572Z"
    }
   },
   "outputs": [
    {
     "data": {
      "text/plain": [
       "4"
      ]
     },
     "execution_count": 30,
     "metadata": {},
     "output_type": "execute_result"
    }
   ],
   "source": [
    "solution([[0,0,0,0,0],[0,0,1,0,3],[0,2,5,0,1],[4,2,4,4,2],[3,5,1,3,1]], \n",
    "         [1,5,3,5,1,2,1,4])"
   ]
  },
  {
   "cell_type": "markdown",
   "metadata": {},
   "source": [
    "# 튜플"
   ]
  },
  {
   "cell_type": "code",
   "execution_count": 114,
   "metadata": {
    "ExecuteTime": {
     "end_time": "2022-05-05T06:49:57.958874Z",
     "start_time": "2022-05-05T06:49:57.947338Z"
    }
   },
   "outputs": [],
   "source": [
    "def solution(s) : \n",
    "    s = s[1:-1]\n",
    "    s = s.replace('},{', '/')[1:-1]\n",
    "    lst = s.split('/')\n",
    "    lst = sorted(lst, key = lambda x : len(x))\n",
    "    answer = [int(lst[0])]\n",
    "    for i in range(1, len(lst)) : \n",
    "        big = set(lst[i].split(','))\n",
    "        small = set(lst[i-1].split(','))\n",
    "        answer.append(int(list(big - small)[0]))\n",
    "    return answer"
   ]
  },
  {
   "cell_type": "code",
   "execution_count": 115,
   "metadata": {
    "ExecuteTime": {
     "end_time": "2022-05-05T06:49:58.140037Z",
     "start_time": "2022-05-05T06:49:58.124217Z"
    }
   },
   "outputs": [
    {
     "data": {
      "text/plain": [
       "[2, 1, 3, 4]"
      ]
     },
     "execution_count": 115,
     "metadata": {},
     "output_type": "execute_result"
    }
   ],
   "source": [
    "solution(\"{{2},{2,1},{2,1,3},{2,1,3,4}}\")"
   ]
  },
  {
   "cell_type": "markdown",
   "metadata": {},
   "source": [
    "# 불량 사용자"
   ]
  },
  {
   "cell_type": "code",
   "execution_count": 183,
   "metadata": {
    "ExecuteTime": {
     "end_time": "2022-05-05T07:20:22.387354Z",
     "start_time": "2022-05-05T07:20:22.374388Z"
    }
   },
   "outputs": [],
   "source": [
    "import math\n",
    "from itertools import permutations \n",
    "def check(user, ban) : \n",
    "    if len(user) != len(ban) : \n",
    "        return False \n",
    "    \n",
    "    else : \n",
    "        for i in range(len(user)) :\n",
    "            if ban[i] == '*' : \n",
    "                continue\n",
    "            else : \n",
    "                if user[i] != ban[i] :\n",
    "                    return False\n",
    "    return True\n",
    "\n",
    "def solution(user_id, banned_id) :\n",
    "    n = len(user_id)\n",
    "    k = len(banned_id)\n",
    "    answer = []\n",
    "    for perm in permutations(user_id, k) : \n",
    "        match = True\n",
    "        for i in range(k) : \n",
    "            if check(perm[i], banned_id[i]) is False : \n",
    "                match = False\n",
    "        if match :\n",
    "            if set(perm) not in answer : \n",
    "                answer.append(set(perm))\n",
    "                \n",
    "                \n",
    "    return len(answer)"
   ]
  },
  {
   "cell_type": "code",
   "execution_count": 184,
   "metadata": {
    "ExecuteTime": {
     "end_time": "2022-05-05T07:20:22.804260Z",
     "start_time": "2022-05-05T07:20:22.776754Z"
    }
   },
   "outputs": [
    {
     "data": {
      "text/plain": [
       "3"
      ]
     },
     "execution_count": 184,
     "metadata": {},
     "output_type": "execute_result"
    }
   ],
   "source": [
    "solution([\"frodo\", \"fradi\", \"crodo\", \"abc123\", \"frodoc\"], \n",
    "         [\"fr*d*\", \"*rodo\", \"******\", \"******\"])"
   ]
  },
  {
   "cell_type": "markdown",
   "metadata": {},
   "source": [
    "# 호텔 방 배정"
   ]
  },
  {
   "cell_type": "code",
   "execution_count": 185,
   "metadata": {
    "ExecuteTime": {
     "end_time": "2022-05-05T07:41:58.512828Z",
     "start_time": "2022-05-05T07:41:58.487266Z"
    }
   },
   "outputs": [],
   "source": [
    "import sys\n",
    "sys.setrecursionlimit(10000) # 재귀 허용깊이 임의로 지정\n",
    "\n",
    "def solution(k, room_number):\n",
    "    rooms = dict() # {방번호: 바로 다음 빈방 번호}\n",
    "    for num in room_number:\n",
    "        chk_in = find_emptyroom(num,rooms)\n",
    "    return list(rooms.keys())\n",
    "\n",
    "def find_emptyroom(chk, rooms): # 재귀함수\n",
    "    if chk not in rooms.keys(): # 빈 방이면\n",
    "        rooms[chk] = chk+1 # rooms에 새 노드 추가\n",
    "        return chk # 요청한 방\n",
    "    empty = find_emptyroom(rooms[chk], rooms) # 재귀함수 호출\n",
    "    rooms[chk] = empty+1 # (배정된 방+1)을 부모노드로 변경\n",
    "    return empty # 새로 찾은 빈 방"
   ]
  },
  {
   "cell_type": "code",
   "execution_count": 186,
   "metadata": {
    "ExecuteTime": {
     "end_time": "2022-05-05T07:42:11.820962Z",
     "start_time": "2022-05-05T07:42:11.808993Z"
    }
   },
   "outputs": [
    {
     "data": {
      "text/plain": [
       "[1, 3, 4, 2, 5, 6]"
      ]
     },
     "execution_count": 186,
     "metadata": {},
     "output_type": "execute_result"
    }
   ],
   "source": [
    "solution(10,[1,3,4,1,3,1])"
   ]
  },
  {
   "cell_type": "markdown",
   "metadata": {},
   "source": [
    "# 징검다리 건너기"
   ]
  },
  {
   "cell_type": "code",
   "execution_count": 197,
   "metadata": {
    "ExecuteTime": {
     "end_time": "2022-05-05T07:58:06.550773Z",
     "start_time": "2022-05-05T07:58:06.542695Z"
    }
   },
   "outputs": [],
   "source": [
    "def solution(stones, k) : \n",
    "    left = 0 \n",
    "    right = max(stones)+1 \n",
    "    \n",
    "    while left <= right : \n",
    "        mid = (left+right) //2 \n",
    "        cnt = 0 \n",
    "        for s in stones : \n",
    "            if (s-mid) <= 0 : \n",
    "                cnt += 1\n",
    "            else : \n",
    "                cnt = 0 \n",
    "            if cnt >= k : \n",
    "                break\n",
    "        if cnt >= k : \n",
    "            right = mid - 1 \n",
    "        else : \n",
    "            left = mid + 1 \n",
    "                \n",
    "    return left"
   ]
  },
  {
   "cell_type": "code",
   "execution_count": 198,
   "metadata": {
    "ExecuteTime": {
     "end_time": "2022-05-05T07:58:06.702268Z",
     "start_time": "2022-05-05T07:58:06.689480Z"
    }
   },
   "outputs": [
    {
     "data": {
      "text/plain": [
       "3"
      ]
     },
     "execution_count": 198,
     "metadata": {},
     "output_type": "execute_result"
    }
   ],
   "source": [
    "solution([2, 4, 5, 3, 2, 1, 4, 2, 5, 1],3)"
   ]
  }
 ],
 "metadata": {
  "hide_input": false,
  "kernelspec": {
   "display_name": "Python 3",
   "language": "python",
   "name": "python3"
  },
  "language_info": {
   "codemirror_mode": {
    "name": "ipython",
    "version": 3
   },
   "file_extension": ".py",
   "mimetype": "text/x-python",
   "name": "python",
   "nbconvert_exporter": "python",
   "pygments_lexer": "ipython3",
   "version": "3.8.5"
  },
  "toc": {
   "base_numbering": 1,
   "nav_menu": {},
   "number_sections": true,
   "sideBar": true,
   "skip_h1_title": false,
   "title_cell": "Table of Contents",
   "title_sidebar": "Contents",
   "toc_cell": false,
   "toc_position": {},
   "toc_section_display": true,
   "toc_window_display": false
  },
  "varInspector": {
   "cols": {
    "lenName": 16,
    "lenType": 16,
    "lenVar": 40
   },
   "kernels_config": {
    "python": {
     "delete_cmd_postfix": "",
     "delete_cmd_prefix": "del ",
     "library": "var_list.py",
     "varRefreshCmd": "print(var_dic_list())"
    },
    "r": {
     "delete_cmd_postfix": ") ",
     "delete_cmd_prefix": "rm(",
     "library": "var_list.r",
     "varRefreshCmd": "cat(var_dic_list()) "
    }
   },
   "types_to_exclude": [
    "module",
    "function",
    "builtin_function_or_method",
    "instance",
    "_Feature"
   ],
   "window_display": false
  }
 },
 "nbformat": 4,
 "nbformat_minor": 4
}
