{
 "cells": [
  {
   "cell_type": "markdown",
   "metadata": {},
   "source": [
    "# 오픈채팅방"
   ]
  },
  {
   "cell_type": "code",
   "execution_count": 83,
   "metadata": {
    "ExecuteTime": {
     "end_time": "2022-05-05T13:07:39.621404Z",
     "start_time": "2022-05-05T13:07:39.598498Z"
    }
   },
   "outputs": [],
   "source": [
    "def solution(record) : \n",
    "    user_dict = {}\n",
    "    answer = []\n",
    "    for rec in record :\n",
    "        if rec.split(' ')[0] in ['Enter', 'Change'] : \n",
    "            user_dict[rec.split(' ')[1]] = rec.split(' ')[2]\n",
    "    \n",
    "    for rec in record :\n",
    "        if rec.split(' ')[0] == 'Enter' : \n",
    "            answer.append(user_dict[rec.split(' ')[1]] + '님이 들어왔습니다.')\n",
    "        if rec.split(' ')[0] == 'Leave' : \n",
    "            answer.append(user_dict[rec.split(' ')[1]] + '님이 나갔습니다.')\n",
    "    return answer\n",
    "    "
   ]
  },
  {
   "cell_type": "code",
   "execution_count": 84,
   "metadata": {
    "ExecuteTime": {
     "end_time": "2022-05-05T13:07:39.758342Z",
     "start_time": "2022-05-05T13:07:39.745281Z"
    },
    "scrolled": true
   },
   "outputs": [
    {
     "data": {
      "text/plain": [
       "['Prodo님이 들어왔습니다.', 'Ryan님이 들어왔습니다.', 'Prodo님이 나갔습니다.', 'Prodo님이 들어왔습니다.']"
      ]
     },
     "execution_count": 84,
     "metadata": {},
     "output_type": "execute_result"
    }
   ],
   "source": [
    "solution([\"Enter uid1234 Muzi\", \"Enter uid4567 Prodo\",\"Leave uid1234\",\n",
    "          \"Enter uid1234 Prodo\",\"Change uid4567 Ryan\"])"
   ]
  },
  {
   "cell_type": "markdown",
   "metadata": {},
   "source": [
    "# 실패율"
   ]
  },
  {
   "cell_type": "code",
   "execution_count": 61,
   "metadata": {
    "ExecuteTime": {
     "end_time": "2022-05-05T12:45:59.600330Z",
     "start_time": "2022-05-05T12:45:59.587375Z"
    }
   },
   "outputs": [],
   "source": [
    "def solution(N, stages) : \n",
    "    answer = [] \n",
    "    length = len(stages) \n",
    "    for i in range(1, N+1) : \n",
    "        cnt = stages.count(i)\n",
    "        if length == 0 : \n",
    "            fail = 0\n",
    "        else : \n",
    "            fail = cnt/length\n",
    "        length -= cnt\n",
    "        answer.append((i, fail))\n",
    "        \n",
    "    answer = sorted(answer, key = lambda x : x[1], reverse = True)\n",
    "    for i in range(len(answer)) : \n",
    "        answer[i] = answer[i][0]\n",
    "    return answer"
   ]
  },
  {
   "cell_type": "code",
   "execution_count": 62,
   "metadata": {
    "ExecuteTime": {
     "end_time": "2022-05-05T12:45:59.815981Z",
     "start_time": "2022-05-05T12:45:59.798135Z"
    }
   },
   "outputs": [
    {
     "data": {
      "text/plain": [
       "[3, 4, 2, 1, 5]"
      ]
     },
     "execution_count": 62,
     "metadata": {},
     "output_type": "execute_result"
    }
   ],
   "source": [
    "solution(5, [2,1,2,6,2,4,3,3])"
   ]
  },
  {
   "cell_type": "markdown",
   "metadata": {},
   "source": [
    "# 후보키"
   ]
  },
  {
   "cell_type": "code",
   "execution_count": 24,
   "metadata": {
    "ExecuteTime": {
     "end_time": "2022-05-06T03:18:32.954117Z",
     "start_time": "2022-05-06T03:18:32.935169Z"
    }
   },
   "outputs": [],
   "source": [
    "from itertools import chain, combinations \n",
    "\n",
    "# 모든 조합 \n",
    "def get_all_subset(iterable) : \n",
    "    s = list(iterable)\n",
    "    return chain.from_iterable(combinations(s, r) for r in range(1, len(s)+1))\n",
    "\n",
    "# 유일성 조합 \n",
    "def get_all_unique_subset(relation) : \n",
    "    subset_list = get_all_subset(range(len(relation[0])))\n",
    "    unique_list = [] \n",
    "    \n",
    "    for subset in subset_list :\n",
    "        unique = True \n",
    "        values = set()\n",
    "        \n",
    "        for row in range(len(relation)) : \n",
    "            value = ' '\n",
    "            for col in subset :\n",
    "                value += relation[row][col]\n",
    "                \n",
    "            if value in values : \n",
    "                unique = False\n",
    "                break\n",
    "            \n",
    "            values.add(value)\n",
    "        if unique :\n",
    "            unique_list.append(subset)\n",
    "    return unique_list\n",
    "\n",
    "def solution(relation) : \n",
    "    unique_list = get_all_unique_subset(relation)\n",
    "    unique_list = sorted(unique_list, key = lambda x: len(x))\n",
    "    answer = [] \n",
    "    \n",
    "    for subset in unique_list : \n",
    "        check = True \n",
    "        subset = set(subset)\n",
    "        for ans in answer : \n",
    "            if ans.issubset(subset) : \n",
    "                check = False\n",
    "                \n",
    "        if check  :\n",
    "            answer.append(subset)\n",
    "    return len(answer)"
   ]
  },
  {
   "cell_type": "code",
   "execution_count": 25,
   "metadata": {
    "ExecuteTime": {
     "end_time": "2022-05-06T03:19:16.249115Z",
     "start_time": "2022-05-06T03:19:16.238177Z"
    }
   },
   "outputs": [
    {
     "data": {
      "text/plain": [
       "2"
      ]
     },
     "execution_count": 25,
     "metadata": {},
     "output_type": "execute_result"
    }
   ],
   "source": [
    "solution([[\"100\",\"ryan\",\"music\",\"2\"],[\"200\",\"apeach\",\"math\",\"2\"],\n",
    "          [\"300\",\"tube\",\"computer\",\"3\"],[\"400\",\"con\",\"computer\",\"4\"],\n",
    "          [\"500\",\"muzi\",\"music\",\"3\"],[\"600\",\"apeach\",\"music\",\"2\"]])"
   ]
  },
  {
   "cell_type": "markdown",
   "metadata": {},
   "source": [
    "# 무지의 먹방 라이브"
   ]
  },
  {
   "cell_type": "code",
   "execution_count": 33,
   "metadata": {
    "ExecuteTime": {
     "end_time": "2022-05-06T04:41:35.976981Z",
     "start_time": "2022-05-06T04:41:35.959208Z"
    }
   },
   "outputs": [],
   "source": [
    "def solution(food_times, k) :\n",
    "    # 전체 음식 개수\n",
    "    n = len(food_times)\n",
    "    # 음식 번호, 남은 음식 수\n",
    "    foods = [] \n",
    "    # (i, n) : i번 음식이 n개 남음\n",
    "    for i in range(n) : \n",
    "        foods.append((i+1, food_times[i]))\n",
    "    \n",
    "    # 남은 음식 수를 오름차순으로 정렬\n",
    "    foods = sorted(foods, key = lambda x : x[1])\n",
    "    \n",
    "    pretime = 0 \n",
    "    \n",
    "    # 개수별로 정렬한 후 개수가 변하는 지점이 있을 때마다 한 번에 삭제\n",
    "    #    o o       o o\n",
    "    #  o o o  -> x x x = 1층의 3개 한 번에 삭제\n",
    "    for i, food in enumerate(foods) : \n",
    "        diff = food[1] - pretime\n",
    "        spend = n * diff\n",
    "        \n",
    "        # 한 번에 제거해도 k가 시간이 남은 경우는 k개수만 빼주고 업데이트하면 됨 \n",
    "        if spend <= k : \n",
    "            k -= spend\n",
    "            # 음식 개수도 줄여주기(diff = 0인 경우를 따로 고려할 필요 없음, 어차피 spend=0)\n",
    "            n -= 1\n",
    "            # 직전 시간 업데이트\n",
    "            pretime = food[1]\n",
    "        \n",
    "        # 남은 시간이 제거해야하는 음식 수보다 적으면 어떤 음식을 먹어야하는지 찾아야 함\n",
    "        # ex. o o o o 인데 k = 2인 경우\n",
    "        else :\n",
    "            k %= n\n",
    "            sublist = sorted(foods[i:])\n",
    "            return sublist[k][0]\n",
    "            \n",
    "        \n",
    "    return -1"
   ]
  },
  {
   "cell_type": "code",
   "execution_count": 34,
   "metadata": {
    "ExecuteTime": {
     "end_time": "2022-05-06T04:41:36.098179Z",
     "start_time": "2022-05-06T04:41:36.083918Z"
    }
   },
   "outputs": [
    {
     "data": {
      "text/plain": [
       "1"
      ]
     },
     "execution_count": 34,
     "metadata": {},
     "output_type": "execute_result"
    }
   ],
   "source": [
    "solution([3,1,2], 5)"
   ]
  }
 ],
 "metadata": {
  "hide_input": false,
  "kernelspec": {
   "display_name": "Python 3",
   "language": "python",
   "name": "python3"
  },
  "language_info": {
   "codemirror_mode": {
    "name": "ipython",
    "version": 3
   },
   "file_extension": ".py",
   "mimetype": "text/x-python",
   "name": "python",
   "nbconvert_exporter": "python",
   "pygments_lexer": "ipython3",
   "version": "3.8.5"
  },
  "toc": {
   "base_numbering": 1,
   "nav_menu": {},
   "number_sections": true,
   "sideBar": true,
   "skip_h1_title": false,
   "title_cell": "Table of Contents",
   "title_sidebar": "Contents",
   "toc_cell": false,
   "toc_position": {},
   "toc_section_display": true,
   "toc_window_display": false
  },
  "varInspector": {
   "cols": {
    "lenName": 16,
    "lenType": 16,
    "lenVar": 40
   },
   "kernels_config": {
    "python": {
     "delete_cmd_postfix": "",
     "delete_cmd_prefix": "del ",
     "library": "var_list.py",
     "varRefreshCmd": "print(var_dic_list())"
    },
    "r": {
     "delete_cmd_postfix": ") ",
     "delete_cmd_prefix": "rm(",
     "library": "var_list.r",
     "varRefreshCmd": "cat(var_dic_list()) "
    }
   },
   "types_to_exclude": [
    "module",
    "function",
    "builtin_function_or_method",
    "instance",
    "_Feature"
   ],
   "window_display": false
  }
 },
 "nbformat": 4,
 "nbformat_minor": 4
}
