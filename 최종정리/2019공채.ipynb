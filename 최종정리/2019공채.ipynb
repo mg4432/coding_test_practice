{
 "cells": [
  {
   "cell_type": "markdown",
   "metadata": {},
   "source": [
    "# 오픈채팅방"
   ]
  },
  {
   "cell_type": "code",
   "execution_count": 83,
   "metadata": {
    "ExecuteTime": {
     "end_time": "2022-05-05T13:07:39.621404Z",
     "start_time": "2022-05-05T13:07:39.598498Z"
    }
   },
   "outputs": [],
   "source": [
    "def solution(record) : \n",
    "    user_dict = {}\n",
    "    answer = []\n",
    "    for rec in record :\n",
    "        if rec.split(' ')[0] in ['Enter', 'Change'] : \n",
    "            user_dict[rec.split(' ')[1]] = rec.split(' ')[2]\n",
    "    \n",
    "    for rec in record :\n",
    "        if rec.split(' ')[0] == 'Enter' : \n",
    "            answer.append(user_dict[rec.split(' ')[1]] + '님이 들어왔습니다.')\n",
    "        if rec.split(' ')[0] == 'Leave' : \n",
    "            answer.append(user_dict[rec.split(' ')[1]] + '님이 나갔습니다.')\n",
    "    return answer\n",
    "    "
   ]
  },
  {
   "cell_type": "code",
   "execution_count": 84,
   "metadata": {
    "ExecuteTime": {
     "end_time": "2022-05-05T13:07:39.758342Z",
     "start_time": "2022-05-05T13:07:39.745281Z"
    },
    "scrolled": true
   },
   "outputs": [
    {
     "data": {
      "text/plain": [
       "['Prodo님이 들어왔습니다.', 'Ryan님이 들어왔습니다.', 'Prodo님이 나갔습니다.', 'Prodo님이 들어왔습니다.']"
      ]
     },
     "execution_count": 84,
     "metadata": {},
     "output_type": "execute_result"
    }
   ],
   "source": [
    "solution([\"Enter uid1234 Muzi\", \"Enter uid4567 Prodo\",\"Leave uid1234\",\n",
    "          \"Enter uid1234 Prodo\",\"Change uid4567 Ryan\"])"
   ]
  },
  {
   "cell_type": "code",
   "execution_count": null,
   "metadata": {},
   "outputs": [],
   "source": []
  },
  {
   "cell_type": "markdown",
   "metadata": {},
   "source": [
    "# 실패율"
   ]
  },
  {
   "cell_type": "code",
   "execution_count": 61,
   "metadata": {
    "ExecuteTime": {
     "end_time": "2022-05-05T12:45:59.600330Z",
     "start_time": "2022-05-05T12:45:59.587375Z"
    }
   },
   "outputs": [],
   "source": [
    "def solution(N, stages) : \n",
    "    answer = [] \n",
    "    length = len(stages) \n",
    "    for i in range(1, N+1) : \n",
    "        cnt = stages.count(i)\n",
    "        if length == 0 : \n",
    "            fail = 0\n",
    "        else : \n",
    "            fail = cnt/length\n",
    "        length -= cnt\n",
    "        answer.append((i, fail))\n",
    "        \n",
    "    answer = sorted(answer, key = lambda x : x[1], reverse = True)\n",
    "    for i in range(len(answer)) : \n",
    "        answer[i] = answer[i][0]\n",
    "    return answer"
   ]
  },
  {
   "cell_type": "code",
   "execution_count": 62,
   "metadata": {
    "ExecuteTime": {
     "end_time": "2022-05-05T12:45:59.815981Z",
     "start_time": "2022-05-05T12:45:59.798135Z"
    }
   },
   "outputs": [
    {
     "data": {
      "text/plain": [
       "[3, 4, 2, 1, 5]"
      ]
     },
     "execution_count": 62,
     "metadata": {},
     "output_type": "execute_result"
    }
   ],
   "source": [
    "solution(5, [2,1,2,6,2,4,3,3])"
   ]
  },
  {
   "cell_type": "markdown",
   "metadata": {},
   "source": [
    "# 후보키"
   ]
  },
  {
   "cell_type": "code",
   "execution_count": null,
   "metadata": {},
   "outputs": [],
   "source": [
    "def solution(relation) : \n",
    "    nr = len(relation)\n",
    "    nc = len(relation[0])\n",
    "    \n",
    "    \n",
    "    "
   ]
  },
  {
   "cell_type": "code",
   "execution_count": 65,
   "metadata": {
    "ExecuteTime": {
     "end_time": "2022-05-05T13:03:54.043116Z",
     "start_time": "2022-05-05T13:03:54.039488Z"
    }
   },
   "outputs": [],
   "source": [
    "solution([[\"100\",\"ryan\",\"music\",\"2\"],[\"200\",\"apeach\",\"math\",\"2\"],\n",
    "          [\"300\",\"tube\",\"computer\",\"3\"],[\"400\",\"con\",\"computer\",\"4\"],\n",
    "          [\"500\",\"muzi\",\"music\",\"3\"],[\"600\",\"apeach\",\"music\",\"2\"]])"
   ]
  },
  {
   "cell_type": "code",
   "execution_count": 85,
   "metadata": {
    "ExecuteTime": {
     "end_time": "2022-05-05T13:11:22.502714Z",
     "start_time": "2022-05-05T13:11:22.491089Z"
    }
   },
   "outputs": [
    {
     "data": {
      "text/plain": [
       "[['100', 'ryan', 'music', '2'],\n",
       " ['200', 'apeach', 'math', '2'],\n",
       " ['300', 'tube', 'computer', '3'],\n",
       " ['400', 'con', 'computer', '4'],\n",
       " ['500', 'muzi', 'music', '3'],\n",
       " ['600', 'apeach', 'music', '2']]"
      ]
     },
     "execution_count": 85,
     "metadata": {},
     "output_type": "execute_result"
    }
   ],
   "source": [
    "[[\"100\",\"ryan\",\"music\",\"2\"],[\"200\",\"apeach\",\"math\",\"2\"],\n",
    "          [\"300\",\"tube\",\"computer\",\"3\"],[\"400\",\"con\",\"computer\",\"4\"],\n",
    "          [\"500\",\"muzi\",\"music\",\"3\"],[\"600\",\"apeach\",\"music\",\"2\"]]"
   ]
  },
  {
   "cell_type": "code",
   "execution_count": null,
   "metadata": {},
   "outputs": [],
   "source": []
  }
 ],
 "metadata": {
  "hide_input": false,
  "kernelspec": {
   "display_name": "Python 3",
   "language": "python",
   "name": "python3"
  },
  "language_info": {
   "codemirror_mode": {
    "name": "ipython",
    "version": 3
   },
   "file_extension": ".py",
   "mimetype": "text/x-python",
   "name": "python",
   "nbconvert_exporter": "python",
   "pygments_lexer": "ipython3",
   "version": "3.8.5"
  },
  "toc": {
   "base_numbering": 1,
   "nav_menu": {},
   "number_sections": true,
   "sideBar": true,
   "skip_h1_title": false,
   "title_cell": "Table of Contents",
   "title_sidebar": "Contents",
   "toc_cell": false,
   "toc_position": {},
   "toc_section_display": true,
   "toc_window_display": false
  },
  "varInspector": {
   "cols": {
    "lenName": 16,
    "lenType": 16,
    "lenVar": 40
   },
   "kernels_config": {
    "python": {
     "delete_cmd_postfix": "",
     "delete_cmd_prefix": "del ",
     "library": "var_list.py",
     "varRefreshCmd": "print(var_dic_list())"
    },
    "r": {
     "delete_cmd_postfix": ") ",
     "delete_cmd_prefix": "rm(",
     "library": "var_list.r",
     "varRefreshCmd": "cat(var_dic_list()) "
    }
   },
   "types_to_exclude": [
    "module",
    "function",
    "builtin_function_or_method",
    "instance",
    "_Feature"
   ],
   "window_display": false
  }
 },
 "nbformat": 4,
 "nbformat_minor": 4
}
