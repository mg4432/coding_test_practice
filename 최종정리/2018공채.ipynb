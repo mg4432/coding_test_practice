{
 "cells": [
  {
   "cell_type": "markdown",
   "metadata": {},
   "source": [
    "# 비밀지도"
   ]
  },
  {
   "cell_type": "code",
   "execution_count": 49,
   "metadata": {
    "ExecuteTime": {
     "end_time": "2022-05-05T08:13:04.640354Z",
     "start_time": "2022-05-05T08:13:04.621407Z"
    }
   },
   "outputs": [],
   "source": [
    "def convert(n) :\n",
    "    q, r = divmod(n, 2)\n",
    "    if q :\n",
    "        return convert(q) + str(r)\n",
    "    else : \n",
    "        return str(r)\n",
    "    \n",
    "def array_map(num, n) : \n",
    "    code = convert(num)\n",
    "    while len(code) < n : \n",
    "        code = '0' + code\n",
    "    return code\n",
    "\n",
    "def solution(n, arr1, arr2) :\n",
    "    map1 = [array_map(i, n) for i in arr1]\n",
    "    map2 = [array_map(i, n) for i in arr2]\n",
    "    answer = ['' for _ in range(n)]\n",
    "    for i in range(n) : \n",
    "        for j in range(n) : \n",
    "            if map1[i][j] == '1' or map2[i][j] == '1' :\n",
    "                answer[i] += '#'\n",
    "            else : \n",
    "                answer[i] += ' '               \n",
    "    return answer"
   ]
  },
  {
   "cell_type": "code",
   "execution_count": 50,
   "metadata": {
    "ExecuteTime": {
     "end_time": "2022-05-05T08:13:04.790218Z",
     "start_time": "2022-05-05T08:13:04.777130Z"
    }
   },
   "outputs": [
    {
     "data": {
      "text/plain": [
       "['#####', '# # #', '### #', '#  ##', '#####']"
      ]
     },
     "execution_count": 50,
     "metadata": {},
     "output_type": "execute_result"
    }
   ],
   "source": [
    "solution(5, [9, 20, 28, 18, 11], [30, 1, 21, 17, 28])"
   ]
  },
  {
   "cell_type": "code",
   "execution_count": 51,
   "metadata": {
    "ExecuteTime": {
     "end_time": "2022-05-05T08:13:05.286335Z",
     "start_time": "2022-05-05T08:13:05.280290Z"
    }
   },
   "outputs": [
    {
     "data": {
      "text/plain": [
       "['######', '###  #', '##  ##', ' #### ', ' #####', '### # ']"
      ]
     },
     "execution_count": 51,
     "metadata": {},
     "output_type": "execute_result"
    }
   ],
   "source": [
    "solution(6, [46, 33, 33 ,22, 31, 50], \t[27 ,56, 19, 14, 14, 10])"
   ]
  },
  {
   "cell_type": "markdown",
   "metadata": {},
   "source": [
    "# 다트게임"
   ]
  },
  {
   "cell_type": "code",
   "execution_count": 101,
   "metadata": {
    "ExecuteTime": {
     "end_time": "2022-05-05T08:37:36.527218Z",
     "start_time": "2022-05-05T08:37:36.513259Z"
    }
   },
   "outputs": [],
   "source": [
    "def solution(dartResult) : \n",
    "    num = []\n",
    "    bonus = []\n",
    "    option = [] \n",
    "    \n",
    "    for i in range(len(dartResult)) : \n",
    "        if dartResult[i].isdigit() :\n",
    "            if dartResult[i+1].isdigit() : \n",
    "                num.append(int(dartResult[i]+dartResult[i+1]))\n",
    "            elif dartResult[i-1].isdigit() : \n",
    "                continue\n",
    "            else : \n",
    "                num.append(int(dartResult[i]))\n",
    "        \n",
    "        elif dartResult[i] == 'S' or dartResult[i] == 'D' or dartResult[i] == 'T' :\n",
    "            if i < len(dartResult)-1 and dartResult[i+1].isdigit() : \n",
    "                option.append(' ')\n",
    "            bonus.append(dartResult[i])\n",
    "            \n",
    "        else : \n",
    "            option.append(dartResult[i])\n",
    "    if len(option) == 2 :\n",
    "        option.append(' ')\n",
    "        \n",
    "    for i in range(3) :\n",
    "        if bonus[i] == 'D' :\n",
    "            num[i] **= 2 \n",
    "        elif bonus[i] == 'T' :\n",
    "            num[i] **= 3\n",
    "            \n",
    "    for i in range(3) : \n",
    "        if option[i] == '*' : \n",
    "            if i >= 1 : \n",
    "                num[i-1] *= 2 \n",
    "                num[i] *= 2 \n",
    "            else : \n",
    "                num[i] *= 2\n",
    "        elif option[i] == '#' : \n",
    "            num[i] = -num[i]\n",
    "    return sum(num)"
   ]
  },
  {
   "cell_type": "code",
   "execution_count": 102,
   "metadata": {
    "ExecuteTime": {
     "end_time": "2022-05-05T08:37:36.830851Z",
     "start_time": "2022-05-05T08:37:36.819783Z"
    }
   },
   "outputs": [
    {
     "data": {
      "text/plain": [
       "37"
      ]
     },
     "execution_count": 102,
     "metadata": {},
     "output_type": "execute_result"
    }
   ],
   "source": [
    "solution('1S2D*3T')"
   ]
  },
  {
   "cell_type": "markdown",
   "metadata": {},
   "source": [
    "# 캐시"
   ]
  },
  {
   "cell_type": "code",
   "execution_count": 130,
   "metadata": {
    "ExecuteTime": {
     "end_time": "2022-05-05T10:26:25.344555Z",
     "start_time": "2022-05-05T10:26:25.334610Z"
    }
   },
   "outputs": [],
   "source": [
    "def solution(cacheSize, cities) :\n",
    "    time = 0\n",
    "    lst = []\n",
    "    for city in cities : \n",
    "        city = city.lower()\n",
    "        if city in lst : \n",
    "            lst.remove(city)\n",
    "            lst.append(city)\n",
    "            time += 1\n",
    "        else :\n",
    "            lst.append(city)\n",
    "            time += 5\n",
    "        if len(lst) > cacheSize :\n",
    "            lst = lst[1:]\n",
    "\n",
    "    return time"
   ]
  },
  {
   "cell_type": "code",
   "execution_count": 131,
   "metadata": {
    "ExecuteTime": {
     "end_time": "2022-05-05T10:26:25.555000Z",
     "start_time": "2022-05-05T10:26:25.546138Z"
    }
   },
   "outputs": [
    {
     "data": {
      "text/plain": [
       "50"
      ]
     },
     "execution_count": 131,
     "metadata": {},
     "output_type": "execute_result"
    }
   ],
   "source": [
    "solution(3,  [\"Jeju\", \"Pangyo\", \"Seoul\", \"NewYork\", \"LA\", \"Jeju\", \"Pangyo\",\n",
    "              \"Seoul\", \"NewYork\", \"LA\"])"
   ]
  },
  {
   "cell_type": "code",
   "execution_count": 132,
   "metadata": {
    "ExecuteTime": {
     "end_time": "2022-05-05T10:26:26.611886Z",
     "start_time": "2022-05-05T10:26:26.600705Z"
    }
   },
   "outputs": [
    {
     "data": {
      "text/plain": [
       "21"
      ]
     },
     "execution_count": 132,
     "metadata": {},
     "output_type": "execute_result"
    }
   ],
   "source": [
    "solution(3,  [\"Jeju\", \"Pangyo\", \"Seoul\", \"Jeju\", \"Pangyo\", \n",
    "              \"Seoul\", \"Jeju\", \"Pangyo\", \"Seoul\"])"
   ]
  },
  {
   "cell_type": "markdown",
   "metadata": {},
   "source": [
    "# 셔틀버스"
   ]
  },
  {
   "cell_type": "code",
   "execution_count": 193,
   "metadata": {
    "ExecuteTime": {
     "end_time": "2022-05-05T11:15:14.550415Z",
     "start_time": "2022-05-05T11:15:14.527444Z"
    }
   },
   "outputs": [],
   "source": [
    "def convert(time) :\n",
    "    hour, minute = divmod(time, 60)[0], divmod(time, 60)[1]\n",
    "    if len(str(hour)) == 1 : \n",
    "        hour = '0' + str(hour)\n",
    "    else : \n",
    "        hour = str(hour)\n",
    "    if len(str(minute)) == 1 :\n",
    "        minute = '0' + str(minute)\n",
    "    else :\n",
    "        minute = str(minute)\n",
    "    return hour + ':' + minute\n",
    "\n",
    "def solution(n, t, m, timetable) : \n",
    "    krews = []\n",
    "    answer = 0\n",
    "    for time in timetable : \n",
    "        hour, minute = int(time.split(':')[0]), int(time.split(':')[1])\n",
    "        krews.append(hour*60 + minute)\n",
    "    krews = sorted(krews)\n",
    "    \n",
    "    for bus in range(n-1) :\n",
    "        arrival_time = 540 + t*bus\n",
    "        cnt = 0\n",
    "        for krew in krews : \n",
    "            if krew <= arrival_time : \n",
    "                cnt += 1 \n",
    "            if cnt == m : \n",
    "                break\n",
    "        krews = krews[cnt:]\n",
    "        \n",
    "    final_time = 540 + t*(n-1) \n",
    "\n",
    "    if len(krews) < m : \n",
    "        answer = final_time \n",
    "    else : \n",
    "        answer = min(final_time, krews[m-1]-1)\n",
    "    answer = convert(answer)\n",
    "    \n",
    "    return answer\n"
   ]
  },
  {
   "cell_type": "code",
   "execution_count": 194,
   "metadata": {
    "ExecuteTime": {
     "end_time": "2022-05-05T11:15:16.852034Z",
     "start_time": "2022-05-05T11:15:16.841064Z"
    }
   },
   "outputs": [
    {
     "data": {
      "text/plain": [
       "'09:00'"
      ]
     },
     "execution_count": 194,
     "metadata": {},
     "output_type": "execute_result"
    }
   ],
   "source": [
    "solution(1, 1, 5, [\"08:00\", \"08:01\", \"08:02\", \"08:03\"])"
   ]
  },
  {
   "cell_type": "markdown",
   "metadata": {},
   "source": [
    "# 뉴스 클러스터링"
   ]
  },
  {
   "cell_type": "code",
   "execution_count": 309,
   "metadata": {
    "ExecuteTime": {
     "end_time": "2022-05-05T11:56:26.105527Z",
     "start_time": "2022-05-05T11:56:26.089537Z"
    }
   },
   "outputs": [],
   "source": [
    "import math\n",
    "def solution(str1, str2):\n",
    "    answer = 0\n",
    "    lst1 = []\n",
    "    lst2 = []\n",
    "    for i in range(len(str1)-1) : \n",
    "        pair1 = str1[i] + str1[i+1]\n",
    "        if pair1.isalpha() : \n",
    "            lst1.append(pair1.lower())\n",
    "    for i in range(len(str2)-1):\n",
    "        pair2 = str2[i] + str2[i+1]\n",
    "        if pair2.isalpha() : \n",
    "            lst2.append(pair2.lower())\n",
    "    \n",
    "    intersection = []\n",
    "    union = []\n",
    "    for i in range(len(lst1)) :\n",
    "        val = lst1.pop(0) \n",
    "        if val in lst2 : \n",
    "            lst2.remove(val)\n",
    "            intersection.append(val)\n",
    "            union.append(val)\n",
    "        else : \n",
    "            lst1.append(val)\n",
    "    for _ in lst1 : \n",
    "        union.append(_)\n",
    "        \n",
    "    for _ in lst2 : \n",
    "        union.append(_)\n",
    "    \n",
    "    print(intersection)\n",
    "    print(union)\n",
    "    if len(union) == 0 : \n",
    "        return 65536 \n",
    "    else : \n",
    "        return math.floor(len(intersection) / len(union) * 65536)"
   ]
  },
  {
   "cell_type": "code",
   "execution_count": 310,
   "metadata": {
    "ExecuteTime": {
     "end_time": "2022-05-05T11:56:26.211209Z",
     "start_time": "2022-05-05T11:56:26.205225Z"
    }
   },
   "outputs": [
    {
     "name": "stdout",
     "output_type": "stream",
     "text": [
      "['fr', 'nc']\n",
      "['fr', 'nc', 'ra', 'an', 'ce', 're', 'en', 'ch']\n"
     ]
    },
    {
     "data": {
      "text/plain": [
       "16384"
      ]
     },
     "execution_count": 310,
     "metadata": {},
     "output_type": "execute_result"
    }
   ],
   "source": [
    "solution('FRANCE', 'french')"
   ]
  }
 ],
 "metadata": {
  "hide_input": false,
  "kernelspec": {
   "display_name": "Python 3",
   "language": "python",
   "name": "python3"
  },
  "language_info": {
   "codemirror_mode": {
    "name": "ipython",
    "version": 3
   },
   "file_extension": ".py",
   "mimetype": "text/x-python",
   "name": "python",
   "nbconvert_exporter": "python",
   "pygments_lexer": "ipython3",
   "version": "3.8.5"
  },
  "toc": {
   "base_numbering": 1,
   "nav_menu": {},
   "number_sections": true,
   "sideBar": true,
   "skip_h1_title": false,
   "title_cell": "Table of Contents",
   "title_sidebar": "Contents",
   "toc_cell": false,
   "toc_position": {},
   "toc_section_display": true,
   "toc_window_display": false
  },
  "varInspector": {
   "cols": {
    "lenName": 16,
    "lenType": 16,
    "lenVar": 40
   },
   "kernels_config": {
    "python": {
     "delete_cmd_postfix": "",
     "delete_cmd_prefix": "del ",
     "library": "var_list.py",
     "varRefreshCmd": "print(var_dic_list())"
    },
    "r": {
     "delete_cmd_postfix": ") ",
     "delete_cmd_prefix": "rm(",
     "library": "var_list.r",
     "varRefreshCmd": "cat(var_dic_list()) "
    }
   },
   "types_to_exclude": [
    "module",
    "function",
    "builtin_function_or_method",
    "instance",
    "_Feature"
   ],
   "window_display": false
  }
 },
 "nbformat": 4,
 "nbformat_minor": 4
}
