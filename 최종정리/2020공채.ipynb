{
 "cells": [
  {
   "cell_type": "markdown",
   "metadata": {},
   "source": [
    "# 문자열 압축"
   ]
  },
  {
   "cell_type": "markdown",
   "metadata": {},
   "source": [
    "N/2글자까지만 자르면 됨"
   ]
  },
  {
   "cell_type": "code",
   "execution_count": 22,
   "metadata": {
    "ExecuteTime": {
     "end_time": "2022-05-06T05:44:52.676243Z",
     "start_time": "2022-05-06T05:44:52.660287Z"
    }
   },
   "outputs": [],
   "source": [
    "def solution(s) : \n",
    "    # 현재 길이를 기준으로 짧으면 update\n",
    "    answer = len(s)\n",
    "    \n",
    "    for i in range(1, int(len(s)/2)+1) : \n",
    "        # 문자를 처리하고있는 위치\n",
    "        pos = 0\n",
    "        length = len(s) \n",
    "        \n",
    "        while pos + i <= len(s) :\n",
    "            unit = s[pos:pos+i]\n",
    "            pos += i \n",
    "            \n",
    "            cnt = 0\n",
    "            while pos + i <= len(s) :\n",
    "                if unit == s[pos : pos + i] : \n",
    "                    cnt += 1 \n",
    "                    pos += i\n",
    "                else :\n",
    "                    break\n",
    "                    \n",
    "            if cnt > 0 : \n",
    "                length -= i * cnt\n",
    "                \n",
    "                if cnt < 9 : \n",
    "                    length += 1 \n",
    "                    \n",
    "                elif cnt < 99 : \n",
    "                    length += 2 \n",
    "                    \n",
    "                elif cnt < 999 : \n",
    "                    length += 3 \n",
    "                    \n",
    "                else : \n",
    "                    length += 4\n",
    "                    \n",
    "        answer = min(answer, length)\n",
    "    return answer\n",
    "            \n",
    "        "
   ]
  },
  {
   "cell_type": "code",
   "execution_count": 23,
   "metadata": {
    "ExecuteTime": {
     "end_time": "2022-05-06T05:44:52.812326Z",
     "start_time": "2022-05-06T05:44:52.802265Z"
    }
   },
   "outputs": [
    {
     "data": {
      "text/plain": [
       "8"
      ]
     },
     "execution_count": 23,
     "metadata": {},
     "output_type": "execute_result"
    }
   ],
   "source": [
    "solution('abcabcdede')"
   ]
  },
  {
   "cell_type": "markdown",
   "metadata": {},
   "source": [
    "# 괄호 변환"
   ]
  },
  {
   "cell_type": "code",
   "execution_count": 40,
   "metadata": {
    "ExecuteTime": {
     "end_time": "2022-05-06T06:31:05.986743Z",
     "start_time": "2022-05-06T06:31:05.967556Z"
    }
   },
   "outputs": [],
   "source": [
    "def parse(str) : \n",
    "    # 올바른 문자열\n",
    "    correct = True \n",
    "    left = 0 \n",
    "    right = 0 \n",
    "    stack = []\n",
    "    \n",
    "    for i in range(len(str)) : \n",
    "        if str[i] == '(' : \n",
    "            left += 1 \n",
    "            stack.append('(')\n",
    "        else : \n",
    "            right += 1\n",
    "            if len(stack) == 0 : \n",
    "                correct = False\n",
    "            else : \n",
    "                stack.pop()\n",
    "        \n",
    "        if left == right :\n",
    "            return i + 1, correct\n",
    "    return 0, False\n",
    "\n",
    "def solution(p) : \n",
    "    if len(p) == 0 : \n",
    "        return p \n",
    "    \n",
    "    pos, correct = parse(p)\n",
    "    u = p[:pos]\n",
    "    v = p[pos:]\n",
    "    \n",
    "    if correct : \n",
    "        return u + solution(v)\n",
    "    \n",
    "    answer = '(' + solution(v) + ')'\n",
    "    for i in range(1, len(u)-1) : \n",
    "        if u[i] == '(' : \n",
    "            answer += ')'\n",
    "        else : \n",
    "            answer += '('\n",
    "            \n",
    "    return answer"
   ]
  },
  {
   "cell_type": "code",
   "execution_count": 41,
   "metadata": {
    "ExecuteTime": {
     "end_time": "2022-05-06T06:31:06.108088Z",
     "start_time": "2022-05-06T06:31:06.102368Z"
    }
   },
   "outputs": [
    {
     "data": {
      "text/plain": [
       "'()(())()'"
      ]
     },
     "execution_count": 41,
     "metadata": {},
     "output_type": "execute_result"
    }
   ],
   "source": [
    "solution(\"()))((()\")"
   ]
  },
  {
   "cell_type": "markdown",
   "metadata": {
    "ExecuteTime": {
     "end_time": "2022-05-06T09:55:00.800495Z",
     "start_time": "2022-05-06T09:55:00.780584Z"
    }
   },
   "source": [
    "# 자물쇠와 열쇠"
   ]
  },
  {
   "cell_type": "code",
   "execution_count": 104,
   "metadata": {
    "ExecuteTime": {
     "end_time": "2022-05-06T09:56:17.051327Z",
     "start_time": "2022-05-06T09:56:17.035463Z"
    }
   },
   "outputs": [],
   "source": [
    "def match(arr, key, rot, r, c) :\n",
    "    n = len(key)\n",
    "    \n",
    "    for i in range(n) : \n",
    "        for j in range(n) : \n",
    "            if rot == 0 : \n",
    "                arr[r + i][c + j] += key[i][j]\n",
    "            elif rot == 1 : # 시계방향으로 90도 회전 \n",
    "                arr[r + i][c + j] += key[n-1-j][i]\n",
    "            elif rot == 2 : \n",
    "                arr[r + i][c + j] += key[n-1-i][n-1-j]\n",
    "            else : \n",
    "                arr[r + i][c + j] += key[j][n-1-i]\n",
    "\n",
    "def check(arr, offset, n) : \n",
    "    for i in range(n) : \n",
    "        for j in range(n) : \n",
    "            if arr[offset + i][offset + j] != 1 : \n",
    "                return False \n",
    "    return True \n",
    "\n",
    "def solution(key, lock) : \n",
    "    # 자물쇠로부터 떨어진 거리\n",
    "    offset = len(key) - 1 \n",
    "    \n",
    "    for r in range(offset + len(lock)) : \n",
    "        for c in range(offset + len(lock)) : \n",
    "            # 4가지 회전하는 경우\n",
    "            for rot in range(4) :\n",
    "                # 20 + 20 + 20 - 2 (key,lock,key)에서 한 줄씩은 겹쳐야하는 경우 \n",
    "                arr = [[0 for _ in range(58)] for _ in range(58)]\n",
    "                \n",
    "                # 자물쇠 복사\n",
    "                for i in range(len(lock)) : \n",
    "                    for j in range(len(lock)) : \n",
    "                        arr[offset+i][offset+j] = lock[i][j]\n",
    "                        \n",
    "                \n",
    "                match(arr, key, rot, r, c) # d\n",
    "                if check(arr, offset, len(lock)) : \n",
    "                    return True \n",
    "                        \n",
    "                    \n",
    "    # 끝까지 맞춰지지 않으면 False 반환 \n",
    "    return False"
   ]
  },
  {
   "cell_type": "code",
   "execution_count": null,
   "metadata": {},
   "outputs": [],
   "source": []
  }
 ],
 "metadata": {
  "hide_input": false,
  "kernelspec": {
   "display_name": "Python 3",
   "language": "python",
   "name": "python3"
  },
  "language_info": {
   "codemirror_mode": {
    "name": "ipython",
    "version": 3
   },
   "file_extension": ".py",
   "mimetype": "text/x-python",
   "name": "python",
   "nbconvert_exporter": "python",
   "pygments_lexer": "ipython3",
   "version": "3.8.5"
  },
  "toc": {
   "base_numbering": 1,
   "nav_menu": {},
   "number_sections": true,
   "sideBar": true,
   "skip_h1_title": false,
   "title_cell": "Table of Contents",
   "title_sidebar": "Contents",
   "toc_cell": false,
   "toc_position": {},
   "toc_section_display": true,
   "toc_window_display": false
  },
  "varInspector": {
   "cols": {
    "lenName": 16,
    "lenType": 16,
    "lenVar": 40
   },
   "kernels_config": {
    "python": {
     "delete_cmd_postfix": "",
     "delete_cmd_prefix": "del ",
     "library": "var_list.py",
     "varRefreshCmd": "print(var_dic_list())"
    },
    "r": {
     "delete_cmd_postfix": ") ",
     "delete_cmd_prefix": "rm(",
     "library": "var_list.r",
     "varRefreshCmd": "cat(var_dic_list()) "
    }
   },
   "types_to_exclude": [
    "module",
    "function",
    "builtin_function_or_method",
    "instance",
    "_Feature"
   ],
   "window_display": false
  }
 },
 "nbformat": 4,
 "nbformat_minor": 4
}
