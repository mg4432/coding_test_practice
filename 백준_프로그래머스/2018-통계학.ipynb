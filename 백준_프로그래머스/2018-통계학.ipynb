{
 "cells": [
  {
   "cell_type": "code",
   "execution_count": 29,
   "metadata": {
    "ExecuteTime": {
     "end_time": "2022-09-21T13:52:16.507251Z",
     "start_time": "2022-09-21T13:52:11.319849Z"
    }
   },
   "outputs": [
    {
     "name": "stdout",
     "output_type": "stream",
     "text": [
      "5\n",
      "1\n",
      "3\n",
      "8\n",
      "-2\n",
      "2\n",
      "2\n",
      "2\n",
      "1\n",
      "10\n"
     ]
    }
   ],
   "source": [
    "T = int(input())\n",
    "lst = []\n",
    "\n",
    "for _ in range(T) : \n",
    "    lst.append(int(input()))\n",
    "\n",
    "lst.sort()\n",
    "\n",
    "def mean(lst) :\n",
    "    return round(sum(lst) / len(lst))\n",
    "\n",
    "def median(lst) : \n",
    "    length = len(lst)\n",
    "    if length % 2 == 0 : \n",
    "        return (lst[length-1] + lst[length]) / 2\n",
    "    \n",
    "    else : \n",
    "        return lst[length // 2]\n",
    "\n",
    "def mode(lst) : \n",
    "    val_dict = {}\n",
    "    for val in lst : \n",
    "        if val in val_dict : \n",
    "            val_dict[val] += 1 \n",
    "        else : \n",
    "            val_dict[val] = 1\n",
    "            \n",
    "    max_ = 0\n",
    "    max_lst = []\n",
    "    for key, value in val_dict.items() : \n",
    "        if value > max_ :\n",
    "            max_lst = []\n",
    "            max_ = value\n",
    "            max_lst.append(key)\n",
    "            \n",
    "        if value == max_  : \n",
    "            max_lst.append(key)\n",
    "    \n",
    "    max_lst = list(set(max_lst))\n",
    "    max_lst.sort()\n",
    "    \n",
    "    if len(max_lst) <= 1 : \n",
    "        return max_lst[0]\n",
    "        \n",
    "    else : \n",
    "        return max_lst[1]\n",
    "        \n",
    "    \n",
    "\n",
    "def range_(lst) : \n",
    "    max_ = max(lst)\n",
    "    min_ = min(lst)\n",
    "    return max_ - min_\n",
    "\n",
    "print(mean(lst))\n",
    "print(median(lst))\n",
    "print(mode(lst))\n",
    "print(range_(lst))"
   ]
  },
  {
   "cell_type": "code",
   "execution_count": 26,
   "metadata": {
    "ExecuteTime": {
     "end_time": "2022-09-21T13:51:55.175882Z",
     "start_time": "2022-09-21T13:51:55.163915Z"
    }
   },
   "outputs": [],
   "source": [
    "def mode(lst) : \n",
    "    val_dict = {}\n",
    "    for val in lst : \n",
    "        if val in val_dict : \n",
    "            val_dict[val] += 1 \n",
    "        else : \n",
    "            val_dict[val] = 1\n",
    "            \n",
    "    max_ = 0\n",
    "    max_lst = []\n",
    "    for key, value in val_dict.items() : \n",
    "        if value > max_ :\n",
    "            max_lst = []\n",
    "            max_ = value\n",
    "            max_lst.append(key)\n",
    "            \n",
    "        if value == max_  : \n",
    "            max_lst.append(key)\n",
    "    \n",
    "    max_lst = list(set(max_lst))\n",
    "    max_lst.sort()\n",
    "    \n",
    "    if len(max_lst) <= 1 : \n",
    "        print(val_dict)\n",
    "        print(max_lst)\n",
    "        return max_lst[0]\n",
    "        \n",
    "    else : \n",
    "        print(val_dict)\n",
    "        print(max_lst)\n",
    "        return max_lst[1]\n",
    "        "
   ]
  },
  {
   "cell_type": "code",
   "execution_count": 27,
   "metadata": {
    "ExecuteTime": {
     "end_time": "2022-09-21T13:51:55.662853Z",
     "start_time": "2022-09-21T13:51:55.651883Z"
    }
   },
   "outputs": [
    {
     "name": "stdout",
     "output_type": "stream",
     "text": [
      "{1: 1, 3: 1, 8: 1, -2: 1, 2: 1}\n",
      "[-2, 1, 2, 3, 8]\n"
     ]
    },
    {
     "data": {
      "text/plain": [
       "1"
      ]
     },
     "execution_count": 27,
     "metadata": {},
     "output_type": "execute_result"
    }
   ],
   "source": [
    "mode([1,3, 8, -2, 2])"
   ]
  },
  {
   "cell_type": "code",
   "execution_count": 66,
   "metadata": {
    "ExecuteTime": {
     "end_time": "2022-09-21T13:09:33.209303Z",
     "start_time": "2022-09-21T13:09:33.203988Z"
    }
   },
   "outputs": [
    {
     "data": {
      "text/plain": [
       "3"
      ]
     },
     "execution_count": 66,
     "metadata": {},
     "output_type": "execute_result"
    }
   ],
   "source": [
    "d = mode(a)"
   ]
  },
  {
   "cell_type": "code",
   "execution_count": 52,
   "metadata": {
    "ExecuteTime": {
     "end_time": "2022-09-21T13:07:38.907435Z",
     "start_time": "2022-09-21T13:07:38.888481Z"
    }
   },
   "outputs": [
    {
     "name": "stdout",
     "output_type": "stream",
     "text": [
      "[]\n",
      "[-2]\n",
      "[-2]\n",
      "[2]\n",
      "[2]\n"
     ]
    }
   ],
   "source": []
  },
  {
   "cell_type": "code",
   "execution_count": null,
   "metadata": {},
   "outputs": [],
   "source": []
  }
 ],
 "metadata": {
  "hide_input": false,
  "kernelspec": {
   "display_name": "Python 3",
   "language": "python",
   "name": "python3"
  },
  "toc": {
   "base_numbering": 1,
   "nav_menu": {},
   "number_sections": true,
   "sideBar": true,
   "skip_h1_title": false,
   "title_cell": "Table of Contents",
   "title_sidebar": "Contents",
   "toc_cell": false,
   "toc_position": {},
   "toc_section_display": true,
   "toc_window_display": false
  },
  "varInspector": {
   "cols": {
    "lenName": 16,
    "lenType": 16,
    "lenVar": 40
   },
   "kernels_config": {
    "python": {
     "delete_cmd_postfix": "",
     "delete_cmd_prefix": "del ",
     "library": "var_list.py",
     "varRefreshCmd": "print(var_dic_list())"
    },
    "r": {
     "delete_cmd_postfix": ") ",
     "delete_cmd_prefix": "rm(",
     "library": "var_list.r",
     "varRefreshCmd": "cat(var_dic_list()) "
    }
   },
   "types_to_exclude": [
    "module",
    "function",
    "builtin_function_or_method",
    "instance",
    "_Feature"
   ],
   "window_display": false
  }
 },
 "nbformat": 4,
 "nbformat_minor": 4
}
