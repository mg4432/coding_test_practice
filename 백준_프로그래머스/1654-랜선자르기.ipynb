{
 "cells": [
  {
   "cell_type": "code",
   "execution_count": 31,
   "metadata": {
    "ExecuteTime": {
     "end_time": "2022-10-05T10:03:10.765998Z",
     "start_time": "2022-10-05T10:03:05.872892Z"
    }
   },
   "outputs": [
    {
     "name": "stdout",
     "output_type": "stream",
     "text": [
      "4 11\n",
      "802\n",
      "743\n",
      "457\n",
      "539\n",
      "mid :  401\n",
      "mid :  200\n",
      "mid :  300\n",
      "mid :  250\n",
      "mid :  225\n",
      "mid :  212\n",
      "mid :  206\n",
      "mid :  203\n",
      "mid :  201\n",
      "200\n"
     ]
    }
   ],
   "source": [
    "import sys \n",
    "\n",
    "k, n = map(int, input().split())\n",
    "lst = [int(input()) for _ in range(k)]\n",
    "\n",
    "start = 1\n",
    "end = max(lst) \n",
    "\n",
    "while start <= end :\n",
    "    mid = (start + end)//2\n",
    "\n",
    "    t = sum([x // mid for x in lst])\n",
    "    \n",
    "    if t >= n : \n",
    "        start = mid + 1 \n",
    "        \n",
    "    else : \n",
    "        end = mid - 1 \n",
    "        \n",
    "print(end)"
   ]
  },
  {
   "cell_type": "code",
   "execution_count": 29,
   "metadata": {
    "ExecuteTime": {
     "end_time": "2022-10-05T10:01:00.622760Z",
     "start_time": "2022-10-05T10:00:53.689167Z"
    }
   },
   "outputs": [
    {
     "name": "stdout",
     "output_type": "stream",
     "text": [
      "4 11\n",
      "802\n",
      "743\n",
      "457\n",
      "539\n",
      "mid :  401\n",
      "mid :  200\n",
      "mid :  300\n",
      "mid :  250\n",
      "mid :  225\n",
      "mid :  212\n",
      "mid :  206\n",
      "mid :  203\n",
      "mid :  201\n",
      "201\n"
     ]
    }
   ],
   "source": [
    "import sys \n",
    "\n",
    "k, n = map(int, sys.stdin.readline().split())\n",
    "lst = [int(input()) for _ in range(k)]\n",
    "\n",
    "start = 1\n",
    "end = max(lst) \n",
    "\n",
    "while start <= end :\n",
    "    mid = (start + end)//2\n",
    "\n",
    "    t = sum([x // mid for x in lst])\n",
    "    \n",
    "    if t >= n : \n",
    "        start = mid + 1 \n",
    "        \n",
    "    else : \n",
    "        end = mid - 1 \n",
    "        \n",
    "print(end)"
   ]
  },
  {
   "cell_type": "code",
   "execution_count": null,
   "metadata": {},
   "outputs": [],
   "source": []
  }
 ],
 "metadata": {
  "hide_input": false,
  "kernelspec": {
   "display_name": "Python 3",
   "language": "python",
   "name": "python3"
  },
  "language_info": {
   "codemirror_mode": {
    "name": "ipython",
    "version": 3
   },
   "file_extension": ".py",
   "mimetype": "text/x-python",
   "name": "python",
   "nbconvert_exporter": "python",
   "pygments_lexer": "ipython3",
   "version": "3.8.5"
  },
  "toc": {
   "base_numbering": 1,
   "nav_menu": {},
   "number_sections": true,
   "sideBar": true,
   "skip_h1_title": false,
   "title_cell": "Table of Contents",
   "title_sidebar": "Contents",
   "toc_cell": false,
   "toc_position": {},
   "toc_section_display": true,
   "toc_window_display": false
  },
  "varInspector": {
   "cols": {
    "lenName": 16,
    "lenType": 16,
    "lenVar": 40
   },
   "kernels_config": {
    "python": {
     "delete_cmd_postfix": "",
     "delete_cmd_prefix": "del ",
     "library": "var_list.py",
     "varRefreshCmd": "print(var_dic_list())"
    },
    "r": {
     "delete_cmd_postfix": ") ",
     "delete_cmd_prefix": "rm(",
     "library": "var_list.r",
     "varRefreshCmd": "cat(var_dic_list()) "
    }
   },
   "types_to_exclude": [
    "module",
    "function",
    "builtin_function_or_method",
    "instance",
    "_Feature"
   ],
   "window_display": false
  }
 },
 "nbformat": 4,
 "nbformat_minor": 4
}
