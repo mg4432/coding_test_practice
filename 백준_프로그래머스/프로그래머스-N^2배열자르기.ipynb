{
 "cells": [
  {
   "cell_type": "code",
   "execution_count": 1,
   "metadata": {
    "ExecuteTime": {
     "end_time": "2022-10-15T21:28:14.484081Z",
     "start_time": "2022-10-15T21:28:14.470105Z"
    }
   },
   "outputs": [],
   "source": [
    "def solution(n, left, right):\n",
    "    answer = []\n",
    "    # (0, 2)\n",
    "    start_r = left // n \n",
    "    start_c = left % n \n",
    "    end_r = right // n \n",
    "    end_c = right % n \n",
    "    \n",
    "    print(start_r, start_c, end_r, end_c)\n",
    "    # (1, 2)\n",
    "    answer_lst = []\n",
    "    for i in range(end_r - start_r + 1 ) : \n",
    "        lst = [x for x in range(1, n+1)]\n",
    "        lst = [x if x > start_r + i else start_r + i + 1 for x in lst]\n",
    "\n",
    "        if i == 0 : \n",
    "            lst = lst[start_c : ]\n",
    "            answer_lst.append(lst)\n",
    "            \n",
    "        else :\n",
    "            if i == end_r : \n",
    "                lst = lst[:end_c+1]\n",
    "                answer_lst.append(lst)\n",
    "                \n",
    "            else  :\n",
    "                answer_lst.append(lst)\n",
    "    answer = sum(answer_lst, [])\n",
    "    return answer[:right-left+1]\n",
    "            \n",
    "            "
   ]
  },
  {
   "cell_type": "code",
   "execution_count": null,
   "metadata": {},
   "outputs": [],
   "source": []
  }
 ],
 "metadata": {
  "hide_input": false,
  "kernelspec": {
   "display_name": "Python 3",
   "language": "python",
   "name": "python3"
  },
  "language_info": {
   "codemirror_mode": {
    "name": "ipython",
    "version": 3
   },
   "file_extension": ".py",
   "mimetype": "text/x-python",
   "name": "python",
   "nbconvert_exporter": "python",
   "pygments_lexer": "ipython3",
   "version": "3.8.5"
  },
  "toc": {
   "base_numbering": 1,
   "nav_menu": {},
   "number_sections": true,
   "sideBar": true,
   "skip_h1_title": false,
   "title_cell": "Table of Contents",
   "title_sidebar": "Contents",
   "toc_cell": false,
   "toc_position": {},
   "toc_section_display": true,
   "toc_window_display": false
  },
  "varInspector": {
   "cols": {
    "lenName": 16,
    "lenType": 16,
    "lenVar": 40
   },
   "kernels_config": {
    "python": {
     "delete_cmd_postfix": "",
     "delete_cmd_prefix": "del ",
     "library": "var_list.py",
     "varRefreshCmd": "print(var_dic_list())"
    },
    "r": {
     "delete_cmd_postfix": ") ",
     "delete_cmd_prefix": "rm(",
     "library": "var_list.r",
     "varRefreshCmd": "cat(var_dic_list()) "
    }
   },
   "types_to_exclude": [
    "module",
    "function",
    "builtin_function_or_method",
    "instance",
    "_Feature"
   ],
   "window_display": false
  }
 },
 "nbformat": 4,
 "nbformat_minor": 4
}
