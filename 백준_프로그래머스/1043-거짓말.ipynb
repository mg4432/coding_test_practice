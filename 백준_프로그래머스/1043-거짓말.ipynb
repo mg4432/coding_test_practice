{
 "cells": [
  {
   "cell_type": "code",
   "execution_count": 144,
   "metadata": {
    "ExecuteTime": {
     "end_time": "2022-10-01T09:56:26.848233Z",
     "start_time": "2022-10-01T09:56:18.964592Z"
    },
    "code_folding": []
   },
   "outputs": [
    {
     "name": "stdout",
     "output_type": "stream",
     "text": [
      "4  5\n",
      "1 1 \n",
      "1 1 \n",
      "1 2 \n",
      "1 3 \n",
      "1 4 \n",
      "2 4 1\n",
      "2\n"
     ]
    }
   ],
   "source": [
    "M, N = map(int, input().split())\n",
    "\n",
    "knows = input()\n",
    "if len(knows) == 1:\n",
    "    n_know, p_know = 0, [0]\n",
    "else:\n",
    "    n_know, p_know = int(knows[:1]), list(map(int, knows[1:].split()))\n",
    "\n",
    "party = {}\n",
    "\n",
    "for _ in range(N):\n",
    "    p = list(map(int, input().split()[1:]))\n",
    "    party[_] = p\n",
    "\n",
    "for _ in range(len(party)):\n",
    "    for key, values in party.items():\n",
    "        if len(set(values).intersection(set(p_know))) > 0:\n",
    "            p_know.extend(values)\n",
    "\n",
    "p_know = set(p_know)\n",
    "\n",
    "ans = 0\n",
    "for key, value in party.items():\n",
    "    if len(set(value).intersection(p_know)) == 0:\n",
    "        ans += 1\n",
    "\n",
    "print(ans)"
   ]
  },
  {
   "cell_type": "code",
   "execution_count": null,
   "metadata": {},
   "outputs": [],
   "source": []
  }
 ],
 "metadata": {
  "hide_input": false,
  "kernelspec": {
   "display_name": "Python 3",
   "language": "python",
   "name": "python3"
  },
  "language_info": {
   "codemirror_mode": {
    "name": "ipython",
    "version": 3
   },
   "file_extension": ".py",
   "mimetype": "text/x-python",
   "name": "python",
   "nbconvert_exporter": "python",
   "pygments_lexer": "ipython3",
   "version": "3.8.5"
  },
  "toc": {
   "base_numbering": 1,
   "nav_menu": {},
   "number_sections": true,
   "sideBar": true,
   "skip_h1_title": false,
   "title_cell": "Table of Contents",
   "title_sidebar": "Contents",
   "toc_cell": false,
   "toc_position": {},
   "toc_section_display": true,
   "toc_window_display": false
  },
  "varInspector": {
   "cols": {
    "lenName": 16,
    "lenType": 16,
    "lenVar": 40
   },
   "kernels_config": {
    "python": {
     "delete_cmd_postfix": "",
     "delete_cmd_prefix": "del ",
     "library": "var_list.py",
     "varRefreshCmd": "print(var_dic_list())"
    },
    "r": {
     "delete_cmd_postfix": ") ",
     "delete_cmd_prefix": "rm(",
     "library": "var_list.r",
     "varRefreshCmd": "cat(var_dic_list()) "
    }
   },
   "types_to_exclude": [
    "module",
    "function",
    "builtin_function_or_method",
    "instance",
    "_Feature"
   ],
   "window_display": false
  }
 },
 "nbformat": 4,
 "nbformat_minor": 4
}
