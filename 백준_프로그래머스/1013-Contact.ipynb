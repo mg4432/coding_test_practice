{
 "cells": [
  {
   "cell_type": "code",
   "execution_count": 6,
   "metadata": {
    "ExecuteTime": {
     "end_time": "2022-10-15T13:57:09.304267Z",
     "start_time": "2022-10-15T13:56:56.729015Z"
    }
   },
   "outputs": [
    {
     "name": "stdout",
     "output_type": "stream",
     "text": [
      "3\n",
      "10010111\n",
      "10010111\n",
      "NO\n",
      "011000100110001\n",
      "011000100110001\n",
      "NO\n",
      "0110001011001\n",
      "0110001011001\n",
      "YES\n"
     ]
    }
   ],
   "source": [
    "import re \n",
    "import sys \n",
    "\n",
    "n = int(input())\n",
    "p = re.compile('(100+1+|01)+')\n",
    "\n",
    "for i in range(n) : \n",
    "    sign = str(input().strip())\n",
    "    print(sign)\n",
    "    if p.fullmatch(sign) :\n",
    "        print('YES')\n",
    "    else : \n",
    "        print('NO')"
   ]
  },
  {
   "cell_type": "code",
   "execution_count": 13,
   "metadata": {
    "ExecuteTime": {
     "end_time": "2022-10-15T13:50:54.681686Z",
     "start_time": "2022-10-15T13:50:54.665982Z"
    }
   },
   "outputs": [],
   "source": [
    "p.fullmatch('0110001011001')"
   ]
  },
  {
   "cell_type": "code",
   "execution_count": null,
   "metadata": {},
   "outputs": [],
   "source": []
  }
 ],
 "metadata": {
  "hide_input": false,
  "kernelspec": {
   "display_name": "Python 3",
   "language": "python",
   "name": "python3"
  },
  "toc": {
   "base_numbering": 1,
   "nav_menu": {},
   "number_sections": true,
   "sideBar": true,
   "skip_h1_title": false,
   "title_cell": "Table of Contents",
   "title_sidebar": "Contents",
   "toc_cell": false,
   "toc_position": {},
   "toc_section_display": true,
   "toc_window_display": false
  },
  "varInspector": {
   "cols": {
    "lenName": 16,
    "lenType": 16,
    "lenVar": 40
   },
   "kernels_config": {
    "python": {
     "delete_cmd_postfix": "",
     "delete_cmd_prefix": "del ",
     "library": "var_list.py",
     "varRefreshCmd": "print(var_dic_list())"
    },
    "r": {
     "delete_cmd_postfix": ") ",
     "delete_cmd_prefix": "rm(",
     "library": "var_list.r",
     "varRefreshCmd": "cat(var_dic_list()) "
    }
   },
   "types_to_exclude": [
    "module",
    "function",
    "builtin_function_or_method",
    "instance",
    "_Feature"
   ],
   "window_display": false
  }
 },
 "nbformat": 4,
 "nbformat_minor": 4
}
