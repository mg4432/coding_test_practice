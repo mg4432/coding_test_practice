{
 "cells": [
  {
   "cell_type": "code",
   "execution_count": 79,
   "metadata": {
    "ExecuteTime": {
     "end_time": "2022-10-13T13:27:05.789123Z",
     "start_time": "2022-10-13T13:27:05.775160Z"
    }
   },
   "outputs": [],
   "source": [
    "from collections import deque \n",
    "\n",
    "def solution(order) : \n",
    "    q = deque([x for x in range(1, len(order) + 1)])\n",
    "    stack = deque()\n",
    "    cnt = 0 \n",
    "    \n",
    "    while q : \n",
    "        if q[0] != order[cnt] : \n",
    "            if stack and stack[-1] == order[cnt] : \n",
    "                cnt += 1\n",
    "                stack.pop()\n",
    "                \n",
    "            else : \n",
    "                stack.append(q.popleft())\n",
    "                \n",
    "        else : \n",
    "            cnt += 1 \n",
    "            q.popleft()\n",
    "        \n",
    "    while stack : \n",
    "        if stack[-1] == order[cnt] : \n",
    "            cnt += 1 \n",
    "            stack.pop()\n",
    "            \n",
    "        else : \n",
    "            break \n",
    "            \n",
    "    return cnt"
   ]
  },
  {
   "cell_type": "code",
   "execution_count": null,
   "metadata": {},
   "outputs": [],
   "source": []
  }
 ],
 "metadata": {
  "hide_input": false,
  "kernelspec": {
   "display_name": "Python 3",
   "language": "python",
   "name": "python3"
  },
  "language_info": {
   "codemirror_mode": {
    "name": "ipython",
    "version": 3
   },
   "file_extension": ".py",
   "mimetype": "text/x-python",
   "name": "python",
   "nbconvert_exporter": "python",
   "pygments_lexer": "ipython3",
   "version": "3.8.5"
  },
  "toc": {
   "base_numbering": 1,
   "nav_menu": {},
   "number_sections": true,
   "sideBar": true,
   "skip_h1_title": false,
   "title_cell": "Table of Contents",
   "title_sidebar": "Contents",
   "toc_cell": false,
   "toc_position": {},
   "toc_section_display": true,
   "toc_window_display": false
  },
  "varInspector": {
   "cols": {
    "lenName": 16,
    "lenType": 16,
    "lenVar": 40
   },
   "kernels_config": {
    "python": {
     "delete_cmd_postfix": "",
     "delete_cmd_prefix": "del ",
     "library": "var_list.py",
     "varRefreshCmd": "print(var_dic_list())"
    },
    "r": {
     "delete_cmd_postfix": ") ",
     "delete_cmd_prefix": "rm(",
     "library": "var_list.r",
     "varRefreshCmd": "cat(var_dic_list()) "
    }
   },
   "types_to_exclude": [
    "module",
    "function",
    "builtin_function_or_method",
    "instance",
    "_Feature"
   ],
   "window_display": false
  }
 },
 "nbformat": 4,
 "nbformat_minor": 4
}
