{
 "cells": [
  {
   "cell_type": "code",
   "execution_count": 38,
   "metadata": {
    "ExecuteTime": {
     "end_time": "2022-08-17T05:31:03.091574Z",
     "start_time": "2022-08-17T05:30:36.094196Z"
    }
   },
   "outputs": [
    {
     "name": "stdout",
     "output_type": "stream",
     "text": [
      "15\n",
      "push 1\n",
      "push 2\n",
      "front\n",
      "1\n",
      "back\n",
      "2\n",
      "size\n",
      "2\n",
      "empty\n",
      "0\n",
      "pop\n",
      "1\n",
      "pop\n",
      "2\n",
      "pop\n",
      "-1\n",
      "size\n",
      "0\n",
      "empty\n",
      "1\n",
      "pop\n",
      "-1\n",
      "push 3\n",
      "empty\n",
      "0\n",
      "front\n",
      "3\n"
     ]
    }
   ],
   "source": [
    "import sys \n",
    "from collections import deque \n",
    "q = deque([])\n",
    "\n",
    "T = int(input())\n",
    "for _ in range(T) : \n",
    "    # python\n",
    "    cmd = input().split()\n",
    "    # BOJ\n",
    "    # cmd = list(map(str, sys.stdin.readline().split()))\n",
    "    if cmd[0] == 'push' :\n",
    "        q.append(cmd[1])\n",
    "    elif cmd[0] == 'pop' : \n",
    "        if len(q) > 0 : \n",
    "            popped = q.popleft()\n",
    "            print(popped)\n",
    "        else : \n",
    "            print(-1)\n",
    "\n",
    "    elif cmd[0] == 'size' : \n",
    "        print(len(q))\n",
    "\n",
    "    elif cmd[0] == 'empty' : \n",
    "        if len(q) > 0 : \n",
    "            print(0)\n",
    "        else : \n",
    "            print(1)\n",
    "\n",
    "    elif cmd[0] == 'front' : \n",
    "        if len(q) == 0 : \n",
    "            print(-1)\n",
    "        else : \n",
    "            print(q[0])\n",
    "\n",
    "    elif cmd[0] == 'back' : \n",
    "        if len(q) == 0 : \n",
    "            print(-1) \n",
    "        else : \n",
    "            print(q[-1])"
   ]
  },
  {
   "cell_type": "code",
   "execution_count": null,
   "metadata": {},
   "outputs": [],
   "source": []
  }
 ],
 "metadata": {
  "hide_input": false,
  "kernelspec": {
   "display_name": "Python 3",
   "language": "python",
   "name": "python3"
  },
  "language_info": {
   "codemirror_mode": {
    "name": "ipython",
    "version": 3
   },
   "file_extension": ".py",
   "mimetype": "text/x-python",
   "name": "python",
   "nbconvert_exporter": "python",
   "pygments_lexer": "ipython3",
   "version": "3.8.5"
  },
  "toc": {
   "base_numbering": 1,
   "nav_menu": {},
   "number_sections": true,
   "sideBar": true,
   "skip_h1_title": false,
   "title_cell": "Table of Contents",
   "title_sidebar": "Contents",
   "toc_cell": false,
   "toc_position": {},
   "toc_section_display": true,
   "toc_window_display": false
  },
  "varInspector": {
   "cols": {
    "lenName": 16,
    "lenType": 16,
    "lenVar": 40
   },
   "kernels_config": {
    "python": {
     "delete_cmd_postfix": "",
     "delete_cmd_prefix": "del ",
     "library": "var_list.py",
     "varRefreshCmd": "print(var_dic_list())"
    },
    "r": {
     "delete_cmd_postfix": ") ",
     "delete_cmd_prefix": "rm(",
     "library": "var_list.r",
     "varRefreshCmd": "cat(var_dic_list()) "
    }
   },
   "types_to_exclude": [
    "module",
    "function",
    "builtin_function_or_method",
    "instance",
    "_Feature"
   ],
   "window_display": false
  }
 },
 "nbformat": 4,
 "nbformat_minor": 4
}
