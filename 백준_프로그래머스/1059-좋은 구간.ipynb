{
 "cells": [
  {
   "cell_type": "code",
   "execution_count": 82,
   "metadata": {
    "ExecuteTime": {
     "end_time": "2022-09-27T07:38:36.681472Z",
     "start_time": "2022-09-27T07:38:13.015932Z"
    }
   },
   "outputs": [
    {
     "name": "stdout",
     "output_type": "stream",
     "text": [
      "8\n",
      "3 7 12 18 25 100 33 1000\n",
      "59\n",
      "1065\n"
     ]
    }
   ],
   "source": [
    "l = int(input())\n",
    "lst = list(map(int, input().split()))\n",
    "n = int(input())\n",
    "\n",
    "idx = 0\n",
    "cnt = 0\n",
    "\n",
    "lst.append(0)\n",
    "lst.sort()\n",
    "\n",
    "if n in lst : \n",
    "    print(0)\n",
    "\n",
    "else : \n",
    "    for i in range(len(lst)) : \n",
    "        if lst[i] < n and lst[i+1] > n : \n",
    "            idx = i\n",
    "            break\n",
    "    \n",
    "    itv = list(range(lst[idx] + 1, lst[idx+1]))\n",
    "    \n",
    "    sp = [i for i in itv if i <= n]\n",
    "    ep = [i for i in itv if i >= n]\n",
    "    \n",
    "    print(len(sp) * len(ep) - 1)"
   ]
  },
  {
   "cell_type": "code",
   "execution_count": null,
   "metadata": {},
   "outputs": [],
   "source": []
  }
 ],
 "metadata": {
  "hide_input": false,
  "kernelspec": {
   "display_name": "Python 3",
   "language": "python",
   "name": "python3"
  },
  "language_info": {
   "codemirror_mode": {
    "name": "ipython",
    "version": 3
   },
   "file_extension": ".py",
   "mimetype": "text/x-python",
   "name": "python",
   "nbconvert_exporter": "python",
   "pygments_lexer": "ipython3",
   "version": "3.8.5"
  },
  "toc": {
   "base_numbering": 1,
   "nav_menu": {},
   "number_sections": true,
   "sideBar": true,
   "skip_h1_title": false,
   "title_cell": "Table of Contents",
   "title_sidebar": "Contents",
   "toc_cell": false,
   "toc_position": {},
   "toc_section_display": true,
   "toc_window_display": false
  },
  "varInspector": {
   "cols": {
    "lenName": 16,
    "lenType": 16,
    "lenVar": 40
   },
   "kernels_config": {
    "python": {
     "delete_cmd_postfix": "",
     "delete_cmd_prefix": "del ",
     "library": "var_list.py",
     "varRefreshCmd": "print(var_dic_list())"
    },
    "r": {
     "delete_cmd_postfix": ") ",
     "delete_cmd_prefix": "rm(",
     "library": "var_list.r",
     "varRefreshCmd": "cat(var_dic_list()) "
    }
   },
   "types_to_exclude": [
    "module",
    "function",
    "builtin_function_or_method",
    "instance",
    "_Feature"
   ],
   "window_display": false
  }
 },
 "nbformat": 4,
 "nbformat_minor": 4
}
