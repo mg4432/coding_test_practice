{
 "cells": [
  {
   "cell_type": "code",
   "execution_count": 27,
   "metadata": {
    "ExecuteTime": {
     "end_time": "2022-10-15T06:36:48.899110Z",
     "start_time": "2022-10-15T06:36:47.763081Z"
    }
   },
   "outputs": [
    {
     "name": "stdout",
     "output_type": "stream",
     "text": [
      "8 9 10 \n",
      "deque([])\n",
      "[1, 2, 8, 9, 10]\n"
     ]
    }
   ],
   "source": [
    "from collections import deque \n",
    "a, b, c = map(int, input().split())\n",
    "answer = [] \n",
    "\n",
    "# 방문하는 경우의 수 \n",
    "q = deque() \n",
    "q.append((0, 0))\n",
    "\n",
    "# 방문 여부 배열\n",
    "visited = [[0 for _ in range(b + 1)] for _ in range(a + 1)]\n",
    "\n",
    "# 초기에 a, b 모두 비어있기 때문에 visited[0][0] = 1로 초기화\n",
    "visited[0][0] = 1 \n",
    "\n",
    "# 물을 부어주는 동작 \n",
    "def pour(x, y) : \n",
    "    if not visited[x][y] : \n",
    "        visited[x][y] = 1 # 방문 check\n",
    "        q.append((x, y)) # 경우의 수 추가\n",
    "        \n",
    "# bfs \n",
    "def bfs() : \n",
    "    while q : \n",
    "        x, y = q.popleft()\n",
    "        z = c - x -  y\n",
    "        if x == 0 :\n",
    "            answer.append(z)\n",
    "            \n",
    "        # a -> b \n",
    "        water = min(x, b - y)\n",
    "        pour(x - water, y + water)\n",
    "        \n",
    "        # b -> a \n",
    "        water = min(a - x, y) \n",
    "        pour(x + water, y - water)\n",
    "        \n",
    "        # a -> c \n",
    "        water = min(x, c - z) \n",
    "        pour(x - water, y)\n",
    "        \n",
    "        # c -> a \n",
    "        water = min(a - x, z)\n",
    "        pour(x + water, y)\n",
    "        \n",
    "        # b -> c \n",
    "        water = min(y, c - z) \n",
    "        pour(x, y - water)\n",
    "        \n",
    "        # c -> b \n",
    "        water = min(b - y, z)\n",
    "        pour(x, y + water)        \n",
    "\n",
    "        \n",
    "bfs()\n",
    "answer.sort()\n",
    "print(q)\n",
    "print(answer)"
   ]
  },
  {
   "cell_type": "code",
   "execution_count": null,
   "metadata": {},
   "outputs": [],
   "source": []
  }
 ],
 "metadata": {
  "hide_input": false,
  "kernelspec": {
   "display_name": "Python 3",
   "language": "python",
   "name": "python3"
  },
  "language_info": {
   "codemirror_mode": {
    "name": "ipython",
    "version": 3
   },
   "file_extension": ".py",
   "mimetype": "text/x-python",
   "name": "python",
   "nbconvert_exporter": "python",
   "pygments_lexer": "ipython3",
   "version": "3.8.5"
  },
  "toc": {
   "base_numbering": 1,
   "nav_menu": {},
   "number_sections": true,
   "sideBar": true,
   "skip_h1_title": false,
   "title_cell": "Table of Contents",
   "title_sidebar": "Contents",
   "toc_cell": false,
   "toc_position": {},
   "toc_section_display": true,
   "toc_window_display": false
  },
  "varInspector": {
   "cols": {
    "lenName": 16,
    "lenType": 16,
    "lenVar": 40
   },
   "kernels_config": {
    "python": {
     "delete_cmd_postfix": "",
     "delete_cmd_prefix": "del ",
     "library": "var_list.py",
     "varRefreshCmd": "print(var_dic_list())"
    },
    "r": {
     "delete_cmd_postfix": ") ",
     "delete_cmd_prefix": "rm(",
     "library": "var_list.r",
     "varRefreshCmd": "cat(var_dic_list()) "
    }
   },
   "types_to_exclude": [
    "module",
    "function",
    "builtin_function_or_method",
    "instance",
    "_Feature"
   ],
   "window_display": false
  }
 },
 "nbformat": 4,
 "nbformat_minor": 4
}
