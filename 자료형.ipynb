{
 "cells": [
  {
   "cell_type": "markdown",
   "metadata": {},
   "source": [
    "# 자료형\n",
    "모든 프로그래밍은 결국 데이터를 다루는 행위\n",
    "- 자료형에 대한 이해는 프로그래밍에서 가장 중요\n",
    "\n",
    "파이썬의 자료형으로는 정수형, 실수형, 복소수형, 문자열, 리스트, 튜플, 사전 등이 있음\n",
    "- 필수적으로 알아둬야 함"
   ]
  },
  {
   "cell_type": "markdown",
   "metadata": {
    "ExecuteTime": {
     "end_time": "2021-07-08T14:31:59.832863Z",
     "start_time": "2021-07-08T14:31:59.824881Z"
    }
   },
   "source": [
    "## 정수형\n",
    "정수형은 정수를 다루는 자료형\n",
    "- 양의 정수, 음의 정수, 0이 포함된다.\n",
    "\n",
    "코딩 테스트에서 출제되는 많은 문제들은 정수형을 주로 다루게 된다."
   ]
  },
  {
   "cell_type": "code",
   "execution_count": 2,
   "metadata": {
    "ExecuteTime": {
     "end_time": "2021-07-08T14:33:18.456949Z",
     "start_time": "2021-07-08T14:33:18.443984Z"
    }
   },
   "outputs": [
    {
     "name": "stdout",
     "output_type": "stream",
     "text": [
      "1000\n",
      "-7\n",
      "0\n"
     ]
    }
   ],
   "source": [
    "# 양의 정수\n",
    "a = 1000\n",
    "print(a)\n",
    "\n",
    "# 음의 정수\n",
    "a = -7\n",
    "print(a)\n",
    "\n",
    "# 0 \n",
    "a = 0\n",
    "print(a)"
   ]
  },
  {
   "cell_type": "markdown",
   "metadata": {},
   "source": [
    "## 실수형\n",
    "실수형은 소수점 아래의 데이터를 포함하는 수 자료형\n",
    "- 파이썬에서는 변수에 소수점을 붙인 수를 대입하면 실수형 변수로 처리된다.\n",
    "- 소수부가 0이거나, 정수부가 0인 소수는 0을 생략하고 작성할 수 있다."
   ]
  },
  {
   "cell_type": "code",
   "execution_count": 7,
   "metadata": {
    "ExecuteTime": {
     "end_time": "2021-07-08T15:04:31.942272Z",
     "start_time": "2021-07-08T15:04:31.936256Z"
    }
   },
   "outputs": [
    {
     "name": "stdout",
     "output_type": "stream",
     "text": [
      "157.93\n",
      "-1837.2\n",
      "5.0\n",
      "-0.7\n"
     ]
    }
   ],
   "source": [
    "# 양의 실수\n",
    "a = 157.93\n",
    "print(a)\n",
    "\n",
    "# 음의 실수\n",
    "a = -1837.2\n",
    "print(a)\n",
    "\n",
    "# 소수부가 0일 때 0을 생략\n",
    "a = 5.\n",
    "print(a)\n",
    "\n",
    "# 정수부가 0일 때 0을 생략\n",
    "a = -.7\n",
    "print(a)"
   ]
  },
  {
   "cell_type": "markdown",
   "metadata": {},
   "source": [
    "지수 표현 방식은 임의의 큰 수를 표현하기 위해 사용되며 실수형으로 처리된다.\n",
    "\n",
    "최단 경로 알고리즘에서는 도달할 수 없는 노드에 대하여 최단 거리를 **무한(Inf)**로 설정\n",
    "\n",
    "이 때 가능한 최댓값이 10억 미만이라면 무한(Inf)의 값으로 1e9를 이용할 수 있다."
   ]
  },
  {
   "cell_type": "code",
   "execution_count": 8,
   "metadata": {
    "ExecuteTime": {
     "end_time": "2021-07-08T15:08:28.936267Z",
     "start_time": "2021-07-08T15:08:28.928313Z"
    }
   },
   "outputs": [
    {
     "name": "stdout",
     "output_type": "stream",
     "text": [
      "1000000000.0\n",
      "752.5\n",
      "3.954\n"
     ]
    }
   ],
   "source": [
    "# 1,000,000,000의 지수 표현 방식 \n",
    "a = 1e9\n",
    "print(a)\n",
    "\n",
    "# 752.5\n",
    "a = 75.25e1\n",
    "print(a)\n",
    "\n",
    "# 3.954\n",
    "a = 3954e-3\n",
    "print(a)"
   ]
  },
  {
   "cell_type": "code",
   "execution_count": null,
   "metadata": {},
   "outputs": [],
   "source": []
  }
 ],
 "metadata": {
  "hide_input": false,
  "kernelspec": {
   "display_name": "Python 3",
   "language": "python",
   "name": "python3"
  },
  "language_info": {
   "codemirror_mode": {
    "name": "ipython",
    "version": 3
   },
   "file_extension": ".py",
   "mimetype": "text/x-python",
   "name": "python",
   "nbconvert_exporter": "python",
   "pygments_lexer": "ipython3",
   "version": "3.8.5"
  },
  "varInspector": {
   "cols": {
    "lenName": 16,
    "lenType": 16,
    "lenVar": 40
   },
   "kernels_config": {
    "python": {
     "delete_cmd_postfix": "",
     "delete_cmd_prefix": "del ",
     "library": "var_list.py",
     "varRefreshCmd": "print(var_dic_list())"
    },
    "r": {
     "delete_cmd_postfix": ") ",
     "delete_cmd_prefix": "rm(",
     "library": "var_list.r",
     "varRefreshCmd": "cat(var_dic_list()) "
    }
   },
   "types_to_exclude": [
    "module",
    "function",
    "builtin_function_or_method",
    "instance",
    "_Feature"
   ],
   "window_display": false
  }
 },
 "nbformat": 4,
 "nbformat_minor": 4
}
