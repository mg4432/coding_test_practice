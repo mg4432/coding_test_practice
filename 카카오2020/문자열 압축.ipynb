{
 "cells": [
  {
   "cell_type": "code",
   "execution_count": 4,
   "metadata": {
    "ExecuteTime": {
     "end_time": "2022-04-24T10:07:57.968057Z",
     "start_time": "2022-04-24T10:07:57.960051Z"
    }
   },
   "outputs": [],
   "source": [
    "ex = ['aabbaccc','ababcdcdababcdcd','abcabcdede','abcabcabcabcdededededede',\n",
    "      'xababcdcdababcdcd']"
   ]
  },
  {
   "cell_type": "code",
   "execution_count": 17,
   "metadata": {
    "ExecuteTime": {
     "end_time": "2022-04-24T10:13:36.380521Z",
     "start_time": "2022-04-24T10:13:36.372567Z"
    }
   },
   "outputs": [],
   "source": [
    "def solution(s) : \n",
    "    answer = len(s)\n",
    "    \n",
    "    for i in range(1, int( len(s)/2 ) + 1) : \n",
    "        pos = 0 # 처음부터 단계별로 진행 \n",
    "        length = len(s) # 처음 단계에서 압축되는 만큼 빼주기 \n",
    "        \n",
    "        while pos + i <= len(s) : \n",
    "            unit = s[pos:pos+i]\n",
    "            pos += i\n",
    "            cnt = 0 \n",
    "            \n",
    "            while pos + i <= len(s) : \n",
    "                if unit == s[pos:pos+i] : \n",
    "                    cnt += 1 \n",
    "                    pos += i\n",
    "                else :\n",
    "                    break \n",
    "        \n",
    "            if cnt > 0 : \n",
    "\n",
    "                length -= i * cnt \n",
    "\n",
    "                if cnt < 9 : \n",
    "                    length += 1 \n",
    "                elif cnt < 99 : \n",
    "                    length += 2 \n",
    "                elif cnt < 999 : \n",
    "                    length += 3 \n",
    "                else : \n",
    "                    length += 4 \n",
    "    \n",
    "        answer = min(answer, length)\n",
    "   \n",
    "    return answer \n",
    "        "
   ]
  },
  {
   "cell_type": "code",
   "execution_count": 18,
   "metadata": {
    "ExecuteTime": {
     "end_time": "2022-04-24T10:13:36.774170Z",
     "start_time": "2022-04-24T10:13:36.766196Z"
    }
   },
   "outputs": [
    {
     "name": "stdout",
     "output_type": "stream",
     "text": [
      "7\n",
      "9\n",
      "8\n",
      "14\n",
      "17\n"
     ]
    }
   ],
   "source": [
    "for i in range(len(ex)) : \n",
    "    print(solution(ex[i]))"
   ]
  },
  {
   "cell_type": "code",
   "execution_count": null,
   "metadata": {},
   "outputs": [],
   "source": []
  }
 ],
 "metadata": {
  "hide_input": false,
  "kernelspec": {
   "display_name": "Python 3",
   "language": "python",
   "name": "python3"
  },
  "language_info": {
   "codemirror_mode": {
    "name": "ipython",
    "version": 3
   },
   "file_extension": ".py",
   "mimetype": "text/x-python",
   "name": "python",
   "nbconvert_exporter": "python",
   "pygments_lexer": "ipython3",
   "version": "3.8.5"
  },
  "toc": {
   "base_numbering": 1,
   "nav_menu": {},
   "number_sections": true,
   "sideBar": true,
   "skip_h1_title": false,
   "title_cell": "Table of Contents",
   "title_sidebar": "Contents",
   "toc_cell": false,
   "toc_position": {},
   "toc_section_display": true,
   "toc_window_display": false
  },
  "varInspector": {
   "cols": {
    "lenName": 16,
    "lenType": 16,
    "lenVar": 40
   },
   "kernels_config": {
    "python": {
     "delete_cmd_postfix": "",
     "delete_cmd_prefix": "del ",
     "library": "var_list.py",
     "varRefreshCmd": "print(var_dic_list())"
    },
    "r": {
     "delete_cmd_postfix": ") ",
     "delete_cmd_prefix": "rm(",
     "library": "var_list.r",
     "varRefreshCmd": "cat(var_dic_list()) "
    }
   },
   "types_to_exclude": [
    "module",
    "function",
    "builtin_function_or_method",
    "instance",
    "_Feature"
   ],
   "window_display": false
  }
 },
 "nbformat": 4,
 "nbformat_minor": 4
}
