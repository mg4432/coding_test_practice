{
 "cells": [
  {
   "cell_type": "code",
   "execution_count": 139,
   "metadata": {
    "ExecuteTime": {
     "end_time": "2022-04-24T13:44:18.205925Z",
     "start_time": "2022-04-24T13:44:18.190995Z"
    }
   },
   "outputs": [],
   "source": [
    "def match(arr, key, rot, r, c) :\n",
    "    n = len(key)\n",
    "    \n",
    "    for i in range(n) : \n",
    "        for j in range(n) : \n",
    "            if rot == 0 : \n",
    "                arr[r + i][c + j] += key[i][j]\n",
    "            elif rot == 1 : # 시계방향으로 90도 회전 \n",
    "                arr[r + i][c + j] += key[n-1-j][i]\n",
    "            elif rot == 2 : \n",
    "                arr[r + i][c + j] += key[n-1-i][n-1-j]\n",
    "            else : \n",
    "                arr[r + i][c + j] += key[j][n-1-i]\n",
    "\n",
    "def check(arr, offset, n) : \n",
    "    for i in range(n) : \n",
    "        for j in range(n) : \n",
    "            if arr[offset + i][offset + j] != 1 : \n",
    "                return False \n",
    "    return True \n",
    "\n",
    "def solution(key, lock) : \n",
    "    # 자물쇠로부터 떨어진 거리\n",
    "    offset = len(key) - 1 \n",
    "    \n",
    "    for r in range(offset + len(lock)) : \n",
    "        for c in range(offset + len(lock)) : \n",
    "            # 4가지 회전하는 경우\n",
    "            for rot in range(4) :\n",
    "                # 20 + 20 + 20 - 2 (key,lock,key)에서 한 줄씩은 겹쳐야하는 경우 \n",
    "                arr = [[0 for _ in range(58)] for _ in range(58)]\n",
    "                \n",
    "                # 자물쇠 복사\n",
    "                for i in range(len(lock)) : \n",
    "                    for j in range(len(lock)) : \n",
    "                        arr[offset+i][offset+j] = lock[i][j]\n",
    "                        \n",
    "                \n",
    "                match(arr, key, rot, r, c) # d\n",
    "                if check(arr, offset, len(lock)) : \n",
    "                    return True \n",
    "                        \n",
    "                    \n",
    "    # 끝까지 맞춰지지 않으면 False 반환 \n",
    "    return False     "
   ]
  },
  {
   "cell_type": "code",
   "execution_count": 140,
   "metadata": {
    "ExecuteTime": {
     "end_time": "2022-04-24T13:44:22.378782Z",
     "start_time": "2022-04-24T13:44:22.353850Z"
    }
   },
   "outputs": [
    {
     "data": {
      "text/plain": [
       "True"
      ]
     },
     "execution_count": 140,
     "metadata": {},
     "output_type": "execute_result"
    }
   ],
   "source": [
    "solution(key, lock)"
   ]
  },
  {
   "cell_type": "code",
   "execution_count": null,
   "metadata": {},
   "outputs": [],
   "source": []
  }
 ],
 "metadata": {
  "hide_input": false,
  "kernelspec": {
   "display_name": "Python 3",
   "language": "python",
   "name": "python3"
  },
  "language_info": {
   "codemirror_mode": {
    "name": "ipython",
    "version": 3
   },
   "file_extension": ".py",
   "mimetype": "text/x-python",
   "name": "python",
   "nbconvert_exporter": "python",
   "pygments_lexer": "ipython3",
   "version": "3.8.5"
  },
  "toc": {
   "base_numbering": 1,
   "nav_menu": {},
   "number_sections": true,
   "sideBar": true,
   "skip_h1_title": false,
   "title_cell": "Table of Contents",
   "title_sidebar": "Contents",
   "toc_cell": false,
   "toc_position": {},
   "toc_section_display": true,
   "toc_window_display": false
  },
  "varInspector": {
   "cols": {
    "lenName": 16,
    "lenType": 16,
    "lenVar": 40
   },
   "kernels_config": {
    "python": {
     "delete_cmd_postfix": "",
     "delete_cmd_prefix": "del ",
     "library": "var_list.py",
     "varRefreshCmd": "print(var_dic_list())"
    },
    "r": {
     "delete_cmd_postfix": ") ",
     "delete_cmd_prefix": "rm(",
     "library": "var_list.r",
     "varRefreshCmd": "cat(var_dic_list()) "
    }
   },
   "types_to_exclude": [
    "module",
    "function",
    "builtin_function_or_method",
    "instance",
    "_Feature"
   ],
   "window_display": false
  }
 },
 "nbformat": 4,
 "nbformat_minor": 4
}
