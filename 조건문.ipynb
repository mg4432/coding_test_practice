{
 "cells": [
  {
   "cell_type": "markdown",
   "metadata": {},
   "source": [
    "# 조건문\n",
    "조건문은 프로그램의 흐름을 제어하는 문법\n",
    "\n",
    "조건문을 이용해 조건에 따라서 프로그램의 로직을 설정할 수 있다."
   ]
  },
  {
   "cell_type": "code",
   "execution_count": 1,
   "metadata": {
    "ExecuteTime": {
     "end_time": "2021-07-11T08:05:14.372885Z",
     "start_time": "2021-07-11T08:05:14.358921Z"
    }
   },
   "outputs": [
    {
     "name": "stdout",
     "output_type": "stream",
     "text": [
      "X >= 10\n",
      "X >= 0\n"
     ]
    }
   ],
   "source": [
    "x = 15\n",
    "\n",
    "if x >= 10 :\n",
    "    print(\"X >= 10\")\n",
    "    \n",
    "if x >= 0 :\n",
    "    print(\"X >= 0\")\n",
    "    \n",
    "if x >= 30 :\n",
    "    print(\"X >= 30\")"
   ]
  },
  {
   "cell_type": "markdown",
   "metadata": {},
   "source": [
    "## 들여쓰기\n",
    "코드의 블록을 띄어쓰기로 지정\n",
    "\n",
    "`second` 코드는 조건과 상관없이 무조건 실행된다."
   ]
  },
  {
   "cell_type": "code",
   "execution_count": 9,
   "metadata": {
    "ExecuteTime": {
     "end_time": "2021-07-11T08:41:28.197908Z",
     "start_time": "2021-07-11T08:41:28.187934Z"
    },
    "scrolled": true
   },
   "outputs": [
    {
     "name": "stdout",
     "output_type": "stream",
     "text": [
      "성적이 70점 이상입니다.\n",
      "-----------------------------\n",
      "성적이 70점 이상입니다.\n",
      "우수한 성적입니다.\n",
      "-----------------------------\n",
      "성적이 70점 미만입니다.\n",
      "조금 더 분발하세요.\n",
      "-----------------------------\n",
      "성적이 70점 미만입니다.\n",
      "조금 더 분발하세요.\n",
      "Fail\n",
      "-----------------------------\n",
      "프로그램을 종료합니다.\n"
     ]
    }
   ],
   "source": [
    "scores = [85,94,66,22]\n",
    "\n",
    "for score in scores :\n",
    "    if score >= 70 : \n",
    "        print('성적이 70점 이상입니다.')\n",
    "        if score >= 90 : \n",
    "            print('우수한 성적입니다.')\n",
    "    else :\n",
    "        print('성적이 70점 미만입니다.')\n",
    "        print('조금 더 분발하세요.')\n",
    "        if score <= 40 :\n",
    "                print('Fail')\n",
    "    print('-----------------------------')\n",
    "\n",
    "print('프로그램을 종료합니다.')"
   ]
  },
  {
   "cell_type": "code",
   "execution_count": 8,
   "metadata": {
    "ExecuteTime": {
     "end_time": "2021-07-11T08:40:42.819349Z",
     "start_time": "2021-07-11T08:40:42.814362Z"
    }
   },
   "outputs": [],
   "source": [
    "# if 조건문1 : \n",
    "#    (조건문 1이 True일 때 실행)\n",
    "# elif 조건문2 : \n",
    "#    (조건문 1에 해당하지 않고, 조건문 2가 True일 때 실행) \n",
    "# else : \n",
    "#    (위의 모든 조건문이 모두 True가 아닐 때 실행)"
   ]
  },
  {
   "cell_type": "code",
   "execution_count": 10,
   "metadata": {
    "ExecuteTime": {
     "end_time": "2021-07-11T08:42:06.603724Z",
     "start_time": "2021-07-11T08:42:06.594749Z"
    }
   },
   "outputs": [
    {
     "name": "stdout",
     "output_type": "stream",
     "text": [
      "a >= -10\n"
     ]
    }
   ],
   "source": [
    "a = -5\n",
    "if a >= 0 : \n",
    "    print(\"a >= 0\")\n",
    "elif a >= -10 : \n",
    "    print(\"a >= -10\")\n",
    "else : \n",
    "    print(\"a < -10\")"
   ]
  },
  {
   "cell_type": "markdown",
   "metadata": {},
   "source": [
    "- 성적이 90점 이상일 때 : A\n",
    "- 성적이 90점 미만, 80점 이상일 때 : B\n",
    "- 성적이 80점 미만, 70점 이상일 때 : C\n",
    "- 성적이 70점 미만일 때 : F"
   ]
  },
  {
   "cell_type": "code",
   "execution_count": 11,
   "metadata": {
    "ExecuteTime": {
     "end_time": "2021-07-11T08:44:14.077459Z",
     "start_time": "2021-07-11T08:44:14.068518Z"
    }
   },
   "outputs": [
    {
     "name": "stdout",
     "output_type": "stream",
     "text": [
      "F\n",
      "A\n",
      "F\n",
      "B\n",
      "C\n"
     ]
    }
   ],
   "source": [
    "scores = [55, 94, 54, 85, 78]\n",
    "\n",
    "for score in scores : \n",
    "    if score >= 90 : \n",
    "        print('A')\n",
    "    elif score >= 80 : \n",
    "        print('B')\n",
    "    elif score >= 70 : \n",
    "        print('C')\n",
    "    else : \n",
    "        print('F')"
   ]
  },
  {
   "cell_type": "markdown",
   "metadata": {},
   "source": [
    "## pass 키워드\n",
    "아무것도 처리하고 싶지 않을 때 pass 키워드 사용\n",
    "- ex. 디버깅 과정에서 일단 조건문의 형태만 만들어놓고 조건문을 처리하는 부분은 비워놓고 싶은 경우"
   ]
  },
  {
   "cell_type": "code",
   "execution_count": 15,
   "metadata": {
    "ExecuteTime": {
     "end_time": "2021-07-11T08:48:06.997433Z",
     "start_time": "2021-07-11T08:48:06.979614Z"
    }
   },
   "outputs": [
    {
     "name": "stdout",
     "output_type": "stream",
     "text": [
      "a<30\n"
     ]
    }
   ],
   "source": [
    "array = [25, 40]\n",
    "\n",
    "for a in array : \n",
    "    if a >= 30 : \n",
    "        pass\n",
    "    else :\n",
    "        print('a<30')\n"
   ]
  },
  {
   "cell_type": "markdown",
   "metadata": {},
   "source": [
    "## 조건문의 간소화\n",
    "조건문에서 실행될 소스코드가 한 줄인 경우, 굳이 줄 바꿈을 하지 않고도 간결하게 표현할 수 있다.\n",
    "\n",
    "조건부 표현식은 `if ~ else` 문을 한 줄에 작성할 수 있도록 해준다."
   ]
  },
  {
   "cell_type": "code",
   "execution_count": 16,
   "metadata": {
    "ExecuteTime": {
     "end_time": "2021-07-11T08:49:35.731119Z",
     "start_time": "2021-07-11T08:49:35.722142Z"
    }
   },
   "outputs": [
    {
     "name": "stdout",
     "output_type": "stream",
     "text": [
      "Success\n"
     ]
    }
   ],
   "source": [
    "score = 85\n",
    "result = 'Success' if score >= 80 else 'Fail'\n",
    "\n",
    "print(result)"
   ]
  },
  {
   "cell_type": "markdown",
   "metadata": {},
   "source": [
    "## 파이썬 조건문 내에서의 부등식\n",
    "다른 프로그래밍 언어와 다르게 파이썬은ㅇ 조건문 안에서 수학의 부등식을 그대로 사용할 수 있다.\n",
    "- ex. $x > 0\\text{  }and\\text{  }x < 20$과 $0 < x < 20$은 같은 결과를 반환한다."
   ]
  },
  {
   "cell_type": "markdown",
   "metadata": {},
   "source": [
    "case 1 :"
   ]
  },
  {
   "cell_type": "code",
   "execution_count": 17,
   "metadata": {
    "ExecuteTime": {
     "end_time": "2021-07-11T09:18:39.472324Z",
     "start_time": "2021-07-11T09:18:39.454380Z"
    }
   },
   "outputs": [
    {
     "name": "stdout",
     "output_type": "stream",
     "text": [
      "x는 0보다 크고 20보다 작은 수입니다.\n"
     ]
    }
   ],
   "source": [
    "x = 15\n",
    "if x>0 and x<20 : \n",
    "    print('x는 0보다 크고 20보다 작은 수입니다.')"
   ]
  },
  {
   "cell_type": "code",
   "execution_count": 18,
   "metadata": {
    "ExecuteTime": {
     "end_time": "2021-07-11T09:18:54.487413Z",
     "start_time": "2021-07-11T09:18:54.472424Z"
    }
   },
   "outputs": [
    {
     "name": "stdout",
     "output_type": "stream",
     "text": [
      "x는 0보다 크고 20보다 작은 수입니다.\n"
     ]
    }
   ],
   "source": [
    "x = 15\n",
    "if 0<x<20 : \n",
    "    print('x는 0보다 크고 20보다 작은 수입니다.')"
   ]
  }
 ],
 "metadata": {
  "hide_input": false,
  "kernelspec": {
   "display_name": "Python 3",
   "language": "python",
   "name": "python3"
  },
  "language_info": {
   "codemirror_mode": {
    "name": "ipython",
    "version": 3
   },
   "file_extension": ".py",
   "mimetype": "text/x-python",
   "name": "python",
   "nbconvert_exporter": "python",
   "pygments_lexer": "ipython3",
   "version": "3.8.5"
  },
  "varInspector": {
   "cols": {
    "lenName": 16,
    "lenType": 16,
    "lenVar": 40
   },
   "kernels_config": {
    "python": {
     "delete_cmd_postfix": "",
     "delete_cmd_prefix": "del ",
     "library": "var_list.py",
     "varRefreshCmd": "print(var_dic_list())"
    },
    "r": {
     "delete_cmd_postfix": ") ",
     "delete_cmd_prefix": "rm(",
     "library": "var_list.r",
     "varRefreshCmd": "cat(var_dic_list()) "
    }
   },
   "types_to_exclude": [
    "module",
    "function",
    "builtin_function_or_method",
    "instance",
    "_Feature"
   ],
   "window_display": false
  }
 },
 "nbformat": 4,
 "nbformat_minor": 4
}
