{
 "cells": [
  {
   "cell_type": "markdown",
   "metadata": {},
   "source": [
    "# 조건문\n",
    "조건문은 프로그램의 흐름을 제어하는 문법\n",
    "\n",
    "조건문을 이용해 조건에 따라서 프로그램의 로직을 설정할 수 있다."
   ]
  },
  {
   "cell_type": "code",
   "execution_count": 1,
   "metadata": {
    "ExecuteTime": {
     "end_time": "2021-07-11T08:05:14.372885Z",
     "start_time": "2021-07-11T08:05:14.358921Z"
    }
   },
   "outputs": [
    {
     "name": "stdout",
     "output_type": "stream",
     "text": [
      "X >= 10\n",
      "X >= 0\n"
     ]
    }
   ],
   "source": [
    "x = 15\n",
    "\n",
    "if x >= 10 :\n",
    "    print(\"X >= 10\")\n",
    "    \n",
    "if x >= 0 :\n",
    "    print(\"X >= 0\")\n",
    "    \n",
    "if x >= 30 :\n",
    "    print(\"X >= 30\")"
   ]
  },
  {
   "cell_type": "markdown",
   "metadata": {},
   "source": [
    "## 들여쓰기\n",
    "코드의 블록을 띄어쓰기로 지정\n",
    "\n",
    "`second` 코드는 조건과 상관없이 무조건 실행된다."
   ]
  },
  {
   "cell_type": "code",
   "execution_count": 7,
   "metadata": {
    "ExecuteTime": {
     "end_time": "2021-07-11T08:11:25.721805Z",
     "start_time": "2021-07-11T08:11:25.700862Z"
    },
    "scrolled": true
   },
   "outputs": [
    {
     "name": "stdout",
     "output_type": "stream",
     "text": [
      "성적이 70점 이상입니다.\n",
      "-----------------------------\n",
      "성적이 70점 이상입니다.\n",
      "우수한 성적입니다.\n",
      "-----------------------------\n",
      "성적이 70점 미만입니다.\n",
      "조금 더 분발하세요.\n",
      "-----------------------------\n",
      "성적이 70점 미만입니다.\n",
      "조금 더 분발하세요.\n",
      "바보\n",
      "-----------------------------\n",
      "프로그램을 종료합니다.\n"
     ]
    }
   ],
   "source": [
    "scores = [85,94,66,22]\n",
    "\n",
    "for score in scores :\n",
    "    if score >= 70 : \n",
    "        print('성적이 70점 이상입니다.')\n",
    "        if score >= 90 : \n",
    "            print('우수한 성적입니다.')\n",
    "    else :\n",
    "        print('성적이 70점 미만입니다.')\n",
    "        print('조금 더 분발하세요.')\n",
    "        if score <= 40 :\n",
    "                print('바보')\n",
    "    print('-----------------------------')\n",
    "\n",
    "print('프로그램을 종료합니다.')"
   ]
  },
  {
   "cell_type": "code",
   "execution_count": null,
   "metadata": {},
   "outputs": [],
   "source": []
  }
 ],
 "metadata": {
  "hide_input": false,
  "kernelspec": {
   "display_name": "Python 3",
   "language": "python",
   "name": "python3"
  },
  "language_info": {
   "codemirror_mode": {
    "name": "ipython",
    "version": 3
   },
   "file_extension": ".py",
   "mimetype": "text/x-python",
   "name": "python",
   "nbconvert_exporter": "python",
   "pygments_lexer": "ipython3",
   "version": "3.8.5"
  },
  "varInspector": {
   "cols": {
    "lenName": 16,
    "lenType": 16,
    "lenVar": 40
   },
   "kernels_config": {
    "python": {
     "delete_cmd_postfix": "",
     "delete_cmd_prefix": "del ",
     "library": "var_list.py",
     "varRefreshCmd": "print(var_dic_list())"
    },
    "r": {
     "delete_cmd_postfix": ") ",
     "delete_cmd_prefix": "rm(",
     "library": "var_list.r",
     "varRefreshCmd": "cat(var_dic_list()) "
    }
   },
   "types_to_exclude": [
    "module",
    "function",
    "builtin_function_or_method",
    "instance",
    "_Feature"
   ],
   "window_display": false
  }
 },
 "nbformat": 4,
 "nbformat_minor": 4
}
