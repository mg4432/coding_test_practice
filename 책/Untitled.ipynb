{
 "cells": [
  {
   "cell_type": "code",
   "execution_count": 3,
   "metadata": {
    "ExecuteTime": {
     "end_time": "2022-05-03T13:09:39.271775Z",
     "start_time": "2022-05-03T13:09:39.261908Z"
    }
   },
   "outputs": [
    {
     "data": {
      "text/plain": [
       "[1, 2, 3]"
      ]
     },
     "execution_count": 3,
     "metadata": {},
     "output_type": "execute_result"
    }
   ],
   "source": [
    "a = [1, 2, 3]\n",
    "b = a.copy()\n",
    "b"
   ]
  },
  {
   "cell_type": "code",
   "execution_count": 4,
   "metadata": {
    "ExecuteTime": {
     "end_time": "2022-05-03T13:09:43.638386Z",
     "start_time": "2022-05-03T13:09:43.628310Z"
    }
   },
   "outputs": [
    {
     "data": {
      "text/plain": [
       "[100, 2, 3]"
      ]
     },
     "execution_count": 4,
     "metadata": {},
     "output_type": "execute_result"
    }
   ],
   "source": [
    "b[0] = 100\n",
    "b"
   ]
  },
  {
   "cell_type": "code",
   "execution_count": 5,
   "metadata": {
    "ExecuteTime": {
     "end_time": "2022-05-03T13:09:44.288714Z",
     "start_time": "2022-05-03T13:09:44.280735Z"
    }
   },
   "outputs": [
    {
     "data": {
      "text/plain": [
       "[1, 2, 3]"
      ]
     },
     "execution_count": 5,
     "metadata": {},
     "output_type": "execute_result"
    }
   ],
   "source": [
    "a"
   ]
  },
  {
   "cell_type": "code",
   "execution_count": null,
   "metadata": {},
   "outputs": [],
   "source": [
    "aaaaa\n",
    "aaaab\n",
    "aaabb\n",
    "aabbb\n",
    "abbbb\n",
    "\n"
   ]
  },
  {
   "cell_type": "code",
   "execution_count": 6,
   "metadata": {
    "ExecuteTime": {
     "end_time": "2022-05-03T13:11:56.435027Z",
     "start_time": "2022-05-03T13:11:56.421065Z"
    }
   },
   "outputs": [],
   "source": [
    "def solution(words):\n",
    "    min_num = []\n",
    "    length = len(words)\n",
    "    \n",
    "    for i in range(length) :\n",
    "        arr = words.copy()\n",
    "        word = arr.pop(i)\n",
    "        \n",
    "        for slc in range(1, len(word)+1) : \n",
    "            subset = False\n",
    "            string = word[:slc]\n",
    "            for rem in arr :\n",
    "                if string in rem : \n",
    "                    subset = True\n",
    "                    break\n",
    "            if subset == False : \n",
    "                min_num.append(slc)\n",
    "                break\n",
    "            if slc == len(word) : \n",
    "                min_num.append(slc)\n",
    "\n",
    "            \n",
    "    return sum(min_num)"
   ]
  },
  {
   "cell_type": "code",
   "execution_count": 7,
   "metadata": {
    "ExecuteTime": {
     "end_time": "2022-05-03T13:12:17.854211Z",
     "start_time": "2022-05-03T13:12:17.834146Z"
    }
   },
   "outputs": [
    {
     "data": {
      "text/plain": [
       "25"
      ]
     },
     "execution_count": 7,
     "metadata": {},
     "output_type": "execute_result"
    }
   ],
   "source": [
    "solution(['aaaaa','aaaab','aaabb','aabbb','abbbb'])"
   ]
  },
  {
   "cell_type": "code",
   "execution_count": 10,
   "metadata": {
    "ExecuteTime": {
     "end_time": "2022-05-03T13:54:08.788486Z",
     "start_time": "2022-05-03T13:54:08.777548Z"
    }
   },
   "outputs": [
    {
     "data": {
      "text/plain": [
       "4"
      ]
     },
     "execution_count": 10,
     "metadata": {},
     "output_type": "execute_result"
    }
   ],
   "source": [
    "len('word')"
   ]
  },
  {
   "cell_type": "code",
   "execution_count": 21,
   "metadata": {
    "ExecuteTime": {
     "end_time": "2022-05-03T14:08:08.886678Z",
     "start_time": "2022-05-03T14:08:08.871826Z"
    }
   },
   "outputs": [],
   "source": [
    "def solution(words):\n",
    "    min_num = []\n",
    "    \n",
    "    for i in range(len(words)) :\n",
    "        others = words.copy()\n",
    "        word = others.pop(i)\n",
    "        \n",
    "        slc = 1 \n",
    "        while True :\n",
    "            if slc == len(word) : \n",
    "                min_num.append(slc)\n",
    "                break\n",
    "            string = word[:slc]\n",
    "            subset = False\n",
    "            for other in others : \n",
    "                if string ==other[:slc]:        \n",
    "                    subset = True \n",
    "            if subset == False : \n",
    "                min_num.append(slc)\n",
    "                break\n",
    "                \n",
    "            slc += 1\n",
    "        \n",
    "\n",
    "    return sum(min_num)"
   ]
  },
  {
   "cell_type": "code",
   "execution_count": 22,
   "metadata": {
    "ExecuteTime": {
     "end_time": "2022-05-03T14:08:09.221182Z",
     "start_time": "2022-05-03T14:08:09.212206Z"
    }
   },
   "outputs": [
    {
     "data": {
      "text/plain": [
       "19"
      ]
     },
     "execution_count": 22,
     "metadata": {},
     "output_type": "execute_result"
    }
   ],
   "source": [
    "solution(['aaaaa','aaaab','aaabb','aabbb','abbbb'])"
   ]
  },
  {
   "cell_type": "code",
   "execution_count": 20,
   "metadata": {
    "ExecuteTime": {
     "end_time": "2022-05-03T14:07:37.451755Z",
     "start_time": "2022-05-03T14:07:37.442750Z"
    }
   },
   "outputs": [
    {
     "data": {
      "text/plain": [
       "19"
      ]
     },
     "execution_count": 20,
     "metadata": {},
     "output_type": "execute_result"
    }
   ],
   "source": [
    "5+5+4+3+2\n"
   ]
  },
  {
   "cell_type": "code",
   "execution_count": null,
   "metadata": {},
   "outputs": [],
   "source": []
  }
 ],
 "metadata": {
  "hide_input": false,
  "kernelspec": {
   "display_name": "Python 3",
   "language": "python",
   "name": "python3"
  },
  "language_info": {
   "codemirror_mode": {
    "name": "ipython",
    "version": 3
   },
   "file_extension": ".py",
   "mimetype": "text/x-python",
   "name": "python",
   "nbconvert_exporter": "python",
   "pygments_lexer": "ipython3",
   "version": "3.8.5"
  },
  "toc": {
   "base_numbering": 1,
   "nav_menu": {},
   "number_sections": true,
   "sideBar": true,
   "skip_h1_title": false,
   "title_cell": "Table of Contents",
   "title_sidebar": "Contents",
   "toc_cell": false,
   "toc_position": {},
   "toc_section_display": true,
   "toc_window_display": false
  },
  "varInspector": {
   "cols": {
    "lenName": 16,
    "lenType": 16,
    "lenVar": 40
   },
   "kernels_config": {
    "python": {
     "delete_cmd_postfix": "",
     "delete_cmd_prefix": "del ",
     "library": "var_list.py",
     "varRefreshCmd": "print(var_dic_list())"
    },
    "r": {
     "delete_cmd_postfix": ") ",
     "delete_cmd_prefix": "rm(",
     "library": "var_list.r",
     "varRefreshCmd": "cat(var_dic_list()) "
    }
   },
   "types_to_exclude": [
    "module",
    "function",
    "builtin_function_or_method",
    "instance",
    "_Feature"
   ],
   "window_display": false
  }
 },
 "nbformat": 4,
 "nbformat_minor": 4
}
