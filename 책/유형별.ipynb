{
 "cells": [
  {
   "cell_type": "markdown",
   "metadata": {},
   "source": [
    "# n개의 숫자가 주어지고, m개를 더해서 최대값을 찾는 문제\n",
    "- 단 같은 위치에 있는 숫자는 한 번에 k개만 쓸 수 있음 "
   ]
  },
  {
   "cell_type": "code",
   "execution_count": 92,
   "metadata": {
    "ExecuteTime": {
     "end_time": "2022-05-03T03:34:07.357006Z",
     "start_time": "2022-05-03T03:33:51.211504Z"
    }
   },
   "outputs": [
    {
     "name": "stdout",
     "output_type": "stream",
     "text": [
      "8 5 3\n",
      "4 5 6 4 5\n",
      "29\n"
     ]
    }
   ],
   "source": [
    "n, m, k = list(map(int, input().split(' ')))\n",
    "lst = list(map(int, input().split()))\n",
    "a = sorted(lst, reverse = True)\n",
    "first = a[0]\n",
    "second = a[1]\n",
    "\n",
    "chuck = (first*k)+second\n",
    "\n",
    "q, r = divmod(m, k+1)\n",
    "\n",
    "answer = chuck*q + first*r\n",
    "\n",
    "\n",
    "print(answer)\n",
    "    "
   ]
  },
  {
   "cell_type": "markdown",
   "metadata": {
    "ExecuteTime": {
     "end_time": "2022-05-02T08:18:43.957532Z",
     "start_time": "2022-05-02T08:18:43.943430Z"
    }
   },
   "source": [
    "# 2. nxn행렬의 (1,1)에서 주어진 명령어를 통해 이동했을 때 도착지점 "
   ]
  },
  {
   "cell_type": "code",
   "execution_count": 27,
   "metadata": {
    "ExecuteTime": {
     "end_time": "2022-05-02T09:49:21.009084Z",
     "start_time": "2022-05-02T09:49:16.818890Z"
    }
   },
   "outputs": [
    {
     "name": "stdout",
     "output_type": "stream",
     "text": [
      "5\n",
      "R R R U D D\n",
      "3 4\n"
     ]
    }
   ],
   "source": [
    "n = int(input())\n",
    "move = list(input().split(' '))\n",
    "\n",
    "dx, dy = 1, 1\n",
    "for m in move : \n",
    "    if m == 'R' : \n",
    "        if dx < n : \n",
    "            dx += 1 \n",
    "    elif m == 'L' : \n",
    "        if dx > 1 : \n",
    "            dx -= 1 \n",
    "    elif m == 'U' :\n",
    "        if dy > 1 : \n",
    "            dy -= 1 \n",
    "    else : \n",
    "        if dy < n : \n",
    "            dy += 1\n",
    "            \n",
    "print(dy, dx)\n",
    "            \n",
    "            "
   ]
  },
  {
   "cell_type": "markdown",
   "metadata": {},
   "source": [
    "# 3. 정수 N이 주어질 때 00시 00분 00초부터 N시 59분 59초까지 3이 하나라도 포함된 모든 경우 계산 "
   ]
  },
  {
   "cell_type": "code",
   "execution_count": 50,
   "metadata": {
    "ExecuteTime": {
     "end_time": "2022-05-03T02:08:24.324853Z",
     "start_time": "2022-05-03T02:08:23.282870Z"
    }
   },
   "outputs": [
    {
     "name": "stdout",
     "output_type": "stream",
     "text": [
      "5\n",
      "11475\n"
     ]
    }
   ],
   "source": [
    "n = int(input())\n",
    "\n",
    "cnt = 0\n",
    "for i in range(n+1) : \n",
    "    for j in range(60) : \n",
    "        for k in range(60) : \n",
    "            if '3' in str(i)+str(j)+str(k) :\n",
    "                cnt += 1 \n",
    "                \n",
    "print(cnt)"
   ]
  },
  {
   "cell_type": "code",
   "execution_count": 59,
   "metadata": {
    "ExecuteTime": {
     "end_time": "2022-05-03T02:11:18.099107Z",
     "start_time": "2022-05-03T02:11:17.474329Z"
    }
   },
   "outputs": [
    {
     "name": "stdout",
     "output_type": "stream",
     "text": [
      "d6\n",
      "pos :  [6, 4]\n",
      "[8, 3]\n",
      "[8, 5]\n",
      "[4, 3]\n",
      "[4, 5]\n",
      "[7, 2]\n",
      "[7, 6]\n",
      "[5, 2]\n",
      "[5, 5]\n",
      "8\n"
     ]
    }
   ],
   "source": [
    "string = input()\n",
    "c = string[0]\n",
    "row = int(string[1])\n",
    "if c == 'a' : \n",
    "    col = 1 \n",
    "elif c == 'b' : \n",
    "    col = 2 \n",
    "elif c == 'c' : \n",
    "    col = 3 \n",
    "elif c == 'd' : \n",
    "    col = 4\n",
    "elif c == 'e'  :\n",
    "    col = 5\n",
    "elif c == 'f' : \n",
    "    col = 6\n",
    "elif c == 'g' :\n",
    "    col = 7\n",
    "else : \n",
    "    col = 8\n",
    "    \n",
    "print('pos : ', [row, col])\n",
    "\n",
    "dcol = [2, 2, -2, -2, 1, 1, -1, -1]\n",
    "drow = [-1, 1, -1, 1, -2, 2, -2, 1]\n",
    "cnt = 0\n",
    "for i in range(8) : \n",
    "    pos = [row, col]\n",
    "    pos[0] += dcol[i]\n",
    "    pos[1] += drow[i]\n",
    "    print(pos)\n",
    "    if pos[0]>= 1 and pos[0] <= 8 and pos[1] >= 1 and pos[0] <= 8 : \n",
    "        cnt += 1 \n",
    "        \n",
    "print(cnt)\n",
    "    \n"
   ]
  },
  {
   "cell_type": "markdown",
   "metadata": {},
   "source": [
    "# 재귀 함수"
   ]
  },
  {
   "cell_type": "markdown",
   "metadata": {},
   "source": [
    "## 팩토리얼"
   ]
  },
  {
   "cell_type": "code",
   "execution_count": 84,
   "metadata": {
    "ExecuteTime": {
     "end_time": "2022-05-03T03:04:40.226016Z",
     "start_time": "2022-05-03T03:04:40.220912Z"
    }
   },
   "outputs": [],
   "source": [
    "def factorial_recursive(n) :\n",
    "    if n <= 1 : \n",
    "        return 1 \n",
    "    return n * factorial_recursive(n-1)"
   ]
  },
  {
   "cell_type": "code",
   "execution_count": 85,
   "metadata": {
    "ExecuteTime": {
     "end_time": "2022-05-03T03:04:42.128017Z",
     "start_time": "2022-05-03T03:04:42.120059Z"
    }
   },
   "outputs": [
    {
     "data": {
      "text/plain": [
       "120"
      ]
     },
     "execution_count": 85,
     "metadata": {},
     "output_type": "execute_result"
    }
   ],
   "source": [
    "factorial_recursive(5)"
   ]
  },
  {
   "cell_type": "markdown",
   "metadata": {},
   "source": [
    "## 최대공약수"
   ]
  },
  {
   "cell_type": "markdown",
   "metadata": {},
   "source": [
    "A, B에 대해서 A(>B)를 B로 나눈 나머지를 R이라고 함 \n",
    "- A와 B의최대공약수는 B와 R의 최대공약수와 같음\n"
   ]
  },
  {
   "cell_type": "markdown",
   "metadata": {},
   "source": [
    "ex. GCD(192, 162)\\\n",
    "192 162\\\n",
    "162 30\\\n",
    "30 12\\\n",
    "12 6\\\n",
    "6 0 break -> 6"
   ]
  },
  {
   "cell_type": "code",
   "execution_count": 105,
   "metadata": {
    "ExecuteTime": {
     "end_time": "2022-05-03T03:53:15.698948Z",
     "start_time": "2022-05-03T03:53:15.686418Z"
    }
   },
   "outputs": [],
   "source": [
    "def gcd(a, b) :\n",
    "    if a % b == 0 : \n",
    "        return b \n",
    "    else : \n",
    "        return gcd(b,  a%b)\n"
   ]
  },
  {
   "cell_type": "code",
   "execution_count": 115,
   "metadata": {
    "ExecuteTime": {
     "end_time": "2022-05-03T03:57:02.971705Z",
     "start_time": "2022-05-03T03:57:02.963727Z"
    }
   },
   "outputs": [],
   "source": [
    "def convert(num, base) : \n",
    "    q, r = divmod(num, base)\n",
    "    print('q :', q)\n",
    "    if q == 0 : \n",
    "        return str(r)\n",
    "    else : \n",
    "        return convert(num//base, base) + str(r) \n",
    "    "
   ]
  },
  {
   "cell_type": "code",
   "execution_count": 106,
   "metadata": {
    "ExecuteTime": {
     "end_time": "2022-05-03T03:53:15.820430Z",
     "start_time": "2022-05-03T03:53:15.810457Z"
    }
   },
   "outputs": [
    {
     "data": {
      "text/plain": [
       "6"
      ]
     },
     "execution_count": 106,
     "metadata": {},
     "output_type": "execute_result"
    }
   ],
   "source": [
    "gcd(192, 162)"
   ]
  },
  {
   "cell_type": "code",
   "execution_count": 116,
   "metadata": {
    "ExecuteTime": {
     "end_time": "2022-05-03T03:57:05.293333Z",
     "start_time": "2022-05-03T03:57:05.274380Z"
    }
   },
   "outputs": [
    {
     "name": "stdout",
     "output_type": "stream",
     "text": [
      "q : 5\n",
      "q : 2\n",
      "q : 1\n",
      "q : 0\n"
     ]
    },
    {
     "data": {
      "text/plain": [
       "'1010'"
      ]
     },
     "execution_count": 116,
     "metadata": {},
     "output_type": "execute_result"
    }
   ],
   "source": [
    "convert(10 ,2)"
   ]
  },
  {
   "cell_type": "markdown",
   "metadata": {},
   "source": [
    "# DFS"
   ]
  },
  {
   "cell_type": "code",
   "execution_count": 86,
   "metadata": {
    "ExecuteTime": {
     "end_time": "2022-05-03T03:11:23.729617Z",
     "start_time": "2022-05-03T03:11:23.718909Z"
    }
   },
   "outputs": [],
   "source": [
    "def dfs(graph, v, visited) : \n",
    "    visited[v] = True # 현재 노드 방문처리\n",
    "    print(v, end = ' ')\n",
    "    \n",
    "    # 현재 노드와 연결된 노드 재귀적으로 방문\n",
    "    for i in graph[v] :\n",
    "        if not visited[i] :\n",
    "            dfs(graph, i, visited)\n",
    "    "
   ]
  },
  {
   "cell_type": "code",
   "execution_count": 87,
   "metadata": {
    "ExecuteTime": {
     "end_time": "2022-05-03T03:12:14.567156Z",
     "start_time": "2022-05-03T03:12:14.554105Z"
    }
   },
   "outputs": [
    {
     "name": "stdout",
     "output_type": "stream",
     "text": [
      "1 2 7 6 8 3 4 5 "
     ]
    }
   ],
   "source": [
    "graph = [\n",
    "    [],\n",
    "    [2, 3, 8],\n",
    "    [1, 7],\n",
    "    [1, 4, 5],\n",
    "    [3, 5],\n",
    "    [3, 4],\n",
    "    [7],\n",
    "    [2, 6, 8],\n",
    "    [1, 7]\n",
    "]\n",
    "\n",
    "visited = [False for i in range(9)]\n",
    "\n",
    "dfs(graph, 1, visited)"
   ]
  },
  {
   "cell_type": "markdown",
   "metadata": {},
   "source": [
    "# BFS"
   ]
  },
  {
   "cell_type": "code",
   "execution_count": 88,
   "metadata": {
    "ExecuteTime": {
     "end_time": "2022-05-03T03:25:31.628409Z",
     "start_time": "2022-05-03T03:25:31.606543Z"
    }
   },
   "outputs": [
    {
     "name": "stdout",
     "output_type": "stream",
     "text": [
      "1 2 3 8 7 4 5 6 "
     ]
    }
   ],
   "source": [
    "from collections import deque\n",
    "def bfs(graph, start, visited) :\n",
    "    queue = deque([start])\n",
    "    # 현재 노드 방문처리\n",
    "    visited[start] = True \n",
    "    # 큐가 빌 때까지 \n",
    "    while queue : \n",
    "        # 큐에서 하나를 뽑아서 출력 \n",
    "        v = queue.popleft()\n",
    "        print(v, end = ' ')\n",
    "        for i in graph[v] : \n",
    "            if not visited[i] : \n",
    "                queue.append(i)\n",
    "                visited[i] = True\n",
    "graph = [\n",
    "    [],\n",
    "    [2, 3, 8],\n",
    "    [1, 7],\n",
    "    [1, 4, 5],\n",
    "    [3, 5],\n",
    "    [3, 4],\n",
    "    [7],\n",
    "    [2, 6, 8],\n",
    "    [1, 7]\n",
    "]\n",
    "\n",
    "visited = [False for i in range(9)]\n",
    "\n",
    "bfs(graph, 1, visited)"
   ]
  },
  {
   "cell_type": "markdown",
   "metadata": {},
   "source": [
    "# 음료수 얼려먹기\n",
    "- NxM 크기의 얼음 틀이 있다\n",
    "- 구멍이 뚫린 부분은 0, 칸막이가 존재하는 부분은 1\n",
    "- 상하좌우로 붙어있는 경우 서로 연결되어있는 것으로 간주\n",
    "- 총 아이스크림의 개수 구하기"
   ]
  },
  {
   "cell_type": "markdown",
   "metadata": {},
   "source": [
    "## 전략 \n",
    "- DFS로 해결 가능 \n",
    "    - 특정한 지점의 주변 상하좌우를 살피면서 0이 있으면서 아직 방문하지 않은 곳이 있으면 방문\n",
    "    - 방문 지점에서 다시 상하좌우 살피면서 이전 단계 반복\n",
    " "
   ]
  },
  {
   "cell_type": "code",
   "execution_count": 119,
   "metadata": {
    "ExecuteTime": {
     "end_time": "2022-05-03T05:39:38.229567Z",
     "start_time": "2022-05-03T05:39:24.230906Z"
    }
   },
   "outputs": [
    {
     "name": "stdout",
     "output_type": "stream",
     "text": [
      "4 5\n",
      "10101\n",
      "00111\n",
      "11110\n",
      "00110\n",
      "0 1\n",
      "0 3\n",
      "2 4\n",
      "3 0\n",
      "4\n"
     ]
    }
   ],
   "source": [
    "n, m = map(int, input().split(' '))\n",
    "\n",
    "graph = [] \n",
    "for i in range(n) : \n",
    "    graph.append(list(map(int,input())))\n",
    "\n",
    "def dfs(x, y) : \n",
    "    if x < 0 or x >= n or y < 0 or y >= m :\n",
    "        return False\n",
    "    \n",
    "    if graph[x][y] == 0 : \n",
    "        graph[x][y] = 1 \n",
    "        dfs(x-1, y)\n",
    "        dfs(x+1, y)\n",
    "        dfs(x, y-1)\n",
    "        dfs(x, y+1)\n",
    "        return True\n",
    "    return False\n",
    "\n",
    "cnt = 0\n",
    "for i in range(n) : \n",
    "    for j in range(m) : \n",
    "        if dfs(i, j) : \n",
    "            cnt += 1 \n",
    "            \n",
    "\n",
    "print(cnt)\n",
    "    "
   ]
  },
  {
   "cell_type": "markdown",
   "metadata": {},
   "source": [
    "# 미로 탈출 \n",
    "- NxM 크기의 정사각형 미로\n",
    "- 위치는 (1,1)이며 출구는 (N,M)이고 한 번에 한 칸씩만 이동할 수 있음\n",
    "- 괴물이 있으면 0, 없으면 1 \n",
    "- 탈출하기 위해서 움직여야하는 최소 칸의 개수 (첫 칸과 마지막 칸 모두 포함)"
   ]
  },
  {
   "cell_type": "markdown",
   "metadata": {},
   "source": [
    "## 전략\n",
    "- BFS 이용하면 효율적"
   ]
  },
  {
   "cell_type": "code",
   "execution_count": 136,
   "metadata": {
    "ExecuteTime": {
     "end_time": "2022-05-03T06:06:23.213409Z",
     "start_time": "2022-05-03T06:06:13.090808Z"
    }
   },
   "outputs": [
    {
     "name": "stdout",
     "output_type": "stream",
     "text": [
      "5 6\n",
      "101010\n",
      "111111\n",
      "000001\n",
      "111111\n",
      "111111\n",
      "10\n"
     ]
    }
   ],
   "source": [
    "def bfs(x, y) :\n",
    "    queue = deque()\n",
    "    queue.append((x, y))\n",
    "    \n",
    "    while queue : \n",
    "        x, y = queue.popleft()\n",
    "        \n",
    "        for i in range(4) : \n",
    "            nx = x + dx[i]\n",
    "            ny = y + dy[i]\n",
    "\n",
    "            if nx < 0 or nx >= n or ny < 0 or ny >= m : \n",
    "                continue \n",
    "            \n",
    "            if graph[nx][ny] == 0 : \n",
    "                continue \n",
    "                \n",
    "            if graph[nx][ny] == 1 : \n",
    "                graph[nx][ny] = graph[x][y] + 1 \n",
    "                queue.append((nx, ny))\n",
    "    return graph[n-1][m-1]\n",
    "\n",
    "from collections import deque \n",
    "\n",
    "n, m = map(int, input().split())\n",
    "graph = [] \n",
    "for i in range(n) : \n",
    "    graph.append(list(map(int, input())))\n",
    "\n",
    "dx = [-1, 1, 0, 0]\n",
    "dy = [0, 0, -1, 1]\n",
    "\n",
    "\n",
    "                \n",
    "\n",
    "\n",
    "\n",
    "print(bfs(0, 0))"
   ]
  },
  {
   "cell_type": "markdown",
   "metadata": {},
   "source": [
    "# 정렬"
   ]
  },
  {
   "cell_type": "markdown",
   "metadata": {},
   "source": [
    "## 선택 정렬"
   ]
  },
  {
   "cell_type": "code",
   "execution_count": 162,
   "metadata": {
    "ExecuteTime": {
     "end_time": "2022-05-03T06:52:02.197225Z",
     "start_time": "2022-05-03T06:52:02.189869Z"
    }
   },
   "outputs": [],
   "source": [
    "array = [7, 5, 9, 0, 10, 16, 15, 11, 13, 12, 3, 1, 6, 2, 4, 8, 14]\n",
    "\n",
    "for i in range(len(array)) :\n",
    "    min_index = i\n",
    "    for j in range(i+1, len(array)) : \n",
    "        if array[min_index] > array[j] : \n",
    "            min_index = j \n",
    "    array[i], array[min_index] = array[min_index], array[i]\n"
   ]
  },
  {
   "cell_type": "code",
   "execution_count": 158,
   "metadata": {
    "ExecuteTime": {
     "end_time": "2022-05-03T06:51:11.336690Z",
     "start_time": "2022-05-03T06:51:11.329719Z"
    }
   },
   "outputs": [
    {
     "name": "stdout",
     "output_type": "stream",
     "text": [
      "[0, 1, 2, 3, 4, 5, 6, 7, 8, 9, 10, 11, 12, 13, 14, 15, 16]\n"
     ]
    }
   ],
   "source": [
    "print(array)"
   ]
  },
  {
   "cell_type": "markdown",
   "metadata": {},
   "source": [
    "## 삽입 정렬"
   ]
  },
  {
   "cell_type": "code",
   "execution_count": 159,
   "metadata": {
    "ExecuteTime": {
     "end_time": "2022-05-03T06:51:12.384353Z",
     "start_time": "2022-05-03T06:51:12.363486Z"
    }
   },
   "outputs": [
    {
     "name": "stdout",
     "output_type": "stream",
     "text": [
      "1 is started\n",
      "[5, 7, 9, 0, 10, 16, 15, 11, 13, 12, 3, 1, 6, 2, 4, 8, 14]\n",
      "1 is over\n",
      "2 is started\n",
      "2 is over\n",
      "3 is started\n",
      "[5, 7, 0, 9, 10, 16, 15, 11, 13, 12, 3, 1, 6, 2, 4, 8, 14]\n",
      "[5, 0, 7, 9, 10, 16, 15, 11, 13, 12, 3, 1, 6, 2, 4, 8, 14]\n",
      "[0, 5, 7, 9, 10, 16, 15, 11, 13, 12, 3, 1, 6, 2, 4, 8, 14]\n",
      "3 is over\n",
      "4 is started\n",
      "4 is over\n",
      "5 is started\n",
      "5 is over\n",
      "6 is started\n",
      "[0, 5, 7, 9, 10, 15, 16, 11, 13, 12, 3, 1, 6, 2, 4, 8, 14]\n",
      "6 is over\n",
      "7 is started\n",
      "[0, 5, 7, 9, 10, 15, 11, 16, 13, 12, 3, 1, 6, 2, 4, 8, 14]\n",
      "[0, 5, 7, 9, 10, 11, 15, 16, 13, 12, 3, 1, 6, 2, 4, 8, 14]\n",
      "7 is over\n",
      "8 is started\n",
      "[0, 5, 7, 9, 10, 11, 15, 13, 16, 12, 3, 1, 6, 2, 4, 8, 14]\n",
      "[0, 5, 7, 9, 10, 11, 13, 15, 16, 12, 3, 1, 6, 2, 4, 8, 14]\n",
      "8 is over\n",
      "9 is started\n",
      "[0, 5, 7, 9, 10, 11, 13, 15, 12, 16, 3, 1, 6, 2, 4, 8, 14]\n",
      "[0, 5, 7, 9, 10, 11, 13, 12, 15, 16, 3, 1, 6, 2, 4, 8, 14]\n",
      "[0, 5, 7, 9, 10, 11, 12, 13, 15, 16, 3, 1, 6, 2, 4, 8, 14]\n",
      "9 is over\n",
      "10 is started\n",
      "[0, 5, 7, 9, 10, 11, 12, 13, 15, 3, 16, 1, 6, 2, 4, 8, 14]\n",
      "[0, 5, 7, 9, 10, 11, 12, 13, 3, 15, 16, 1, 6, 2, 4, 8, 14]\n",
      "[0, 5, 7, 9, 10, 11, 12, 3, 13, 15, 16, 1, 6, 2, 4, 8, 14]\n",
      "[0, 5, 7, 9, 10, 11, 3, 12, 13, 15, 16, 1, 6, 2, 4, 8, 14]\n",
      "[0, 5, 7, 9, 10, 3, 11, 12, 13, 15, 16, 1, 6, 2, 4, 8, 14]\n",
      "[0, 5, 7, 9, 3, 10, 11, 12, 13, 15, 16, 1, 6, 2, 4, 8, 14]\n",
      "[0, 5, 7, 3, 9, 10, 11, 12, 13, 15, 16, 1, 6, 2, 4, 8, 14]\n",
      "[0, 5, 3, 7, 9, 10, 11, 12, 13, 15, 16, 1, 6, 2, 4, 8, 14]\n",
      "[0, 3, 5, 7, 9, 10, 11, 12, 13, 15, 16, 1, 6, 2, 4, 8, 14]\n",
      "10 is over\n",
      "11 is started\n",
      "[0, 3, 5, 7, 9, 10, 11, 12, 13, 15, 1, 16, 6, 2, 4, 8, 14]\n",
      "[0, 3, 5, 7, 9, 10, 11, 12, 13, 1, 15, 16, 6, 2, 4, 8, 14]\n",
      "[0, 3, 5, 7, 9, 10, 11, 12, 1, 13, 15, 16, 6, 2, 4, 8, 14]\n",
      "[0, 3, 5, 7, 9, 10, 11, 1, 12, 13, 15, 16, 6, 2, 4, 8, 14]\n",
      "[0, 3, 5, 7, 9, 10, 1, 11, 12, 13, 15, 16, 6, 2, 4, 8, 14]\n",
      "[0, 3, 5, 7, 9, 1, 10, 11, 12, 13, 15, 16, 6, 2, 4, 8, 14]\n",
      "[0, 3, 5, 7, 1, 9, 10, 11, 12, 13, 15, 16, 6, 2, 4, 8, 14]\n",
      "[0, 3, 5, 1, 7, 9, 10, 11, 12, 13, 15, 16, 6, 2, 4, 8, 14]\n",
      "[0, 3, 1, 5, 7, 9, 10, 11, 12, 13, 15, 16, 6, 2, 4, 8, 14]\n",
      "[0, 1, 3, 5, 7, 9, 10, 11, 12, 13, 15, 16, 6, 2, 4, 8, 14]\n",
      "11 is over\n",
      "12 is started\n",
      "[0, 1, 3, 5, 7, 9, 10, 11, 12, 13, 15, 6, 16, 2, 4, 8, 14]\n",
      "[0, 1, 3, 5, 7, 9, 10, 11, 12, 13, 6, 15, 16, 2, 4, 8, 14]\n",
      "[0, 1, 3, 5, 7, 9, 10, 11, 12, 6, 13, 15, 16, 2, 4, 8, 14]\n",
      "[0, 1, 3, 5, 7, 9, 10, 11, 6, 12, 13, 15, 16, 2, 4, 8, 14]\n",
      "[0, 1, 3, 5, 7, 9, 10, 6, 11, 12, 13, 15, 16, 2, 4, 8, 14]\n",
      "[0, 1, 3, 5, 7, 9, 6, 10, 11, 12, 13, 15, 16, 2, 4, 8, 14]\n",
      "[0, 1, 3, 5, 7, 6, 9, 10, 11, 12, 13, 15, 16, 2, 4, 8, 14]\n",
      "[0, 1, 3, 5, 6, 7, 9, 10, 11, 12, 13, 15, 16, 2, 4, 8, 14]\n",
      "12 is over\n",
      "13 is started\n",
      "[0, 1, 3, 5, 6, 7, 9, 10, 11, 12, 13, 15, 2, 16, 4, 8, 14]\n",
      "[0, 1, 3, 5, 6, 7, 9, 10, 11, 12, 13, 2, 15, 16, 4, 8, 14]\n",
      "[0, 1, 3, 5, 6, 7, 9, 10, 11, 12, 2, 13, 15, 16, 4, 8, 14]\n",
      "[0, 1, 3, 5, 6, 7, 9, 10, 11, 2, 12, 13, 15, 16, 4, 8, 14]\n",
      "[0, 1, 3, 5, 6, 7, 9, 10, 2, 11, 12, 13, 15, 16, 4, 8, 14]\n",
      "[0, 1, 3, 5, 6, 7, 9, 2, 10, 11, 12, 13, 15, 16, 4, 8, 14]\n",
      "[0, 1, 3, 5, 6, 7, 2, 9, 10, 11, 12, 13, 15, 16, 4, 8, 14]\n",
      "[0, 1, 3, 5, 6, 2, 7, 9, 10, 11, 12, 13, 15, 16, 4, 8, 14]\n",
      "[0, 1, 3, 5, 2, 6, 7, 9, 10, 11, 12, 13, 15, 16, 4, 8, 14]\n",
      "[0, 1, 3, 2, 5, 6, 7, 9, 10, 11, 12, 13, 15, 16, 4, 8, 14]\n",
      "[0, 1, 2, 3, 5, 6, 7, 9, 10, 11, 12, 13, 15, 16, 4, 8, 14]\n",
      "13 is over\n",
      "14 is started\n",
      "[0, 1, 2, 3, 5, 6, 7, 9, 10, 11, 12, 13, 15, 4, 16, 8, 14]\n",
      "[0, 1, 2, 3, 5, 6, 7, 9, 10, 11, 12, 13, 4, 15, 16, 8, 14]\n",
      "[0, 1, 2, 3, 5, 6, 7, 9, 10, 11, 12, 4, 13, 15, 16, 8, 14]\n",
      "[0, 1, 2, 3, 5, 6, 7, 9, 10, 11, 4, 12, 13, 15, 16, 8, 14]\n",
      "[0, 1, 2, 3, 5, 6, 7, 9, 10, 4, 11, 12, 13, 15, 16, 8, 14]\n",
      "[0, 1, 2, 3, 5, 6, 7, 9, 4, 10, 11, 12, 13, 15, 16, 8, 14]\n",
      "[0, 1, 2, 3, 5, 6, 7, 4, 9, 10, 11, 12, 13, 15, 16, 8, 14]\n",
      "[0, 1, 2, 3, 5, 6, 4, 7, 9, 10, 11, 12, 13, 15, 16, 8, 14]\n",
      "[0, 1, 2, 3, 5, 4, 6, 7, 9, 10, 11, 12, 13, 15, 16, 8, 14]\n",
      "[0, 1, 2, 3, 4, 5, 6, 7, 9, 10, 11, 12, 13, 15, 16, 8, 14]\n",
      "14 is over\n",
      "15 is started\n",
      "[0, 1, 2, 3, 4, 5, 6, 7, 9, 10, 11, 12, 13, 15, 8, 16, 14]\n",
      "[0, 1, 2, 3, 4, 5, 6, 7, 9, 10, 11, 12, 13, 8, 15, 16, 14]\n",
      "[0, 1, 2, 3, 4, 5, 6, 7, 9, 10, 11, 12, 8, 13, 15, 16, 14]\n",
      "[0, 1, 2, 3, 4, 5, 6, 7, 9, 10, 11, 8, 12, 13, 15, 16, 14]\n",
      "[0, 1, 2, 3, 4, 5, 6, 7, 9, 10, 8, 11, 12, 13, 15, 16, 14]\n",
      "[0, 1, 2, 3, 4, 5, 6, 7, 9, 8, 10, 11, 12, 13, 15, 16, 14]\n",
      "[0, 1, 2, 3, 4, 5, 6, 7, 8, 9, 10, 11, 12, 13, 15, 16, 14]\n",
      "15 is over\n",
      "16 is started\n",
      "[0, 1, 2, 3, 4, 5, 6, 7, 8, 9, 10, 11, 12, 13, 15, 14, 16]\n",
      "[0, 1, 2, 3, 4, 5, 6, 7, 8, 9, 10, 11, 12, 13, 14, 15, 16]\n",
      "16 is over\n"
     ]
    }
   ],
   "source": [
    "array = [7, 5, 9, 0, 10, 16, 15, 11, 13, 12, 3, 1, 6, 2, 4, 8, 14]\n",
    "for i in range(1, len(array)) : \n",
    "    print(i, 'is started')\n",
    "    for j in range(i, 0, -1) : \n",
    "        if array[j] < array[j-1] : \n",
    "            array[j], array[j-1] = array[j-1], array[j]\n",
    "            print(array)\n",
    "    \n",
    "        else : \n",
    "            break\n",
    "    print(i, 'is over')"
   ]
  },
  {
   "cell_type": "markdown",
   "metadata": {},
   "source": [
    "# 이진 탐색"
   ]
  },
  {
   "cell_type": "markdown",
   "metadata": {
    "ExecuteTime": {
     "end_time": "2022-05-03T06:58:24.172271Z",
     "start_time": "2022-05-03T06:58:20.016503Z"
    }
   },
   "source": [
    "## 이진 탐색 라이브러리 \n",
    "- bisect_left(a, x) : 정렬된 순서를 유지하면서 배열 a에 x를 삽입할 가장 왼쪽 인덱스\n",
    "- bisect_right(a, x) : 정렬된 순서를 유지하면서 배열 a에 x를 삽입할 가장 오른쪽 인덱스"
   ]
  },
  {
   "cell_type": "code",
   "execution_count": 166,
   "metadata": {
    "ExecuteTime": {
     "end_time": "2022-05-03T07:06:05.732558Z",
     "start_time": "2022-05-03T07:06:05.722581Z"
    }
   },
   "outputs": [
    {
     "name": "stdout",
     "output_type": "stream",
     "text": [
      "3\n",
      "5\n"
     ]
    }
   ],
   "source": [
    "from bisect import bisect_left, bisect_right \n",
    "a = [1,2,2,4,4,9,10]\n",
    "print(bisect_left(a, 4))\n",
    "print(bisect_right(a, 4))"
   ]
  },
  {
   "cell_type": "markdown",
   "metadata": {},
   "source": [
    "## 떡볶이 떡 만들기\n",
    "- 떡볶이 떡의 길이가 일정하지 않지만 봉지 안에 들어가는 떡의 총 길이는 맞춰준다\n",
    "- 절단기에 높이 H를 지정하면 줄지어진 떡을 한 번에 절단.\n",
    "    - 길면 H만큼 남고, 짧으면 잘리지 않음 \n",
    "    \n",
    "- ex. 19, 14, 10, 17인 경우 H=15라고 하면 15, 14, 10, 15가 남고, 잘린 떡의 길이는 4, 0, 0, 2 \n",
    "    - 따라서 손님은 6을 가져감 \n",
    "   \n",
    "- 손님이 요청한 총 길이가 M일 때 적어도 M만큼의 떡을 얻기 위해 절단기에 설정할 수 있는 높이의 최댓값"
   ]
  },
  {
   "cell_type": "markdown",
   "metadata": {},
   "source": [
    "- 1. 떡의 개수 N, 요청한 떡의 길이 M 주어진다. \n",
    "- 2. 떡의 개별 높이가 주어진다."
   ]
  },
  {
   "cell_type": "markdown",
   "metadata": {},
   "source": [
    "### 입력 예시 \n",
    "- 4 6\n",
    "- 19 15 10 17"
   ]
  },
  {
   "cell_type": "code",
   "execution_count": 183,
   "metadata": {
    "ExecuteTime": {
     "end_time": "2022-05-03T07:41:39.989946Z",
     "start_time": "2022-05-03T07:39:16.926194Z"
    }
   },
   "outputs": [
    {
     "name": "stdout",
     "output_type": "stream",
     "text": [
      "4 6\n",
      "19 14 10 17\n",
      "15\n"
     ]
    }
   ],
   "source": [
    "n, m = map(int,input().split(' '))\n",
    "lst = list(map(int, input().split(' ')))\n",
    "\n",
    "low = 0\n",
    "up = max(lst)\n",
    "\n",
    "while low <= up :\n",
    "    mid = (low + up) // 2\n",
    "    length = 0\n",
    "    for i in range(n) : \n",
    "        length += max(0, lst[i] - mid)\n",
    "    if length > m : \n",
    "        low = mid + 1 \n",
    "        \n",
    "    if length <= m : \n",
    "        up = mid -1 \n",
    "print(mid)\n",
    "        "
   ]
  },
  {
   "cell_type": "markdown",
   "metadata": {
    "ExecuteTime": {
     "end_time": "2022-05-03T07:25:26.865901Z",
     "start_time": "2022-05-03T07:25:26.849333Z"
    }
   },
   "source": [
    "# 정렬된 배열에서 특정 수의 개수 구하기"
   ]
  },
  {
   "cell_type": "markdown",
   "metadata": {},
   "source": [
    "- n, x가 주어짐\n",
    "    - n : 배열의 길이, x : 개수를 구할 수\n",
    "- 배열 주어짐"
   ]
  },
  {
   "cell_type": "code",
   "execution_count": null,
   "metadata": {},
   "outputs": [],
   "source": [
    "import bisect import bisect_left, bisect_right\n",
    "n, x = map(int, input().split(' '))\n",
    "lst = list(map(int, input().split(' ')))\n",
    "\n",
    "left, right = 0, max(lst)\n"
   ]
  },
  {
   "cell_type": "code",
   "execution_count": 208,
   "metadata": {
    "ExecuteTime": {
     "end_time": "2022-05-03T08:22:16.652927Z",
     "start_time": "2022-05-03T08:22:16.648072Z"
    }
   },
   "outputs": [],
   "source": [
    "import time"
   ]
  },
  {
   "cell_type": "code",
   "execution_count": 243,
   "metadata": {
    "ExecuteTime": {
     "end_time": "2022-05-03T08:29:06.224732Z",
     "start_time": "2022-05-03T08:29:06.212593Z"
    }
   },
   "outputs": [],
   "source": [
    "def fibo(n) : \n",
    "    if n == 1 or n == 2  :\n",
    "        return 1\n",
    "    else : \n",
    "        return fibo(n-1) + fibo(n-2)"
   ]
  },
  {
   "cell_type": "code",
   "execution_count": 244,
   "metadata": {
    "ExecuteTime": {
     "end_time": "2022-05-03T08:29:41.527917Z",
     "start_time": "2022-05-03T08:29:08.071147Z"
    }
   },
   "outputs": [
    {
     "name": "stdout",
     "output_type": "stream",
     "text": [
      "102334155\n"
     ]
    },
    {
     "data": {
      "text/plain": [
       "33.43782162666321"
      ]
     },
     "execution_count": 244,
     "metadata": {},
     "output_type": "execute_result"
    }
   ],
   "source": [
    "start = time.time()\n",
    "print(fibo(40))\n",
    "time.time() -start"
   ]
  },
  {
   "cell_type": "code",
   "execution_count": 247,
   "metadata": {
    "ExecuteTime": {
     "end_time": "2022-05-03T08:34:48.715163Z",
     "start_time": "2022-05-03T08:34:48.706596Z"
    }
   },
   "outputs": [],
   "source": [
    "d = [0 for _ in range(100)]\n",
    "def fibo_d(n) : \n",
    "    if n == 1 or n == 2  :\n",
    "        return 1\n",
    "    if d[n] != 0 : \n",
    "        return d[n]\n",
    "    d[n] = fibo_d(n-1) + fibo_d(n-2)\n",
    "    return d[n]"
   ]
  },
  {
   "cell_type": "code",
   "execution_count": 248,
   "metadata": {
    "ExecuteTime": {
     "end_time": "2022-05-03T08:34:49.531653Z",
     "start_time": "2022-05-03T08:34:49.516595Z"
    }
   },
   "outputs": [
    {
     "name": "stdout",
     "output_type": "stream",
     "text": [
      "102334155\n"
     ]
    },
    {
     "data": {
      "text/plain": [
       "0.0008635520935058594"
      ]
     },
     "execution_count": 248,
     "metadata": {},
     "output_type": "execute_result"
    }
   ],
   "source": [
    "start = time.time()\n",
    "print(fibo_d(40))\n",
    "time.time() -start"
   ]
  },
  {
   "cell_type": "code",
   "execution_count": 241,
   "metadata": {
    "ExecuteTime": {
     "end_time": "2022-05-03T08:28:43.754568Z",
     "start_time": "2022-05-03T08:28:43.740504Z"
    }
   },
   "outputs": [
    {
     "data": {
      "text/plain": [
       "8"
      ]
     },
     "execution_count": 241,
     "metadata": {},
     "output_type": "execute_result"
    }
   ],
   "source": [
    "fibo(5)"
   ]
  },
  {
   "cell_type": "code",
   "execution_count": 242,
   "metadata": {
    "ExecuteTime": {
     "end_time": "2022-05-03T08:28:46.299926Z",
     "start_time": "2022-05-03T08:28:46.280887Z"
    }
   },
   "outputs": [
    {
     "data": {
      "text/plain": [
       "5"
      ]
     },
     "execution_count": 242,
     "metadata": {},
     "output_type": "execute_result"
    }
   ],
   "source": [
    "fibo_d(5)"
   ]
  },
  {
   "cell_type": "markdown",
   "metadata": {},
   "source": [
    "# 1로 만들기"
   ]
  },
  {
   "cell_type": "markdown",
   "metadata": {},
   "source": [
    "1. 5로 나누어 떨어지면 5로 나누기\n",
    "2. 3으로 나누어 떨어지면 3으로 나누기 \n",
    "3. 2로 나누어 떨어지면 2로 나누기\n",
    "4. x에서 1빼기"
   ]
  },
  {
   "cell_type": "code",
   "execution_count": 273,
   "metadata": {
    "ExecuteTime": {
     "end_time": "2022-05-03T09:02:42.312865Z",
     "start_time": "2022-05-03T09:02:40.197008Z"
    }
   },
   "outputs": [
    {
     "name": "stdout",
     "output_type": "stream",
     "text": [
      "30\n",
      "[0, 0, 1, 1, 2, 1, 2, 3, 3, 2, 2, 3, 3, 4, 4, 2, 3, 4, 3, 4, 3, 4, 4, 5, 4, 2, 3, 3, 4, 5, 3]\n",
      "3\n"
     ]
    }
   ],
   "source": [
    "x = int(input())\n",
    "\n",
    "d = [0] * 30001 \n",
    "\n",
    "for i in range(2, x+1) : \n",
    "    d[i] = d[i-1] + 1\n",
    "    \n",
    "    if i % 2 == 0 : \n",
    "        d[i] = min(d[i], d[i//2] + 1)\n",
    "        \n",
    "    if i % 3 == 0 : \n",
    "        d[i] = min(d[i], d[i//3] + 1)\n",
    "\n",
    "    if i % 5 == 0 : \n",
    "        d[i] = min(d[i], d[i//5] + 1)\n",
    "print(d[:x+1])\n",
    "print(d[x])"
   ]
  },
  {
   "cell_type": "markdown",
   "metadata": {},
   "source": [
    "# 식량 창고\n",
    "- 개미 전사는 부족한 식량을 충당하고자 메뚜기 마을의 식량 창고를 공격하고자 한다. 여러 개의 창고가 일직선으로 이어져있다.\n",
    "- 각 식량 창고에는 정해진 수의 식량을 저장하고 있으며 이를 선택적으로 약탈할 예정\n",
    "    - 정찰병들은 인접한 창고가 공격받으면 바로 알아챌 수 있음\n",
    "    - 따라서 한 칸 이상 떨어진 창고 약탈해야 함 "
   ]
  },
  {
   "cell_type": "markdown",
   "metadata": {},
   "source": [
    "## 전략\n",
    "- i번째 창고까지 도달했을 때의 식량의 총합\n",
    "    - 직전의 창고를 약탈했을 경우 i번째는 약탈할 수 없음, a_i-1\n",
    "    - 직전의 창고를 약탈하지 않았을 경우 i번째는 약탈할 수 있음, a_i-2 + ki\n",
    "    "
   ]
  },
  {
   "cell_type": "code",
   "execution_count": 279,
   "metadata": {
    "ExecuteTime": {
     "end_time": "2022-05-03T09:22:14.367341Z",
     "start_time": "2022-05-03T09:22:05.610041Z"
    },
    "scrolled": true
   },
   "outputs": [
    {
     "name": "stdout",
     "output_type": "stream",
     "text": [
      "10\n",
      "7 3 1 9 4 3 2 6 8 4\n",
      "[7, 7, 8, 16, 16, 19, 19, 25, 27, 29, 0]\n",
      "29\n"
     ]
    }
   ],
   "source": [
    "n = int(input())\n",
    "array = list(map(int, input().split(' ')))\n",
    "\n",
    "d = [0] * (n+1)\n",
    "\n",
    "d[0] = array[0]\n",
    "d[1] = max(array[0], array[1])\n",
    "for i in range(2, n) :\n",
    "    d[i] = max(d[i-1], d[i-2]+array[i])\n",
    "print(d)\n",
    "print(d[n-1])"
   ]
  },
  {
   "cell_type": "markdown",
   "metadata": {},
   "source": [
    "# 효율적인 화폐 구성\n",
    "- N가지 종류의 화폐를 이용해서 최소한의 개수로 M원을 만들기\n",
    "- 각 화폐의 가치 주어짐"
   ]
  },
  {
   "cell_type": "markdown",
   "metadata": {},
   "source": [
    "## 전략\n",
    "- $a_i$ : 금액 i를 만들 수 있는 최소한의 화폐 개수 \n",
    "- k : 각 화폐의 단위\n",
    "- 점화식 : 각 화폐단위인 k를 하나씩 확인하며\n",
    "    - $a_{i-k}$를 만드는 방법이 존재하는 경우 : $a_i=\\text{min}(a_i, a_{i-k}+1)$\n",
    "    - $a_{i-k}$를 만드는 방법이 존재하지 않는 경우 : $a_i=INF$"
   ]
  },
  {
   "cell_type": "code",
   "execution_count": 303,
   "metadata": {
    "ExecuteTime": {
     "end_time": "2022-05-03T10:39:11.803637Z",
     "start_time": "2022-05-03T10:39:09.532795Z"
    }
   },
   "outputs": [
    {
     "name": "stdout",
     "output_type": "stream",
     "text": [
      "2 15\n",
      "2\n",
      "3\n",
      "5\n"
     ]
    }
   ],
   "source": [
    "n, m = map(int, input().split())\n",
    "array = [] \n",
    "for i in range(n) : \n",
    "    array.append(int(input()))\n",
    "    \n",
    "# 계산된 결과를 저장하기 위한 dp 테이블 \n",
    "d = [10001] * (m+1)\n",
    "\n",
    "d[0] = 0 \n",
    "for i in range(n) : \n",
    "    for j in range(array[i], m + 1) : \n",
    "        if d[j - array[i]] != 10001 : \n",
    "            d[j] = min(d[j], d[j-array[i]]+1)\n",
    "            \n",
    "if d[m] == 10001 : \n",
    "    print(-1)\n",
    "else : \n",
    "    print(d[m]) "
   ]
  },
  {
   "cell_type": "markdown",
   "metadata": {},
   "source": [
    "# 금광\n",
    "- NxM 크기의 금광\n",
    "- m-1번에 걸쳐서 매번 오른쪽 위, 오른쪽, 오른쪽 아래 중 하나의 위치로 이동\n",
    "- 채굴자가 얻을 수 있는 금의 최대 크기를 출력하는 프로그램 작성\n"
   ]
  },
  {
   "cell_type": "code",
   "execution_count": 305,
   "metadata": {
    "ExecuteTime": {
     "end_time": "2022-05-03T10:57:04.818179Z",
     "start_time": "2022-05-03T10:56:52.482169Z"
    }
   },
   "outputs": [
    {
     "name": "stdout",
     "output_type": "stream",
     "text": [
      "2\n",
      "3 4\n",
      "1 3 3 2 2 1 4 1 0 6 4 7\n",
      "19\n",
      "4 4\n",
      "1 3 1 5 2 2 4 1 5 0 2 3 0 6 1 2\n",
      "16\n"
     ]
    }
   ],
   "source": [
    "for tc in range(int(input())) : \n",
    "    # 금광 정보\n",
    "    n, m = map(int, input().split())\n",
    "    array = list(map(int, input().split()))\n",
    "    \n",
    "    dp = []\n",
    "    index = 0\n",
    "    for i in range(n) :\n",
    "        dp.append(array[index:index + m])\n",
    "        index += m\n",
    "    \n",
    "    # 다이나믹 프로그래밍 진행 \n",
    "    for j in range(1, m) : \n",
    "        for i in range(n) : \n",
    "            if i == 0 : \n",
    "                left_up = 0\n",
    "            else : \n",
    "                left_up = dp[i-1][j-1]\n",
    "            \n",
    "            if i == n-1 : \n",
    "                left_down = 0\n",
    "            else : \n",
    "                left_down = dp[i+1][j-1]\n",
    "                \n",
    "            left = dp[i][j-1]\n",
    "            dp[i][j] = dp[i][j] + max(left_up, left, left_down)\n",
    "    result = 0\n",
    "    \n",
    "    for i in range(n) : \n",
    "        result = max(result, dp[i][m-1])\n",
    "    print(result)"
   ]
  },
  {
   "cell_type": "code",
   "execution_count": null,
   "metadata": {},
   "outputs": [],
   "source": []
  }
 ],
 "metadata": {
  "hide_input": false,
  "kernelspec": {
   "display_name": "Python 3",
   "language": "python",
   "name": "python3"
  },
  "language_info": {
   "codemirror_mode": {
    "name": "ipython",
    "version": 3
   },
   "file_extension": ".py",
   "mimetype": "text/x-python",
   "name": "python",
   "nbconvert_exporter": "python",
   "pygments_lexer": "ipython3",
   "version": "3.8.5"
  },
  "toc": {
   "base_numbering": 1,
   "nav_menu": {},
   "number_sections": true,
   "sideBar": true,
   "skip_h1_title": false,
   "title_cell": "Table of Contents",
   "title_sidebar": "Contents",
   "toc_cell": false,
   "toc_position": {},
   "toc_section_display": true,
   "toc_window_display": false
  },
  "varInspector": {
   "cols": {
    "lenName": 16,
    "lenType": 16,
    "lenVar": 40
   },
   "kernels_config": {
    "python": {
     "delete_cmd_postfix": "",
     "delete_cmd_prefix": "del ",
     "library": "var_list.py",
     "varRefreshCmd": "print(var_dic_list())"
    },
    "r": {
     "delete_cmd_postfix": ") ",
     "delete_cmd_prefix": "rm(",
     "library": "var_list.r",
     "varRefreshCmd": "cat(var_dic_list()) "
    }
   },
   "types_to_exclude": [
    "module",
    "function",
    "builtin_function_or_method",
    "instance",
    "_Feature"
   ],
   "window_display": false
  }
 },
 "nbformat": 4,
 "nbformat_minor": 4
}
