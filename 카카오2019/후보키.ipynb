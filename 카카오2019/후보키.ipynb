{
 "cells": [
  {
   "cell_type": "code",
   "execution_count": 65,
   "metadata": {
    "ExecuteTime": {
     "end_time": "2022-04-22T05:25:26.592707Z",
     "start_time": "2022-04-22T05:25:26.585616Z"
    }
   },
   "outputs": [],
   "source": [
    "rel = [[\"100\",\"ryan\",\"music\",\"2\"],[\"200\",\"apeach\",\"math\",\"2\"],[\"300\",\"tube\",\"computer\",\"3\"],\n",
    "       [\"400\",\"con\",\"computer\",\"4\"],[\"500\",\"muzi\",\"music\",\"3\"],[\"600\",\"apeach\",\"music\",\"2\"]]"
   ]
  },
  {
   "cell_type": "code",
   "execution_count": 151,
   "metadata": {
    "ExecuteTime": {
     "end_time": "2022-04-24T05:16:05.682184Z",
     "start_time": "2022-04-24T05:16:05.669217Z"
    }
   },
   "outputs": [],
   "source": [
    "from functools import cmp_to_key\n",
    "# 유일성 \n",
    "\n",
    "def compare(a, b) :\n",
    "    a = bin(a).count('1')\n",
    "    b = bin(b).count('1')\n",
    "    return a-b\n",
    "\n",
    "def check(relation, rowsize, colsize, subset) : \n",
    "    # 모든 조합에 대해서\n",
    "    for a in range(rowsize-1) : \n",
    "        for b in range(a+1, rowsize) : \n",
    "            # isSame = True로 초기화(유일성 만족하지 않는 case 하나라도 존재하면 False)\n",
    "            isSame = True \n",
    "            for k in range(colsize) : # 각 col에 대해 순회\n",
    "                if (subset & 1<<k) == 0 : \n",
    "                    # ex subset = 1101, 1<<k = 1 -> 포함되므로 1 \n",
    "                    # ex subset = 1010, 1<<k = 100 -> 포함되지 않으므로 0\n",
    "                    continue # skip\n",
    "                # k번째 column에 대해서 모든 쌍을 순회하다가\n",
    "                # 같아지는 쌍이 하나라도 존재하면 isSame = True \n",
    "                # 모든 쌍이 다르면 isSame = False\n",
    "                # isSame = True나머지 값들은 살펴볼 필요가 없음 \n",
    "                if relation[a][k] != relation[b][k] : \n",
    "                    isSame = False\n",
    "                    break \n",
    "            if isSame : #\n",
    "                return False \n",
    "    return True \n",
    "    \n",
    "def solution(relation) : \n",
    "    answer = 0 \n",
    "    rowsize = len(relation)\n",
    "    colsize = len(relation[0])\n",
    "    candidates = [] # initialize \n",
    "    \n",
    "    # 0000은 제외, 1 ~ 15의 2진수로 순회\n",
    "    for i in range(1, 1<<colsize) : \n",
    "        # 유일성 체크하는 check 함수를 지정해야 함. 만족하면 candidates에 추가\n",
    "        if check(relation, rowsize, colsize, i) : \n",
    "            candidates.append(i)\n",
    "            \n",
    "    candidates = sorted(candidates, key = cmp_to_key(compare))\n",
    "    \n",
    "    while len(candidates) != 0 : \n",
    "        n = candidates.pop(0)\n",
    "        answer += 1 \n",
    "        candidates = [x for x in candidates if (n & x) != n] \n",
    "        \n",
    "    return answer"
   ]
  },
  {
   "cell_type": "code",
   "execution_count": 152,
   "metadata": {
    "ExecuteTime": {
     "end_time": "2022-04-24T05:16:06.125256Z",
     "start_time": "2022-04-24T05:16:06.105171Z"
    }
   },
   "outputs": [
    {
     "data": {
      "text/plain": [
       "2"
      ]
     },
     "execution_count": 152,
     "metadata": {},
     "output_type": "execute_result"
    }
   ],
   "source": [
    "solution(rel)"
   ]
  },
  {
   "cell_type": "code",
   "execution_count": null,
   "metadata": {},
   "outputs": [],
   "source": []
  }
 ],
 "metadata": {
  "hide_input": false,
  "kernelspec": {
   "display_name": "Python 3",
   "language": "python",
   "name": "python3"
  },
  "language_info": {
   "codemirror_mode": {
    "name": "ipython",
    "version": 3
   },
   "file_extension": ".py",
   "mimetype": "text/x-python",
   "name": "python",
   "nbconvert_exporter": "python",
   "pygments_lexer": "ipython3",
   "version": "3.8.5"
  },
  "toc": {
   "base_numbering": 1,
   "nav_menu": {},
   "number_sections": true,
   "sideBar": true,
   "skip_h1_title": false,
   "title_cell": "Table of Contents",
   "title_sidebar": "Contents",
   "toc_cell": false,
   "toc_position": {},
   "toc_section_display": true,
   "toc_window_display": false
  },
  "varInspector": {
   "cols": {
    "lenName": 16,
    "lenType": 16,
    "lenVar": 40
   },
   "kernels_config": {
    "python": {
     "delete_cmd_postfix": "",
     "delete_cmd_prefix": "del ",
     "library": "var_list.py",
     "varRefreshCmd": "print(var_dic_list())"
    },
    "r": {
     "delete_cmd_postfix": ") ",
     "delete_cmd_prefix": "rm(",
     "library": "var_list.r",
     "varRefreshCmd": "cat(var_dic_list()) "
    }
   },
   "types_to_exclude": [
    "module",
    "function",
    "builtin_function_or_method",
    "instance",
    "_Feature"
   ],
   "window_display": false
  }
 },
 "nbformat": 4,
 "nbformat_minor": 4
}
