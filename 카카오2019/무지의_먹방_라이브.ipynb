{
 "cells": [
  {
   "cell_type": "code",
   "execution_count": 40,
   "metadata": {
    "ExecuteTime": {
     "end_time": "2022-04-24T08:13:31.455628Z",
     "start_time": "2022-04-24T08:13:31.443942Z"
    }
   },
   "outputs": [],
   "source": [
    "from operator import itemgetter\n",
    "\n",
    "def solution(food_times, k) : \n",
    "    foods = [] \n",
    "    n = len(food_times) \n",
    "    for i in range(n) : \n",
    "        foods.append( (food_times[i], i+1))\n",
    "    foods.sort() # 정렬된 foods \n",
    "    \n",
    "    pretime = 0\n",
    "    for i, food in enumerate(foods) :\n",
    "        step = food[0] - pretime \n",
    "        if step != 0 :\n",
    "            spend = step * n \n",
    "            if spend <= k : \n",
    "                k -= spend \n",
    "                pretime = food[0]\n",
    "            else : \n",
    "                k %= n\n",
    "                sublist = foods[i:]\n",
    "                sublist = sorted(sublist, key = itemgetter(1))\n",
    "                return sublist[k][1]\n",
    "        n -= 1 \n",
    "    return -1\n"
   ]
  },
  {
   "cell_type": "code",
   "execution_count": 41,
   "metadata": {
    "ExecuteTime": {
     "end_time": "2022-04-24T08:13:32.046343Z",
     "start_time": "2022-04-24T08:13:32.030331Z"
    }
   },
   "outputs": [
    {
     "data": {
      "text/plain": [
       "1"
      ]
     },
     "execution_count": 41,
     "metadata": {},
     "output_type": "execute_result"
    }
   ],
   "source": [
    "ft = [3, 1, 2]\n",
    "k = 5 \n",
    "solution(ft, k)"
   ]
  },
  {
   "cell_type": "code",
   "execution_count": 42,
   "metadata": {
    "ExecuteTime": {
     "end_time": "2022-04-24T08:13:32.666894Z",
     "start_time": "2022-04-24T08:13:32.653934Z"
    }
   },
   "outputs": [
    {
     "data": {
      "text/plain": [
       "4"
      ]
     },
     "execution_count": 42,
     "metadata": {},
     "output_type": "execute_result"
    }
   ],
   "source": [
    "ft = [3, 5, 1, 6, 5, 3]\n",
    "k = 20 \n",
    "solution(ft, k)"
   ]
  },
  {
   "cell_type": "code",
   "execution_count": 32,
   "metadata": {
    "ExecuteTime": {
     "end_time": "2022-04-24T08:12:41.027234Z",
     "start_time": "2022-04-24T08:12:41.004296Z"
    }
   },
   "outputs": [],
   "source": [
    "from operator import itemgetter\n",
    "\n",
    "def solution(food_times, k) : \n",
    "    foods = [] # (시간, 번호) 튜플 받을 빈 리스트 \n",
    "    n = len(food_times) # 음식 개수 \n",
    "    for i in range(n) : \n",
    "        foods.append((food_times[i], i+1)) # (시간, 번호)\n",
    "        \n",
    "    foods.sort() # 필요한 시간에 따라서 정렬 \n",
    "\n",
    "    # 정렬된 음식에 대해서 이전 음식을 먹는데 소요되는 시간 pretime으로 지정, 0으로 초기화 \n",
    "    pretime = 0 \n",
    "    for i, food in enumerate(foods) : # (i, (foods[i]))을 차례로 순회\n",
    "        step = food[0] - pretime \n",
    "        if step != 0 : \n",
    "            spend = step * n\n",
    "            \n",
    "            if spend <= k : # k를 뺄 수 있는 경우  \n",
    "                k -= spend \n",
    "                pretime = food[0] # pretime을 update \n",
    "            \n",
    "            else : # k보다 spend가 더 큰 경우 (k = 4, n = 3, step = 2. 즉, k = 4, spend = 6)\n",
    "                k %= n # k = 1로 update \n",
    "                \n",
    "                # i번째부터 음식 고려하면 됨 \n",
    "                sublist = foods[i:]\n",
    "                sublist = sorted(sublist, key = itemgetter(1)) # 1번째 원소, 즉 번호로 정렬\n",
    "                return sublist[k][1] # 음식 번호 \n",
    "        n -= 1 \n",
    "\n",
    "    # k가 커서 음식을 다 먹은 경우는 아무 결과도 출력되지 않은 상태로 해당 line까지 도달 : \n",
    "    # -1 return \n",
    "    return -1  "
   ]
  },
  {
   "cell_type": "code",
   "execution_count": 33,
   "metadata": {
    "ExecuteTime": {
     "end_time": "2022-04-24T08:12:41.209279Z",
     "start_time": "2022-04-24T08:12:41.193263Z"
    }
   },
   "outputs": [
    {
     "data": {
      "text/plain": [
       "1"
      ]
     },
     "execution_count": 33,
     "metadata": {},
     "output_type": "execute_result"
    }
   ],
   "source": [
    "ft = [3, 1, 2]\n",
    "k = 5 \n",
    "solution(ft, k)"
   ]
  },
  {
   "cell_type": "code",
   "execution_count": 34,
   "metadata": {
    "ExecuteTime": {
     "end_time": "2022-04-24T08:12:41.419430Z",
     "start_time": "2022-04-24T08:12:41.405469Z"
    }
   },
   "outputs": [
    {
     "data": {
      "text/plain": [
       "4"
      ]
     },
     "execution_count": 34,
     "metadata": {},
     "output_type": "execute_result"
    }
   ],
   "source": [
    "ft = [3, 5, 1, 6, 5, 3]\n",
    "k = 20 \n",
    "solution(ft, k)"
   ]
  },
  {
   "cell_type": "code",
   "execution_count": null,
   "metadata": {},
   "outputs": [],
   "source": []
  }
 ],
 "metadata": {
  "hide_input": false,
  "kernelspec": {
   "display_name": "Python 3",
   "language": "python",
   "name": "python3"
  },
  "language_info": {
   "codemirror_mode": {
    "name": "ipython",
    "version": 3
   },
   "file_extension": ".py",
   "mimetype": "text/x-python",
   "name": "python",
   "nbconvert_exporter": "python",
   "pygments_lexer": "ipython3",
   "version": "3.8.5"
  },
  "toc": {
   "base_numbering": 1,
   "nav_menu": {},
   "number_sections": true,
   "sideBar": true,
   "skip_h1_title": false,
   "title_cell": "Table of Contents",
   "title_sidebar": "Contents",
   "toc_cell": false,
   "toc_position": {},
   "toc_section_display": true,
   "toc_window_display": false
  },
  "varInspector": {
   "cols": {
    "lenName": 16,
    "lenType": 16,
    "lenVar": 40
   },
   "kernels_config": {
    "python": {
     "delete_cmd_postfix": "",
     "delete_cmd_prefix": "del ",
     "library": "var_list.py",
     "varRefreshCmd": "print(var_dic_list())"
    },
    "r": {
     "delete_cmd_postfix": ") ",
     "delete_cmd_prefix": "rm(",
     "library": "var_list.r",
     "varRefreshCmd": "cat(var_dic_list()) "
    }
   },
   "types_to_exclude": [
    "module",
    "function",
    "builtin_function_or_method",
    "instance",
    "_Feature"
   ],
   "window_display": false
  }
 },
 "nbformat": 4,
 "nbformat_minor": 4
}
