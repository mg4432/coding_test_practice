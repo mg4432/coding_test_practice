{
 "cells": [
  {
   "cell_type": "code",
   "execution_count": 3,
   "metadata": {
    "ExecuteTime": {
     "end_time": "2022-04-29T04:54:51.102178Z",
     "start_time": "2022-04-29T04:54:51.087221Z"
    }
   },
   "outputs": [],
   "source": [
    "info = [\"java backend junior pizza 150\",\"python frontend senior chicken 210\",\"python frontend senior chicken 150\",\"cpp backend senior pizza 260\",\"java backend junior chicken 80\",\"python backend senior chicken 50\"]\n",
    "query = [\"java and backend and junior and pizza 100\",\"python and frontend and senior and chicken 200\",\"cpp and - and senior and pizza 250\",\"- and backend and senior and - 150\",\"- and - and - and chicken 100\",\"- and - and - and - 150\"]"
   ]
  },
  {
   "cell_type": "code",
   "execution_count": 308,
   "metadata": {
    "ExecuteTime": {
     "end_time": "2022-04-28T10:14:47.023316Z",
     "start_time": "2022-04-28T10:14:47.012346Z"
    }
   },
   "outputs": [
    {
     "data": {
      "text/plain": [
       "['java backend junior pizza 150',\n",
       " 'python frontend senior chicken 210',\n",
       " 'python frontend senior chicken 150',\n",
       " 'cpp backend senior pizza 260',\n",
       " 'java backend junior chicken 80',\n",
       " 'python backend senior chicken 50']"
      ]
     },
     "execution_count": 308,
     "metadata": {},
     "output_type": "execute_result"
    }
   ],
   "source": [
    "info"
   ]
  },
  {
   "cell_type": "code",
   "execution_count": 309,
   "metadata": {
    "ExecuteTime": {
     "end_time": "2022-04-28T10:14:49.464168Z",
     "start_time": "2022-04-28T10:14:49.455193Z"
    }
   },
   "outputs": [
    {
     "data": {
      "text/plain": [
       "['java and backend and junior and pizza 100',\n",
       " 'python and frontend and senior and chicken 200',\n",
       " 'cpp and - and senior and pizza 250',\n",
       " '- and backend and senior and - 150',\n",
       " '- and - and - and chicken 100',\n",
       " '- and - and - and - 150']"
      ]
     },
     "execution_count": 309,
     "metadata": {},
     "output_type": "execute_result"
    }
   ],
   "source": [
    "query"
   ]
  },
  {
   "cell_type": "code",
   "execution_count": 303,
   "metadata": {
    "ExecuteTime": {
     "end_time": "2022-04-28T10:13:50.156392Z",
     "start_time": "2022-04-28T10:13:50.135446Z"
    }
   },
   "outputs": [
    {
     "data": {
      "text/plain": [
       "[['java', 'backend', 'junior', 'pizza', '150'],\n",
       " ['python', 'frontend', 'senior', 'chicken', '210'],\n",
       " ['python', 'frontend', 'senior', 'chicken', '150'],\n",
       " ['cpp', 'backend', 'senior', 'pizza', '260'],\n",
       " ['java', 'backend', 'junior', 'chicken', '80'],\n",
       " ['python', 'backend', 'senior', 'chicken', '50']]"
      ]
     },
     "execution_count": 303,
     "metadata": {},
     "output_type": "execute_result"
    }
   ],
   "source": [
    "table"
   ]
  },
  {
   "cell_type": "code",
   "execution_count": 4,
   "metadata": {
    "ExecuteTime": {
     "end_time": "2022-04-29T04:54:54.713453Z",
     "start_time": "2022-04-29T04:54:54.697495Z"
    }
   },
   "outputs": [],
   "source": [
    "def solution(info, query) : \n",
    "    answer = [] \n",
    "    table_ = [[0 for i in range(5)] for i in range(len(info))]\n",
    "    for i in range(len(info)):\n",
    "        for j in range(5) : \n",
    "            table_[i][j] = info[i].split(' ')[j]\n",
    "    \n",
    "    for q in query : \n",
    "        table = table_.copy()\n",
    "        q_split = q.split(' ')\n",
    "        q_ = []\n",
    "\n",
    "        for i in [0, 2, 4, 6, 7] : \n",
    "            q_.append(q_split[i])\n",
    "\n",
    "        for col in range(4) : \n",
    "            deleted = []\n",
    "            for row in range(len(table)) : \n",
    "                if len(q_[col]) == 1 :\n",
    "                    continue\n",
    "                    \n",
    "                if table[row][col] != q_[col] : \n",
    "                    deleted.append(row)\n",
    "\n",
    "            for i in range(len(deleted)) :\n",
    "                del table[(deleted[i]-i)]\n",
    "        \n",
    "        pivot = int(q_[4])\n",
    "        up = 0 \n",
    "        for i in range(len(table)) :\n",
    "            if int(table[i][4]) >= pivot : \n",
    "                up += 1\n",
    "        answer.append(up)\n",
    "    \n",
    "    return answer"
   ]
  },
  {
   "cell_type": "code",
   "execution_count": 5,
   "metadata": {
    "ExecuteTime": {
     "end_time": "2022-04-29T04:54:54.894440Z",
     "start_time": "2022-04-29T04:54:54.872500Z"
    }
   },
   "outputs": [
    {
     "data": {
      "text/plain": [
       "[1, 1, 1, 1, 2, 4]"
      ]
     },
     "execution_count": 5,
     "metadata": {},
     "output_type": "execute_result"
    }
   ],
   "source": [
    "solution(info,query)"
   ]
  },
  {
   "cell_type": "code",
   "execution_count": 6,
   "metadata": {
    "ExecuteTime": {
     "end_time": "2022-04-29T04:54:57.445785Z",
     "start_time": "2022-04-29T04:54:57.427759Z"
    }
   },
   "outputs": [],
   "source": [
    "from bisect import bisect_left \n",
    "\n",
    "def solution(info, query) :\n",
    "    wmap = {'-' : 0, 'cpp' : 1, 'java' : 2, 'python' : 3,\n",
    "           'backend' : 1, 'frontend' : 2,\n",
    "           'junior' : 1, 'senior' : 2,\n",
    "           'chicken' : 1, 'pizza' : 2}\n",
    "    slist = [[] for _ in range(4*3*3*3)]\n",
    "    \n",
    "    for string in info : \n",
    "        w = string.split()\n",
    "        arr = (wmap[w[0]]*3*3*3,\n",
    "               wmap[w[1]]*3*3,\n",
    "               wmap[w[2]]*3,\n",
    "               wmap[w[3]])\n",
    "        score = int(w[4])\n",
    "        \n",
    "        # 비트 형태로 부분집합 표현 \n",
    "        for i in range(1<<4) : # 비트 4개라서 1<<4\n",
    "            idx = 0 \n",
    "            for j in range(4) : \n",
    "                if i & (1 << j) : # j번째 비트가 켜짐\n",
    "                    idx += arr[j]\n",
    "            slist[idx].append(score)\n",
    "    \n",
    "    for i in range(4*3*3*3) :\n",
    "        slist[i].sort()\n",
    "    \n",
    "    answer = [] \n",
    "    for string in query : \n",
    "        w = string.split()\n",
    "        idx = wmap[w[0]]*3*3*3 + wmap[w[2]]*3*3 + wmap[w[4]]*3 + wmap[w[6]]\n",
    "        score = int(w[7])\n",
    "        answer.append(len(slist[idx]) - bisect_left(slist[idx], score))\n",
    "   \n",
    "    return answer \n"
   ]
  },
  {
   "cell_type": "code",
   "execution_count": 7,
   "metadata": {
    "ExecuteTime": {
     "end_time": "2022-04-29T04:54:58.263927Z",
     "start_time": "2022-04-29T04:54:58.249901Z"
    }
   },
   "outputs": [
    {
     "data": {
      "text/plain": [
       "[1, 1, 1, 1, 2, 4]"
      ]
     },
     "execution_count": 7,
     "metadata": {},
     "output_type": "execute_result"
    }
   ],
   "source": [
    "solution(info, query)"
   ]
  },
  {
   "cell_type": "code",
   "execution_count": 492,
   "metadata": {
    "ExecuteTime": {
     "end_time": "2022-04-28T14:40:38.524432Z",
     "start_time": "2022-04-28T14:40:38.517448Z"
    }
   },
   "outputs": [],
   "source": [
    "wmap = {'-' : 0, 'cpp' : 1, 'java' : 2, 'python' : 3,\n",
    "           'backend' : 1, 'frontend' : 2,\n",
    "           'junior' : 1, 'senior' : 2,\n",
    "           'chicken' : 1, 'pizza' : 2}\n",
    "slist = [[] for _ in range(4*3*3*3)]\n",
    "\n"
   ]
  },
  {
   "cell_type": "code",
   "execution_count": 493,
   "metadata": {
    "ExecuteTime": {
     "end_time": "2022-04-28T14:40:38.899958Z",
     "start_time": "2022-04-28T14:40:38.887991Z"
    }
   },
   "outputs": [
    {
     "data": {
      "text/plain": [
       "{'-': 0,\n",
       " 'cpp': 1,\n",
       " 'java': 2,\n",
       " 'python': 3,\n",
       " 'backend': 1,\n",
       " 'frontend': 2,\n",
       " 'junior': 1,\n",
       " 'senior': 2,\n",
       " 'chicken': 1,\n",
       " 'pizza': 2}"
      ]
     },
     "execution_count": 493,
     "metadata": {},
     "output_type": "execute_result"
    }
   ],
   "source": [
    "wmap"
   ]
  },
  {
   "cell_type": "code",
   "execution_count": 494,
   "metadata": {
    "ExecuteTime": {
     "end_time": "2022-04-28T14:40:39.475623Z",
     "start_time": "2022-04-28T14:40:39.461574Z"
    }
   },
   "outputs": [
    {
     "data": {
      "text/plain": [
       "108"
      ]
     },
     "execution_count": 494,
     "metadata": {},
     "output_type": "execute_result"
    }
   ],
   "source": [
    "len(slist)"
   ]
  },
  {
   "cell_type": "code",
   "execution_count": 495,
   "metadata": {
    "ExecuteTime": {
     "end_time": "2022-04-28T14:40:40.561398Z",
     "start_time": "2022-04-28T14:40:40.550428Z"
    }
   },
   "outputs": [
    {
     "data": {
      "text/plain": [
       "'java backend junior pizza 150'"
      ]
     },
     "execution_count": 495,
     "metadata": {},
     "output_type": "execute_result"
    }
   ],
   "source": [
    "string"
   ]
  },
  {
   "cell_type": "code",
   "execution_count": 500,
   "metadata": {
    "ExecuteTime": {
     "end_time": "2022-04-28T14:42:43.461865Z",
     "start_time": "2022-04-28T14:42:43.452889Z"
    }
   },
   "outputs": [
    {
     "name": "stdout",
     "output_type": "stream",
     "text": [
      "2\n",
      "1\n",
      "1\n",
      "2\n"
     ]
    }
   ],
   "source": [
    "for i in range(4) :\n",
    "    print(wmap[w[i]])"
   ]
  },
  {
   "cell_type": "code",
   "execution_count": 547,
   "metadata": {
    "ExecuteTime": {
     "end_time": "2022-04-28T15:40:19.406039Z",
     "start_time": "2022-04-28T15:40:19.396094Z"
    }
   },
   "outputs": [
    {
     "data": {
      "text/plain": [
       "(54, 9, 3, 2)"
      ]
     },
     "execution_count": 547,
     "metadata": {},
     "output_type": "execute_result"
    }
   ],
   "source": [
    "string = info[0] \n",
    "w = string.split()\n",
    "arr = (wmap[w[0]]*3*3*3,\n",
    "       wmap[w[1]]*3*3,\n",
    "       wmap[w[2]]*3,\n",
    "       wmap[w[3]])\n",
    "score = int(w[4])\n",
    "arr\n"
   ]
  },
  {
   "cell_type": "code",
   "execution_count": 12,
   "metadata": {
    "ExecuteTime": {
     "end_time": "2022-04-29T05:31:50.898884Z",
     "start_time": "2022-04-29T05:31:50.889121Z"
    }
   },
   "outputs": [
    {
     "ename": "TypeError",
     "evalue": "unsupported operand type(s) for -: 'list' and 'list'",
     "output_type": "error",
     "traceback": [
      "\u001b[1;31m---------------------------------------------------------------------------\u001b[0m",
      "\u001b[1;31mTypeError\u001b[0m                                 Traceback (most recent call last)",
      "\u001b[1;32m<ipython-input-12-4654806888b9>\u001b[0m in \u001b[0;36m<module>\u001b[1;34m\u001b[0m\n\u001b[1;32m----> 1\u001b[1;33m \u001b[1;33m[\u001b[0m\u001b[1;36m1\u001b[0m\u001b[1;33m,\u001b[0m\u001b[1;36m2\u001b[0m\u001b[1;33m,\u001b[0m\u001b[1;36m3\u001b[0m\u001b[1;33m]\u001b[0m\u001b[1;33m-\u001b[0m\u001b[1;33m[\u001b[0m\u001b[1;36m1\u001b[0m\u001b[1;33m,\u001b[0m\u001b[1;36m2\u001b[0m\u001b[1;33m,\u001b[0m\u001b[1;36m3\u001b[0m\u001b[1;33m]\u001b[0m\u001b[1;33m\u001b[0m\u001b[1;33m\u001b[0m\u001b[0m\n\u001b[0m",
      "\u001b[1;31mTypeError\u001b[0m: unsupported operand type(s) for -: 'list' and 'list'"
     ]
    }
   ],
   "source": []
  },
  {
   "cell_type": "code",
   "execution_count": 551,
   "metadata": {
    "ExecuteTime": {
     "end_time": "2022-04-28T15:43:52.840724Z",
     "start_time": "2022-04-28T15:43:52.831379Z"
    },
    "scrolled": true
   },
   "outputs": [
    {
     "name": "stdout",
     "output_type": "stream",
     "text": [
      "0\n",
      "54\n",
      "9\n",
      "63\n",
      "3\n",
      "57\n",
      "12\n",
      "66\n",
      "2\n",
      "56\n",
      "11\n",
      "65\n",
      "5\n",
      "59\n",
      "14\n",
      "68\n"
     ]
    }
   ],
   "source": [
    "for i in range(1<<4) : \n",
    "    idx = 0\n",
    "    for j in range(4) : \n",
    "        if i & (1<<j) : \n",
    "            idx += arr[j]\n",
    "            \n",
    "    print(idx)"
   ]
  },
  {
   "cell_type": "code",
   "execution_count": 507,
   "metadata": {
    "ExecuteTime": {
     "end_time": "2022-04-28T15:09:00.042697Z",
     "start_time": "2022-04-28T15:09:00.018084Z"
    }
   },
   "outputs": [
    {
     "name": "stdout",
     "output_type": "stream",
     "text": [
      "(0, 1) 0 1 X\n",
      "(0, 2) 0 10 X\n",
      "(0, 4) 0 100 X\n",
      "(0, 8) 0 1000 X\n",
      "(1, 1) 1 1 O\n",
      "(1, 2) 1 10 X\n",
      "(1, 4) 1 100 X\n",
      "(1, 8) 1 1000 X\n",
      "(2, 1) 10 1 X\n",
      "(2, 2) 10 10 O\n",
      "(2, 4) 10 100 X\n",
      "(2, 8) 10 1000 X\n",
      "(3, 1) 11 1 O\n",
      "(3, 2) 11 10 O\n",
      "(3, 4) 11 100 X\n",
      "(3, 8) 11 1000 X\n",
      "(4, 1) 100 1 X\n",
      "(4, 2) 100 10 X\n",
      "(4, 4) 100 100 O\n",
      "(4, 8) 100 1000 X\n",
      "(5, 1) 101 1 O\n",
      "(5, 2) 101 10 X\n",
      "(5, 4) 101 100 O\n",
      "(5, 8) 101 1000 X\n",
      "(6, 1) 110 1 X\n",
      "(6, 2) 110 10 O\n",
      "(6, 4) 110 100 O\n",
      "(6, 8) 110 1000 X\n",
      "(7, 1) 111 1 O\n",
      "(7, 2) 111 10 O\n",
      "(7, 4) 111 100 O\n",
      "(7, 8) 111 1000 X\n",
      "(8, 1) 1000 1 X\n",
      "(8, 2) 1000 10 X\n",
      "(8, 4) 1000 100 X\n",
      "(8, 8) 1000 1000 O\n",
      "(9, 1) 1001 1 O\n",
      "(9, 2) 1001 10 X\n",
      "(9, 4) 1001 100 X\n",
      "(9, 8) 1001 1000 O\n",
      "(10, 1) 1010 1 X\n",
      "(10, 2) 1010 10 O\n",
      "(10, 4) 1010 100 X\n",
      "(10, 8) 1010 1000 O\n",
      "(11, 1) 1011 1 O\n",
      "(11, 2) 1011 10 O\n",
      "(11, 4) 1011 100 X\n",
      "(11, 8) 1011 1000 O\n",
      "(12, 1) 1100 1 X\n",
      "(12, 2) 1100 10 X\n",
      "(12, 4) 1100 100 O\n",
      "(12, 8) 1100 1000 O\n",
      "(13, 1) 1101 1 O\n",
      "(13, 2) 1101 10 X\n",
      "(13, 4) 1101 100 O\n",
      "(13, 8) 1101 1000 O\n",
      "(14, 1) 1110 1 X\n",
      "(14, 2) 1110 10 O\n",
      "(14, 4) 1110 100 O\n",
      "(14, 8) 1110 1000 O\n",
      "(15, 1) 1111 1 O\n",
      "(15, 2) 1111 10 O\n",
      "(15, 4) 1111 100 O\n",
      "(15, 8) 1111 1000 O\n"
     ]
    }
   ],
   "source": [
    "for i in range(1<<4) : \n",
    "    for j in range(4) : \n",
    "        if i & (1<<j) : \n",
    "            a = 'O'\n",
    "        else : \n",
    "            a = 'X'\n",
    "        print((i,1<<j), bin(i).split('b')[1], bin(1<<j).split('b')[1], a)"
   ]
  },
  {
   "cell_type": "code",
   "execution_count": 38,
   "metadata": {
    "ExecuteTime": {
     "end_time": "2022-04-29T05:41:31.129377Z",
     "start_time": "2022-04-29T05:41:31.106743Z"
    }
   },
   "outputs": [],
   "source": [
    "def solution(numbers, hand):\n",
    "    answer = ''\n",
    "    L = 0\n",
    "    R = 0\n",
    "    pos = {}\n",
    "    pos = {}\n",
    "    for i in range(10) : \n",
    "        if i % 3 != 0 : \n",
    "            pos[i] = [i//3, i%3-1]\n",
    "        else : \n",
    "            pos[i] = [i//3-1,2]\n",
    "    pos[0] = [3,1]\n",
    "    for n in numbers:\n",
    "        if n == 1 or n == 4 or n == 7 : \n",
    "            answer += 'L'\n",
    "            L = n\n",
    "        elif n == 3 or n == 6 or n == 9 : \n",
    "            answer += 'R'\n",
    "            R = n\n",
    "        else : \n",
    "            for i in range(2) : \n",
    "                L_diff = sum( abs(pos[L][0] - pos[n][0])  , abs(pos[L][1] - pos[n][1]) )\n",
    "                R_diff = sum( abs(pos[R][0] - pos[n][0])  , abs(pos[R][1] - pos[n][1]) )\n",
    "                diff = L_diff - R_diff\n",
    "            if  diff > 0 :\n",
    "                answer += 'R'\n",
    "                R = n\n",
    "            elif diff < 0 : \n",
    "                answer += 'L'\n",
    "                L = n\n",
    "            else : \n",
    "                if hand == 'right' : \n",
    "                    answer += 'R'\n",
    "                    R = n\n",
    "                else : \n",
    "                    answer += 'L'\n",
    "                    L = n\n",
    "    return answer\n",
    "                \n",
    "            \n",
    "            "
   ]
  },
  {
   "cell_type": "code",
   "execution_count": 39,
   "metadata": {
    "ExecuteTime": {
     "end_time": "2022-04-29T05:41:31.388239Z",
     "start_time": "2022-04-29T05:41:31.369135Z"
    }
   },
   "outputs": [
    {
     "ename": "TypeError",
     "evalue": "'int' object is not iterable",
     "output_type": "error",
     "traceback": [
      "\u001b[1;31m---------------------------------------------------------------------------\u001b[0m",
      "\u001b[1;31mTypeError\u001b[0m                                 Traceback (most recent call last)",
      "\u001b[1;32m<ipython-input-39-839373740e09>\u001b[0m in \u001b[0;36m<module>\u001b[1;34m\u001b[0m\n\u001b[1;32m----> 1\u001b[1;33m \u001b[0msolution\u001b[0m\u001b[1;33m(\u001b[0m\u001b[1;33m[\u001b[0m\u001b[1;36m1\u001b[0m\u001b[1;33m,\u001b[0m \u001b[1;36m3\u001b[0m\u001b[1;33m,\u001b[0m \u001b[1;36m4\u001b[0m\u001b[1;33m,\u001b[0m \u001b[1;36m5\u001b[0m\u001b[1;33m,\u001b[0m \u001b[1;36m8\u001b[0m\u001b[1;33m,\u001b[0m \u001b[1;36m2\u001b[0m\u001b[1;33m,\u001b[0m \u001b[1;36m1\u001b[0m\u001b[1;33m,\u001b[0m \u001b[1;36m4\u001b[0m\u001b[1;33m,\u001b[0m \u001b[1;36m5\u001b[0m\u001b[1;33m,\u001b[0m \u001b[1;36m9\u001b[0m\u001b[1;33m,\u001b[0m \u001b[1;36m5\u001b[0m\u001b[1;33m]\u001b[0m\u001b[1;33m,\u001b[0m \u001b[1;34m'right'\u001b[0m\u001b[1;33m)\u001b[0m\u001b[1;33m\u001b[0m\u001b[1;33m\u001b[0m\u001b[0m\n\u001b[0m",
      "\u001b[1;32m<ipython-input-38-2febe7c5c0fe>\u001b[0m in \u001b[0;36msolution\u001b[1;34m(numbers, hand)\u001b[0m\n\u001b[0;32m     20\u001b[0m         \u001b[1;32melse\u001b[0m \u001b[1;33m:\u001b[0m\u001b[1;33m\u001b[0m\u001b[1;33m\u001b[0m\u001b[0m\n\u001b[0;32m     21\u001b[0m             \u001b[1;32mfor\u001b[0m \u001b[0mi\u001b[0m \u001b[1;32min\u001b[0m \u001b[0mrange\u001b[0m\u001b[1;33m(\u001b[0m\u001b[1;36m2\u001b[0m\u001b[1;33m)\u001b[0m \u001b[1;33m:\u001b[0m\u001b[1;33m\u001b[0m\u001b[1;33m\u001b[0m\u001b[0m\n\u001b[1;32m---> 22\u001b[1;33m                 \u001b[0mL_diff\u001b[0m \u001b[1;33m=\u001b[0m \u001b[0msum\u001b[0m\u001b[1;33m(\u001b[0m \u001b[0mabs\u001b[0m\u001b[1;33m(\u001b[0m\u001b[0mpos\u001b[0m\u001b[1;33m[\u001b[0m\u001b[0mL\u001b[0m\u001b[1;33m]\u001b[0m\u001b[1;33m[\u001b[0m\u001b[1;36m0\u001b[0m\u001b[1;33m]\u001b[0m \u001b[1;33m-\u001b[0m \u001b[0mpos\u001b[0m\u001b[1;33m[\u001b[0m\u001b[0mn\u001b[0m\u001b[1;33m]\u001b[0m\u001b[1;33m[\u001b[0m\u001b[1;36m0\u001b[0m\u001b[1;33m]\u001b[0m\u001b[1;33m)\u001b[0m  \u001b[1;33m,\u001b[0m \u001b[0mabs\u001b[0m\u001b[1;33m(\u001b[0m\u001b[0mpos\u001b[0m\u001b[1;33m[\u001b[0m\u001b[0mL\u001b[0m\u001b[1;33m]\u001b[0m\u001b[1;33m[\u001b[0m\u001b[1;36m1\u001b[0m\u001b[1;33m]\u001b[0m \u001b[1;33m-\u001b[0m \u001b[0mpos\u001b[0m\u001b[1;33m[\u001b[0m\u001b[0mn\u001b[0m\u001b[1;33m]\u001b[0m\u001b[1;33m[\u001b[0m\u001b[1;36m1\u001b[0m\u001b[1;33m]\u001b[0m\u001b[1;33m)\u001b[0m \u001b[1;33m)\u001b[0m\u001b[1;33m\u001b[0m\u001b[1;33m\u001b[0m\u001b[0m\n\u001b[0m\u001b[0;32m     23\u001b[0m                 \u001b[0mR_diff\u001b[0m \u001b[1;33m=\u001b[0m \u001b[0msum\u001b[0m\u001b[1;33m(\u001b[0m \u001b[0mabs\u001b[0m\u001b[1;33m(\u001b[0m\u001b[0mpos\u001b[0m\u001b[1;33m[\u001b[0m\u001b[0mR\u001b[0m\u001b[1;33m]\u001b[0m\u001b[1;33m[\u001b[0m\u001b[1;36m0\u001b[0m\u001b[1;33m]\u001b[0m \u001b[1;33m-\u001b[0m \u001b[0mpos\u001b[0m\u001b[1;33m[\u001b[0m\u001b[0mn\u001b[0m\u001b[1;33m]\u001b[0m\u001b[1;33m[\u001b[0m\u001b[1;36m0\u001b[0m\u001b[1;33m]\u001b[0m\u001b[1;33m)\u001b[0m  \u001b[1;33m,\u001b[0m \u001b[0mabs\u001b[0m\u001b[1;33m(\u001b[0m\u001b[0mpos\u001b[0m\u001b[1;33m[\u001b[0m\u001b[0mR\u001b[0m\u001b[1;33m]\u001b[0m\u001b[1;33m[\u001b[0m\u001b[1;36m1\u001b[0m\u001b[1;33m]\u001b[0m \u001b[1;33m-\u001b[0m \u001b[0mpos\u001b[0m\u001b[1;33m[\u001b[0m\u001b[0mn\u001b[0m\u001b[1;33m]\u001b[0m\u001b[1;33m[\u001b[0m\u001b[1;36m1\u001b[0m\u001b[1;33m]\u001b[0m\u001b[1;33m)\u001b[0m \u001b[1;33m)\u001b[0m\u001b[1;33m\u001b[0m\u001b[1;33m\u001b[0m\u001b[0m\n\u001b[0;32m     24\u001b[0m                 \u001b[0mdiff\u001b[0m \u001b[1;33m=\u001b[0m \u001b[0mL_diff\u001b[0m \u001b[1;33m-\u001b[0m \u001b[0mR_diff\u001b[0m\u001b[1;33m\u001b[0m\u001b[1;33m\u001b[0m\u001b[0m\n",
      "\u001b[1;31mTypeError\u001b[0m: 'int' object is not iterable"
     ]
    }
   ],
   "source": [
    "solution([1, 3, 4, 5, 8, 2, 1, 4, 5, 9, 5], 'right')"
   ]
  },
  {
   "cell_type": "code",
   "execution_count": 54,
   "metadata": {
    "ExecuteTime": {
     "end_time": "2022-04-29T05:55:31.038265Z",
     "start_time": "2022-04-29T05:55:31.033768Z"
    }
   },
   "outputs": [],
   "source": [
    "a = \"100-200*300-500+20\"\n"
   ]
  },
  {
   "cell_type": "code",
   "execution_count": 168,
   "metadata": {
    "ExecuteTime": {
     "end_time": "2022-04-29T07:01:16.067174Z",
     "start_time": "2022-04-29T07:01:16.045455Z"
    }
   },
   "outputs": [],
   "source": [
    "from itertools import permutations \n",
    "def operation(s, a, b) : \n",
    "    if s == '*' : \n",
    "        return a*b\n",
    "    elif s == '+' : \n",
    "        return a+b\n",
    "    else :\n",
    "        return a-b\n",
    "    \n",
    "\n",
    "def solution(expression):\n",
    "    num_ = []\n",
    "    op_ = []\n",
    "    num_s = ''\n",
    "    for str in expression : \n",
    "        if str.isalnum() : \n",
    "            num_s += str \n",
    "        else :\n",
    "            num_.append(int(num_s))\n",
    "            num_s = ''\n",
    "            op_.append(str)\n",
    "    num_.append(int(num_s))\n",
    "    unique_ = list(set(op_))\n",
    "    answer = []\n",
    "    \n",
    "    \n",
    "    for perm in permutations(''.join(unique_), len(unique_)) :\n",
    "        num = num_.copy()\n",
    "        op = op_.copy()\n",
    "        for can in perm : \n",
    "            i = 0 \n",
    "            while can in op :\n",
    "                if op[i] == can : \n",
    "                    num[i] = operation(op[i], num[i], num[i+1])\n",
    "                    del num[i+1]\n",
    "                    del op[i]\n",
    "                    i -= 1\n",
    "                i += 1\n",
    "        answer.append(abs(int(num[0])))\n",
    "    \n",
    "            \n",
    "    answer = max(answer)\n",
    "    return answer"
   ]
  },
  {
   "cell_type": "code",
   "execution_count": 169,
   "metadata": {
    "ExecuteTime": {
     "end_time": "2022-04-29T07:01:16.235385Z",
     "start_time": "2022-04-29T07:01:16.226403Z"
    }
   },
   "outputs": [
    {
     "data": {
      "text/plain": [
       "60420"
      ]
     },
     "execution_count": 169,
     "metadata": {},
     "output_type": "execute_result"
    }
   ],
   "source": [
    "solution(\"100-200*300-500+20\")"
   ]
  },
  {
   "cell_type": "code",
   "execution_count": 67,
   "metadata": {
    "ExecuteTime": {
     "end_time": "2022-04-29T06:03:42.473880Z",
     "start_time": "2022-04-29T06:03:42.461709Z"
    }
   },
   "outputs": [],
   "source": [
    "from itertools import combinations \n",
    "from itertools import permutations"
   ]
  },
  {
   "cell_type": "code",
   "execution_count": 139,
   "metadata": {
    "ExecuteTime": {
     "end_time": "2022-04-29T06:56:18.964541Z",
     "start_time": "2022-04-29T06:56:18.954570Z"
    }
   },
   "outputs": [
    {
     "name": "stdout",
     "output_type": "stream",
     "text": [
      "('+', '-', '*')\n",
      "('+', '*', '-')\n",
      "('-', '+', '*')\n",
      "('-', '*', '+')\n",
      "('*', '+', '-')\n",
      "('*', '-', '+')\n"
     ]
    }
   ],
   "source": [
    "unique_ = ['+', '-', '*']\n",
    "for perm in permutations(''.join(unique_), len(unique_)) : \n",
    "    print(perm)"
   ]
  },
  {
   "cell_type": "code",
   "execution_count": 138,
   "metadata": {
    "ExecuteTime": {
     "end_time": "2022-04-29T06:55:51.220038Z",
     "start_time": "2022-04-29T06:55:51.211154Z"
    }
   },
   "outputs": [
    {
     "name": "stdout",
     "output_type": "stream",
     "text": [
      "a\n",
      "b\n",
      "c\n"
     ]
    }
   ],
   "source": [
    "for str in ('a', 'b', 'c') : \n",
    "    print(str)"
   ]
  },
  {
   "cell_type": "code",
   "execution_count": 72,
   "metadata": {
    "ExecuteTime": {
     "end_time": "2022-04-29T06:05:30.356992Z",
     "start_time": "2022-04-29T06:05:30.343953Z"
    }
   },
   "outputs": [
    {
     "data": {
      "text/plain": [
       "'ab'"
      ]
     },
     "execution_count": 72,
     "metadata": {},
     "output_type": "execute_result"
    }
   ],
   "source": [
    "''.join(['a','b'])"
   ]
  },
  {
   "cell_type": "code",
   "execution_count": 73,
   "metadata": {
    "ExecuteTime": {
     "end_time": "2022-04-29T06:08:54.347116Z",
     "start_time": "2022-04-29T06:08:54.330133Z"
    }
   },
   "outputs": [
    {
     "ename": "AttributeError",
     "evalue": "'list' object has no attribute 'find'",
     "output_type": "error",
     "traceback": [
      "\u001b[1;31m---------------------------------------------------------------------------\u001b[0m",
      "\u001b[1;31mAttributeError\u001b[0m                            Traceback (most recent call last)",
      "\u001b[1;32m<ipython-input-73-c5f59e7c9ef8>\u001b[0m in \u001b[0;36m<module>\u001b[1;34m\u001b[0m\n\u001b[1;32m----> 1\u001b[1;33m \u001b[1;33m[\u001b[0m\u001b[1;34m'a'\u001b[0m\u001b[1;33m,\u001b[0m \u001b[1;34m'b'\u001b[0m\u001b[1;33m,\u001b[0m \u001b[1;34m'c'\u001b[0m\u001b[1;33m,\u001b[0m \u001b[1;34m'd'\u001b[0m\u001b[1;33m,\u001b[0m \u001b[1;34m'e'\u001b[0m\u001b[1;33m,\u001b[0m \u001b[1;34m'a'\u001b[0m\u001b[1;33m]\u001b[0m\u001b[1;33m.\u001b[0m\u001b[0mfind\u001b[0m\u001b[1;33m(\u001b[0m\u001b[1;34m'a'\u001b[0m\u001b[1;33m,\u001b[0m\u001b[1;36m0\u001b[0m\u001b[1;33m,\u001b[0m \u001b[1;36m6\u001b[0m\u001b[1;33m)\u001b[0m\u001b[1;33m\u001b[0m\u001b[1;33m\u001b[0m\u001b[0m\n\u001b[0m",
      "\u001b[1;31mAttributeError\u001b[0m: 'list' object has no attribute 'find'"
     ]
    }
   ],
   "source": []
  },
  {
   "cell_type": "code",
   "execution_count": null,
   "metadata": {},
   "outputs": [],
   "source": [
    "for comb in perm :\n",
    "        for k in range(len(unique_)) : \n",
    "            i = 0\n",
    "            while comb[k] in op : \n",
    "                if op[i] == comb[k] :\n",
    "                    num[i] = operation(comb[k], num[i], num[i+1])\n",
    "                    del num[i+1]\n",
    "                    del op[i]\n",
    "                    i -= 1\n",
    "                i += 1\n",
    "        answer.append(abs(int(num[0])))"
   ]
  }
 ],
 "metadata": {
  "hide_input": false,
  "kernelspec": {
   "display_name": "Python 3",
   "language": "python",
   "name": "python3"
  },
  "language_info": {
   "codemirror_mode": {
    "name": "ipython",
    "version": 3
   },
   "file_extension": ".py",
   "mimetype": "text/x-python",
   "name": "python",
   "nbconvert_exporter": "python",
   "pygments_lexer": "ipython3",
   "version": "3.8.5"
  },
  "toc": {
   "base_numbering": 1,
   "nav_menu": {},
   "number_sections": true,
   "sideBar": true,
   "skip_h1_title": false,
   "title_cell": "Table of Contents",
   "title_sidebar": "Contents",
   "toc_cell": false,
   "toc_position": {},
   "toc_section_display": true,
   "toc_window_display": false
  },
  "varInspector": {
   "cols": {
    "lenName": 16,
    "lenType": 16,
    "lenVar": 40
   },
   "kernels_config": {
    "python": {
     "delete_cmd_postfix": "",
     "delete_cmd_prefix": "del ",
     "library": "var_list.py",
     "varRefreshCmd": "print(var_dic_list())"
    },
    "r": {
     "delete_cmd_postfix": ") ",
     "delete_cmd_prefix": "rm(",
     "library": "var_list.r",
     "varRefreshCmd": "cat(var_dic_list()) "
    }
   },
   "types_to_exclude": [
    "module",
    "function",
    "builtin_function_or_method",
    "instance",
    "_Feature"
   ],
   "window_display": false
  }
 },
 "nbformat": 4,
 "nbformat_minor": 4
}
