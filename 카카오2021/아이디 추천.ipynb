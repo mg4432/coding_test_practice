{
 "cells": [
  {
   "cell_type": "code",
   "execution_count": 1,
   "metadata": {
    "ExecuteTime": {
     "end_time": "2022-04-28T04:44:42.981727Z",
     "start_time": "2022-04-28T04:44:42.970754Z"
    }
   },
   "outputs": [],
   "source": [
    "def dot(s) :\n",
    "    pos = 0\n",
    "    while s[0] != '.' : \n",
    "        s = s[1:]\n",
    "        pos += 1\n",
    "    n = 1\n",
    "    for i in range(1, len(s)) : \n",
    "        if s[i] == '.' : \n",
    "            n += 1\n",
    "        else : \n",
    "            break\n",
    "     \n",
    "    return pos, n\n",
    "\n",
    "\n",
    "def solution(new_id) : \n",
    "    abc = ['a', 'b', 'c', 'd', 'e', 'f', 'g', 'h', 'i', 'j', 'k', 'l', 'm', 'n', 'o',\n",
    "           'p', 'q', 'r', 's', 't', 'u', 'v', 'w', 'x', 'y', 'z']\n",
    "    num = ['0', '1', '2', '3', '4', '5', '6', '7', '8', '9']\n",
    "    sym = ['-', '_', '.']\n",
    "    \n",
    "    # 1\n",
    "    low = new_id.lower() \n",
    "    \n",
    "    # 2\n",
    "    id_1 = ''\n",
    "    for s in low : \n",
    "        if s in abc or s in num or s in sym : \n",
    "            id_1 += s\n",
    "    \n",
    "    # 3 \n",
    "    id_2 = ''\n",
    "    for i in id_1 : \n",
    "        if i != '.' : \n",
    "            id_2 += i \n",
    "            \n",
    "        else : \n",
    "            if len(id_2) >= 1  : \n",
    "                if id_2[-1] != '.' :\n",
    "                    id_2 += i\n",
    "    \n",
    "    # 4 \n",
    "    if len(id_2) > 0 :  \n",
    "        if id_2[0] == '.' :\n",
    "            id_2 = id_2[1:]\n",
    "        if id_2[-1] == '.' : \n",
    "            id_2 = id_2[:-1]\n",
    "\n",
    "    # 5\n",
    "    if len(id_2) == 0 :\n",
    "        id_2 = 'a'\n",
    "    \n",
    "    # 6\n",
    "    if len(id_2) >= 16 : \n",
    "        id_2 = id_2[:15]\n",
    "        while id_2[-1] == '.' :\n",
    "            if id_2[-1] == '.' :\n",
    "                id_2 = id_2[:-1]\n",
    "              \n",
    "\n",
    "    if len(id_2) < 3 : \n",
    "        while len(id_2) < 3 : \n",
    "            id_2 += (id_2[-1])       \n",
    "            \n",
    "    return id_2\n",
    "    \n",
    "            \n",
    "        \n",
    "    "
   ]
  },
  {
   "cell_type": "code",
   "execution_count": 3,
   "metadata": {
    "ExecuteTime": {
     "end_time": "2022-04-28T04:44:52.493876Z",
     "start_time": "2022-04-28T04:44:52.483458Z"
    }
   },
   "outputs": [
    {
     "data": {
      "text/plain": [
       "'aaa'"
      ]
     },
     "execution_count": 3,
     "metadata": {},
     "output_type": "execute_result"
    }
   ],
   "source": [
    "solution('=.=')"
   ]
  },
  {
   "cell_type": "code",
   "execution_count": 60,
   "metadata": {
    "ExecuteTime": {
     "end_time": "2022-04-28T05:38:16.182062Z",
     "start_time": "2022-04-28T05:38:16.158051Z"
    }
   },
   "outputs": [],
   "source": [
    "def isValid(c) : \n",
    "    if c.isalnum() : \n",
    "        return True \n",
    "    if c == '-' or c == '_' or c == '.' :\n",
    "        return True \n",
    "    else :\n",
    "        return False \n",
    "\n",
    "def solution(new_id) :    \n",
    "    answer = '' \n",
    "    \n",
    "    lastDot = False # 가장 최근의 문자가 .이었는지를 나타내는 변수\n",
    "    for ch in new_id : \n",
    "        if isValid(ch) == False : \n",
    "            continue \n",
    "        \n",
    "        # 마침표가 처음에 있는 경우 \n",
    "        if ch == '.' : \n",
    "            # answer의 길이가 0이면 첫 번째 글자라는 의미 \n",
    "            # lastDot이 True이면 continue\n",
    "            if len(answer) == 0 or lastDot : \n",
    "                continue\n",
    "            lastDot = True \n",
    "        else : # .이 아니기 때문에 lastDot = False\n",
    "            lastDot = False\n",
    "            # 첫 번째로 오는 .이 아님        \n",
    "        answer += ch\n",
    "    if len(answer) == 0 : \n",
    "        answer += 'a'\n",
    "        \n",
    "    if len(answer) >= 16 : \n",
    "        answer = answer[:15]\n",
    "        \n",
    "    if answer.endswith('.') : \n",
    "        answer = answer[:-1]\n",
    "        \n",
    "    \n",
    "        \n",
    "    if len(answer) <= 2 : \n",
    "        ch = answer[-1:]\n",
    "        while len(answer) < 3 : \n",
    "            answer += ch\n",
    "    \n",
    "    return answer.lower()"
   ]
  },
  {
   "cell_type": "code",
   "execution_count": null,
   "metadata": {},
   "outputs": [],
   "source": []
  }
 ],
 "metadata": {
  "hide_input": false,
  "kernelspec": {
   "display_name": "Python 3",
   "language": "python",
   "name": "python3"
  },
  "language_info": {
   "codemirror_mode": {
    "name": "ipython",
    "version": 3
   },
   "file_extension": ".py",
   "mimetype": "text/x-python",
   "name": "python",
   "nbconvert_exporter": "python",
   "pygments_lexer": "ipython3",
   "version": "3.8.5"
  },
  "toc": {
   "base_numbering": 1,
   "nav_menu": {},
   "number_sections": true,
   "sideBar": true,
   "skip_h1_title": false,
   "title_cell": "Table of Contents",
   "title_sidebar": "Contents",
   "toc_cell": false,
   "toc_position": {},
   "toc_section_display": true,
   "toc_window_display": false
  },
  "varInspector": {
   "cols": {
    "lenName": 16,
    "lenType": 16,
    "lenVar": 40
   },
   "kernels_config": {
    "python": {
     "delete_cmd_postfix": "",
     "delete_cmd_prefix": "del ",
     "library": "var_list.py",
     "varRefreshCmd": "print(var_dic_list())"
    },
    "r": {
     "delete_cmd_postfix": ") ",
     "delete_cmd_prefix": "rm(",
     "library": "var_list.r",
     "varRefreshCmd": "cat(var_dic_list()) "
    }
   },
   "types_to_exclude": [
    "module",
    "function",
    "builtin_function_or_method",
    "instance",
    "_Feature"
   ],
   "window_display": false
  }
 },
 "nbformat": 4,
 "nbformat_minor": 4
}
