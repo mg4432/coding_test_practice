{
 "cells": [
  {
   "cell_type": "code",
   "execution_count": 57,
   "metadata": {
    "ExecuteTime": {
     "end_time": "2022-04-28T07:53:10.225994Z",
     "start_time": "2022-04-28T07:53:10.216024Z"
    }
   },
   "outputs": [],
   "source": [
    "from itertools import combinations \n",
    "\n",
    "def solution(orders, course) : \n",
    "    food_map = [{} for _ in range(11)]\n",
    "    max_cnt = [0 for _ in range(11)]\n",
    "    answer = [] \n",
    "    \n",
    "    for order in orders :\n",
    "        for num in range(2, len(order) + 1) : \n",
    "            for i in combinations(sorted(order), num) :\n",
    "                key = ''.join(i)\n",
    "                \n",
    "                if key in food_map[num] :\n",
    "                    food_map[num][key] += 1 \n",
    "                    max_cnt[num] = max(max_cnt[num], food_map[num][key])\n",
    "                    \n",
    "                else : \n",
    "                    food_map[num][key] = 1 \n",
    "                    \n",
    "    for num in course :\n",
    "        for key, value in food_map[num].items() :\n",
    "            if value >= 2 and value == max_cnt[num] : \n",
    "                answer.append(key)\n",
    "                \n",
    "    return sorted(answer)"
   ]
  },
  {
   "cell_type": "code",
   "execution_count": 58,
   "metadata": {
    "ExecuteTime": {
     "end_time": "2022-04-28T07:53:10.330825Z",
     "start_time": "2022-04-28T07:53:10.320615Z"
    }
   },
   "outputs": [
    {
     "data": {
      "text/plain": [
       "['AC', 'ACDE', 'BCFG', 'CDE']"
      ]
     },
     "execution_count": 58,
     "metadata": {},
     "output_type": "execute_result"
    }
   ],
   "source": [
    "solution(['ABCFG', 'AC', 'CDE', 'ACDE', 'BCFG', 'ACDEH'], [2, 3, 4])"
   ]
  },
  {
   "cell_type": "code",
   "execution_count": null,
   "metadata": {},
   "outputs": [],
   "source": []
  }
 ],
 "metadata": {
  "hide_input": false,
  "kernelspec": {
   "display_name": "Python 3",
   "language": "python",
   "name": "python3"
  },
  "language_info": {
   "codemirror_mode": {
    "name": "ipython",
    "version": 3
   },
   "file_extension": ".py",
   "mimetype": "text/x-python",
   "name": "python",
   "nbconvert_exporter": "python",
   "pygments_lexer": "ipython3",
   "version": "3.8.5"
  },
  "toc": {
   "base_numbering": 1,
   "nav_menu": {},
   "number_sections": true,
   "sideBar": true,
   "skip_h1_title": false,
   "title_cell": "Table of Contents",
   "title_sidebar": "Contents",
   "toc_cell": false,
   "toc_position": {},
   "toc_section_display": true,
   "toc_window_display": false
  },
  "varInspector": {
   "cols": {
    "lenName": 16,
    "lenType": 16,
    "lenVar": 40
   },
   "kernels_config": {
    "python": {
     "delete_cmd_postfix": "",
     "delete_cmd_prefix": "del ",
     "library": "var_list.py",
     "varRefreshCmd": "print(var_dic_list())"
    },
    "r": {
     "delete_cmd_postfix": ") ",
     "delete_cmd_prefix": "rm(",
     "library": "var_list.r",
     "varRefreshCmd": "cat(var_dic_list()) "
    }
   },
   "types_to_exclude": [
    "module",
    "function",
    "builtin_function_or_method",
    "instance",
    "_Feature"
   ],
   "window_display": false
  }
 },
 "nbformat": 4,
 "nbformat_minor": 4
}
