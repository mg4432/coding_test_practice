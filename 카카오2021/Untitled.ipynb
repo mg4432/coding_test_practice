{
 "cells": [
  {
   "cell_type": "code",
   "execution_count": 50,
   "metadata": {
    "ExecuteTime": {
     "end_time": "2022-04-29T07:26:35.658926Z",
     "start_time": "2022-04-29T07:26:35.651945Z"
    }
   },
   "outputs": [],
   "source": [
    "sol1 = [\"DIA\", \"RUBY\", \"RUBY\", \"DIA\", \"DIA\", \"EMERALD\", \"SAPPHIRE\", \"DIA\"]\n",
    "sol2 = [\"XYZ\", \"XYZ\", \"XYZ\"]"
   ]
  },
  {
   "cell_type": "code",
   "execution_count": 106,
   "metadata": {
    "ExecuteTime": {
     "end_time": "2022-04-29T07:36:46.982991Z",
     "start_time": "2022-04-29T07:36:46.973136Z"
    }
   },
   "outputs": [],
   "source": [
    "gems = sol1\n",
    "TYPE_NUM = len(set(gems)) # 종류개수\n",
    "GEM_NUM = len(gems) # 진열대 길이\n",
    "answer = []\n",
    "start, end = 0, 0\n",
    "DIST, INDEX = 0, 1 # 구간, index\n"
   ]
  },
  {
   "cell_type": "code",
   "execution_count": 111,
   "metadata": {
    "ExecuteTime": {
     "end_time": "2022-04-29T07:37:22.357676Z",
     "start_time": "2022-04-29T07:37:22.338727Z"
    }
   },
   "outputs": [
    {
     "data": {
      "text/plain": [
       "{'DIA': 1}"
      ]
     },
     "execution_count": 111,
     "metadata": {},
     "output_type": "execute_result"
    }
   ],
   "source": [
    "# 초기값\n",
    "cur_shop = {gems[0]: 1}\n",
    "cur_shop"
   ]
  },
  {
   "cell_type": "code",
   "execution_count": 121,
   "metadata": {
    "ExecuteTime": {
     "end_time": "2022-04-29T07:40:08.720432Z",
     "start_time": "2022-04-29T07:40:08.703419Z"
    }
   },
   "outputs": [
    {
     "data": {
      "text/plain": [
       "{'DIA': 1}"
      ]
     },
     "execution_count": 121,
     "metadata": {},
     "output_type": "execute_result"
    }
   ],
   "source": [
    "cur_shop.get(1)\n",
    "cur_shop"
   ]
  },
  {
   "cell_type": "code",
   "execution_count": 136,
   "metadata": {
    "ExecuteTime": {
     "end_time": "2022-04-29T07:46:50.870749Z",
     "start_time": "2022-04-29T07:46:50.855883Z"
    }
   },
   "outputs": [],
   "source": [
    "def solution(gems):\n",
    "    TYPE_NUM = len(set(gems)) # 종류개수\n",
    "    GEM_NUM = len(gems) # 진열대 길이\n",
    "    answer = []\n",
    "    start, end = 0, 0\n",
    "    DIST, INDEX = 0, 1 # 구간, index\n",
    "    # 초기값\n",
    "    cur_shop = {gems[0]: 1}\n",
    "    while start < GEM_NUM and end < GEM_NUM:\n",
    "        if len(cur_shop) < TYPE_NUM: # 아직 전체 모음 아님\n",
    "            end += 1\n",
    "            if end == GEM_NUM:\n",
    "                break\n",
    "            cur_shop[gems[end]] = cur_shop.get(gems[end], 0) + 1\n",
    "        else:\n",
    "            answer.append((end-start, [start+1, end+1]))\n",
    "            if cur_shop[gems[start]] >= 1 :\n",
    "                cur_shop[gems[start]] -= 1\n",
    "            if cur_shop[gems[start]] == 0:\n",
    "                del cur_shop[gems[start]]\n",
    "            start += 1\n",
    "    answer = sorted(answer, key=lambda x: (x[DIST], x[INDEX]))\n",
    "    return answer[0][INDEX]"
   ]
  },
  {
   "cell_type": "code",
   "execution_count": 137,
   "metadata": {
    "ExecuteTime": {
     "end_time": "2022-04-29T07:46:57.628271Z",
     "start_time": "2022-04-29T07:46:51.117945Z"
    }
   },
   "outputs": [
    {
     "name": "stderr",
     "output_type": "stream",
     "text": [
      "ERROR:root:Internal Python error in the inspect module.\n",
      "Below is the traceback from this internal error.\n",
      "\n",
      "\n",
      "KeyboardInterrupt\n",
      "\n"
     ]
    }
   ],
   "source": [
    "solution(sol1)"
   ]
  },
  {
   "cell_type": "code",
   "execution_count": null,
   "metadata": {},
   "outputs": [],
   "source": []
  }
 ],
 "metadata": {
  "hide_input": false,
  "kernelspec": {
   "display_name": "Python 3",
   "language": "python",
   "name": "python3"
  },
  "language_info": {
   "codemirror_mode": {
    "name": "ipython",
    "version": 3
   },
   "file_extension": ".py",
   "mimetype": "text/x-python",
   "name": "python",
   "nbconvert_exporter": "python",
   "pygments_lexer": "ipython3",
   "version": "3.8.5"
  },
  "toc": {
   "base_numbering": 1,
   "nav_menu": {},
   "number_sections": true,
   "sideBar": true,
   "skip_h1_title": false,
   "title_cell": "Table of Contents",
   "title_sidebar": "Contents",
   "toc_cell": false,
   "toc_position": {},
   "toc_section_display": true,
   "toc_window_display": false
  },
  "varInspector": {
   "cols": {
    "lenName": 16,
    "lenType": 16,
    "lenVar": 40
   },
   "kernels_config": {
    "python": {
     "delete_cmd_postfix": "",
     "delete_cmd_prefix": "del ",
     "library": "var_list.py",
     "varRefreshCmd": "print(var_dic_list())"
    },
    "r": {
     "delete_cmd_postfix": ") ",
     "delete_cmd_prefix": "rm(",
     "library": "var_list.r",
     "varRefreshCmd": "cat(var_dic_list()) "
    }
   },
   "types_to_exclude": [
    "module",
    "function",
    "builtin_function_or_method",
    "instance",
    "_Feature"
   ],
   "window_display": false
  }
 },
 "nbformat": 4,
 "nbformat_minor": 4
}
