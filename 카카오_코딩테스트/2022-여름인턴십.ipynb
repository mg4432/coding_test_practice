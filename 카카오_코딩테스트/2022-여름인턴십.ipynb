{
 "cells": [
  {
   "cell_type": "markdown",
   "metadata": {},
   "source": [
    "# 두 큐 합 같게 만들기(정답률 43%)"
   ]
  },
  {
   "cell_type": "code",
   "execution_count": 1,
   "metadata": {
    "ExecuteTime": {
     "end_time": "2022-10-06T05:11:30.899395Z",
     "start_time": "2022-10-06T05:11:30.889418Z"
    }
   },
   "outputs": [],
   "source": [
    "from collections import deque\n",
    "\n",
    "def solution(queue1, queue2):\n",
    "    q1, q2 = deque(queue1), deque(queue2) \n",
    "    t1 = sum(q1) \n",
    "    t2 = sum(q2)\n",
    "    \n",
    "    if (t1 + t2) % 2 == 1 : \n",
    "        return -1 \n",
    "    \n",
    "    cnt = 0\n",
    "    while t1 != t2 : \n",
    "        if t1 > t2 : \n",
    "            val = q1.popleft()\n",
    "            q2.append(val)\n",
    "            t1 -= val\n",
    "            t2 += val \n",
    "            cnt += 1\n",
    "        else : \n",
    "            val = q2.popleft()\n",
    "            q1.append(val)\n",
    "            t1 += val \n",
    "            t2 -= val \n",
    "            cnt += 1\n",
    "            \n",
    "        if cnt == max(len(q1), len(q2)) * 4 : \n",
    "            cnt = -1 \n",
    "            break\n",
    "            \n",
    "    return cnt"
   ]
  },
  {
   "cell_type": "markdown",
   "metadata": {},
   "source": [
    "# 성격 유형 검사하기(정답률 39%)"
   ]
  },
  {
   "cell_type": "code",
   "execution_count": 2,
   "metadata": {
    "ExecuteTime": {
     "end_time": "2022-10-06T05:18:22.276012Z",
     "start_time": "2022-10-06T05:18:22.269909Z"
    }
   },
   "outputs": [
    {
     "name": "stdout",
     "output_type": "stream",
     "text": [
      "AN 5\n",
      "CF 3\n",
      "MJ 2\n",
      "RT 7\n",
      "NA 5\n"
     ]
    }
   ],
   "source": [
    "def solution(survey, choices):\n",
    "    answer = ''\n",
    "    \n",
    "    d = {'R' : 0,\n",
    "            'T' : 0,\n",
    "            'C' : 0,\n",
    "            'F' : 0,\n",
    "            'J' : 0,\n",
    "            'M' : 0,\n",
    "            'A' : 0,\n",
    "            'N' : 0}\n",
    "    for sur, cho in zip(survey, choices) : \n",
    "        if cho < 4 : \n",
    "            score = 4 - cho\n",
    "            d[sur[0]] += score\n",
    "        \n",
    "        elif cho > 4 :\n",
    "            score = cho - 4\n",
    "            d[sur[1]] += score\n",
    "            \n",
    "    if d['R'] >= d['T'] : \n",
    "        answer += 'R'\n",
    "    else : \n",
    "        answer += 'T'\n",
    "        \n",
    "    if d['C'] >= d['F'] : \n",
    "        answer += 'C'\n",
    "    else : \n",
    "        answer += 'F'\n",
    "        \n",
    "    if d['J'] >= d['M'] : \n",
    "        answer += 'J'\n",
    "    else : \n",
    "        answer += 'M'\n",
    "        \n",
    "    if d['A'] >= d['N'] : \n",
    "        answer += 'A'\n",
    "    else : \n",
    "        answer += 'N'\n",
    "            \n",
    "    return answer"
   ]
  },
  {
   "cell_type": "markdown",
   "metadata": {},
   "source": [
    "# 코딩 테스트 공부"
   ]
  },
  {
   "cell_type": "code",
   "execution_count": 206,
   "metadata": {
    "ExecuteTime": {
     "end_time": "2022-10-06T08:34:07.247587Z",
     "start_time": "2022-10-06T08:34:07.230629Z"
    }
   },
   "outputs": [],
   "source": [
    "def solution(alp, cop, problems) : \n",
    "    alp_tgt = max([alp_req for alp_req, cop_req, alp_rwd, cop_rwd, cost in problems])\n",
    "    cop_tgt = max([cop_req for alp_req, cop_req, alp_rwd, cop_rwd, cost in problems])\n",
    "    \n",
    "    if alp >= alp_tgt and cop >= cop_tgt :\n",
    "        return 0\n",
    "    \n",
    "    alp_tgt = max(alp_tgt, alp)\n",
    "    cop_tgt = max(cop_tgt, cop)\n",
    "    \n",
    "    problems.append([0, 0, 1, 0, 1])\n",
    "    problems.append([0, 0, 0, 1, 1])\n",
    "    \n",
    "    dp = [[float('inf') for c in range(cop_tgt + 1)] for r in range(alp_tgt + 1)]\n",
    "    dp[alp][cop] = 0 \n",
    "    \n",
    "    for r in range(alp, alp_tgt + 1) : \n",
    "        for c in range(cop, cop_tgt + 1) :\n",
    "            for alp_req, cop_req, alp_rwd, cop_rwd, cost in problems : \n",
    "                if r < alp_req or c < cop_req : \n",
    "                    continue \n",
    "                nr, nc = min(r + alp_rwd, alp_tgt), min(c + cop_rwd, cop_tgt)\n",
    "                dp[nr][nc] = min(dp[nr][nc], dp[r][c] + cost)\n",
    "                \n",
    "    return dp[-1][-1]"
   ]
  },
  {
   "cell_type": "code",
   "execution_count": null,
   "metadata": {},
   "outputs": [],
   "source": []
  },
  {
   "cell_type": "code",
   "execution_count": null,
   "metadata": {},
   "outputs": [],
   "source": []
  }
 ],
 "metadata": {
  "hide_input": false,
  "kernelspec": {
   "display_name": "Python 3",
   "language": "python",
   "name": "python3"
  },
  "toc": {
   "base_numbering": 1,
   "nav_menu": {},
   "number_sections": true,
   "sideBar": true,
   "skip_h1_title": false,
   "title_cell": "Table of Contents",
   "title_sidebar": "Contents",
   "toc_cell": false,
   "toc_position": {},
   "toc_section_display": true,
   "toc_window_display": false
  },
  "varInspector": {
   "cols": {
    "lenName": 16,
    "lenType": 16,
    "lenVar": 40
   },
   "kernels_config": {
    "python": {
     "delete_cmd_postfix": "",
     "delete_cmd_prefix": "del ",
     "library": "var_list.py",
     "varRefreshCmd": "print(var_dic_list())"
    },
    "r": {
     "delete_cmd_postfix": ") ",
     "delete_cmd_prefix": "rm(",
     "library": "var_list.r",
     "varRefreshCmd": "cat(var_dic_list()) "
    }
   },
   "types_to_exclude": [
    "module",
    "function",
    "builtin_function_or_method",
    "instance",
    "_Feature"
   ],
   "window_display": false
  }
 },
 "nbformat": 4,
 "nbformat_minor": 4
}
