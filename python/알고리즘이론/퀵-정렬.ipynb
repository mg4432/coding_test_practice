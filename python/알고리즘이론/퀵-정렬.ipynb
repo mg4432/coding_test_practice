{
 "cells": [
  {
   "cell_type": "markdown",
   "metadata": {},
   "source": [
    "# 퀵 정렬"
   ]
  },
  {
   "cell_type": "markdown",
   "metadata": {},
   "source": [
    "## 퀵 정렬 (quick sort) 이란?\n",
    "* <font color='#BF360C'>정렬 알고리즘의 꽃</font>\n",
    "* 기준점(pivot 이라고 부름)을 정해서, 기준점보다 작은 데이터는 왼쪽(left), 큰 데이터는 오른쪽(right) 으로 모으는 함수를 작성함\n",
    "* 각 왼쪽(left), 오른쪽(right)은 재귀용법을 사용해서 다시 동일 함수를 호출하여 위 작업을 반복함\n",
    "* 함수는 왼쪽(left) + 기준점(pivot) + 오른쪽(right) 을 리턴함"
   ]
  },
  {
   "cell_type": "markdown",
   "metadata": {},
   "source": [
    "## 어떻게 구현?\n",
    "> 퀵 정렬 알고리즘에 대해서는 위에서 언급이 되었으므로, 이를 구현하기 위한 세부 코드에 대해 연습을 통해 이해"
   ]
  },
  {
   "cell_type": "code",
   "execution_count": 1,
   "metadata": {
    "ExecuteTime": {
     "end_time": "2022-09-12T07:43:57.060114Z",
     "start_time": "2022-09-12T07:43:57.053133Z"
    },
    "code_folding": []
   },
   "outputs": [],
   "source": [
    "def qsort(lst) : \n",
    "    pivot = lst[0] \n",
    "    \n",
    "    for n in range(1, len(lst)) : \n",
    "        if lst[n] < pivot : # n번째 값이 pivot보다 작으면 left로\n",
    "            left.append(lst[n])\n",
    "        else : # n번째 값이 pivot보다 크면 right로 \n",
    "            right.append(lst[n])"
   ]
  },
  {
   "cell_type": "markdown",
   "metadata": {},
   "source": [
    "위의 과정을 재귀적으로 반복"
   ]
  },
  {
   "cell_type": "code",
   "execution_count": 25,
   "metadata": {
    "ExecuteTime": {
     "end_time": "2022-09-12T07:50:15.180834Z",
     "start_time": "2022-09-12T07:50:15.160119Z"
    }
   },
   "outputs": [],
   "source": [
    "def qsort(lst) : \n",
    "    if len(lst) <= 1 : \n",
    "        return lst \n",
    "    \n",
    "    pivot = lst[0]   \n",
    "    left = []\n",
    "    right = []\n",
    "    \n",
    "    for n in range(1, len(lst)) : \n",
    "        if lst[n] < pivot : \n",
    "            left.append(lst[n])\n",
    "        else : \n",
    "            right.append(lst[n])\n",
    "    \n",
    "    return qsort(left) + [pivot] + qsort(right)"
   ]
  },
  {
   "cell_type": "code",
   "execution_count": 27,
   "metadata": {
    "ExecuteTime": {
     "end_time": "2022-09-12T07:53:09.953741Z",
     "start_time": "2022-09-12T07:53:09.937725Z"
    }
   },
   "outputs": [
    {
     "name": "stdout",
     "output_type": "stream",
     "text": [
      "[96, 26, 48, 34, 61, 99, 94, 71, 58, 52]\n",
      "[26, 34, 48, 52, 58, 61, 71, 94, 96, 99]\n"
     ]
    }
   ],
   "source": [
    "import random \n",
    "\n",
    "data_lst = random.sample(range(100), 10)\n",
    "print(data_lst)\n",
    "print(qsort(data_lst))"
   ]
  },
  {
   "cell_type": "markdown",
   "metadata": {},
   "source": [
    "list comprehension을 이용 "
   ]
  },
  {
   "cell_type": "code",
   "execution_count": 31,
   "metadata": {
    "ExecuteTime": {
     "end_time": "2022-09-12T08:04:06.658443Z",
     "start_time": "2022-09-12T08:04:06.648503Z"
    },
    "code_folding": []
   },
   "outputs": [],
   "source": [
    "def qsort(lst) : \n",
    "    if len(lst) <= 1 : \n",
    "        return lst \n",
    "    \n",
    "    pivot = lst[0]   \n",
    "    left = []\n",
    "    right = []\n",
    "    \n",
    "    left = [item for item in lst[1:] if item < pivot]\n",
    "    right = [item for item in lst[1:] if item >= pivot]\n",
    "    \n",
    "    return qsort(left) + [pivot] + qsort(right)"
   ]
  },
  {
   "cell_type": "code",
   "execution_count": 29,
   "metadata": {
    "ExecuteTime": {
     "end_time": "2022-09-12T07:55:57.161820Z",
     "start_time": "2022-09-12T07:55:57.146860Z"
    }
   },
   "outputs": [
    {
     "name": "stdout",
     "output_type": "stream",
     "text": [
      "[80, 76, 57, 34, 17, 26, 2, 15, 38, 82]\n",
      "[2, 15, 17, 26, 34, 38, 57, 76, 80, 82]\n"
     ]
    }
   ],
   "source": [
    "import random \n",
    "\n",
    "data_lst = random.sample(range(100), 10)\n",
    "print(data_lst)\n",
    "print(qsort(data_lst))"
   ]
  },
  {
   "cell_type": "markdown",
   "metadata": {
    "collapsed": true
   },
   "source": [
    "## 알고리즘 분석\n",
    "* <font color='#BF360C'>병합정렬과 유사, 시간복잡도는 O(n log n)</font>\n",
    "  - 단, 최악의 경우 \n",
    "    - 맨 처음 pivot이 가장 크거나, 가장 작으면\n",
    "    - 모든 데이터를 비교하는 상황이 나옴\n",
    "    - O($n^2$)\n",
    "<img src=\"https://www.fun-coding.org/00_Images/quicksortworks.jpg\" />\n"
   ]
  },
  {
   "cell_type": "code",
   "execution_count": null,
   "metadata": {},
   "outputs": [],
   "source": []
  }
 ],
 "metadata": {
  "hide_input": false,
  "kernelspec": {
   "display_name": "Python 3",
   "language": "python",
   "name": "python3"
  },
  "language_info": {
   "codemirror_mode": {
    "name": "ipython",
    "version": 3
   },
   "file_extension": ".py",
   "mimetype": "text/x-python",
   "name": "python",
   "nbconvert_exporter": "python",
   "pygments_lexer": "ipython3",
   "version": "3.8.5"
  },
  "nbTranslate": {
   "displayLangs": [
    "*"
   ],
   "hotkey": "alt-t",
   "langInMainMenu": true,
   "sourceLang": "en",
   "targetLang": "fr",
   "useGoogleTranslate": true
  },
  "toc": {
   "base_numbering": 1,
   "nav_menu": {},
   "number_sections": true,
   "sideBar": true,
   "skip_h1_title": false,
   "title_cell": "Table of Contents",
   "title_sidebar": "Contents",
   "toc_cell": false,
   "toc_position": {},
   "toc_section_display": true,
   "toc_window_display": true
  },
  "varInspector": {
   "cols": {
    "lenName": 16,
    "lenType": 16,
    "lenVar": 40
   },
   "kernels_config": {
    "python": {
     "delete_cmd_postfix": "",
     "delete_cmd_prefix": "del ",
     "library": "var_list.py",
     "varRefreshCmd": "print(var_dic_list())"
    },
    "r": {
     "delete_cmd_postfix": ") ",
     "delete_cmd_prefix": "rm(",
     "library": "var_list.r",
     "varRefreshCmd": "cat(var_dic_list()) "
    }
   },
   "types_to_exclude": [
    "module",
    "function",
    "builtin_function_or_method",
    "instance",
    "_Feature"
   ],
   "window_display": false
  }
 },
 "nbformat": 4,
 "nbformat_minor": 1
}
