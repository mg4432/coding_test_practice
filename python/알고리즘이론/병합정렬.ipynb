{
 "cells": [
  {
   "cell_type": "markdown",
   "metadata": {},
   "source": [
    "# 병합 정렬 (merge sort) "
   ]
  },
  {
   "cell_type": "markdown",
   "metadata": {},
   "source": [
    "- 재귀용법을 활용한 정렬 알고리즘\n",
    "  1. 리스트를 절반으로 잘라 비슷한 크기의 두 부분 리스트로 나눈다.\n",
    "  2. 각 부분 리스트를 재귀적으로 병합 정렬을 이용해 정렬한다.\n",
    "  3. 두 부분 리스트를 다시 하나의 정렬된 리스트로 병합한다.\n",
    "\n",
    "https://visualgo.net/en/sorting\n",
    "\n",
    "<img src=\"https://upload.wikimedia.org/wikipedia/commons/c/cc/Merge-sort-example-300px.gif\" width=500/>\n",
    "\n",
    "출처: [위키피디아](https://ko.wikipedia.org/wiki/%ED%95%A9%EB%B3%91_%EC%A0%95%EB%A0%AC)"
   ]
  },
  {
   "cell_type": "markdown",
   "metadata": {},
   "source": [
    "## 알고리즘 이해\n",
    "데이터가 네 개 일때 (데이터 갯수에 따라 복잡도가 떨어지는 것은 아니므로, 네 개로 바로 로직을 이해해보자.)\n",
    "- 예: data_list = [1, 9, 3, 2]\n",
    "- 먼저 [1, 9], [3, 2] 로 나누고\n",
    "- 다시 앞 부분은 [1], [9] 로 나누고\n",
    "- 다시 정렬해서 합친다. [1, 9]\n",
    "- 다음 [3, 2] 는 [3], [2] 로 나누고\n",
    "- 다시 정렬해서 합친다 [2, 3]\n",
    "- 이제 [1, 9] 와 [2, 3]을 합친다.\n",
    "  - 1 < 2 이니 [1]\n",
    "  - 9 > 2 이니 [1, 2]\n",
    "  - 9 > 3 이니 [1, 2, 3]\n",
    "  - 9 밖에 없으니, [1, 2, 3, 9]"
   ]
  },
  {
   "cell_type": "markdown",
   "metadata": {},
   "source": [
    "**재귀용법으로 리스트를 분할하는 함수와 분할된 리스트를 병합하는 함수 2개가 필요하다.**"
   ]
  },
  {
   "cell_type": "markdown",
   "metadata": {},
   "source": [
    "## 알고리즘 구현\n",
    "* mergesplit 함수 만들기\n",
    "  - 만약 리스트 갯수가 한개이면 해당 값 리턴\n",
    "  - 그렇지 않으면, 리스트를 앞뒤, 두 개로 나누기\n",
    "  - left = mergesplit(앞)\n",
    "  - right = mergesplit(뒤)\n",
    "  - merge(left, right)\n",
    "\n",
    "* merge 함수 만들기\n",
    "  - 리스트 변수 하나 만들기 (sorted)\n",
    "  - left_index, right_index = 0\n",
    "  - while left_index < len(left) or right_index < len(right):\n",
    "    - 만약 left_index 나 right_index 가 이미 left 또는 right 리스트를 다 순회했다면, 그 반대쪽 데이터를 그대로 넣고, 해당 인덱스 1 증가\n",
    "    - if left[left_index] < right[right_index]:\n",
    "      - sorted.append(left[left_index])\n",
    "      - left_index += 1\n",
    "    - else:\n",
    "      - sorted.append(right[right_index])\n",
    "      - right_index += 1"
   ]
  },
  {
   "cell_type": "markdown",
   "metadata": {},
   "source": [
    "## 작은 부분부터 작성해서 하나씩 구현하기\n",
    "- 주어진 리스트를 2개의 리스트로 분할하기"
   ]
  },
  {
   "cell_type": "code",
   "execution_count": 22,
   "metadata": {
    "ExecuteTime": {
     "end_time": "2022-09-17T07:04:08.568260Z",
     "start_time": "2022-09-17T07:04:08.562215Z"
    }
   },
   "outputs": [],
   "source": [
    "def split(lst) :\n",
    "    if len(lst) == 1 : \n",
    "        print(lst)\n",
    "    mid = int(len(lst) / 2)\n",
    "    left = lst[:mid]\n",
    "    right = lst[mid:]\n",
    "    print(left, right)"
   ]
  },
  {
   "cell_type": "code",
   "execution_count": 23,
   "metadata": {
    "ExecuteTime": {
     "end_time": "2022-09-17T07:04:08.751157Z",
     "start_time": "2022-09-17T07:04:08.735150Z"
    }
   },
   "outputs": [
    {
     "name": "stdout",
     "output_type": "stream",
     "text": [
      "[1, 5, 2] [6, 2, 2, 1]\n"
     ]
    }
   ],
   "source": [
    "split([1,5,2,6,2,2,1])"
   ]
  },
  {
   "cell_type": "markdown",
   "metadata": {},
   "source": [
    "## 재귀용법 활용하기\n",
    "- 주어진 리스트를 2개의 리스트로 분할하는 과정을 반복해서 더 이상 분할할 수 없을 때까지 분할하기"
   ]
  },
  {
   "cell_type": "code",
   "execution_count": 30,
   "metadata": {
    "ExecuteTime": {
     "end_time": "2022-09-17T07:14:28.680419Z",
     "start_time": "2022-09-17T07:14:28.669472Z"
    }
   },
   "outputs": [],
   "source": [
    "def merge(left, right) : \n",
    "    lp = 0 \n",
    "    rp = 0 \n",
    "    res = list() \n",
    "    \n",
    "    while lp < len(left) and rp < len(right) : \n",
    "        if left[lp] < right[rp] :\n",
    "            res.append(left[lp])\n",
    "            lp += 1 \n",
    "        else : \n",
    "            res.append(right[rp])\n",
    "            rp += 1 \n",
    "        \n",
    "    if lp < len(left) : \n",
    "        res += left[lp:]\n",
    "    else : \n",
    "        res += right[rp:] \n",
    "        \n",
    "    return res"
   ]
  },
  {
   "cell_type": "code",
   "execution_count": 45,
   "metadata": {
    "ExecuteTime": {
     "end_time": "2022-09-17T07:18:37.633529Z",
     "start_time": "2022-09-17T07:18:37.629256Z"
    }
   },
   "outputs": [],
   "source": [
    "def splitmerge(lst) : \n",
    "    if len(lst) == 1 : \n",
    "        return lst \n",
    "    mid = int(len(lst)/2)\n",
    "    left = splitmerge(lst[:mid])\n",
    "    right = splitmerge(lst[mid:])\n",
    "    return merge(left, right)"
   ]
  },
  {
   "cell_type": "code",
   "execution_count": 46,
   "metadata": {
    "ExecuteTime": {
     "end_time": "2022-09-17T07:18:38.637729Z",
     "start_time": "2022-09-17T07:18:38.625822Z"
    }
   },
   "outputs": [
    {
     "data": {
      "text/plain": [
       "[333, 441, 141, 890, 805, 799, 61, 545, 274, 347]"
      ]
     },
     "execution_count": 46,
     "metadata": {},
     "output_type": "execute_result"
    }
   ],
   "source": [
    "import random\n",
    "example = random.sample(range(1000), 10)\n",
    "example"
   ]
  },
  {
   "cell_type": "code",
   "execution_count": 47,
   "metadata": {
    "ExecuteTime": {
     "end_time": "2022-09-17T07:18:38.940697Z",
     "start_time": "2022-09-17T07:18:38.930693Z"
    }
   },
   "outputs": [
    {
     "data": {
      "text/plain": [
       "[61, 141, 274, 333, 347, 441, 545, 799, 805, 890]"
      ]
     },
     "execution_count": 47,
     "metadata": {},
     "output_type": "execute_result"
    }
   ],
   "source": [
    "mergesplit(example)"
   ]
  },
  {
   "cell_type": "markdown",
   "metadata": {},
   "source": [
    "## 알고리즘 분석\n",
    "* 알고리즘 분석은 쉽지 않음, <font color='#BF360C'>이 부분은 참고로만 알아두자.</font>\n",
    "  - 다음을 보고 이해해보자\n",
    "    - 몇 단계 깊이까지 만들어지는지를 depth 라고 하고 i로 놓자. 맨 위 단계는 0으로 놓자.\n",
    "      - 다음 그림에서 n/$2^2$ 는 2단계 깊이라고 해보자.\n",
    "      - 각 단계에 있는 하나의 노드 안의 리스트 길이는 n/$2^2$ 가 된다.\n",
    "      - 각 단계에는 $2^i$ 개의 노드가 있다.\n",
    "    - 따라서, 각 단계는 항상 <font size=4em>$2^i * \\frac { n }{ 2^i } = O(n)$</font>\n",
    "    - 단계는 항상 $log_2 n$ 개 만큼 만들어짐, 시간 복잡도는 결국 O(log n), 2는 역시 상수이므로 삭제\n",
    "    - 따라서, 단계별 시간 복잡도 O(n) * O(log n) = O(n log n)\n",
    "\n",
    "<img src=\"https://www.fun-coding.org/00_Images/mergesortcomplexity.png\" />\n",
    "\n"
   ]
  },
  {
   "cell_type": "markdown",
   "metadata": {},
   "source": [
    "# 코드 복습"
   ]
  },
  {
   "cell_type": "code",
   "execution_count": 71,
   "metadata": {
    "ExecuteTime": {
     "end_time": "2022-09-17T07:40:35.380270Z",
     "start_time": "2022-09-17T07:40:35.365390Z"
    }
   },
   "outputs": [],
   "source": [
    "def merge(left, right) : \n",
    "    lp = 0 \n",
    "    rp = 0 \n",
    "    res = list() \n",
    "    \n",
    "    while lp < len(left) and rp < len(right) : \n",
    "        if left[lp] < right[rp] :\n",
    "            res.append(left[lp])\n",
    "            lp += 1 \n",
    "        else : \n",
    "            res.append(right[rp])\n",
    "            rp += 1 \n",
    "        \n",
    "    if lp < len(left) : \n",
    "        res += left[lp:]\n",
    "    else : \n",
    "        res += right[rp:] \n",
    "        \n",
    "    return res\n",
    "        \n",
    "def merge_split(lst) : \n",
    "    if len(lst) == 1 : \n",
    "        return lst \n",
    "    mid = int(len(lst)/2)\n",
    "    left = merge_split(lst[:mid])\n",
    "    right = merge_split(lst[mid:])\n",
    "    return merge(left, right)"
   ]
  },
  {
   "cell_type": "code",
   "execution_count": 72,
   "metadata": {
    "ExecuteTime": {
     "end_time": "2022-09-17T07:40:35.501479Z",
     "start_time": "2022-09-17T07:40:35.491535Z"
    }
   },
   "outputs": [
    {
     "data": {
      "text/plain": [
       "[177, 396, 625, 118, 225, 792, 435, 351, 791, 522]"
      ]
     },
     "execution_count": 72,
     "metadata": {},
     "output_type": "execute_result"
    }
   ],
   "source": [
    "import random \n",
    "ex = random.sample(range(1000), 10)\n",
    "ex"
   ]
  },
  {
   "cell_type": "code",
   "execution_count": 73,
   "metadata": {
    "ExecuteTime": {
     "end_time": "2022-09-17T07:40:35.652307Z",
     "start_time": "2022-09-17T07:40:35.637311Z"
    }
   },
   "outputs": [
    {
     "data": {
      "text/plain": [
       "[118, 177, 225, 351, 396, 435, 522, 625, 791, 792]"
      ]
     },
     "execution_count": 73,
     "metadata": {},
     "output_type": "execute_result"
    }
   ],
   "source": [
    "merge_split(ex)"
   ]
  },
  {
   "cell_type": "code",
   "execution_count": null,
   "metadata": {},
   "outputs": [],
   "source": []
  }
 ],
 "metadata": {
  "hide_input": false,
  "kernelspec": {
   "display_name": "Python 3",
   "language": "python",
   "name": "python3"
  },
  "language_info": {
   "codemirror_mode": {
    "name": "ipython",
    "version": 3
   },
   "file_extension": ".py",
   "mimetype": "text/x-python",
   "name": "python",
   "nbconvert_exporter": "python",
   "pygments_lexer": "ipython3",
   "version": "3.8.5"
  },
  "nbTranslate": {
   "displayLangs": [
    "*"
   ],
   "hotkey": "alt-t",
   "langInMainMenu": true,
   "sourceLang": "en",
   "targetLang": "fr",
   "useGoogleTranslate": true
  },
  "toc": {
   "base_numbering": 1,
   "nav_menu": {},
   "number_sections": true,
   "sideBar": true,
   "skip_h1_title": false,
   "title_cell": "Table of Contents",
   "title_sidebar": "Contents",
   "toc_cell": false,
   "toc_position": {},
   "toc_section_display": true,
   "toc_window_display": true
  },
  "varInspector": {
   "cols": {
    "lenName": 16,
    "lenType": 16,
    "lenVar": 40
   },
   "kernels_config": {
    "python": {
     "delete_cmd_postfix": "",
     "delete_cmd_prefix": "del ",
     "library": "var_list.py",
     "varRefreshCmd": "print(var_dic_list())"
    },
    "r": {
     "delete_cmd_postfix": ") ",
     "delete_cmd_prefix": "rm(",
     "library": "var_list.r",
     "varRefreshCmd": "cat(var_dic_list()) "
    }
   },
   "types_to_exclude": [
    "module",
    "function",
    "builtin_function_or_method",
    "instance",
    "_Feature"
   ],
   "window_display": false
  }
 },
 "nbformat": 4,
 "nbformat_minor": 1
}
