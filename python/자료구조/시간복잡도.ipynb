{
 "cells": [
  {
   "cell_type": "markdown",
   "metadata": {},
   "source": [
    "## 알고리즘 복잡도 표현 방법 "
   ]
  },
  {
   "cell_type": "markdown",
   "metadata": {},
   "source": [
    "### 1. 알고리즘 복잡도 계산이 필요한 이유 "
   ]
  },
  {
   "cell_type": "markdown",
   "metadata": {},
   "source": [
    "**하나의 문제를 푸는 방법은 다양할 수 있음**\n",
    "- ex. 정수의 절댓값 구하기\n",
    " - 방법 1 : 정수값을 제곱한 뒤에 다시 루트를 씌우기\n",
    " - 방법 2 : 정수가 음수인지 확인해서 음수일 때만 -1 곱하기"
   ]
  },
  {
   "cell_type": "markdown",
   "metadata": {},
   "source": [
    "> 다양한 알고리즘 중 어느 알고리즘이 더 좋은지를 분석하기 위해 복잡도를 정의하고 계산함"
   ]
  },
  {
   "cell_type": "code",
   "execution_count": 59,
   "metadata": {
    "ExecuteTime": {
     "end_time": "2021-12-22T12:17:25.790932Z",
     "start_time": "2021-12-22T12:17:25.774941Z"
    }
   },
   "outputs": [],
   "source": [
    "a = list(range(-5000,5000))"
   ]
  },
  {
   "cell_type": "markdown",
   "metadata": {},
   "source": [
    "**방법 1** "
   ]
  },
  {
   "cell_type": "code",
   "execution_count": 61,
   "metadata": {
    "ExecuteTime": {
     "end_time": "2021-12-22T12:17:40.224740Z",
     "start_time": "2021-12-22T12:17:40.214804Z"
    }
   },
   "outputs": [
    {
     "data": {
      "text/plain": [
       "0.0009980201721191406"
      ]
     },
     "execution_count": 61,
     "metadata": {},
     "output_type": "execute_result"
    }
   ],
   "source": [
    "start = time.time()\n",
    "\n",
    "res1 = np.sqrt(np.square(a))\n",
    "\n",
    "end = time.time()\n",
    "\n",
    "end - start"
   ]
  },
  {
   "cell_type": "markdown",
   "metadata": {},
   "source": [
    "**방법 2**"
   ]
  },
  {
   "cell_type": "code",
   "execution_count": 77,
   "metadata": {
    "ExecuteTime": {
     "end_time": "2021-12-22T12:25:30.067845Z",
     "start_time": "2021-12-22T12:25:30.054301Z"
    }
   },
   "outputs": [
    {
     "data": {
      "text/plain": [
       "0.003988742828369141"
      ]
     },
     "execution_count": 77,
     "metadata": {},
     "output_type": "execute_result"
    }
   ],
   "source": [
    "start = time.time()\n",
    "for i in range(len(a)) : \n",
    "    if a[i] >= 0 : \n",
    "        a[i] = a[i] \n",
    "    else :\n",
    "        a[i] = -a[i]\n",
    "end = time.time()\n",
    "\n",
    "end - start"
   ]
  },
  {
   "cell_type": "markdown",
   "metadata": {},
   "source": [
    "### 2. 알고리즘 복잡도 계산 항목\n",
    "1. **시간 복잡도** : 알고리즘 실행 속도 \n",
    "2. **공간 복잡도** : 알고리즘이 사용하는 메모리 사이즈 "
   ]
  },
  {
   "cell_type": "markdown",
   "metadata": {},
   "source": [
    "> 가장 중요한 시간 복잡도를 꼭 이해하고 계산할 수 있어야 함 "
   ]
  },
  {
   "cell_type": "markdown",
   "metadata": {},
   "source": [
    "**알고리즘 시간 복잡도의 주요 요소**\n",
    "> 반복문이 지배"
   ]
  },
  {
   "cell_type": "markdown",
   "metadata": {},
   "source": [
    "**알고리즘 성능 표기법**\n",
    "- Big O 표기법 : $O(N)$\n",
    " - 알고리즘 최악의 실행 시간을 표기\n",
    " - 가장 많이, 일반적으로 사용함\n",
    " - 아무리 최악의 상황이라도 이 정도의 성능은 보장한다는 의미\n",
    " \n",
    "- $\\Omega$  표기법 : $\\Omega(N)$\n",
    " - 오메가 표기법은 알고리즘 최상의 실행 시간을 표기\n",
    "- $\\Theta$ 표기법 : $\\Theta(N)$\n",
    " - 세타 표기법은 알고리즘 평균 실행시간을 표기\n",
    " \n",
    " > 시간 복잡도 계산은 반복문이 핵심 요소임을 인지하고, 계산 표기는 최상, 평균, 최악 중 최악의 시간인 Big O 표기법을 중심으로 익히면 됨 "
   ]
  },
  {
   "cell_type": "markdown",
   "metadata": {},
   "source": [
    "### 3. Big O 표기법"
   ]
  },
  {
   "cell_type": "markdown",
   "metadata": {},
   "source": [
    "- 입력 n의 크기에 따라 기하급수적으로 시간 복잡도가 늘어날 수 있음\n",
    " - $O(1) < O(logn) < O(n) < O(logn) < O(n^2) < O(2^n) < O(n!)$\n",
    " \n",
    "- 단순히 입력 n에 따라 몇 번 실행이 되는지를 계산하면 된다.\n",
    " - 표현식에 가장 큰 영향을 미치는 n의 단위로 표기\n",
    " - n이 어떤 값을 갖는지에 관계없이 실행을\n",
    "     - 2회(상수회) 실행 : O(1)\n",
    "     - n번, n+10번, 3n+100번 실행 : O($n$)\n",
    "     - $n^2$번, $n^2$+1000번 실행 : O($n^2$)"
   ]
  },
  {
   "cell_type": "markdown",
   "metadata": {},
   "source": [
    "### 4. 실제 알고리즘을 예로 각 알고리즘의 시간 복잡도와 Big-O 표기법 알아보기"
   ]
  },
  {
   "cell_type": "markdown",
   "metadata": {},
   "source": [
    "**연습 1 : 1부터 n까지의 합을 구하기**"
   ]
  },
  {
   "cell_type": "markdown",
   "metadata": {},
   "source": [
    "**알고리즘 1 : 1부터 n까지의 합을 구하는 알고리즘 1**\n",
    "- 합을 기록할 변수를 만들고 0을 저장 \n",
    "- n을 1부터 1씩 증가하면서 반복\n",
    "- 반복문 안에서 합을 기록할 변수에 1씩 증가된 값을 더함 \n",
    "- 반복이 끝나면 합을 출력"
   ]
  },
  {
   "cell_type": "code",
   "execution_count": 91,
   "metadata": {
    "ExecuteTime": {
     "end_time": "2021-12-22T13:10:46.161451Z",
     "start_time": "2021-12-22T13:10:46.152825Z"
    }
   },
   "outputs": [],
   "source": [
    "def sum_all1(n) : \n",
    "    total = 0 \n",
    "    for num in range(1, n+1) : \n",
    "        total += num\n",
    "    return total"
   ]
  },
  {
   "cell_type": "code",
   "execution_count": 97,
   "metadata": {
    "ExecuteTime": {
     "end_time": "2021-12-22T13:11:39.213436Z",
     "start_time": "2021-12-22T13:11:30.535413Z"
    }
   },
   "outputs": [
    {
     "data": {
      "text/plain": [
       "8.66305947303772"
      ]
     },
     "execution_count": 97,
     "metadata": {},
     "output_type": "execute_result"
    }
   ],
   "source": [
    "start = time.time()\n",
    "sum_all1(100000000)\n",
    "end = time.time()\n",
    "end - start"
   ]
  },
  {
   "cell_type": "markdown",
   "metadata": {},
   "source": [
    "**알고리즘 2 : 1부터 n까지의 합을 구하는 알고리즘 1**\n",
    "- $\\dfrac{n(n+1)}{2}$"
   ]
  },
  {
   "cell_type": "code",
   "execution_count": 98,
   "metadata": {
    "ExecuteTime": {
     "end_time": "2021-12-22T13:11:39.243847Z",
     "start_time": "2021-12-22T13:11:39.232479Z"
    }
   },
   "outputs": [],
   "source": [
    "def sum_all2(n) : \n",
    "    return int(n * (n+1) / 2)"
   ]
  },
  {
   "cell_type": "code",
   "execution_count": 99,
   "metadata": {
    "ExecuteTime": {
     "end_time": "2021-12-22T13:11:39.275252Z",
     "start_time": "2021-12-22T13:11:39.261816Z"
    }
   },
   "outputs": [
    {
     "data": {
      "text/plain": [
       "0.0002276897430419922"
      ]
     },
     "execution_count": 99,
     "metadata": {},
     "output_type": "execute_result"
    }
   ],
   "source": [
    "start = time.time()\n",
    "sum_all2(100000000)\n",
    "end = time.time()\n",
    "end - start"
   ]
  },
  {
   "cell_type": "markdown",
   "metadata": {},
   "source": [
    "**시간 복잡도 계산하기**\n",
    "- 1부터 n까지 합을 구하는 알고리즘 1 \n",
    " - 입력 n에 따라 덧셈을 n번 해야함(반복문) \n",
    " - 시간 복잡도 : n, [$O(n)$]\n",
    " \n",
    "- 알고리즘 2 \n",
    " - 시간 복잡도 : $O(1)$"
   ]
  },
  {
   "cell_type": "markdown",
   "metadata": {},
   "source": [
    "**알고리즘 성능 비교**\n",
    "- 알고리즘 1 vs 알고리즘 2 \n",
    " - O(n) vs O(1)\n",
    " > 동일한 문제를 푸는 알고리즘은 다양할 수 있다. 이 때 어느 알고리즘이 더 좋은지를 객관적으로 비교하기 위해 Big-O 표기법 등의 시간복잡도 계산법을 사용한다."
   ]
  }
 ],
 "metadata": {
  "hide_input": false,
  "kernelspec": {
   "display_name": "Python 3",
   "language": "python",
   "name": "python3"
  },
  "language_info": {
   "codemirror_mode": {
    "name": "ipython",
    "version": 3
   },
   "file_extension": ".py",
   "mimetype": "text/x-python",
   "name": "python",
   "nbconvert_exporter": "python",
   "pygments_lexer": "ipython3",
   "version": "3.8.5"
  },
  "varInspector": {
   "cols": {
    "lenName": 16,
    "lenType": 16,
    "lenVar": 40
   },
   "kernels_config": {
    "python": {
     "delete_cmd_postfix": "",
     "delete_cmd_prefix": "del ",
     "library": "var_list.py",
     "varRefreshCmd": "print(var_dic_list())"
    },
    "r": {
     "delete_cmd_postfix": ") ",
     "delete_cmd_prefix": "rm(",
     "library": "var_list.r",
     "varRefreshCmd": "cat(var_dic_list()) "
    }
   },
   "types_to_exclude": [
    "module",
    "function",
    "builtin_function_or_method",
    "instance",
    "_Feature"
   ],
   "window_display": false
  }
 },
 "nbformat": 4,
 "nbformat_minor": 4
}
