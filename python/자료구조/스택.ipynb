{
 "cells": [
  {
   "cell_type": "markdown",
   "metadata": {
    "ExecuteTime": {
     "end_time": "2021-12-21T02:48:32.332879Z",
     "start_time": "2021-12-21T02:48:32.316910Z"
    }
   },
   "source": [
    "## 스택(Stack)\n",
    "- 데이터에 제한적으로 접근할 수 있는 구조 \n",
    " - 한쪽 끝에서만 자료를 넣거나 뺄 수 있는 구조 \n",
    "\n",
    "- 가장 나중에 쌓은 데이터를 가장 먼저 빼낼 수 있는 데이터 구조 \n",
    " - 큐 : FIFO\n",
    " - 스택 : LIFO"
   ]
  },
  {
   "cell_type": "markdown",
   "metadata": {},
   "source": [
    "### 1. 스택 구조 \n",
    "- 스택은 LIFO 데이터 관리 방식을 따름\n",
    "- 대표적인 스택의 활용 \n",
    " - 컴퓨터 내부의 프로세스 구조의 함수 동작 방식 \n",
    "    \n",
    "- 주요 기능 \n",
    " - push() : 데이터를 스택에 넣기\n",
    " - pop() : 데이터를 스택에서 꺼내기 "
   ]
  },
  {
   "cell_type": "markdown",
   "metadata": {
    "ExecuteTime": {
     "end_time": "2021-12-21T02:54:17.428629Z",
     "start_time": "2021-12-21T02:54:17.407132Z"
    }
   },
   "source": [
    "### 2. 스택 구조와 프로세스 스택 \n",
    "- 스택 구조는 프로세스 실행 구조의 가장 기본 \n",
    " - 함수 호출 시 프로세스 실행 구조를 스택과 비교해서 이해 필요"
   ]
  },
  {
   "cell_type": "code",
   "execution_count": 3,
   "metadata": {
    "ExecuteTime": {
     "end_time": "2021-12-21T02:56:18.611981Z",
     "start_time": "2021-12-21T02:56:18.592034Z"
    }
   },
   "outputs": [],
   "source": [
    "# 재귀 함수\n",
    "def recursive(data) : \n",
    "    if data < 0 : \n",
    "        print('ended')\n",
    "    else : \n",
    "        print(data)\n",
    "        recursive(data - 1)\n",
    "        print('returned', data)"
   ]
  },
  {
   "cell_type": "code",
   "execution_count": 4,
   "metadata": {
    "ExecuteTime": {
     "end_time": "2021-12-21T02:56:21.837397Z",
     "start_time": "2021-12-21T02:56:21.824427Z"
    }
   },
   "outputs": [
    {
     "name": "stdout",
     "output_type": "stream",
     "text": [
      "4\n",
      "3\n",
      "2\n",
      "1\n",
      "0\n",
      "ended\n",
      "returned 0\n",
      "returned 1\n",
      "returned 2\n",
      "returned 3\n",
      "returned 4\n"
     ]
    }
   ],
   "source": [
    "recursive(4)"
   ]
  },
  {
   "cell_type": "markdown",
   "metadata": {},
   "source": [
    "### 3. 자료 구조 스택의 장단점 \n",
    "- 장점 \n",
    " - 구조가 단순해서 구현이 쉽다\n",
    " - 데이터 저장/읽기 속도가 빠르다\n",
    "\n",
    "- 단점(일반적인 스택 구현 시)\n",
    " - 데이터 최대 개수를 미리 지정해야 한다.\n",
    "  - 파이썬의 경우 재귀함수는 1,000번까지만 호출이 가능 \n",
    " - 저장 공간의 낭비가 발생할 수 있음 \n",
    "  - 미리 최대 개수만큼 저장 공간을 확보해야 함 \n",
    "  \n",
    "스택은 단순하고 빠른 성능을 위해서 사용되므로, 보통 배열 구조를 활용해서 구현하는 것이 일반적임. 이 경우 위에서 열거한 단점이 있을 수 있음 "
   ]
  },
  {
   "cell_type": "markdown",
   "metadata": {},
   "source": [
    "### 4. 파이썬 리스트 기능에서 제공하는 메서드로 스택 사용해보기 \n",
    "- append(push), pop 메서드 제공 "
   ]
  },
  {
   "cell_type": "code",
   "execution_count": 5,
   "metadata": {
    "ExecuteTime": {
     "end_time": "2021-12-21T03:18:18.124012Z",
     "start_time": "2021-12-21T03:18:18.115159Z"
    }
   },
   "outputs": [],
   "source": [
    "data_stack = list() \n",
    "\n",
    "data_stack.append(1) \n",
    "data_stack.append(2)"
   ]
  },
  {
   "cell_type": "code",
   "execution_count": 6,
   "metadata": {
    "ExecuteTime": {
     "end_time": "2021-12-21T03:18:20.677851Z",
     "start_time": "2021-12-21T03:18:20.633969Z"
    }
   },
   "outputs": [
    {
     "data": {
      "text/plain": [
       "[1, 2]"
      ]
     },
     "execution_count": 6,
     "metadata": {},
     "output_type": "execute_result"
    }
   ],
   "source": [
    "data_stack"
   ]
  },
  {
   "cell_type": "code",
   "execution_count": 7,
   "metadata": {
    "ExecuteTime": {
     "end_time": "2021-12-21T03:18:32.460201Z",
     "start_time": "2021-12-21T03:18:32.447048Z"
    }
   },
   "outputs": [
    {
     "data": {
      "text/plain": [
       "2"
      ]
     },
     "execution_count": 7,
     "metadata": {},
     "output_type": "execute_result"
    }
   ],
   "source": [
    "data_stack.pop()"
   ]
  },
  {
   "cell_type": "code",
   "execution_count": 8,
   "metadata": {
    "ExecuteTime": {
     "end_time": "2021-12-21T03:18:36.244933Z",
     "start_time": "2021-12-21T03:18:36.228974Z"
    }
   },
   "outputs": [
    {
     "data": {
      "text/plain": [
       "1"
      ]
     },
     "execution_count": 8,
     "metadata": {},
     "output_type": "execute_result"
    }
   ],
   "source": [
    "data_stack.pop()"
   ]
  },
  {
   "cell_type": "markdown",
   "metadata": {},
   "source": [
    "### 5. 프로그래밍 연습 \n",
    "리스트 변수로 스택을 다루는 pop, push 기능 구현해보기 "
   ]
  },
  {
   "cell_type": "code",
   "execution_count": 9,
   "metadata": {
    "ExecuteTime": {
     "end_time": "2021-12-21T03:21:01.233009Z",
     "start_time": "2021-12-21T03:21:01.219935Z"
    }
   },
   "outputs": [],
   "source": [
    "stack_list = list()\n",
    "\n",
    "def push(data) : \n",
    "    stack_list.append(data)\n",
    "    \n",
    "def pop() : \n",
    "    data = stack_list[-1]\n",
    "    del stack_list[-1]\n",
    "    return data"
   ]
  },
  {
   "cell_type": "code",
   "execution_count": 11,
   "metadata": {
    "ExecuteTime": {
     "end_time": "2021-12-21T03:22:01.431111Z",
     "start_time": "2021-12-21T03:22:01.409171Z"
    }
   },
   "outputs": [
    {
     "data": {
      "text/plain": [
       "[1]"
      ]
     },
     "execution_count": 11,
     "metadata": {},
     "output_type": "execute_result"
    }
   ],
   "source": [
    "push(1)\n",
    "stack_list"
   ]
  },
  {
   "cell_type": "code",
   "execution_count": 12,
   "metadata": {
    "ExecuteTime": {
     "end_time": "2021-12-21T03:22:07.518143Z",
     "start_time": "2021-12-21T03:22:07.505178Z"
    }
   },
   "outputs": [
    {
     "data": {
      "text/plain": [
       "[1, 3]"
      ]
     },
     "execution_count": 12,
     "metadata": {},
     "output_type": "execute_result"
    }
   ],
   "source": [
    "push(3)\n",
    "stack_list"
   ]
  },
  {
   "cell_type": "code",
   "execution_count": 13,
   "metadata": {
    "ExecuteTime": {
     "end_time": "2021-12-21T03:22:11.974850Z",
     "start_time": "2021-12-21T03:22:11.959614Z"
    }
   },
   "outputs": [
    {
     "data": {
      "text/plain": [
       "3"
      ]
     },
     "execution_count": 13,
     "metadata": {},
     "output_type": "execute_result"
    }
   ],
   "source": [
    "pop()"
   ]
  },
  {
   "cell_type": "code",
   "execution_count": 14,
   "metadata": {
    "ExecuteTime": {
     "end_time": "2021-12-21T03:22:19.708069Z",
     "start_time": "2021-12-21T03:22:19.690916Z"
    }
   },
   "outputs": [
    {
     "data": {
      "text/plain": [
       "1"
      ]
     },
     "execution_count": 14,
     "metadata": {},
     "output_type": "execute_result"
    }
   ],
   "source": [
    "pop()"
   ]
  },
  {
   "cell_type": "code",
   "execution_count": 23,
   "metadata": {
    "ExecuteTime": {
     "end_time": "2021-12-21T03:24:50.173046Z",
     "start_time": "2021-12-21T03:24:50.161001Z"
    }
   },
   "outputs": [],
   "source": [
    "for i in range(30) : \n",
    "    push(i)"
   ]
  },
  {
   "cell_type": "code",
   "execution_count": 24,
   "metadata": {
    "ExecuteTime": {
     "end_time": "2021-12-21T03:24:50.467189Z",
     "start_time": "2021-12-21T03:24:50.452230Z"
    }
   },
   "outputs": [
    {
     "data": {
      "text/plain": [
       "[0,\n",
       " 1,\n",
       " 2,\n",
       " 3,\n",
       " 4,\n",
       " 5,\n",
       " 6,\n",
       " 7,\n",
       " 8,\n",
       " 9,\n",
       " 10,\n",
       " 11,\n",
       " 12,\n",
       " 13,\n",
       " 14,\n",
       " 15,\n",
       " 16,\n",
       " 17,\n",
       " 18,\n",
       " 19,\n",
       " 20,\n",
       " 21,\n",
       " 22,\n",
       " 23,\n",
       " 24,\n",
       " 25,\n",
       " 26,\n",
       " 27,\n",
       " 28,\n",
       " 29]"
      ]
     },
     "execution_count": 24,
     "metadata": {},
     "output_type": "execute_result"
    }
   ],
   "source": [
    "stack_list"
   ]
  },
  {
   "cell_type": "code",
   "execution_count": 25,
   "metadata": {
    "ExecuteTime": {
     "end_time": "2021-12-21T03:24:58.270004Z",
     "start_time": "2021-12-21T03:24:58.260346Z"
    }
   },
   "outputs": [
    {
     "name": "stdout",
     "output_type": "stream",
     "text": [
      "29\n",
      "28\n",
      "27\n",
      "26\n",
      "25\n",
      "24\n",
      "23\n",
      "22\n",
      "21\n",
      "20\n",
      "19\n",
      "18\n",
      "17\n",
      "16\n",
      "15\n",
      "14\n",
      "13\n",
      "12\n",
      "11\n",
      "10\n",
      "9\n",
      "8\n",
      "7\n",
      "6\n",
      "5\n",
      "4\n",
      "3\n",
      "2\n",
      "1\n",
      "0\n"
     ]
    }
   ],
   "source": [
    "for i in range(30) : \n",
    "    print(pop())"
   ]
  },
  {
   "cell_type": "code",
   "execution_count": null,
   "metadata": {},
   "outputs": [],
   "source": []
  }
 ],
 "metadata": {
  "hide_input": false,
  "kernelspec": {
   "display_name": "Python 3",
   "language": "python",
   "name": "python3"
  },
  "language_info": {
   "codemirror_mode": {
    "name": "ipython",
    "version": 3
   },
   "file_extension": ".py",
   "mimetype": "text/x-python",
   "name": "python",
   "nbconvert_exporter": "python",
   "pygments_lexer": "ipython3",
   "version": "3.8.5"
  },
  "varInspector": {
   "cols": {
    "lenName": 16,
    "lenType": 16,
    "lenVar": 40
   },
   "kernels_config": {
    "python": {
     "delete_cmd_postfix": "",
     "delete_cmd_prefix": "del ",
     "library": "var_list.py",
     "varRefreshCmd": "print(var_dic_list())"
    },
    "r": {
     "delete_cmd_postfix": ") ",
     "delete_cmd_prefix": "rm(",
     "library": "var_list.r",
     "varRefreshCmd": "cat(var_dic_list()) "
    }
   },
   "types_to_exclude": [
    "module",
    "function",
    "builtin_function_or_method",
    "instance",
    "_Feature"
   ],
   "window_display": false
  }
 },
 "nbformat": 4,
 "nbformat_minor": 4
}
