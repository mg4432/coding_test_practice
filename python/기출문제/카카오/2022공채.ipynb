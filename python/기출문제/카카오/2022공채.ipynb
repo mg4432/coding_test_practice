{
 "cells": [
  {
   "cell_type": "markdown",
   "metadata": {},
   "source": [
    "# 신고 결과 받기"
   ]
  },
  {
   "cell_type": "code",
   "execution_count": 6,
   "metadata": {
    "ExecuteTime": {
     "end_time": "2022-05-06T07:51:24.012740Z",
     "start_time": "2022-05-06T07:51:24.004006Z"
    }
   },
   "outputs": [],
   "source": [
    "def solution(id_list, report, k):\n",
    "    report_dict = {} \n",
    "    \n",
    "    for id in id_list : \n",
    "        report_dict[id] = [] \n",
    "        \n",
    "    for rep in report : \n",
    "        a, b = rep.split(' ')[0], rep.split(' ')[1]\n",
    "        if b not in report_dict[a] :\n",
    "            report_dict[a].append(b) \n",
    "    \n",
    "    reported_num = {}\n",
    "    for id in id_list : \n",
    "        reported_num[id] = 0\n",
    "    \n",
    "    for id in id_list : \n",
    "        for reported in report_dict[id] : \n",
    "            reported_num[reported] += 1 \n",
    "    \n",
    "    overk = []\n",
    "    for id in id_list : \n",
    "        if reported_num[id] >= k : \n",
    "            overk.append(id)\n",
    "    \n",
    "    answer = []\n",
    "    for id in id_list :\n",
    "        n = 0\n",
    "        for over in overk : \n",
    "            if over in report_dict[id] : \n",
    "                n += 1 \n",
    "        answer.append(n)   \n",
    "    \n",
    "    \n",
    "    return answer"
   ]
  },
  {
   "cell_type": "code",
   "execution_count": 8,
   "metadata": {
    "ExecuteTime": {
     "end_time": "2022-05-06T07:51:40.960458Z",
     "start_time": "2022-05-06T07:51:40.942742Z"
    }
   },
   "outputs": [
    {
     "data": {
      "text/plain": [
       "[2, 1, 1, 0]"
      ]
     },
     "execution_count": 8,
     "metadata": {},
     "output_type": "execute_result"
    }
   ],
   "source": [
    "solution([\"muzi\", \"frodo\", \"apeach\", \"neo\"],\n",
    "         [\"muzi frodo\",\"apeach frodo\",\"frodo neo\",\"muzi neo\",\"apeach muzi\"], 2)"
   ]
  },
  {
   "cell_type": "markdown",
   "metadata": {},
   "source": [
    "# k진수에서 소수 구하기"
   ]
  },
  {
   "cell_type": "code",
   "execution_count": 53,
   "metadata": {
    "ExecuteTime": {
     "end_time": "2022-05-06T08:01:57.620739Z",
     "start_time": "2022-05-06T08:01:57.608772Z"
    }
   },
   "outputs": [],
   "source": [
    "import math\n",
    "def convert(num, base) :\n",
    "    if base <= 9 :\n",
    "        q, r = divmod(num, base) \n",
    "        if q :\n",
    "            return  convert(q, base) + str(r) \n",
    "        else : \n",
    "            return str(r)\n",
    "\n",
    "    elif base == 10  : \n",
    "        return str(num)\n",
    "    \n",
    "def check(num) :\n",
    "    if num == 2 : \n",
    "        return True \n",
    "    \n",
    "    if num == 1 or num % 2 == 0 : \n",
    "        return False\n",
    "    \n",
    "    for i in range(3, int(math.sqrt(num))+1, 2) :\n",
    "        if num % i == 0 :\n",
    "            return False\n",
    "    return True\n",
    "\n",
    "def solution(n, k) : \n",
    "    answer = []\n",
    "    numstr = convert(n, k) \n",
    "    lst = list(numstr.split('0'))\n",
    "    for l in lst : \n",
    "        if l != '1' and len(l)>= 1 and check(int(l)) : \n",
    "            answer.append(l)\n",
    "            \n",
    "    \n",
    "    \n",
    "    return len(answer)"
   ]
  },
  {
   "cell_type": "code",
   "execution_count": 54,
   "metadata": {
    "ExecuteTime": {
     "end_time": "2022-05-06T08:01:57.772516Z",
     "start_time": "2022-05-06T08:01:57.757409Z"
    }
   },
   "outputs": [
    {
     "data": {
      "text/plain": [
       "2"
      ]
     },
     "execution_count": 54,
     "metadata": {},
     "output_type": "execute_result"
    }
   ],
   "source": [
    "solution(110011, 10)"
   ]
  },
  {
   "cell_type": "code",
   "execution_count": 44,
   "metadata": {
    "ExecuteTime": {
     "end_time": "2022-05-06T08:00:38.797768Z",
     "start_time": "2022-05-06T08:00:38.776830Z"
    }
   },
   "outputs": [
    {
     "data": {
      "text/plain": [
       "3"
      ]
     },
     "execution_count": 44,
     "metadata": {},
     "output_type": "execute_result"
    }
   ],
   "source": [
    "solution(437674, 3)"
   ]
  },
  {
   "cell_type": "markdown",
   "metadata": {},
   "source": [
    "# 주차요금계산"
   ]
  },
  {
   "cell_type": "code",
   "execution_count": 55,
   "metadata": {
    "ExecuteTime": {
     "end_time": "2022-05-06T08:05:25.582195Z",
     "start_time": "2022-05-06T08:05:25.557644Z"
    }
   },
   "outputs": [],
   "source": [
    "import math \n",
    "\n",
    "def fee(lst, fees) : \n",
    "    num = lst[3]\n",
    "    if lst[1] <= fees[0] : \n",
    "        return (num, fees[1])\n",
    "    else : \n",
    "        f = fees[1] + math.ceil( (lst[1] - fees[0]) / fees[2] ) * fees[3] \n",
    "        return (num, f)\n",
    "def solution(fees, records) : \n",
    "    cars = {} \n",
    "    for string in records : \n",
    "        t = string.split(' ')[0]\n",
    "        time = int(t[:2])*60 + int(t[3:])\n",
    "        car_number = string.split(' ')[1]\n",
    "        inout = string.split(' ')[2]\n",
    "        \n",
    "        if car_number in cars : \n",
    "            if inout == 'IN' : \n",
    "                cars[car_number][0] = time\n",
    "                cars[car_number][2] = inout\n",
    "            \n",
    "            else : \n",
    "                cars[car_number][1] += (time - cars[car_number][0])\n",
    "                cars[car_number][2] = inout \n",
    "                \n",
    "        else : \n",
    "            cars[car_number] = [time, 0, inout, car_number]\n",
    "    \n",
    "    for car in cars : \n",
    "        if cars[car][2] == 'IN' : \n",
    "            cars[car][1] += (23*60+59 - cars[car][0])\n",
    "            cars[car][2] = 'OUT'\n",
    "            \n",
    "            \n",
    "    answer = [] \n",
    "    for car in cars : \n",
    "        answer.append(fee(cars[car], fees))\n",
    "    \n",
    "    answer = sorted(answer)\n",
    "    answer = [x[1] for x in answer]\n",
    "    return answer"
   ]
  },
  {
   "cell_type": "code",
   "execution_count": 56,
   "metadata": {
    "ExecuteTime": {
     "end_time": "2022-05-06T08:06:11.773547Z",
     "start_time": "2022-05-06T08:06:11.762559Z"
    }
   },
   "outputs": [
    {
     "data": {
      "text/plain": [
       "[14600, 34400, 5000]"
      ]
     },
     "execution_count": 56,
     "metadata": {},
     "output_type": "execute_result"
    }
   ],
   "source": [
    "solution([180, 5000, 10, 600],\n",
    "         [\"05:34 5961 IN\", \"06:00 0000 IN\", \"06:34 0000 OUT\",\n",
    "          \"07:59 5961 OUT\", \"07:59 0148 IN\", \"18:59 0000 IN\",\n",
    "          \"19:09 0148 OUT\", \"22:59 5961 IN\", \"23:00 5961 OUT\"])"
   ]
  },
  {
   "cell_type": "markdown",
   "metadata": {},
   "source": [
    "# 양궁 대회"
   ]
  },
  {
   "cell_type": "code",
   "execution_count": 64,
   "metadata": {
    "ExecuteTime": {
     "end_time": "2022-05-06T08:12:24.207896Z",
     "start_time": "2022-05-06T08:12:24.195231Z"
    }
   },
   "outputs": [],
   "source": [
    "from itertools import combinations_with_replacement\n",
    "\n",
    "def solution(n, info):\n",
    "    answer = [0 for _ in range(11)]\n",
    "    win = False\n",
    "    max_num = 0   # 라이언이 이길때 가장큰 점수 차이\n",
    "    # 1. 중복 조합을 이용해 라이언의 점수를 만든다.\n",
    "    for res in list(combinations_with_replacement(range(0, 11), n)):\n",
    "        now = [0 for _ in range(11)]\n",
    "        for r in res:\n",
    "            now[10 - r] += 1\n",
    "        lion = 0\n",
    "        peach = 0\n",
    "        # 2. 라이언 점수와 어피치 점수 비교한다.\n",
    "        for i, (l, p) in enumerate(zip(now, info)):\n",
    "            if l == p == 0:\n",
    "                continue\n",
    "            if p >= l:\n",
    "                peach += (10 - i)\n",
    "            elif l > p:\n",
    "                lion += (10 - i)\n",
    "        # 3. 총 점수를 비교해 라이언이 큰 경우 결과를 업데이트 해준다.\n",
    "        if lion > peach:\n",
    "            win = True\n",
    "            if (lion - peach) > max_num:\n",
    "                max_num = lion - peach\n",
    "                answer = now\n",
    "    if not win:\n",
    "        return [-1]\n",
    "    \n",
    "    return answer"
   ]
  },
  {
   "cell_type": "code",
   "execution_count": 65,
   "metadata": {
    "ExecuteTime": {
     "end_time": "2022-05-06T08:12:24.328544Z",
     "start_time": "2022-05-06T08:12:24.305537Z"
    }
   },
   "outputs": [
    {
     "data": {
      "text/plain": [
       "[0, 2, 2, 0, 1, 0, 0, 0, 0, 0, 0]"
      ]
     },
     "execution_count": 65,
     "metadata": {},
     "output_type": "execute_result"
    }
   ],
   "source": [
    "solution(5, [2,1,1,1,0,0,0,0,0,0,0])"
   ]
  },
  {
   "cell_type": "code",
   "execution_count": null,
   "metadata": {},
   "outputs": [],
   "source": []
  }
 ],
 "metadata": {
  "hide_input": false,
  "kernelspec": {
   "display_name": "Python 3",
   "language": "python",
   "name": "python3"
  },
  "language_info": {
   "codemirror_mode": {
    "name": "ipython",
    "version": 3
   },
   "file_extension": ".py",
   "mimetype": "text/x-python",
   "name": "python",
   "nbconvert_exporter": "python",
   "pygments_lexer": "ipython3",
   "version": "3.8.5"
  },
  "toc": {
   "base_numbering": 1,
   "nav_menu": {},
   "number_sections": true,
   "sideBar": true,
   "skip_h1_title": false,
   "title_cell": "Table of Contents",
   "title_sidebar": "Contents",
   "toc_cell": false,
   "toc_position": {},
   "toc_section_display": true,
   "toc_window_display": false
  },
  "varInspector": {
   "cols": {
    "lenName": 16,
    "lenType": 16,
    "lenVar": 40
   },
   "kernels_config": {
    "python": {
     "delete_cmd_postfix": "",
     "delete_cmd_prefix": "del ",
     "library": "var_list.py",
     "varRefreshCmd": "print(var_dic_list())"
    },
    "r": {
     "delete_cmd_postfix": ") ",
     "delete_cmd_prefix": "rm(",
     "library": "var_list.r",
     "varRefreshCmd": "cat(var_dic_list()) "
    }
   },
   "types_to_exclude": [
    "module",
    "function",
    "builtin_function_or_method",
    "instance",
    "_Feature"
   ],
   "window_display": false
  }
 },
 "nbformat": 4,
 "nbformat_minor": 4
}
