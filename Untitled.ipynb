{
 "cells": [
  {
   "cell_type": "code",
   "execution_count": 25,
   "metadata": {
    "ExecuteTime": {
     "end_time": "2022-05-04T05:09:22.908032Z",
     "start_time": "2022-05-04T05:09:22.884066Z"
    }
   },
   "outputs": [],
   "source": [
    "def solution(gems) : \n",
    "    answer = []\n",
    "    shortest = len(gems)+1 \n",
    "    \n",
    "    start = 0 \n",
    "    end = 0\n",
    "    \n",
    "    length = len(set(gems))\n",
    "    contained = {}\n",
    "    \n",
    "    while end < len(gems) :\n",
    "        # 처음 발견\n",
    "        if gems[end] not in contained : \n",
    "            contained[gems[end]] = 1 \n",
    "        else : \n",
    "            contained[gems[end]] += 1\n",
    "            \n",
    "        end += 1 \n",
    "        \n",
    "        if len(contained) == length : \n",
    "            while start < end : \n",
    "                print(start, end, contained)\n",
    "                if contained[gems[start]] > 1 :\n",
    "                    contained[gems[start]] -= 1\n",
    "                    start += 1 \n",
    "                \n",
    "                elif shortest > end - start : \n",
    "                    shortest = end - start \n",
    "             \n",
    "                    answer = [start + 1, end]\n",
    "                    break\n",
    "                else : \n",
    "                    break\n",
    "    return answer"
   ]
  },
  {
   "cell_type": "code",
   "execution_count": 26,
   "metadata": {
    "ExecuteTime": {
     "end_time": "2022-05-04T05:09:23.043222Z",
     "start_time": "2022-05-04T05:09:23.024275Z"
    }
   },
   "outputs": [
    {
     "name": "stdout",
     "output_type": "stream",
     "text": [
      "0 8 {'A': 1, 'B': 6, 'C': 1}\n",
      "0 9 {'A': 1, 'B': 7, 'C': 1}\n",
      "0 10 {'A': 2, 'B': 7, 'C': 1}\n",
      "1 10 {'A': 1, 'B': 7, 'C': 1}\n",
      "2 10 {'A': 1, 'B': 6, 'C': 1}\n",
      "3 10 {'A': 1, 'B': 5, 'C': 1}\n",
      "4 10 {'A': 1, 'B': 4, 'C': 1}\n",
      "5 10 {'A': 1, 'B': 3, 'C': 1}\n",
      "6 10 {'A': 1, 'B': 2, 'C': 1}\n",
      "7 10 {'A': 1, 'B': 1, 'C': 1}\n"
     ]
    },
    {
     "data": {
      "text/plain": [
       "[8, 10]"
      ]
     },
     "execution_count": 26,
     "metadata": {},
     "output_type": "execute_result"
    }
   ],
   "source": [
    "solution([\"A\",\"B\",\"B\",\"B\",\"B\",\"B\",\"B\",\"C\",\"B\",\"A\"])"
   ]
  },
  {
   "cell_type": "code",
   "execution_count": null,
   "metadata": {},
   "outputs": [],
   "source": []
  }
 ],
 "metadata": {
  "hide_input": false,
  "kernelspec": {
   "display_name": "Python 3",
   "language": "python",
   "name": "python3"
  },
  "language_info": {
   "codemirror_mode": {
    "name": "ipython",
    "version": 3
   },
   "file_extension": ".py",
   "mimetype": "text/x-python",
   "name": "python",
   "nbconvert_exporter": "python",
   "pygments_lexer": "ipython3",
   "version": "3.8.5"
  },
  "toc": {
   "base_numbering": 1,
   "nav_menu": {},
   "number_sections": true,
   "sideBar": true,
   "skip_h1_title": false,
   "title_cell": "Table of Contents",
   "title_sidebar": "Contents",
   "toc_cell": false,
   "toc_position": {},
   "toc_section_display": true,
   "toc_window_display": false
  },
  "varInspector": {
   "cols": {
    "lenName": 16,
    "lenType": 16,
    "lenVar": 40
   },
   "kernels_config": {
    "python": {
     "delete_cmd_postfix": "",
     "delete_cmd_prefix": "del ",
     "library": "var_list.py",
     "varRefreshCmd": "print(var_dic_list())"
    },
    "r": {
     "delete_cmd_postfix": ") ",
     "delete_cmd_prefix": "rm(",
     "library": "var_list.r",
     "varRefreshCmd": "cat(var_dic_list()) "
    }
   },
   "types_to_exclude": [
    "module",
    "function",
    "builtin_function_or_method",
    "instance",
    "_Feature"
   ],
   "window_display": false
  }
 },
 "nbformat": 4,
 "nbformat_minor": 4
}
