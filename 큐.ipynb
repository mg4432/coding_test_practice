{
 "cells": [
  {
   "cell_type": "markdown",
   "metadata": {
    "ExecuteTime": {
     "end_time": "2021-12-21T01:52:05.817977Z",
     "start_time": "2021-12-21T01:52:05.809723Z"
    }
   },
   "source": [
    "## 대표적인 데이터 구조 : 큐(Queue)"
   ]
  },
  {
   "cell_type": "markdown",
   "metadata": {},
   "source": [
    "### 1. 큐 구조\n",
    "- First-In, First-Out"
   ]
  },
  {
   "cell_type": "markdown",
   "metadata": {},
   "source": [
    "### 2. 용어\n",
    "- Enqueue : 큐에 데이터를 넣는 기능 \n",
    "- Dequeue : 큐에서 데이터를 꺼내는 기능 \n",
    "Visualgo 사이트에서 시연해보며 이해(enqueue/dequeue 클릭) : \n",
    "    https://visualgo.net/en/list"
   ]
  },
  {
   "cell_type": "markdown",
   "metadata": {},
   "source": [
    "### 3. 파이썬 queue라이브러리 활용해서 큐 자료구조 사용하기\n",
    "- queue 라이브러리에는 다양한 큐 구조로 Queue(), LifoQueue(), PriorityQueue( 제공 \n",
    "- 프로그램을 작성할 때 프로그램에 따라 적합한 자료구조 사용 \n",
    " - Queue() : 가장 일반적인 큐 자료구조 \n",
    " - LifoQueue() : 나중에 입력된 데이터가 먼저 출력되는 구조 \n",
    " - PrioirtyQueue() : 데이터마다 우선순위를 넣어서 우선순위가 높은 순으로 데이터 출력\n",
    " \n",
    " **일반적인 큐 외에 다양한 정책이 적용된 큐들이 있음**"
   ]
  },
  {
   "cell_type": "markdown",
   "metadata": {},
   "source": [
    "### 3.1. Queue()로 큐 만들기(FIFO)"
   ]
  },
  {
   "cell_type": "code",
   "execution_count": 2,
   "metadata": {
    "ExecuteTime": {
     "end_time": "2021-12-21T02:06:53.620664Z",
     "start_time": "2021-12-21T02:06:53.601639Z"
    }
   },
   "outputs": [],
   "source": [
    "import queue\n",
    "\n",
    "data_queue = queue.Queue()"
   ]
  },
  {
   "cell_type": "code",
   "execution_count": 3,
   "metadata": {
    "ExecuteTime": {
     "end_time": "2021-12-21T02:06:57.782571Z",
     "start_time": "2021-12-21T02:06:57.765617Z"
    }
   },
   "outputs": [],
   "source": [
    "data_queue.put('funcoding') # inqueue : put, dequeue : get\n",
    "data_queue.put(1)"
   ]
  },
  {
   "cell_type": "code",
   "execution_count": 4,
   "metadata": {
    "ExecuteTime": {
     "end_time": "2021-12-21T02:06:58.419086Z",
     "start_time": "2021-12-21T02:06:58.395986Z"
    }
   },
   "outputs": [
    {
     "data": {
      "text/plain": [
       "2"
      ]
     },
     "execution_count": 4,
     "metadata": {},
     "output_type": "execute_result"
    }
   ],
   "source": [
    "data_queue.qsize()"
   ]
  },
  {
   "cell_type": "code",
   "execution_count": 5,
   "metadata": {
    "ExecuteTime": {
     "end_time": "2021-12-21T02:06:58.992923Z",
     "start_time": "2021-12-21T02:06:58.980762Z"
    }
   },
   "outputs": [
    {
     "data": {
      "text/plain": [
       "'funcoding'"
      ]
     },
     "execution_count": 5,
     "metadata": {},
     "output_type": "execute_result"
    }
   ],
   "source": [
    "data_queue.get()"
   ]
  },
  {
   "cell_type": "code",
   "execution_count": 6,
   "metadata": {
    "ExecuteTime": {
     "end_time": "2021-12-21T02:07:04.133512Z",
     "start_time": "2021-12-21T02:07:04.111338Z"
    }
   },
   "outputs": [
    {
     "data": {
      "text/plain": [
       "1"
      ]
     },
     "execution_count": 6,
     "metadata": {},
     "output_type": "execute_result"
    }
   ],
   "source": [
    "data_queue.get()"
   ]
  },
  {
   "cell_type": "markdown",
   "metadata": {},
   "source": [
    "### 3.2. LifoQueue()로 큐 만들기(LIFO)"
   ]
  },
  {
   "cell_type": "code",
   "execution_count": 7,
   "metadata": {
    "ExecuteTime": {
     "end_time": "2021-12-21T02:09:14.698759Z",
     "start_time": "2021-12-21T02:09:14.684796Z"
    }
   },
   "outputs": [],
   "source": [
    "data_queue = queue.LifoQueue()\n",
    "data_queue.put('funcoding')\n",
    "data_queue.put(1)"
   ]
  },
  {
   "cell_type": "code",
   "execution_count": 9,
   "metadata": {
    "ExecuteTime": {
     "end_time": "2021-12-21T02:09:24.555005Z",
     "start_time": "2021-12-21T02:09:24.536360Z"
    }
   },
   "outputs": [
    {
     "data": {
      "text/plain": [
       "2"
      ]
     },
     "execution_count": 9,
     "metadata": {},
     "output_type": "execute_result"
    }
   ],
   "source": [
    "data_queue.qsize()"
   ]
  },
  {
   "cell_type": "code",
   "execution_count": 10,
   "metadata": {
    "ExecuteTime": {
     "end_time": "2021-12-21T02:09:31.365115Z",
     "start_time": "2021-12-21T02:09:31.352187Z"
    }
   },
   "outputs": [
    {
     "data": {
      "text/plain": [
       "1"
      ]
     },
     "execution_count": 10,
     "metadata": {},
     "output_type": "execute_result"
    }
   ],
   "source": [
    "data_queue.get()"
   ]
  },
  {
   "cell_type": "code",
   "execution_count": 11,
   "metadata": {
    "ExecuteTime": {
     "end_time": "2021-12-21T02:09:47.169951Z",
     "start_time": "2021-12-21T02:09:47.148015Z"
    }
   },
   "outputs": [
    {
     "data": {
      "text/plain": [
       "'funcoding'"
      ]
     },
     "execution_count": 11,
     "metadata": {},
     "output_type": "execute_result"
    }
   ],
   "source": [
    "data_queue.get()"
   ]
  },
  {
   "cell_type": "markdown",
   "metadata": {},
   "source": [
    "### 3.3. PriorityQueue()로 큐 만들기"
   ]
  },
  {
   "cell_type": "code",
   "execution_count": 17,
   "metadata": {
    "ExecuteTime": {
     "end_time": "2021-12-21T02:12:37.959265Z",
     "start_time": "2021-12-21T02:12:37.948225Z"
    }
   },
   "outputs": [],
   "source": [
    "data_queue = queue.PriorityQueue()"
   ]
  },
  {
   "cell_type": "code",
   "execution_count": 18,
   "metadata": {
    "ExecuteTime": {
     "end_time": "2021-12-21T02:12:38.375936Z",
     "start_time": "2021-12-21T02:12:38.354826Z"
    }
   },
   "outputs": [],
   "source": [
    "data_queue.put((10,'korea'))\n",
    "data_queue.put((5,1))\n",
    "data_queue.put((15, 'china'))"
   ]
  },
  {
   "cell_type": "code",
   "execution_count": 19,
   "metadata": {
    "ExecuteTime": {
     "end_time": "2021-12-21T02:12:38.732196Z",
     "start_time": "2021-12-21T02:12:38.713135Z"
    }
   },
   "outputs": [
    {
     "data": {
      "text/plain": [
       "3"
      ]
     },
     "execution_count": 19,
     "metadata": {},
     "output_type": "execute_result"
    }
   ],
   "source": [
    "data_queue.qsize()"
   ]
  },
  {
   "cell_type": "code",
   "execution_count": 20,
   "metadata": {
    "ExecuteTime": {
     "end_time": "2021-12-21T02:12:45.764492Z",
     "start_time": "2021-12-21T02:12:45.756516Z"
    }
   },
   "outputs": [
    {
     "data": {
      "text/plain": [
       "(5, 1)"
      ]
     },
     "execution_count": 20,
     "metadata": {},
     "output_type": "execute_result"
    }
   ],
   "source": [
    "data_queue.get()"
   ]
  },
  {
   "cell_type": "markdown",
   "metadata": {},
   "source": [
    "### 참고 : 어디에 큐가 많이 사용될까 ? \n",
    "- 멀티태스킹을 위한 프로세스 스케줄링 방식을 구현하기 위해 많이 사용 (운영체제 참조)\n",
    " - 큐의 경우에는 장단점보다는 큐의 활용 예로 프로세스 스케줄링 방식을 함께 이해해두는 것이 좋음 "
   ]
  },
  {
   "cell_type": "markdown",
   "metadata": {},
   "source": [
    "### 4. 프로그래밍 연습 \n",
    "리스트 변수로 큐를 다루는 enqueue, dequeue 기능 구현해보기 "
   ]
  },
  {
   "cell_type": "code",
   "execution_count": 38,
   "metadata": {
    "ExecuteTime": {
     "end_time": "2021-12-21T02:20:30.401596Z",
     "start_time": "2021-12-21T02:20:30.388631Z"
    }
   },
   "outputs": [],
   "source": [
    "queue_list = list() \n",
    "\n",
    "def enqueue(data) :\n",
    "    queue_list.append(data)\n",
    "\n",
    "def dequeue() : \n",
    "    data = queue_list[0]\n",
    "    del queue_list[0]\n",
    "    return data"
   ]
  },
  {
   "cell_type": "code",
   "execution_count": 39,
   "metadata": {
    "ExecuteTime": {
     "end_time": "2021-12-21T02:20:30.711528Z",
     "start_time": "2021-12-21T02:20:30.704120Z"
    }
   },
   "outputs": [],
   "source": [
    "for index in range(10) : \n",
    "    enqueue(index) "
   ]
  },
  {
   "cell_type": "code",
   "execution_count": 40,
   "metadata": {
    "ExecuteTime": {
     "end_time": "2021-12-21T02:20:30.990373Z",
     "start_time": "2021-12-21T02:20:30.973550Z"
    }
   },
   "outputs": [
    {
     "data": {
      "text/plain": [
       "10"
      ]
     },
     "execution_count": 40,
     "metadata": {},
     "output_type": "execute_result"
    }
   ],
   "source": [
    "len(queue_list)"
   ]
  },
  {
   "cell_type": "code",
   "execution_count": 45,
   "metadata": {
    "ExecuteTime": {
     "end_time": "2021-12-21T02:20:34.469005Z",
     "start_time": "2021-12-21T02:20:34.460029Z"
    }
   },
   "outputs": [
    {
     "data": {
      "text/plain": [
       "4"
      ]
     },
     "execution_count": 45,
     "metadata": {},
     "output_type": "execute_result"
    }
   ],
   "source": [
    "dequeue()"
   ]
  },
  {
   "cell_type": "markdown",
   "metadata": {},
   "source": [
    "**쉬어가기 : https://youtu.be/u6RoU-SDpYE**"
   ]
  }
 ],
 "metadata": {
  "hide_input": false,
  "kernelspec": {
   "display_name": "Python 3",
   "language": "python",
   "name": "python3"
  },
  "varInspector": {
   "cols": {
    "lenName": 16,
    "lenType": 16,
    "lenVar": 40
   },
   "kernels_config": {
    "python": {
     "delete_cmd_postfix": "",
     "delete_cmd_prefix": "del ",
     "library": "var_list.py",
     "varRefreshCmd": "print(var_dic_list())"
    },
    "r": {
     "delete_cmd_postfix": ") ",
     "delete_cmd_prefix": "rm(",
     "library": "var_list.r",
     "varRefreshCmd": "cat(var_dic_list()) "
    }
   },
   "types_to_exclude": [
    "module",
    "function",
    "builtin_function_or_method",
    "instance",
    "_Feature"
   ],
   "window_display": false
  }
 },
 "nbformat": 4,
 "nbformat_minor": 4
}
