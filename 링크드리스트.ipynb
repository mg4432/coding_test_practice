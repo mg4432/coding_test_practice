{
 "cells": [
  {
   "cell_type": "markdown",
   "metadata": {},
   "source": [
    "## 링크드 리스트(Linked list)"
   ]
  },
  {
   "cell_type": "markdown",
   "metadata": {},
   "source": [
    "### 1. 링크드 리스트 구조 \n",
    "- 연결 리스트라고도 함 \n",
    "- 배열은 순차적으로 연결된 공간에 데이터를 나열하는 데이터 구조 \n",
    "- 링크드 리스트는 떨어진 곳에 존재하는 데이터를 화살표로 연결해서 관리하는 데이터 구조 \n",
    "- **본래 C언어에서는 주요한 데이터 구조이지만 파이썬은 리스트 타입이 링크드 리스트의 기능을 모두 지원**"
   ]
  },
  {
   "cell_type": "markdown",
   "metadata": {
    "ExecuteTime": {
     "end_time": "2021-12-21T03:50:36.521190Z",
     "start_time": "2021-12-21T03:50:36.498995Z"
    }
   },
   "source": [
    "- 링크드 리스트의 기본 구조와 용어\n",
    " - 노드(Node) : 데이터 저장 단위(데이터값, 포인터)로 구성 \n",
    " - 포인터(Pointer) : 각 노드 안에서 다음이나 이전의 노드와의 연결 정보를 가지고 있는 공간 "
   ]
  },
  {
   "cell_type": "markdown",
   "metadata": {},
   "source": [
    "### 2. 간단한 링크드 리스트의 예"
   ]
  },
  {
   "cell_type": "markdown",
   "metadata": {},
   "source": [
    "**Node 구현**\n",
    "- 보통 파이썬에서 링크드 리스트 구현 시, 파이썬 클래스를 활용 \n",
    " - 파이썬 객체지향 문법 이해 필요\n",
    " - 참고 : https://www.fun-coding.org/PL&OOP1-3.html (10-12)\n"
   ]
  },
  {
   "cell_type": "code",
   "execution_count": null,
   "metadata": {},
   "outputs": [],
   "source": [
    "class Node : \n",
    "    def __init__(self, data) : \n",
    "        self.data = data \n",
    "        self.next = None"
   ]
  },
  {
   "cell_type": "markdown",
   "metadata": {},
   "source": [
    "**Node와 Node 연결(포인터 활용)**"
   ]
  },
  {
   "cell_type": "code",
   "execution_count": 4,
   "metadata": {
    "ExecuteTime": {
     "end_time": "2021-12-21T04:11:16.351312Z",
     "start_time": "2021-12-21T04:11:16.335356Z"
    }
   },
   "outputs": [],
   "source": [
    "class Node : \n",
    "    def __init__(self, data, next = None) : \n",
    "        self.data = data\n",
    "        self.next = next \n",
    "        \n",
    "def add(data) : \n",
    "    node = head\n",
    "    while node.next : \n",
    "        node = node.next # next가 없으면 break, 마지막 node\n",
    "    node.next = Node(data) # 새로운 node 생성해서 현재 존재하는 마지막 node에 연결     "
   ]
  },
  {
   "cell_type": "code",
   "execution_count": 7,
   "metadata": {
    "ExecuteTime": {
     "end_time": "2021-12-21T04:13:55.486041Z",
     "start_time": "2021-12-21T04:13:55.470317Z"
    }
   },
   "outputs": [],
   "source": [
    "node1 = Node(1)\n",
    "head = node1 # head node의 주소 부여\n",
    "for i in range(2, 10) :   \n",
    "    add(i)"
   ]
  },
  {
   "cell_type": "markdown",
   "metadata": {},
   "source": [
    "링크드 리스트 데이터 출력(검색) "
   ]
  },
  {
   "cell_type": "code",
   "execution_count": 10,
   "metadata": {
    "ExecuteTime": {
     "end_time": "2021-12-21T04:14:48.161782Z",
     "start_time": "2021-12-21T04:14:48.145824Z"
    }
   },
   "outputs": [
    {
     "name": "stdout",
     "output_type": "stream",
     "text": [
      "1\n",
      "2\n",
      "3\n",
      "4\n",
      "5\n",
      "6\n",
      "7\n",
      "8\n",
      "9\n"
     ]
    }
   ],
   "source": [
    "node = head\n",
    "while node.next : \n",
    "    print(node.data)\n",
    "    node= node.next\n",
    "print(node.data)"
   ]
  },
  {
   "cell_type": "markdown",
   "metadata": {},
   "source": [
    "### 3. 링크드 리스트의 장단점 (전통적인 C언어에서의 배열과 링크드 리스트)"
   ]
  },
  {
   "cell_type": "markdown",
   "metadata": {},
   "source": [
    "- 장점\n",
    " - 미리 데이터 공간을 할당하지 않아도 됨 \n",
    "   - 배열은 미리 데이터 공간을 할당해야 함 \n",
    "\n",
    "- 단점 \n",
    " - 연결을 위한 별도 데이터 공간이 피룡하므로 저장공간 효율이 높지 않음 \n",
    " - 연결 정보를 찾는 식나이 필요하므로 접근 속도가 느림  \n",
    " - 중간 데이터 삭제 시, 앞뒤 데이터의 연결을 재구성해야하는 부가적인 작업 필요"
   ]
  },
  {
   "cell_type": "markdown",
   "metadata": {},
   "source": [
    "### 4. 링크드 리스트의 복잡한 기능1(링크드 리스트 데이터 사이에 데이터를 추가)\n",
    "- 링크드 리스트는 유지 관리에 부가적인 구현이 필요"
   ]
  },
  {
   "cell_type": "code",
   "execution_count": 11,
   "metadata": {
    "ExecuteTime": {
     "end_time": "2021-12-21T04:22:03.221432Z",
     "start_time": "2021-12-21T04:22:03.208873Z"
    }
   },
   "outputs": [
    {
     "name": "stdout",
     "output_type": "stream",
     "text": [
      "1\n",
      "2\n",
      "3\n",
      "4\n",
      "5\n",
      "6\n",
      "7\n",
      "8\n",
      "9\n"
     ]
    }
   ],
   "source": [
    "node = head\n",
    "while node.next : \n",
    "    print(node.data) \n",
    "    node = node.next\n",
    "print(node.data)"
   ]
  },
  {
   "cell_type": "code",
   "execution_count": 12,
   "metadata": {
    "ExecuteTime": {
     "end_time": "2021-12-21T04:22:29.579166Z",
     "start_time": "2021-12-21T04:22:29.561126Z"
    }
   },
   "outputs": [],
   "source": [
    "node3 = Node(1.5)"
   ]
  },
  {
   "cell_type": "code",
   "execution_count": 13,
   "metadata": {
    "ExecuteTime": {
     "end_time": "2021-12-21T04:26:04.189084Z",
     "start_time": "2021-12-21T04:26:04.174123Z"
    }
   },
   "outputs": [],
   "source": [
    "node = head\n",
    "search = True\n",
    "while search : \n",
    "    if node.data == 1 : \n",
    "        search = False\n",
    "    else : \n",
    "        node = node.next\n",
    "\n",
    "node_next = node.next\n",
    "node.next = node3\n",
    "node3.next = node_next"
   ]
  },
  {
   "cell_type": "code",
   "execution_count": 14,
   "metadata": {
    "ExecuteTime": {
     "end_time": "2021-12-21T04:26:22.486770Z",
     "start_time": "2021-12-21T04:26:22.467064Z"
    }
   },
   "outputs": [
    {
     "name": "stdout",
     "output_type": "stream",
     "text": [
      "1\n",
      "1.5\n",
      "2\n",
      "3\n",
      "4\n",
      "5\n",
      "6\n",
      "7\n",
      "8\n",
      "9\n"
     ]
    }
   ],
   "source": [
    "node = head \n",
    "while node.next : \n",
    "    print(node.data)\n",
    "    node = node.next\n",
    "print(node.data)"
   ]
  },
  {
   "cell_type": "markdown",
   "metadata": {},
   "source": [
    "### 5. 파이썬 객체지향 프로그래밍으로 링크드 리스트 구현하기 "
   ]
  },
  {
   "cell_type": "code",
   "execution_count": 15,
   "metadata": {
    "ExecuteTime": {
     "end_time": "2021-12-21T04:33:23.506095Z",
     "start_time": "2021-12-21T04:33:23.496117Z"
    }
   },
   "outputs": [],
   "source": [
    "class Node : \n",
    "    def __init__(self, data, next = None) : \n",
    "        self.data = data\n",
    "        self.next = next \n",
    "        \n",
    "class NodeMgmt : # Node Management \n",
    "    def __init__(self, data) : \n",
    "        self.head = Node(data) # head의 주소 알고있어야 linked list 관리 가능  \n",
    "\n",
    "    def add(self, data) : \n",
    "        if self.head == '' : \n",
    "            self.head = Node(data)\n",
    "        else :\n",
    "            node = self.head\n",
    "            while node.next : \n",
    "                node = node.next\n",
    "            node.next = Node(data)    \n",
    "        \n",
    "    def desc(self) : # 해당 linked list의 데이터를 출력(순회)\n",
    "        node = self.head\n",
    "        while node : \n",
    "            print(node.data)\n",
    "            node = node.next"
   ]
  },
  {
   "cell_type": "code",
   "execution_count": 16,
   "metadata": {
    "ExecuteTime": {
     "end_time": "2021-12-21T04:33:46.050578Z",
     "start_time": "2021-12-21T04:33:46.032598Z"
    }
   },
   "outputs": [
    {
     "name": "stdout",
     "output_type": "stream",
     "text": [
      "0\n"
     ]
    }
   ],
   "source": [
    "linked_list1 = NodeMgmt(0)\n",
    "linked_list1.desc()"
   ]
  },
  {
   "cell_type": "code",
   "execution_count": 17,
   "metadata": {
    "ExecuteTime": {
     "end_time": "2021-12-21T04:34:58.940224Z",
     "start_time": "2021-12-21T04:34:58.932275Z"
    }
   },
   "outputs": [
    {
     "name": "stdout",
     "output_type": "stream",
     "text": [
      "0\n",
      "1\n",
      "2\n",
      "3\n",
      "4\n",
      "5\n",
      "6\n",
      "7\n",
      "8\n",
      "9\n"
     ]
    }
   ],
   "source": [
    "for data in range(1, 10) : \n",
    "    linked_list1.add(data)\n",
    "\n",
    "linked_list1.desc()"
   ]
  },
  {
   "cell_type": "code",
   "execution_count": null,
   "metadata": {},
   "outputs": [],
   "source": [
    "## 6.링크드 리스트의 "
   ]
  }
 ],
 "metadata": {
  "hide_input": false,
  "kernelspec": {
   "display_name": "Python 3",
   "language": "python",
   "name": "python3"
  },
  "language_info": {
   "codemirror_mode": {
    "name": "ipython",
    "version": 3
   },
   "file_extension": ".py",
   "mimetype": "text/x-python",
   "name": "python",
   "nbconvert_exporter": "python",
   "pygments_lexer": "ipython3",
   "version": "3.8.5"
  },
  "varInspector": {
   "cols": {
    "lenName": 16,
    "lenType": 16,
    "lenVar": 40
   },
   "kernels_config": {
    "python": {
     "delete_cmd_postfix": "",
     "delete_cmd_prefix": "del ",
     "library": "var_list.py",
     "varRefreshCmd": "print(var_dic_list())"
    },
    "r": {
     "delete_cmd_postfix": ") ",
     "delete_cmd_prefix": "rm(",
     "library": "var_list.r",
     "varRefreshCmd": "cat(var_dic_list()) "
    }
   },
   "types_to_exclude": [
    "module",
    "function",
    "builtin_function_or_method",
    "instance",
    "_Feature"
   ],
   "window_display": false
  }
 },
 "nbformat": 4,
 "nbformat_minor": 4
}
