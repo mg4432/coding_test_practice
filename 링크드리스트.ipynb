{
 "cells": [
  {
   "cell_type": "markdown",
   "metadata": {},
   "source": [
    "## 링크드 리스트(Linked list)"
   ]
  },
  {
   "cell_type": "markdown",
   "metadata": {},
   "source": [
    "### 1. 링크드 리스트 구조 \n",
    "- 연결 리스트라고도 함 \n",
    "- 배열은 순차적으로 연결된 공간에 데이터를 나열하는 데이터 구조 \n",
    "- 링크드 리스트는 떨어진 곳에 존재하는 데이터를 화살표로 연결해서 관리하는 데이터 구조 \n",
    "- **본래 C언어에서는 주요한 데이터 구조이지만 파이썬은 리스트 타입이 링크드 리스트의 기능을 모두 지원**"
   ]
  },
  {
   "cell_type": "markdown",
   "metadata": {
    "ExecuteTime": {
     "end_time": "2021-12-21T03:50:36.521190Z",
     "start_time": "2021-12-21T03:50:36.498995Z"
    }
   },
   "source": [
    "- 링크드 리스트의 기본 구조와 용어\n",
    " - 노드(Node) : 데이터 저장 단위(데이터값, 포인터)로 구성 \n",
    " - 포인터(Pointer) : 각 노드 안에서 다음이나 이전의 노드와의 연결 정보를 가지고 있는 공간 "
   ]
  },
  {
   "cell_type": "markdown",
   "metadata": {},
   "source": [
    "### 2. 간단한 링크드 리스트의 예"
   ]
  },
  {
   "cell_type": "markdown",
   "metadata": {},
   "source": [
    "**Node 구현**\n",
    "- 보통 파이썬에서 링크드 리스트 구현 시, 파이썬 클래스를 활용 \n",
    " - 파이썬 객체지향 문법 이해 필요\n",
    " - 참고 : https://www.fun-coding.org/PL&OOP1-3.html (10-12)\n"
   ]
  },
  {
   "cell_type": "code",
   "execution_count": 1,
   "metadata": {
    "ExecuteTime": {
     "end_time": "2021-12-22T05:38:32.085041Z",
     "start_time": "2021-12-22T05:38:32.079293Z"
    }
   },
   "outputs": [],
   "source": [
    "class Node : \n",
    "    def __init__(self, data) : \n",
    "        self.data = data \n",
    "        self.next = None"
   ]
  },
  {
   "cell_type": "markdown",
   "metadata": {},
   "source": [
    "**Node와 Node 연결(포인터 활용)**"
   ]
  },
  {
   "cell_type": "code",
   "execution_count": 2,
   "metadata": {
    "ExecuteTime": {
     "end_time": "2021-12-22T05:38:32.100342Z",
     "start_time": "2021-12-22T05:38:32.087276Z"
    }
   },
   "outputs": [],
   "source": [
    "class Node : \n",
    "    def __init__(self, data, next = None) : \n",
    "        self.data = data\n",
    "        self.next = next \n",
    "        \n",
    "def add(data) : \n",
    "    node = head\n",
    "    while node.next : \n",
    "        node = node.next # next가 없으면 break, 마지막 node\n",
    "    node.next = Node(data) # 새로운 node 생성해서 현재 존재하는 마지막 node에 연결     "
   ]
  },
  {
   "cell_type": "code",
   "execution_count": 3,
   "metadata": {
    "ExecuteTime": {
     "end_time": "2021-12-22T05:38:32.116174Z",
     "start_time": "2021-12-22T05:38:32.102439Z"
    }
   },
   "outputs": [],
   "source": [
    "node1 = Node(1)\n",
    "head = node1 # head node의 주소 부여\n",
    "for i in range(2, 10) :   \n",
    "    add(i)"
   ]
  },
  {
   "cell_type": "markdown",
   "metadata": {},
   "source": [
    "링크드 리스트 데이터 출력(검색) "
   ]
  },
  {
   "cell_type": "code",
   "execution_count": 4,
   "metadata": {
    "ExecuteTime": {
     "end_time": "2021-12-22T05:38:32.131494Z",
     "start_time": "2021-12-22T05:38:32.118355Z"
    }
   },
   "outputs": [
    {
     "name": "stdout",
     "output_type": "stream",
     "text": [
      "1\n",
      "2\n",
      "3\n",
      "4\n",
      "5\n",
      "6\n",
      "7\n",
      "8\n",
      "9\n"
     ]
    }
   ],
   "source": [
    "node = head\n",
    "while node.next : \n",
    "    print(node.data)\n",
    "    node= node.next\n",
    "print(node.data)"
   ]
  },
  {
   "cell_type": "markdown",
   "metadata": {},
   "source": [
    "### 3. 링크드 리스트의 장단점 (전통적인 C언어에서의 배열과 링크드 리스트)"
   ]
  },
  {
   "cell_type": "markdown",
   "metadata": {},
   "source": [
    "- 장점\n",
    " - 미리 데이터 공간을 할당하지 않아도 됨 \n",
    "   - 배열은 미리 데이터 공간을 할당해야 함 \n",
    "\n",
    "- 단점 \n",
    " - 연결을 위한 별도 데이터 공간이 피룡하므로 저장공간 효율이 높지 않음 \n",
    " - 연결 정보를 찾는 식나이 필요하므로 접근 속도가 느림  \n",
    " - 중간 데이터 삭제 시, 앞뒤 데이터의 연결을 재구성해야하는 부가적인 작업 필요"
   ]
  },
  {
   "cell_type": "markdown",
   "metadata": {},
   "source": [
    "### 4. 링크드 리스트의 복잡한 기능1(링크드 리스트 데이터 사이에 데이터를 추가)\n",
    "- 링크드 리스트는 유지 관리에 부가적인 구현이 필요"
   ]
  },
  {
   "cell_type": "code",
   "execution_count": 5,
   "metadata": {
    "ExecuteTime": {
     "end_time": "2021-12-22T05:38:32.147472Z",
     "start_time": "2021-12-22T05:38:32.132428Z"
    }
   },
   "outputs": [
    {
     "name": "stdout",
     "output_type": "stream",
     "text": [
      "1\n",
      "2\n",
      "3\n",
      "4\n",
      "5\n",
      "6\n",
      "7\n",
      "8\n",
      "9\n"
     ]
    }
   ],
   "source": [
    "node = head\n",
    "while node.next : \n",
    "    print(node.data) \n",
    "    node = node.next\n",
    "print(node.data)"
   ]
  },
  {
   "cell_type": "code",
   "execution_count": 6,
   "metadata": {
    "ExecuteTime": {
     "end_time": "2021-12-22T05:38:32.162846Z",
     "start_time": "2021-12-22T05:38:32.149381Z"
    }
   },
   "outputs": [],
   "source": [
    "node3 = Node(1.5)"
   ]
  },
  {
   "cell_type": "code",
   "execution_count": 7,
   "metadata": {
    "ExecuteTime": {
     "end_time": "2021-12-22T05:38:32.178760Z",
     "start_time": "2021-12-22T05:38:32.164779Z"
    }
   },
   "outputs": [],
   "source": [
    "node = head\n",
    "search = True\n",
    "while search : \n",
    "    if node.data == 1 : \n",
    "        search = False\n",
    "    else : \n",
    "        node = node.next\n",
    "\n",
    "node_next = node.next\n",
    "node.next = node3\n",
    "node3.next = node_next"
   ]
  },
  {
   "cell_type": "code",
   "execution_count": 8,
   "metadata": {
    "ExecuteTime": {
     "end_time": "2021-12-22T05:38:32.194480Z",
     "start_time": "2021-12-22T05:38:32.181751Z"
    }
   },
   "outputs": [
    {
     "name": "stdout",
     "output_type": "stream",
     "text": [
      "1\n",
      "1.5\n",
      "2\n",
      "3\n",
      "4\n",
      "5\n",
      "6\n",
      "7\n",
      "8\n",
      "9\n"
     ]
    }
   ],
   "source": [
    "node = head \n",
    "while node.next : \n",
    "    print(node.data)\n",
    "    node = node.next\n",
    "print(node.data)"
   ]
  },
  {
   "cell_type": "markdown",
   "metadata": {},
   "source": [
    "### 5. 파이썬 객체지향 프로그래밍으로 링크드 리스트 구현하기 "
   ]
  },
  {
   "cell_type": "code",
   "execution_count": 9,
   "metadata": {
    "ExecuteTime": {
     "end_time": "2021-12-22T05:38:32.209443Z",
     "start_time": "2021-12-22T05:38:32.197472Z"
    }
   },
   "outputs": [],
   "source": [
    "class Node : \n",
    "    def __init__(self, data, next = None) : \n",
    "        self.data = data\n",
    "        self.next = next \n",
    "        \n",
    "class NodeMgmt : # Node Management \n",
    "    def __init__(self, data) : \n",
    "        self.head = Node(data) # head의 주소 알고있어야 linked list 관리 가능  \n",
    "\n",
    "    def add(self, data) : \n",
    "        if self.head == '' : \n",
    "            self.head = Node(data)\n",
    "        else :\n",
    "            node = self.head\n",
    "            while node.next : \n",
    "                node = node.next\n",
    "            node.next = Node(data)    \n",
    "        \n",
    "    def desc(self) : # 해당 linked list의 데이터를 출력(순회)\n",
    "        node = self.head\n",
    "        while node : \n",
    "            print(node.data)\n",
    "            node = node.next"
   ]
  },
  {
   "cell_type": "code",
   "execution_count": 10,
   "metadata": {
    "ExecuteTime": {
     "end_time": "2021-12-22T05:38:32.225340Z",
     "start_time": "2021-12-22T05:38:32.212432Z"
    }
   },
   "outputs": [
    {
     "name": "stdout",
     "output_type": "stream",
     "text": [
      "0\n"
     ]
    }
   ],
   "source": [
    "linked_list1 = NodeMgmt(0)\n",
    "linked_list1.desc()"
   ]
  },
  {
   "cell_type": "code",
   "execution_count": 11,
   "metadata": {
    "ExecuteTime": {
     "end_time": "2021-12-22T05:38:32.240961Z",
     "start_time": "2021-12-22T05:38:32.227933Z"
    }
   },
   "outputs": [
    {
     "name": "stdout",
     "output_type": "stream",
     "text": [
      "0\n",
      "1\n",
      "2\n",
      "3\n",
      "4\n",
      "5\n",
      "6\n",
      "7\n",
      "8\n",
      "9\n"
     ]
    }
   ],
   "source": [
    "for data in range(1, 10) : \n",
    "    linked_list1.add(data)\n",
    "\n",
    "linked_list1.desc()"
   ]
  },
  {
   "cell_type": "markdown",
   "metadata": {},
   "source": [
    "### 6.링크드 리스트의 복잡한 기능 2 (특정 노드를 삭제)"
   ]
  },
  {
   "cell_type": "code",
   "execution_count": 36,
   "metadata": {
    "ExecuteTime": {
     "end_time": "2021-12-22T05:45:55.171086Z",
     "start_time": "2021-12-22T05:45:55.156130Z"
    }
   },
   "outputs": [],
   "source": [
    "class Node : \n",
    "    def __init__(self, data, next = None) : \n",
    "        self.data = data\n",
    "        self.next = next \n",
    "        \n",
    "class NodeMgmt : # Node Management \n",
    "    def __init__(self, data) : \n",
    "        self.head = Node(data) # head의 주소 알고있어야 linked list 관리 가능  \n",
    "\n",
    "    def add(self, data) : \n",
    "        if self.head == '' : \n",
    "            self.head = Node(data)\n",
    "        else :\n",
    "            node = self.head\n",
    "            while node.next : \n",
    "                node = node.next\n",
    "            node.next = Node(data)    \n",
    "        \n",
    "    def desc(self) : # 해당 linked list의 데이터를 출력(순회)\n",
    "        node = self.head\n",
    "        while node : \n",
    "            print(node.data)\n",
    "            node = node.next\n",
    "            \n",
    "    def delete(self, data) : \n",
    "        if self.head == '' :\n",
    "            print('해당 값을 가진 노드가 없습니다')\n",
    "            return\n",
    "        \n",
    "        if self.head.data == data : \n",
    "            temp = self.head\n",
    "            self.head = self.head.next\n",
    "            del temp\n",
    "        else :\n",
    "            node = self.head \n",
    "            while node.next : \n",
    "                if node.next.data == data : \n",
    "                    temp = node.next \n",
    "                    node.next = node.next.next\n",
    "                    del temp \n",
    "                    return \n",
    "                else :\n",
    "                    node = node.next"
   ]
  },
  {
   "cell_type": "markdown",
   "metadata": {},
   "source": [
    "테스트를 위해 1개의 노드 생성 "
   ]
  },
  {
   "cell_type": "code",
   "execution_count": 37,
   "metadata": {
    "ExecuteTime": {
     "end_time": "2021-12-22T05:45:55.990125Z",
     "start_time": "2021-12-22T05:45:55.974168Z"
    }
   },
   "outputs": [
    {
     "name": "stdout",
     "output_type": "stream",
     "text": [
      "0\n"
     ]
    }
   ],
   "source": [
    "linked_list1 = NodeMgmt(0)\n",
    "linked_list1.desc()"
   ]
  },
  {
   "cell_type": "markdown",
   "metadata": {},
   "source": [
    "head가 살아있음을 확인 "
   ]
  },
  {
   "cell_type": "code",
   "execution_count": 38,
   "metadata": {
    "ExecuteTime": {
     "end_time": "2021-12-22T05:45:56.316310Z",
     "start_time": "2021-12-22T05:45:56.305337Z"
    }
   },
   "outputs": [
    {
     "data": {
      "text/plain": [
       "<__main__.Node at 0x2184ecdcfd0>"
      ]
     },
     "execution_count": 38,
     "metadata": {},
     "output_type": "execute_result"
    }
   ],
   "source": [
    "linked_list1.head"
   ]
  },
  {
   "cell_type": "markdown",
   "metadata": {},
   "source": [
    "head 삭제"
   ]
  },
  {
   "cell_type": "code",
   "execution_count": 39,
   "metadata": {
    "ExecuteTime": {
     "end_time": "2021-12-22T05:45:56.625343Z",
     "start_time": "2021-12-22T05:45:56.616371Z"
    }
   },
   "outputs": [],
   "source": [
    "linked_list1.delete(0)"
   ]
  },
  {
   "cell_type": "markdown",
   "metadata": {},
   "source": [
    "다음 코드 실행 시 출력값이 없다는 것은 linked_list1.head가 정상적으로 삭제되었음을 의미 "
   ]
  },
  {
   "cell_type": "code",
   "execution_count": 40,
   "metadata": {
    "ExecuteTime": {
     "end_time": "2021-12-22T05:45:56.949061Z",
     "start_time": "2021-12-22T05:45:56.931079Z"
    }
   },
   "outputs": [],
   "source": [
    "linked_list1.head"
   ]
  },
  {
   "cell_type": "markdown",
   "metadata": {},
   "source": [
    "다시 하나의 노드 생성 "
   ]
  },
  {
   "cell_type": "code",
   "execution_count": 41,
   "metadata": {
    "ExecuteTime": {
     "end_time": "2021-12-22T05:45:57.258108Z",
     "start_time": "2021-12-22T05:45:57.253119Z"
    }
   },
   "outputs": [
    {
     "name": "stdout",
     "output_type": "stream",
     "text": [
      "0\n"
     ]
    }
   ],
   "source": [
    "linked_list1 = NodeMgmt(0)\n",
    "linked_list1.desc()"
   ]
  },
  {
   "cell_type": "markdown",
   "metadata": {},
   "source": [
    "여러 개의 노드 추가"
   ]
  },
  {
   "cell_type": "code",
   "execution_count": 42,
   "metadata": {
    "ExecuteTime": {
     "end_time": "2021-12-22T05:45:57.567963Z",
     "start_time": "2021-12-22T05:45:57.556400Z"
    }
   },
   "outputs": [
    {
     "name": "stdout",
     "output_type": "stream",
     "text": [
      "0\n",
      "1\n",
      "2\n",
      "3\n",
      "4\n",
      "5\n",
      "6\n",
      "7\n",
      "8\n",
      "9\n"
     ]
    }
   ],
   "source": [
    "for data in range(1,10) : \n",
    "    linked_list1.add(data)\n",
    "\n",
    "linked_list1.desc()"
   ]
  },
  {
   "cell_type": "code",
   "execution_count": 43,
   "metadata": {
    "ExecuteTime": {
     "end_time": "2021-12-22T05:45:58.624507Z",
     "start_time": "2021-12-22T05:45:58.616453Z"
    }
   },
   "outputs": [],
   "source": [
    "linked_list1.delete(4)"
   ]
  },
  {
   "cell_type": "code",
   "execution_count": 44,
   "metadata": {
    "ExecuteTime": {
     "end_time": "2021-12-22T05:46:15.187817Z",
     "start_time": "2021-12-22T05:46:15.169498Z"
    }
   },
   "outputs": [
    {
     "name": "stdout",
     "output_type": "stream",
     "text": [
      "0\n",
      "1\n",
      "2\n",
      "3\n",
      "5\n",
      "6\n",
      "7\n",
      "8\n",
      "9\n"
     ]
    }
   ],
   "source": [
    "linked_list1.desc()"
   ]
  },
  {
   "cell_type": "code",
   "execution_count": 45,
   "metadata": {
    "ExecuteTime": {
     "end_time": "2021-12-22T05:46:23.663136Z",
     "start_time": "2021-12-22T05:46:23.657700Z"
    }
   },
   "outputs": [],
   "source": [
    "linked_list1.delete(9)"
   ]
  },
  {
   "cell_type": "code",
   "execution_count": 46,
   "metadata": {
    "ExecuteTime": {
     "end_time": "2021-12-22T05:46:28.602362Z",
     "start_time": "2021-12-22T05:46:28.584902Z"
    }
   },
   "outputs": [
    {
     "name": "stdout",
     "output_type": "stream",
     "text": [
      "0\n",
      "1\n",
      "2\n",
      "3\n",
      "5\n",
      "6\n",
      "7\n",
      "8\n"
     ]
    }
   ],
   "source": [
    "linked_list1.desc()"
   ]
  },
  {
   "cell_type": "markdown",
   "metadata": {},
   "source": [
    "**연습 1 : 위 코드에서 노트 데이터가 2인 노드 삭제해보기**"
   ]
  },
  {
   "cell_type": "code",
   "execution_count": 47,
   "metadata": {
    "ExecuteTime": {
     "end_time": "2021-12-22T05:49:37.070340Z",
     "start_time": "2021-12-22T05:49:37.058286Z"
    }
   },
   "outputs": [
    {
     "name": "stdout",
     "output_type": "stream",
     "text": [
      "0\n",
      "1\n",
      "3\n",
      "5\n",
      "6\n",
      "7\n",
      "8\n"
     ]
    }
   ],
   "source": [
    "linked_list1.delete(2) \n",
    "linked_list1.desc()"
   ]
  },
  {
   "cell_type": "markdown",
   "metadata": {},
   "source": [
    "**연습 2 : 위 코드에서 노드 데이터가 특정 숫자인 노드를 찾는 함수를 만들고 테스트해보기**\n",
    "테스트 : 임의로 1-9까지의 데이터를 링크드 리스트에 넣어보고, 데이터 값이 4인 노드의 데이터값 출력해보기"
   ]
  },
  {
   "cell_type": "code",
   "execution_count": 60,
   "metadata": {
    "ExecuteTime": {
     "end_time": "2021-12-22T06:30:34.224416Z",
     "start_time": "2021-12-22T06:30:34.217328Z"
    }
   },
   "outputs": [],
   "source": [
    "class Node : \n",
    "    def __init__(self, data) : \n",
    "        self.data = data \n",
    "        self.next = None\n",
    "    \n",
    "class NodeMgmt : \n",
    "    def __init__(self, data) : \n",
    "        self.head = Node(data)\n",
    "        \n",
    "    def add(self, data) : \n",
    "        if self.head == '' : \n",
    "            self.head = Node(data) \n",
    "        else :\n",
    "            node = self.head\n",
    "            while node.next :\n",
    "                node = node.next\n",
    "            node.next = Node(data)\n",
    "    \n",
    "    def desc(self) : \n",
    "        node = self.head\n",
    "        while node : \n",
    "            print(node.data)\n",
    "            node = node.next\n",
    "            \n",
    "    def delete(self, data) : \n",
    "        if self.head == '' : \n",
    "            print('해당 값을 가진 노드가 없습니다') # linked list가 비어있는 경우(방어 코드)\n",
    "            return\n",
    "        \n",
    "        if self.head.data == data : # head 삭제하는 경우\n",
    "            temp = self.head \n",
    "            self.head = self.head.next\n",
    "            del temp\n",
    "            \n",
    "        else : \n",
    "            node = self.head\n",
    "            while node.next : \n",
    "                if node.next.data == data : \n",
    "                    temp = node.next\n",
    "                    node.next = node.next.next\n",
    "                    del temp \n",
    "                    pass\n",
    "                else : \n",
    "                    node = node.next\n",
    "                    \n",
    "    def search_node(self, data) :\n",
    "        node = self.head\n",
    "        while node : \n",
    "            if node.data == data : \n",
    "                return node\n",
    "            else : \n",
    "                node = node.next               \n"
   ]
  },
  {
   "cell_type": "code",
   "execution_count": 61,
   "metadata": {
    "ExecuteTime": {
     "end_time": "2021-12-22T06:30:35.123905Z",
     "start_time": "2021-12-22T06:30:35.102961Z"
    }
   },
   "outputs": [
    {
     "name": "stdout",
     "output_type": "stream",
     "text": [
      "0\n",
      "1\n",
      "2\n",
      "3\n",
      "4\n",
      "5\n",
      "6\n",
      "7\n",
      "8\n",
      "9\n"
     ]
    }
   ],
   "source": [
    "# 테스트 \n",
    "node_mgmt = NodeMgmt(0)\n",
    "for data in range(1, 10) : \n",
    "    node_mgmt.add(data)\n",
    "node_mgmt.desc()"
   ]
  },
  {
   "cell_type": "code",
   "execution_count": 64,
   "metadata": {
    "ExecuteTime": {
     "end_time": "2021-12-22T06:30:47.488215Z",
     "start_time": "2021-12-22T06:30:47.470149Z"
    }
   },
   "outputs": [
    {
     "name": "stdout",
     "output_type": "stream",
     "text": [
      "4\n"
     ]
    }
   ],
   "source": [
    "node = node_mgmt.search_node(4)\n",
    "print(node.data)"
   ]
  },
  {
   "cell_type": "markdown",
   "metadata": {},
   "source": [
    "### 7. 다양한 링크드 리스트 구조 \n",
    "- 더블 링크드 리스트(Double linked list) 기본 구조 \n",
    " - 이중 연결 리스트라고도 함 \n",
    " - 장점 : 양방향으로 연결되어 있어서 노드 탐색이 양쪽으로 모두 가능 "
   ]
  },
  {
   "cell_type": "code",
   "execution_count": 65,
   "metadata": {
    "ExecuteTime": {
     "end_time": "2021-12-22T06:48:15.298469Z",
     "start_time": "2021-12-22T06:48:15.281378Z"
    }
   },
   "outputs": [],
   "source": [
    "class Node : \n",
    "    def __init__(self, data, prev = None, next = None) : \n",
    "        self.prev = prev\n",
    "        self.data = data\n",
    "        self.next = next \n",
    "        \n",
    "class NodeMgmt : \n",
    "    def __init__(self, data) : \n",
    "        self.head = Node(data)\n",
    "        self.tail = self.head # 처음에는 node가 1개, head = tail \n",
    "        \n",
    "    def insert(self, data) : \n",
    "        if self.head == None : # head가 없으면 만들어주기\n",
    "            self.head = Node(head)\n",
    "            self.tail = self.head \n",
    "        else : \n",
    "            node = self.head\n",
    "            while node.next : # node의 끝 찾기\n",
    "                node = node.next \n",
    "            new = Node(data) \n",
    "            node.next = new \n",
    "            new.prev = node # 새로운 node가 앞의 node를 찾아가는 주소를 표시\n",
    "            self.tail = new # new가 tail이 되었음 \n",
    "    \n",
    "    def desc(self) : \n",
    "        node = self.head\n",
    "        while node : \n",
    "            print(node.data)\n",
    "            node = node.next"
   ]
  },
  {
   "cell_type": "code",
   "execution_count": 66,
   "metadata": {
    "ExecuteTime": {
     "end_time": "2021-12-22T06:48:45.435520Z",
     "start_time": "2021-12-22T06:48:45.417438Z"
    }
   },
   "outputs": [
    {
     "name": "stdout",
     "output_type": "stream",
     "text": [
      "0\n",
      "1\n",
      "2\n",
      "3\n",
      "4\n",
      "5\n",
      "6\n",
      "7\n",
      "8\n",
      "9\n"
     ]
    }
   ],
   "source": [
    "double_linked_list = NodeMgmt(0)\n",
    "for data in range(1, 10) : \n",
    "    double_linked_list.insert(data)\n",
    "    \n",
    "double_linked_list.desc()"
   ]
  },
  {
   "cell_type": "markdown",
   "metadata": {},
   "source": [
    "**연습 3 : 위 코드에서 노드 데이터가 특정 숫자인 노드 앞에 데이터를 추가하는 함수를 만들고 테스트해보기**\n",
    "- 더블 링크드 리스트의 tail에서부터 앞으로 이동하며 특정 숫자인 노드를 찾는 방식으로 함수 구현 \n",
    "- 테스트 : 임의로 0~9까지 데이터를 링크드 리스트에 넣어보고 데이터 값이 2인 노드 앞에 1.5 값을 가진 노드를 추가해보기\n"
   ]
  },
  {
   "cell_type": "code",
   "execution_count": 70,
   "metadata": {
    "ExecuteTime": {
     "end_time": "2021-12-22T07:09:59.094105Z",
     "start_time": "2021-12-22T07:09:59.086128Z"
    }
   },
   "outputs": [],
   "source": [
    "class Node : \n",
    "    def __init__(self, data, prev = None, next = None) : \n",
    "        self.prev = prev\n",
    "        self.data = data\n",
    "        self.next = next \n",
    "        \n",
    "class NodeMgmt : \n",
    "    def __init__(self, data) : \n",
    "        self.head = Node(data)\n",
    "        self.tail = self.head # 처음에는 node가 1개, head = tail \n",
    "        \n",
    "    def insert(self, data) : \n",
    "        if self.head == None : # head가 없으면 만들어주기\n",
    "            self.head = Node(head)\n",
    "            self.tail = self.head \n",
    "        else : \n",
    "            node = self.head\n",
    "            while node.next : # node의 끝 찾기\n",
    "                node = node.next \n",
    "            new = Node(data) \n",
    "            node.next = new \n",
    "            new.prev = node # 새로운 node가 앞의 node를 찾아가는 주소를 표시\n",
    "            self.tail = new # new가 tail이 되었음 \n",
    "    \n",
    "    def desc(self) : \n",
    "        node = self.head\n",
    "        while node : \n",
    "            print(node.data)\n",
    "            node = node.next\n",
    "            \n",
    "    def insert_prev(self, data, before) : \n",
    "        if self.head == None : \n",
    "            self.head = Node(data) \n",
    "            self.tail = self.head\n",
    "               \n",
    "        else : \n",
    "            node = self.tail \n",
    "            while node.data != before : \n",
    "                node = node.prev\n",
    "                if node == None : \n",
    "                    return False\n",
    "            new = Node(data)\n",
    "            before_new = node.prev\n",
    "            before_new.next = new\n",
    "            new.prev = before_new\n",
    "            new.next = node\n",
    "            node.prev = new\n",
    "            return True"
   ]
  },
  {
   "cell_type": "code",
   "execution_count": 71,
   "metadata": {
    "ExecuteTime": {
     "end_time": "2021-12-22T07:10:00.662125Z",
     "start_time": "2021-12-22T07:10:00.646585Z"
    }
   },
   "outputs": [
    {
     "name": "stdout",
     "output_type": "stream",
     "text": [
      "0\n",
      "1\n",
      "2\n",
      "3\n",
      "4\n",
      "5\n",
      "6\n",
      "7\n",
      "8\n",
      "9\n"
     ]
    }
   ],
   "source": [
    "double_linked_list = NodeMgmt(0)\n",
    "\n",
    "for data in range(1, 10) :\n",
    "    double_linked_list.insert(data) \n",
    "    \n",
    "double_linked_list.desc()"
   ]
  },
  {
   "cell_type": "code",
   "execution_count": null,
   "metadata": {},
   "outputs": [],
   "source": [
    "double_linked_list.insert_prev(1.5, 2)\n",
    "double_linked_list.desc()"
   ]
  },
  {
   "cell_type": "markdown",
   "metadata": {},
   "source": [
    "**연습 4 : 위 코드에서 노드 데이터가 특정 숫자인 노드 뒤에 데이터를 추가하는 함수를 만들고 테스트해보기**\n",
    "- 더블 링크드 리스트의 head에서부터 다음으로 이동하며 특정 숫자인 노드를 찾는 방식으로 함수 구현 \n",
    "- 테스트 : 임의로 0~9까지 데이터를 링크드 리스트에 넣어보고 데이터 값이 1인 노드 뒤에 1.7 값을 가진 노드를 추가해보기"
   ]
  },
  {
   "cell_type": "code",
   "execution_count": 75,
   "metadata": {
    "ExecuteTime": {
     "end_time": "2021-12-22T07:15:21.720247Z",
     "start_time": "2021-12-22T07:15:21.701794Z"
    }
   },
   "outputs": [],
   "source": [
    "class Node : \n",
    "    def __init__(self, data, prev = None, next = None) : \n",
    "        self.prev = prev\n",
    "        self.data = data\n",
    "        self.next = next \n",
    "        \n",
    "class NodeMgmt : \n",
    "    def __init__(self, data) : \n",
    "        self.head = Node(data)\n",
    "        self.tail = self.head # 처음에는 node가 1개, head = tail \n",
    "        \n",
    "    def insert(self, data) : \n",
    "        if self.head == None : # head가 없으면 만들어주기\n",
    "            self.head = Node(head)\n",
    "            self.tail = self.head \n",
    "        else : \n",
    "            node = self.head\n",
    "            while node.next : # node의 끝 찾기\n",
    "                node = node.next \n",
    "            new = Node(data) \n",
    "            node.next = new \n",
    "            new.prev = node # 새로운 node가 앞의 node를 찾아가는 주소를 표시\n",
    "            self.tail = new # new가 tail이 되었음 \n",
    "    \n",
    "    def desc(self) : \n",
    "        node = self.head\n",
    "        while node : \n",
    "            print(node.data)\n",
    "            node = node.next\n",
    "            \n",
    "    def insert_next(self, data, next) : \n",
    "        if self.head == None : \n",
    "            self.head = Node(data) \n",
    "            self.tail = self.head\n",
    "               \n",
    "        else : \n",
    "            node = self.head \n",
    "            while node.data != next : \n",
    "                node = node.next\n",
    "                if node == None : \n",
    "                    return False\n",
    "            new = Node(data)\n",
    "            next_new = node.next\n",
    "            next_new.before = new\n",
    "            new.prev = node\n",
    "            new.next = next_new\n",
    "            node.next = new\n",
    "            return True"
   ]
  },
  {
   "cell_type": "code",
   "execution_count": 76,
   "metadata": {
    "ExecuteTime": {
     "end_time": "2021-12-22T07:15:29.738897Z",
     "start_time": "2021-12-22T07:15:29.730944Z"
    }
   },
   "outputs": [
    {
     "name": "stdout",
     "output_type": "stream",
     "text": [
      "0\n",
      "1\n",
      "2\n",
      "3\n",
      "4\n",
      "5\n",
      "6\n",
      "7\n",
      "8\n",
      "9\n"
     ]
    }
   ],
   "source": [
    "double_linked_list = NodeMgmt(0)\n",
    "\n",
    "for data in range(1, 10) :\n",
    "    double_linked_list.insert(data) \n",
    "    \n",
    "double_linked_list.desc()"
   ]
  },
  {
   "cell_type": "code",
   "execution_count": 77,
   "metadata": {
    "ExecuteTime": {
     "end_time": "2021-12-22T07:15:57.410338Z",
     "start_time": "2021-12-22T07:15:57.404384Z"
    }
   },
   "outputs": [
    {
     "name": "stdout",
     "output_type": "stream",
     "text": [
      "0\n",
      "1\n",
      "1.7\n",
      "2\n",
      "3\n",
      "4\n",
      "5\n",
      "6\n",
      "7\n",
      "8\n",
      "9\n"
     ]
    }
   ],
   "source": [
    "double_linked_list.insert_next(1.7, 1)\n",
    "double_linked_list.desc()"
   ]
  }
 ],
 "metadata": {
  "hide_input": false,
  "kernelspec": {
   "display_name": "Python 3",
   "language": "python",
   "name": "python3"
  },
  "language_info": {
   "codemirror_mode": {
    "name": "ipython",
    "version": 3
   },
   "file_extension": ".py",
   "mimetype": "text/x-python",
   "name": "python",
   "nbconvert_exporter": "python",
   "pygments_lexer": "ipython3",
   "version": "3.8.5"
  },
  "varInspector": {
   "cols": {
    "lenName": 16,
    "lenType": 16,
    "lenVar": 40
   },
   "kernels_config": {
    "python": {
     "delete_cmd_postfix": "",
     "delete_cmd_prefix": "del ",
     "library": "var_list.py",
     "varRefreshCmd": "print(var_dic_list())"
    },
    "r": {
     "delete_cmd_postfix": ") ",
     "delete_cmd_prefix": "rm(",
     "library": "var_list.r",
     "varRefreshCmd": "cat(var_dic_list()) "
    }
   },
   "types_to_exclude": [
    "module",
    "function",
    "builtin_function_or_method",
    "instance",
    "_Feature"
   ],
   "window_display": false
  }
 },
 "nbformat": 4,
 "nbformat_minor": 4
}
