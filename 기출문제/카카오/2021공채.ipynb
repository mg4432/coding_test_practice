{
 "cells": [
  {
   "cell_type": "markdown",
   "metadata": {},
   "source": [
    "# 아이디 추천"
   ]
  },
  {
   "cell_type": "code",
   "execution_count": 32,
   "metadata": {
    "ExecuteTime": {
     "end_time": "2022-05-07T04:15:02.546894Z",
     "start_time": "2022-05-07T04:15:02.533389Z"
    }
   },
   "outputs": [],
   "source": [
    "def solution(new_id) : \n",
    "    answer = '' \n",
    "    new_id = new_id.lower()\n",
    "    \n",
    "    for ch in new_id : \n",
    "        if ch.isalnum() == False and ch not in ['-','_','.'] : \n",
    "            new_id = new_id.replace(ch, '')\n",
    "    print(new_id)\n",
    "    last_dot = False\n",
    "    for ch in new_id : \n",
    "        if ch == '.' :\n",
    "            if len(answer) == 0 or last_dot : \n",
    "                continue \n",
    "            last_dot = True \n",
    "        \n",
    "        else : \n",
    "            last_dot = False\n",
    "        \n",
    "        answer += ch\n",
    "    print(answer)\n",
    "        \n",
    "    if len(answer) == 0 : \n",
    "        answer += 'a'\n",
    "    print(answer)\n",
    "    if answer[-1] == '.' : \n",
    "        answer = answer[:-1]\n",
    "    if len(answer) >= 16 : \n",
    "        answer = answer[:15]\n",
    "        if answer[-1] == '.' : \n",
    "            answer = answer[:-1]\n",
    "    print(answer)\n",
    "    while len(answer) <= 2 : \n",
    "        answer += answer[-1]\n",
    "    print(answer)\n",
    "    return answer"
   ]
  },
  {
   "cell_type": "code",
   "execution_count": 33,
   "metadata": {
    "ExecuteTime": {
     "end_time": "2022-05-07T04:15:02.742547Z",
     "start_time": "2022-05-07T04:15:02.726208Z"
    }
   },
   "outputs": [
    {
     "name": "stdout",
     "output_type": "stream",
     "text": [
      "z-..\n",
      "z-.\n",
      "z-.\n",
      "z-\n",
      "z--\n"
     ]
    },
    {
     "data": {
      "text/plain": [
       "'z--'"
      ]
     },
     "execution_count": 33,
     "metadata": {},
     "output_type": "execute_result"
    }
   ],
   "source": [
    "solution(\"z-+.^.\")"
   ]
  },
  {
   "cell_type": "markdown",
   "metadata": {},
   "source": [
    "# 메뉴 리뉴얼"
   ]
  },
  {
   "cell_type": "code",
   "execution_count": 38,
   "metadata": {
    "ExecuteTime": {
     "end_time": "2022-05-07T04:25:19.819008Z",
     "start_time": "2022-05-07T04:25:19.806042Z"
    }
   },
   "outputs": [],
   "source": [
    "from itertools import combinations \n",
    "\n",
    "def solution(orders, course) :\n",
    "    food_map = [{} for _ in range(11)]\n",
    "    max_cnt = [0 for _ in range(11)]\n",
    "    answer = [] \n",
    "    \n",
    "    for order in orders : \n",
    "        for num in range(2, len(order) + 1) : \n",
    "            for i in combinations(sorted(order), num) :\n",
    "                key = ''.join(i)\n",
    "                \n",
    "                if key in food_map[num] : \n",
    "                    food_map[num][key] += 1\n",
    "                    max_cnt[num] = max(max_cnt[num], food_map[num][key])\n",
    "                    \n",
    "                else : \n",
    "                    food_map[num][key] = 1\n",
    "    for num in course : \n",
    "        for key, value in food_map[num].items() : \n",
    "            if value >= 2 and value == max_cnt[num] : \n",
    "                answer.append(key)\n",
    "                \n",
    "    return sorted(answer)"
   ]
  },
  {
   "cell_type": "code",
   "execution_count": 39,
   "metadata": {
    "ExecuteTime": {
     "end_time": "2022-05-07T04:25:31.353418Z",
     "start_time": "2022-05-07T04:25:31.339619Z"
    }
   },
   "outputs": [
    {
     "data": {
      "text/plain": [
       "['AC', 'ACDE', 'BCFG', 'CDE']"
      ]
     },
     "execution_count": 39,
     "metadata": {},
     "output_type": "execute_result"
    }
   ],
   "source": [
    "solution([\"ABCFG\", \"AC\", \"CDE\", \"ACDE\", \"BCFG\", \"ACDEH\"], \n",
    "         [2,3,4])"
   ]
  },
  {
   "cell_type": "markdown",
   "metadata": {},
   "source": [
    "# 순위 검색"
   ]
  },
  {
   "cell_type": "code",
   "execution_count": null,
   "metadata": {},
   "outputs": [],
   "source": []
  }
 ],
 "metadata": {
  "hide_input": false,
  "kernelspec": {
   "display_name": "Python 3",
   "language": "python",
   "name": "python3"
  },
  "language_info": {
   "codemirror_mode": {
    "name": "ipython",
    "version": 3
   },
   "file_extension": ".py",
   "mimetype": "text/x-python",
   "name": "python",
   "nbconvert_exporter": "python",
   "pygments_lexer": "ipython3",
   "version": "3.8.5"
  },
  "toc": {
   "base_numbering": 1,
   "nav_menu": {},
   "number_sections": true,
   "sideBar": true,
   "skip_h1_title": false,
   "title_cell": "Table of Contents",
   "title_sidebar": "Contents",
   "toc_cell": false,
   "toc_position": {},
   "toc_section_display": true,
   "toc_window_display": false
  },
  "varInspector": {
   "cols": {
    "lenName": 16,
    "lenType": 16,
    "lenVar": 40
   },
   "kernels_config": {
    "python": {
     "delete_cmd_postfix": "",
     "delete_cmd_prefix": "del ",
     "library": "var_list.py",
     "varRefreshCmd": "print(var_dic_list())"
    },
    "r": {
     "delete_cmd_postfix": ") ",
     "delete_cmd_prefix": "rm(",
     "library": "var_list.r",
     "varRefreshCmd": "cat(var_dic_list()) "
    }
   },
   "types_to_exclude": [
    "module",
    "function",
    "builtin_function_or_method",
    "instance",
    "_Feature"
   ],
   "window_display": false
  }
 },
 "nbformat": 4,
 "nbformat_minor": 4
}
