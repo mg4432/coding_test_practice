{
 "cells": [
  {
   "cell_type": "markdown",
   "metadata": {},
   "source": [
    "# 키패드 누르기"
   ]
  },
  {
   "cell_type": "code",
   "execution_count": 242,
   "metadata": {
    "ExecuteTime": {
     "end_time": "2022-05-05T02:17:47.959870Z",
     "start_time": "2022-05-05T02:17:47.937927Z"
    }
   },
   "outputs": [],
   "source": [
    "def dist(a, b) : \n",
    "    dist = 0\n",
    "    for i in range(2) : \n",
    "        dist += abs(a[i]-b[i])\n",
    "    return dist\n",
    "\n",
    "def solution(numbers, hand):\n",
    "    answer = ''\n",
    "    \n",
    "    num_pos = {1 : [0,0], 2 : [0,1], 3 : [0, 2],\n",
    "               4 : [1,0], 5 : [1,1], 6 : [1, 2],\n",
    "               7 : [2,0], 8 : [2,1], 9 : [2, 2],\n",
    "               10 : [3,0], 0 : [3,1], 11 : [3, 2]}\n",
    "    left = 10\n",
    "    right = 11\n",
    "    for n in numbers : \n",
    "        if n == 1 or n == 4 or n == 7 : \n",
    "            answer += 'L'\n",
    "            left = n\n",
    "        elif n == 3 or n == 6 or n == 9 : \n",
    "            answer += 'R'\n",
    "            right = n\n",
    "        else :\n",
    "            if dist(num_pos[left], num_pos[n]) < dist(num_pos[right], num_pos[n]) : \n",
    "                answer += 'L'\n",
    "                left = n\n",
    "                \n",
    "            elif dist(num_pos[left], num_pos[n]) > dist(num_pos[right], num_pos[n]) : \n",
    "                answer += 'R'\n",
    "                right = n\n",
    "           \n",
    "            else : \n",
    "                if hand == 'right' : \n",
    "                    answer += 'R'\n",
    "                    right = n\n",
    "                else : \n",
    "                    answer += 'L'\n",
    "                    left = n\n",
    "                    \n",
    "    return answer"
   ]
  },
  {
   "cell_type": "code",
   "execution_count": 243,
   "metadata": {
    "ExecuteTime": {
     "end_time": "2022-05-05T02:18:04.355299Z",
     "start_time": "2022-05-05T02:18:04.339431Z"
    }
   },
   "outputs": [
    {
     "data": {
      "text/plain": [
       "'LRRRLRLRRLRLRLRRLRL'"
      ]
     },
     "execution_count": 243,
     "metadata": {},
     "output_type": "execute_result"
    }
   ],
   "source": [
    "solution([1,3,8,5,4,0,7,3,5,7,9,4,6,1,3,5,4,8,7], 'right')"
   ]
  },
  {
   "cell_type": "markdown",
   "metadata": {},
   "source": [
    "# 수식 최대화"
   ]
  },
  {
   "cell_type": "code",
   "execution_count": 240,
   "metadata": {
    "ExecuteTime": {
     "end_time": "2022-05-05T02:17:15.561104Z",
     "start_time": "2022-05-05T02:17:15.545145Z"
    }
   },
   "outputs": [],
   "source": [
    "from itertools import permutations \n",
    "\n",
    "def cal(a, b, oper) : \n",
    "    if oper == '*' : \n",
    "        return a*b\n",
    "    elif oper == '+' :\n",
    "        return a+b\n",
    "    else : \n",
    "        return a-b\n",
    "\n",
    "def solution(expression) : \n",
    "    answer = [] \n",
    "    operator = []\n",
    "    for exp in expression : \n",
    "        if not exp.isalnum() : \n",
    "            operator.append(exp)\n",
    "    \n",
    "    oper_dict = {'*' : ' ', '+' : ' ', '-' : ' '}\n",
    "    for key, value in oper_dict.items() : \n",
    "        expression = expression.replace(key, value)\n",
    "        \n",
    "    num = list(map(int, expression.split(' ')))\n",
    "    \n",
    "    for perm in permutations('*+-', 3) :\n",
    "        num_ = num.copy()\n",
    "        operator_ = operator.copy()\n",
    "        for can in perm : \n",
    "            while can in operator_ :\n",
    "                for i in range(len(operator_)) : \n",
    "                    if operator_[i] == can :\n",
    "                        num_[i] = cal(num_[i], num_[i+1], can)\n",
    "                        del num_[i+1]\n",
    "                        del operator_[i]\n",
    "                        break\n",
    "                        \n",
    "        answer.append(abs(num_[0]))\n",
    "                        \n",
    "                        \n",
    "    \n",
    "    return max(answer)"
   ]
  },
  {
   "cell_type": "code",
   "execution_count": 241,
   "metadata": {
    "ExecuteTime": {
     "end_time": "2022-05-05T02:17:15.665768Z",
     "start_time": "2022-05-05T02:17:15.657792Z"
    }
   },
   "outputs": [
    {
     "data": {
      "text/plain": [
       "60420"
      ]
     },
     "execution_count": 241,
     "metadata": {},
     "output_type": "execute_result"
    }
   ],
   "source": [
    "solution(\"100-200*300-500+20\")"
   ]
  },
  {
   "cell_type": "markdown",
   "metadata": {},
   "source": [
    "# 보석 쇼핑"
   ]
  },
  {
   "cell_type": "code",
   "execution_count": 260,
   "metadata": {
    "ExecuteTime": {
     "end_time": "2022-05-05T02:55:56.604455Z",
     "start_time": "2022-05-05T02:55:56.590493Z"
    }
   },
   "outputs": [],
   "source": [
    "def solution(gems) : \n",
    "    n = len(set(gems))\n",
    "    start = 0 \n",
    "    end = 0\n",
    "    answer = [0, len(gems)-1]\n",
    "    gems_dict = {gems[0] : 1,}\n",
    "    while start < len(gems) and end < len(gems) :\n",
    "        if len(gems_dict) == n : \n",
    "            if answer[1] - answer[0] > end - start : \n",
    "                answer[0], answer[1] = start, end\n",
    "            \n",
    "            # start 이동 \n",
    "            if gems_dict[gems[start]] == 1 :\n",
    "                del gems_dict[gems[start]]\n",
    "                \n",
    "            else : \n",
    "                gems_dict[gems[start]] -= 1\n",
    "                \n",
    "            start += 1\n",
    "            \n",
    "        else :\n",
    "            end += 1 \n",
    "            if end == len(gems) :\n",
    "                break\n",
    "            if gems_dict.get(gems[end]) is None : \n",
    "                gems_dict[gems[end]] = 1 \n",
    "            else : \n",
    "                gems_dict[gems[end]] += 1\n",
    "    answer[0] += 1 \n",
    "    answer[1] += 1\n",
    "    return answer\n",
    "        "
   ]
  },
  {
   "cell_type": "code",
   "execution_count": 261,
   "metadata": {
    "ExecuteTime": {
     "end_time": "2022-05-05T02:55:56.739055Z",
     "start_time": "2022-05-05T02:55:56.732048Z"
    }
   },
   "outputs": [
    {
     "data": {
      "text/plain": [
       "[3, 7]"
      ]
     },
     "execution_count": 261,
     "metadata": {},
     "output_type": "execute_result"
    }
   ],
   "source": [
    "solution([\"DIA\", \"RUBY\", \"RUBY\", \"DIA\", \"DIA\", \"EMERALD\", \"SAPPHIRE\", \"DIA\"])"
   ]
  },
  {
   "cell_type": "markdown",
   "metadata": {},
   "source": [
    "\n",
    "# 경주로 건설 "
   ]
  },
  {
   "cell_type": "code",
   "execution_count": 304,
   "metadata": {
    "ExecuteTime": {
     "end_time": "2022-05-05T05:13:35.962177Z",
     "start_time": "2022-05-05T05:13:35.944837Z"
    }
   },
   "outputs": [],
   "source": [
    "from collections import deque \n",
    "\n",
    "def solution(board) :\n",
    "    n = len(board)\n",
    "    dx = [-1, 0, 1, 0]\n",
    "    dy = [0, -1, 0, 1]\n",
    "    answer = float('inf')\n",
    "    q = deque()\n",
    "    # x, y, dir, cost\n",
    "    q.append((0, 0, -1, 0))\n",
    "    visited = {(0, 0, 0) : 0, (0, 0, 1) : 0, (0, 0, 2) : 0, (0, 0, 3) : 0}\n",
    "    \n",
    "    while q :\n",
    "        x, y, dir1, cost = q.popleft()\n",
    "        for d in range(4) :\n",
    "            nx = x + dx[d]\n",
    "            ny = y + dy[d]\n",
    "            # 탐색할 범위\n",
    "            if 0 <= nx < n and 0 <= ny < n and not board[nx][ny]:\n",
    "                newcost = cost\n",
    "                if dir1 == -1 : \n",
    "                    newcost += 100\n",
    "                \n",
    "                elif (dir1 - d) % 2 == 0 : \n",
    "                    newcost += 100\n",
    "                    \n",
    "                else : \n",
    "                    newcost += 600\n",
    "                    \n",
    "                if nx == n-1 and ny == n-1 : \n",
    "                    answer = min(answer, newcost)\n",
    "                    \n",
    "                elif visited.get((nx, ny, d)) is None or visited.get((nx, ny, d)) > newcost : \n",
    "                    visited[(nx, ny, d)] = newcost\n",
    "                    q.append((nx, ny, d, newcost))\n",
    "                    \n",
    "    return answer"
   ]
  },
  {
   "cell_type": "code",
   "execution_count": 305,
   "metadata": {
    "ExecuteTime": {
     "end_time": "2022-05-05T05:13:36.157749Z",
     "start_time": "2022-05-05T05:13:36.150404Z"
    }
   },
   "outputs": [
    {
     "data": {
      "text/plain": [
       "3800"
      ]
     },
     "execution_count": 305,
     "metadata": {},
     "output_type": "execute_result"
    }
   ],
   "source": [
    "solution([[0,0,0,0,0,0,0,1],[0,0,0,0,0,0,0,0],[0,0,0,0,0,1,0,0],[0,0,0,0,1,0,0,0],[0,0,0,1,0,0,0,1],[0,0,1,0,0,0,1,0],[0,1,0,0,0,1,0,0],[1,0,0,0,0,0,0,0]])"
   ]
  },
  {
   "cell_type": "markdown",
   "metadata": {},
   "source": [
    "# 동굴 탐험"
   ]
  },
  {
   "cell_type": "code",
   "execution_count": null,
   "metadata": {},
   "outputs": [],
   "source": [
    "from collections import defaultdict, deque\n",
    "\n",
    "def solution(n, path, order):\n",
    "    graph = defaultdict(list)\n",
    "    visited = [0 for _ in range(n) ]\n",
    "    visited[0] = 1\n",
    "\n",
    "    for u, v in path :\n",
    "        graph[u].append(v)\n",
    "        graph[v].append(u)\n",
    "\n",
    "    order1, order2 = {}, {}\n",
    "    for u, v in order :\n",
    "        order1[u] = v\n",
    "        order2[v] = u\n",
    "        if v == 0:\n",
    "            return False\n",
    "        if u == 0:\n",
    "            order1[0] = 0\n",
    "\n",
    "    queue = deque()\n",
    "    queue.append(0)\n",
    "\n",
    "    while queue :\n",
    "        cur = queue.popleft()\n",
    "        if cur == order1.get(order2.get(cur)) :\n",
    "            visited[cur] = 2\n",
    "        else :\n",
    "            for node in graph[cur] :\n",
    "                if visited[node] == 0 :\n",
    "                    queue.append(node)\n",
    "                    visited[node] = 1\n",
    "                    if order1.get(node) :\n",
    "                        if visited[order1[node]] == 2 :\n",
    "                            queue.append(order1[node])\n",
    "                            visited[order1[node]] == 1\n",
    "                        order1[node] = 0\n",
    "    for i in visited :\n",
    "        if not i :\n",
    "            return False\n",
    "    return True"
   ]
  },
  {
   "cell_type": "code",
   "execution_count": null,
   "metadata": {},
   "outputs": [],
   "source": []
  },
  {
   "cell_type": "code",
   "execution_count": null,
   "metadata": {},
   "outputs": [],
   "source": []
  }
 ],
 "metadata": {
  "hide_input": false,
  "kernelspec": {
   "display_name": "Python 3",
   "language": "python",
   "name": "python3"
  },
  "language_info": {
   "codemirror_mode": {
    "name": "ipython",
    "version": 3
   },
   "file_extension": ".py",
   "mimetype": "text/x-python",
   "name": "python",
   "nbconvert_exporter": "python",
   "pygments_lexer": "ipython3",
   "version": "3.8.5"
  },
  "toc": {
   "base_numbering": 1,
   "nav_menu": {},
   "number_sections": true,
   "sideBar": true,
   "skip_h1_title": false,
   "title_cell": "Table of Contents",
   "title_sidebar": "Contents",
   "toc_cell": false,
   "toc_position": {},
   "toc_section_display": true,
   "toc_window_display": false
  },
  "varInspector": {
   "cols": {
    "lenName": 16,
    "lenType": 16,
    "lenVar": 40
   },
   "kernels_config": {
    "python": {
     "delete_cmd_postfix": "",
     "delete_cmd_prefix": "del ",
     "library": "var_list.py",
     "varRefreshCmd": "print(var_dic_list())"
    },
    "r": {
     "delete_cmd_postfix": ") ",
     "delete_cmd_prefix": "rm(",
     "library": "var_list.r",
     "varRefreshCmd": "cat(var_dic_list()) "
    }
   },
   "types_to_exclude": [
    "module",
    "function",
    "builtin_function_or_method",
    "instance",
    "_Feature"
   ],
   "window_display": false
  }
 },
 "nbformat": 4,
 "nbformat_minor": 4
}
