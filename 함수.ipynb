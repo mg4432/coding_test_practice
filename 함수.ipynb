{
 "cells": [
  {
   "cell_type": "markdown",
   "metadata": {},
   "source": [
    "# 함수 \n",
    "- 내장 함수 : 파이썬이 기본적으로 제공하는 함수 \n",
    "- 사용자 정의 함수 : 개발자가 직접 정의하여 사용할 수 있는 함수 "
   ]
  },
  {
   "cell_type": "markdown",
   "metadata": {},
   "source": [
    "- 매개변수 : 함수 내부에서 사용할 변수\n",
    "- 반환 값 : 함수에서 처리된 결과를 반환\n",
    "    \n",
    "def 함수명(매개변수) : \n",
    "    \n",
    "    실행할 소스코드\n",
    "    \n",
    "    return 반환 값"
   ]
  },
  {
   "cell_type": "code",
   "execution_count": 1,
   "metadata": {
    "ExecuteTime": {
     "end_time": "2021-07-14T02:31:57.596953Z",
     "start_time": "2021-07-14T02:31:57.588974Z"
    }
   },
   "outputs": [
    {
     "name": "stdout",
     "output_type": "stream",
     "text": [
      "10\n"
     ]
    }
   ],
   "source": [
    "def add(a,b) : \n",
    "    return a+b \n",
    "\n",
    "print(add(3, 7))"
   ]
  },
  {
   "cell_type": "code",
   "execution_count": 3,
   "metadata": {
    "ExecuteTime": {
     "end_time": "2021-07-14T02:32:27.016883Z",
     "start_time": "2021-07-14T02:32:27.008903Z"
    }
   },
   "outputs": [
    {
     "name": "stdout",
     "output_type": "stream",
     "text": [
      "함수의 결과 : 10\n"
     ]
    }
   ],
   "source": [
    "def add(a,b) : \n",
    "    print('함수의 결과 :', a+b)\n",
    "    \n",
    "add(3, 7)"
   ]
  },
  {
   "cell_type": "markdown",
   "metadata": {},
   "source": [
    "## 파라미터 지정하기\n",
    "파라미터의 변수를 직접 지정할 수 있다. \n",
    "- 이 때, 매개변수의 순서가 달라도 상관이 없다."
   ]
  },
  {
   "cell_type": "code",
   "execution_count": 4,
   "metadata": {
    "ExecuteTime": {
     "end_time": "2021-07-14T02:36:20.981754Z",
     "start_time": "2021-07-14T02:36:20.962806Z"
    }
   },
   "outputs": [
    {
     "name": "stdout",
     "output_type": "stream",
     "text": [
      "함수의 결과 : 10\n"
     ]
    }
   ],
   "source": [
    "def add(a, b) : \n",
    "    print('함수의 결과 :', a + b) \n",
    "\n",
    "add(b = 3, a = 7)"
   ]
  },
  {
   "cell_type": "markdown",
   "metadata": {},
   "source": [
    "## global 키워드\n",
    "global 키워드로 변수를 지정하면 해당 함수에서는 지역 변수를 만들지 않고, 함수 바깥에 선언된 변수를 바로 참조한다."
   ]
  },
  {
   "cell_type": "code",
   "execution_count": 6,
   "metadata": {
    "ExecuteTime": {
     "end_time": "2021-07-14T02:40:28.628433Z",
     "start_time": "2021-07-14T02:40:28.622446Z"
    }
   },
   "outputs": [
    {
     "name": "stdout",
     "output_type": "stream",
     "text": [
      "1\n",
      "2\n",
      "3\n",
      "4\n",
      "5\n",
      "6\n",
      "7\n",
      "8\n",
      "9\n",
      "10\n"
     ]
    }
   ],
   "source": [
    "a = 0 \n",
    "\n",
    "def func() : \n",
    "    global a\n",
    "    a += 1 \n",
    "    print(a) \n",
    "    \n",
    "for i in range(10) : \n",
    "    func()"
   ]
  },
  {
   "cell_type": "markdown",
   "metadata": {},
   "source": [
    "전역 변수와 지역 변수가 존재한다면 지역 변수에 우선순위를 둔다."
   ]
  },
  {
   "cell_type": "code",
   "execution_count": 7,
   "metadata": {
    "ExecuteTime": {
     "end_time": "2021-07-14T02:42:37.609141Z",
     "start_time": "2021-07-14T02:42:37.592187Z"
    }
   },
   "outputs": [
    {
     "name": "stdout",
     "output_type": "stream",
     "text": [
      "[3, 4, 5, 6]\n",
      "[1, 2, 3, 4, 5]\n"
     ]
    }
   ],
   "source": [
    "array = [1, 2, 3, 4, 5]\n",
    "\n",
    "def func() : \n",
    "    array = [3, 4, 5]\n",
    "    array.append(6)\n",
    "    print(array)\n",
    "    \n",
    "func()\n",
    "print(array)"
   ]
  },
  {
   "cell_type": "markdown",
   "metadata": {},
   "source": [
    "## 여러 개의 반환 값 \n",
    "파이썬에서 함수는 여러 개의 반환 값을 가질 수 있다."
   ]
  },
  {
   "cell_type": "code",
   "execution_count": 11,
   "metadata": {
    "ExecuteTime": {
     "end_time": "2021-07-14T02:45:54.773113Z",
     "start_time": "2021-07-14T02:45:54.760154Z"
    }
   },
   "outputs": [
    {
     "name": "stdout",
     "output_type": "stream",
     "text": [
      "10 4 21 2.3333333333333335\n"
     ]
    }
   ],
   "source": [
    "def operator(a, b) : \n",
    "    add_var = a + b \n",
    "    subtract_var = a - b \n",
    "    multiply_var = a * b \n",
    "    divide_var = a / b \n",
    "    return add_var, subtract_var, multiply_var, divide_var\n",
    "\n",
    "a, b, c, d = operator(7,3)\n",
    "print(a,b,c,d)"
   ]
  },
  {
   "cell_type": "markdown",
   "metadata": {},
   "source": [
    "## 람다 표현식 \n",
    "람다 표현식을 사용하면 함수를 간단하게 작성할 수 있다.\n",
    "- 특정한 기능을 수행하는 함수를 한 줄에 작성할 수 있다는 점이 특징"
   ]
  },
  {
   "cell_type": "code",
   "execution_count": null,
   "metadata": {},
   "outputs": [],
   "source": [
    "lambda(매개변수, 반환 값)(대입할 값)"
   ]
  },
  {
   "cell_type": "code",
   "execution_count": 12,
   "metadata": {
    "ExecuteTime": {
     "end_time": "2021-07-14T02:47:06.756846Z",
     "start_time": "2021-07-14T02:47:06.751862Z"
    }
   },
   "outputs": [
    {
     "name": "stdout",
     "output_type": "stream",
     "text": [
      "10\n",
      "10\n"
     ]
    }
   ],
   "source": [
    "def add(a, b) : \n",
    "    return a + b \n",
    "\n",
    "# 일반적인 add() 메서드 이용 \n",
    "print(add(3, 7)) \n",
    "\n",
    "# 람다 표현식으로 구현한 add() 메서드 \n",
    "print((lambda a, b : a + b)(3, 7))"
   ]
  },
  {
   "cell_type": "code",
   "execution_count": 15,
   "metadata": {
    "ExecuteTime": {
     "end_time": "2021-07-14T02:49:11.256767Z",
     "start_time": "2021-07-14T02:49:11.232834Z"
    }
   },
   "outputs": [
    {
     "data": {
      "text/plain": [
       "21"
      ]
     },
     "execution_count": 15,
     "metadata": {},
     "output_type": "execute_result"
    }
   ],
   "source": [
    "(lambda a, b : a*b)(3,7)"
   ]
  },
  {
   "cell_type": "markdown",
   "metadata": {},
   "source": [
    "### 람다 표현식 예시 : 내장 함수에서 자주 사용되는 람다 함수"
   ]
  },
  {
   "cell_type": "code",
   "execution_count": 17,
   "metadata": {
    "ExecuteTime": {
     "end_time": "2021-07-14T02:52:45.519261Z",
     "start_time": "2021-07-14T02:52:45.502307Z"
    }
   },
   "outputs": [
    {
     "name": "stdout",
     "output_type": "stream",
     "text": [
      "[('이순신', 32), ('홍길동', 50), ('아무개', 74)]\n",
      "[('이순신', 32), ('홍길동', 50), ('아무개', 74)]\n"
     ]
    }
   ],
   "source": [
    "array = [('홍길동', 50), ('이순신', 32), ('아무개', 74)]\n",
    "\n",
    "def my_key(x) : \n",
    "    return x[1]\n",
    "\n",
    "print(sorted(array, key = my_key))\n",
    "print(sorted(array, key = (lambda x : x[1])))"
   ]
  },
  {
   "cell_type": "markdown",
   "metadata": {},
   "source": [
    "람다 표현식 예시 : 여러 개의 리스트에 적용"
   ]
  },
  {
   "cell_type": "code",
   "execution_count": 19,
   "metadata": {
    "ExecuteTime": {
     "end_time": "2021-07-14T02:53:44.410596Z",
     "start_time": "2021-07-14T02:53:44.403615Z"
    }
   },
   "outputs": [
    {
     "name": "stdout",
     "output_type": "stream",
     "text": [
      "[7, 9, 11, 13, 15]\n"
     ]
    }
   ],
   "source": [
    "list1 = [1, 2, 3, 4, 5]\n",
    "list2 = [6, 7, 8 ,9, 10]\n",
    "\n",
    "result = map(lambda a, b : a + b, list1, list2)\n",
    "print(list(result))"
   ]
  }
 ],
 "metadata": {
  "hide_input": false,
  "kernelspec": {
   "display_name": "Python 3",
   "language": "python",
   "name": "python3"
  },
  "language_info": {
   "codemirror_mode": {
    "name": "ipython",
    "version": 3
   },
   "file_extension": ".py",
   "mimetype": "text/x-python",
   "name": "python",
   "nbconvert_exporter": "python",
   "pygments_lexer": "ipython3",
   "version": "3.8.5"
  },
  "varInspector": {
   "cols": {
    "lenName": 16,
    "lenType": 16,
    "lenVar": 40
   },
   "kernels_config": {
    "python": {
     "delete_cmd_postfix": "",
     "delete_cmd_prefix": "del ",
     "library": "var_list.py",
     "varRefreshCmd": "print(var_dic_list())"
    },
    "r": {
     "delete_cmd_postfix": ") ",
     "delete_cmd_prefix": "rm(",
     "library": "var_list.r",
     "varRefreshCmd": "cat(var_dic_list()) "
    }
   },
   "types_to_exclude": [
    "module",
    "function",
    "builtin_function_or_method",
    "instance",
    "_Feature"
   ],
   "window_display": false
  }
 },
 "nbformat": 4,
 "nbformat_minor": 4
}
