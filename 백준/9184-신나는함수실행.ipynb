{
 "cells": [
  {
   "cell_type": "code",
   "execution_count": 22,
   "metadata": {
    "ExecuteTime": {
     "end_time": "2022-09-25T11:16:20.443550Z",
     "start_time": "2022-09-25T11:16:09.801534Z"
    }
   },
   "outputs": [
    {
     "name": "stdout",
     "output_type": "stream",
     "text": [
      "1 1 1\n",
      "w(1, 1, 1) = 2\n",
      "2 2 2\n",
      "w(2, 2, 2) = 4\n",
      "10 4 6\n",
      "w(10, 4, 6) = 523\n",
      "50 50 50\n",
      "w(50, 50, 50) = 1048576\n",
      "-1 7 18\n",
      "w(-1, 7, 18) = 1\n",
      "-1 -1 -1\n"
     ]
    }
   ],
   "source": [
    "dp = [[[0 for _ in range(21)] for _ in range(21)] for _ in range(21)]\n",
    "\n",
    "def w(a, b, c) :\n",
    "    if a <= 0 or b <= 0 or c <= 0 :\n",
    "        return 1\n",
    "    \n",
    "    if a > 20 or b > 20 or c > 20 :\n",
    "        return w(20, 20, 20)\n",
    "    \n",
    "    if dp[a][b][c] : \n",
    "        return dp[a][b][c]\n",
    "    \n",
    "    else : \n",
    "        if a < b < c:\n",
    "            dp[a][b][c] = w(a, b, c-1) + w(a, b-1, c-1) - w(a, b-1, c)\n",
    "    \n",
    "        else : \n",
    "            dp[a][b][c] =  w(a-1, b, c) + w(a-1, b-1, c) + w(a-1, b, c-1) - w(a-1, b-1, c-1)\n",
    "    return dp[a][b][c]\n",
    "\n",
    "while True :\n",
    "    a, b, c = map(int, input().split())\n",
    "    if a == -1 and b == -1 and c == -1 : \n",
    "        break\n",
    "    print('w(' + str(a) + ', ' + str(b) + ', ' + str(c) + ') = ' + str(w(a, b, c)))"
   ]
  },
  {
   "cell_type": "code",
   "execution_count": null,
   "metadata": {
    "ExecuteTime": {
     "end_time": "2022-09-25T11:12:36.443203Z",
     "start_time": "2022-09-25T11:12:36.431236Z"
    }
   },
   "outputs": [],
   "source": [
    "import sys\n",
    "\n",
    "dp = [[[0 for _ in range(21)] for _ in range(21)] for _ in range(21)]\n",
    "\n",
    "def w(a, b, c) :\n",
    "    if a <= 0 or b <= 0 or c <= 0 :\n",
    "        return 1\n",
    "    \n",
    "    if a > 20 or b > 20 or c > 20 :\n",
    "        return w(20, 20, 20)\n",
    "    \n",
    "    if dp[a][b][c] : \n",
    "        return dp[a][b][c]\n",
    "    \n",
    "    else : \n",
    "        if a < b < c:\n",
    "            dp[a][b][c] = w(a, b, c-1) + w(a, b-1, c-1) - w(a, b-1, c)\n",
    "    \n",
    "        else : \n",
    "            dp[a][b][c] =  w(a-1, b, c) + w(a-1, b-1, c) + w(a-1, b, c-1) - w(a-1, b-1, c-1)\n",
    "    return dp[a][b][c]\n",
    "\n",
    "while True :\n",
    "    a, b, c = map(int, sys.stdin.readline().split())\n",
    "    if a == -1 and b == -1 and c == -1 : \n",
    "        break\n",
    "    print('w(' + str(a) + ', ' + str(b) + ', ' + str(c) + ') = ' + str(w(a, b, c)))"
   ]
  },
  {
   "cell_type": "code",
   "execution_count": null,
   "metadata": {},
   "outputs": [],
   "source": []
  }
 ],
 "metadata": {
  "hide_input": false,
  "kernelspec": {
   "display_name": "Python 3",
   "language": "python",
   "name": "python3"
  },
  "language_info": {
   "codemirror_mode": {
    "name": "ipython",
    "version": 3
   },
   "file_extension": ".py",
   "mimetype": "text/x-python",
   "name": "python",
   "nbconvert_exporter": "python",
   "pygments_lexer": "ipython3",
   "version": "3.8.5"
  },
  "toc": {
   "base_numbering": 1,
   "nav_menu": {},
   "number_sections": true,
   "sideBar": true,
   "skip_h1_title": false,
   "title_cell": "Table of Contents",
   "title_sidebar": "Contents",
   "toc_cell": false,
   "toc_position": {},
   "toc_section_display": true,
   "toc_window_display": false
  },
  "varInspector": {
   "cols": {
    "lenName": 16,
    "lenType": 16,
    "lenVar": 40
   },
   "kernels_config": {
    "python": {
     "delete_cmd_postfix": "",
     "delete_cmd_prefix": "del ",
     "library": "var_list.py",
     "varRefreshCmd": "print(var_dic_list())"
    },
    "r": {
     "delete_cmd_postfix": ") ",
     "delete_cmd_prefix": "rm(",
     "library": "var_list.r",
     "varRefreshCmd": "cat(var_dic_list()) "
    }
   },
   "types_to_exclude": [
    "module",
    "function",
    "builtin_function_or_method",
    "instance",
    "_Feature"
   ],
   "window_display": false
  }
 },
 "nbformat": 4,
 "nbformat_minor": 4
}
