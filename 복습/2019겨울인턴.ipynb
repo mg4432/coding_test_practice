{
 "cells": [
  {
   "cell_type": "code",
   "execution_count": 33,
   "metadata": {
    "ExecuteTime": {
     "end_time": "2022-05-01T11:15:06.601139Z",
     "start_time": "2022-05-01T11:15:06.587194Z"
    }
   },
   "outputs": [],
   "source": [
    "stones = [2, 4, 5, 3, 2, 1, 4, 2, 5, 1]\n",
    "k = 3 "
   ]
  },
  {
   "cell_type": "code",
   "execution_count": 58,
   "metadata": {
    "ExecuteTime": {
     "end_time": "2022-05-01T11:58:45.576929Z",
     "start_time": "2022-05-01T11:58:45.556981Z"
    }
   },
   "outputs": [],
   "source": [
    "def solution(stones, k) : \n",
    "    left, right = 1, 200000000\n",
    "    \n",
    "    while left <= right : \n",
    "        cnt = 0\n",
    "        mid = (left + right) // 2\n",
    "        for s in stones : \n",
    "            if s-mid <= 0 : \n",
    "                cnt += 1\n",
    "            else : \n",
    "                cnt = 0\n",
    "            if cnt >= k : \n",
    "                break\n",
    "                \n",
    "        if cnt >= k : \n",
    "            right = mid -1\n",
    "        else : \n",
    "            left = mid + 1 \n",
    "            \n",
    "    return mid "
   ]
  },
  {
   "cell_type": "code",
   "execution_count": 59,
   "metadata": {
    "ExecuteTime": {
     "end_time": "2022-05-01T11:58:45.727525Z",
     "start_time": "2022-05-01T11:58:45.722537Z"
    }
   },
   "outputs": [
    {
     "data": {
      "text/plain": [
       "3"
      ]
     },
     "execution_count": 59,
     "metadata": {},
     "output_type": "execute_result"
    }
   ],
   "source": [
    "solution(stones,k )"
   ]
  },
  {
   "cell_type": "markdown",
   "metadata": {},
   "source": [
    "# 호텔 방 배정 "
   ]
  },
  {
   "cell_type": "code",
   "execution_count": null,
   "metadata": {},
   "outputs": [],
   "source": [
    "def find(number, room) : \n",
    "    if number not in room : \n",
    "        "
   ]
  },
  {
   "cell_type": "markdown",
   "metadata": {},
   "source": [
    "# 튜플 "
   ]
  },
  {
   "cell_type": "code",
   "execution_count": 117,
   "metadata": {
    "ExecuteTime": {
     "end_time": "2022-05-01T12:43:07.704611Z",
     "start_time": "2022-05-01T12:43:07.690953Z"
    }
   },
   "outputs": [],
   "source": [
    "def solution(s) : \n",
    "    string = s[2:-2]\n",
    "    str_ = string.split('},{')\n",
    "    subset = [] \n",
    "    for s in str_ : \n",
    "        s = s.split(',')\n",
    "        subset.append(s)\n",
    "    subset = sorted(subset, key = lambda x : len(x))\n",
    "    \n",
    "    answer = subset[0]\n",
    "    for i in range(1, len(subset)) :        \n",
    "        complement = list(set(subset[i]) - set(subset[i-1]))\n",
    "        answer.append(complement[0])\n",
    "    answer = [int(x) for x in answer]\n",
    "    return answer"
   ]
  },
  {
   "cell_type": "code",
   "execution_count": 118,
   "metadata": {
    "ExecuteTime": {
     "end_time": "2022-05-01T12:43:07.839412Z",
     "start_time": "2022-05-01T12:43:07.832852Z"
    }
   },
   "outputs": [
    {
     "data": {
      "text/plain": [
       "[2, 1, 3, 4]"
      ]
     },
     "execution_count": 118,
     "metadata": {},
     "output_type": "execute_result"
    }
   ],
   "source": [
    "solution(\"{{1,2,3},{2,1},{1,2,4,3},{2}}\")"
   ]
  },
  {
   "cell_type": "code",
   "execution_count": 96,
   "metadata": {
    "ExecuteTime": {
     "end_time": "2022-05-01T12:40:16.057474Z",
     "start_time": "2022-05-01T12:40:16.035562Z"
    }
   },
   "outputs": [
    {
     "ename": "NameError",
     "evalue": "name 'unlist' is not defined",
     "output_type": "error",
     "traceback": [
      "\u001b[1;31m---------------------------------------------------------------------------\u001b[0m",
      "\u001b[1;31mNameError\u001b[0m                                 Traceback (most recent call last)",
      "\u001b[1;32m<ipython-input-96-02f8cb9c47e3>\u001b[0m in \u001b[0;36m<module>\u001b[1;34m\u001b[0m\n\u001b[1;32m----> 1\u001b[1;33m \u001b[0munlist\u001b[0m\u001b[1;33m(\u001b[0m\u001b[1;33m[\u001b[0m\u001b[1;36m1\u001b[0m\u001b[1;33m]\u001b[0m\u001b[1;33m)\u001b[0m\u001b[1;33m\u001b[0m\u001b[1;33m\u001b[0m\u001b[0m\n\u001b[0m",
      "\u001b[1;31mNameError\u001b[0m: name 'unlist' is not defined"
     ]
    }
   ],
   "source": []
  },
  {
   "cell_type": "code",
   "execution_count": 63,
   "metadata": {
    "ExecuteTime": {
     "end_time": "2022-05-01T12:21:57.176256Z",
     "start_time": "2022-05-01T12:21:57.160331Z"
    }
   },
   "outputs": [
    {
     "data": {
      "text/plain": [
       "'{2},{2,1},{2,1,3},{2,1,3,4}'"
      ]
     },
     "execution_count": 63,
     "metadata": {},
     "output_type": "execute_result"
    }
   ],
   "source": [
    "'{{2},{2,1},{2,1,3},{2,1,3,4}}'[1:-1]"
   ]
  },
  {
   "cell_type": "markdown",
   "metadata": {},
   "source": [
    "# 크레인 인형뽑기 게임 "
   ]
  },
  {
   "cell_type": "code",
   "execution_count": 170,
   "metadata": {
    "ExecuteTime": {
     "end_time": "2022-05-01T13:36:13.738755Z",
     "start_time": "2022-05-01T13:36:13.726030Z"
    }
   },
   "outputs": [],
   "source": [
    "board = [[0,0,0,0,0],[0,0,1,0,3],[0,2,5,0,1],[4,2,4,4,2],[3,5,1,3,1]]\n",
    "moves = [1, 5, 3, 5, 1, 2, 1, 4]"
   ]
  },
  {
   "cell_type": "code",
   "execution_count": 171,
   "metadata": {
    "ExecuteTime": {
     "end_time": "2022-05-01T13:36:13.963995Z",
     "start_time": "2022-05-01T13:36:13.948997Z"
    }
   },
   "outputs": [
    {
     "data": {
      "text/plain": [
       "[[0, 0, 0, 0, 0],\n",
       " [0, 0, 1, 0, 3],\n",
       " [0, 2, 5, 0, 1],\n",
       " [4, 2, 4, 4, 2],\n",
       " [3, 5, 1, 3, 1]]"
      ]
     },
     "execution_count": 171,
     "metadata": {},
     "output_type": "execute_result"
    }
   ],
   "source": [
    "board"
   ]
  },
  {
   "cell_type": "code",
   "execution_count": 172,
   "metadata": {
    "ExecuteTime": {
     "end_time": "2022-05-01T13:36:14.282116Z",
     "start_time": "2022-05-01T13:36:14.269069Z"
    }
   },
   "outputs": [],
   "source": [
    "def solution(board, moves):\n",
    "    answer = 0\n",
    "    lst = [] \n",
    "    cnt = 0\n",
    "    for move in moves : \n",
    "        for i in range(len(board)) : \n",
    "            if board[i][move-1] > 0 : \n",
    "                doll = board[i][move-1]\n",
    "                board[i][move-1] = 0\n",
    "                if len(lst) == 0 : \n",
    "                    lst.append(doll)\n",
    "                else : \n",
    "                    if lst[-1] == doll : \n",
    "                        cnt += 2 \n",
    "                        lst = lst[:-1]\n",
    "                    else : \n",
    "                        lst.append(doll)\n",
    "                        \n",
    "                break\n",
    "        \n",
    "    return cnt"
   ]
  },
  {
   "cell_type": "code",
   "execution_count": 173,
   "metadata": {
    "ExecuteTime": {
     "end_time": "2022-05-01T13:36:14.672236Z",
     "start_time": "2022-05-01T13:36:14.655281Z"
    }
   },
   "outputs": [
    {
     "data": {
      "text/plain": [
       "4"
      ]
     },
     "execution_count": 173,
     "metadata": {},
     "output_type": "execute_result"
    }
   ],
   "source": [
    "solution(board, moves)"
   ]
  },
  {
   "cell_type": "code",
   "execution_count": 263,
   "metadata": {
    "ExecuteTime": {
     "end_time": "2022-05-01T14:45:05.640863Z",
     "start_time": "2022-05-01T14:45:05.626898Z"
    }
   },
   "outputs": [],
   "source": [
    "from itertools import product, permutations\n",
    "import math\n",
    "\n",
    "def search(ban, user) : \n",
    "    match = True \n",
    "    if len(ban) != len(user) : \n",
    "        match = False \n",
    "    else : \n",
    "        for i in range(len(ban)) : \n",
    "            if ban[i] == '*' : \n",
    "                continue \n",
    "            if ban[i] != user[i] : \n",
    "                match = False  \n",
    "    return match\n",
    "\n",
    "def compare(user_id, banned_id) : \n",
    "    ans = True\n",
    "    for i in range(len(user_id)) : \n",
    "        if search(banned_id[i], user_id[i]) == False : \n",
    "            ans = False \n",
    "    return ans\n",
    "\n",
    "def solution(user_id, banned_id) :\n",
    "    length = len(banned_id) \n",
    "    cnt = 0\n",
    "    for perm in permutations(user_id, length) : \n",
    "        if compare(perm, banned_id) :\n",
    "            cnt += 1 \n",
    "            \n",
    "    dup = {}\n",
    "    for b in banned_id : \n",
    "        if b in dup : \n",
    "            dup[b] += 1 \n",
    "        else :\n",
    "            dup[b] = 1\n",
    "            \n",
    "    for key in dup : \n",
    "        if dup[key] > 1 : \n",
    "            n = math.factorial(dup[key])\n",
    "            cnt = divmod(cnt, n)[0]\n",
    "    return cnt\n",
    "    \n",
    "                \n",
    "    \n",
    "\n"
   ]
  },
  {
   "cell_type": "code",
   "execution_count": 264,
   "metadata": {
    "ExecuteTime": {
     "end_time": "2022-05-01T14:45:05.823261Z",
     "start_time": "2022-05-01T14:45:05.804312Z"
    }
   },
   "outputs": [
    {
     "data": {
      "text/plain": [
       "3"
      ]
     },
     "execution_count": 264,
     "metadata": {},
     "output_type": "execute_result"
    }
   ],
   "source": [
    "solution([\"frodo\", \"fradi\", \"crodo\", \"abc123\", \"frodoc\"], [\"fr*d*\", \"*rodo\", \"******\", \"******\"])"
   ]
  },
  {
   "cell_type": "code",
   "execution_count": 400,
   "metadata": {
    "ExecuteTime": {
     "end_time": "2022-05-02T05:28:25.425186Z",
     "start_time": "2022-05-02T05:28:25.409173Z"
    }
   },
   "outputs": [],
   "source": [
    "def solution(str1, str2):\n",
    "    answer = 0\n",
    "    lst1 = []\n",
    "    lst2 = []\n",
    "    for i in range(len(str1)-1) : \n",
    "        pair1 = str1[i] + str1[i+1]\n",
    "        if pair1.isalpha() : \n",
    "            lst1.append(pair1.lower())\n",
    "    for i in range(len(str2)-1):\n",
    "        pair2 = str2[i] + str2[i+1]\n",
    "        if pair2.isalpha() : \n",
    "            lst2.append(pair2.lower())\n",
    "    \n",
    "    intersection = []\n",
    "     \n",
    "    \n",
    "    for i in range(len(lst1)) : \n",
    "        val = lst1.pop(0) \n",
    "        common = False\n",
    "        for j in range(len(lst2)) : \n",
    "            if val == lst2[j] : \n",
    "                intersection.append(val)\n",
    "                common = True\n",
    "                del lst2[j]\n",
    "                break\n",
    "        if common == False : \n",
    "            lst1.append(val)\n",
    "        \n",
    "    union = intersection.copy()\n",
    "    union.extend(lst1)\n",
    "    union.extend(lst2)\n",
    "    \n",
    "    inter_len = len(intersection)\n",
    "    union_len = len(union)\n",
    "    \n",
    "    if union_len == 0 : \n",
    "        return 65536 \n",
    "    else : \n",
    "        return round(inter_len / union_len * 65536)\n",
    "            "
   ]
  },
  {
   "cell_type": "code",
   "execution_count": 401,
   "metadata": {
    "ExecuteTime": {
     "end_time": "2022-05-02T05:28:25.927306Z",
     "start_time": "2022-05-02T05:28:25.921321Z"
    }
   },
   "outputs": [
    {
     "data": {
      "text/plain": [
       "16384"
      ]
     },
     "execution_count": 401,
     "metadata": {},
     "output_type": "execute_result"
    }
   ],
   "source": [
    "solution('FRANCE', 'french')"
   ]
  },
  {
   "cell_type": "code",
   "execution_count": 388,
   "metadata": {
    "ExecuteTime": {
     "end_time": "2022-05-02T05:24:33.889438Z",
     "start_time": "2022-05-02T05:24:33.871684Z"
    }
   },
   "outputs": [
    {
     "data": {
      "text/plain": [
       "65536"
      ]
     },
     "execution_count": 388,
     "metadata": {},
     "output_type": "execute_result"
    }
   ],
   "source": [
    "solution('E=M*C^2', 'e=m*c^2')"
   ]
  },
  {
   "cell_type": "code",
   "execution_count": 389,
   "metadata": {
    "ExecuteTime": {
     "end_time": "2022-05-02T05:24:35.905354Z",
     "start_time": "2022-05-02T05:24:35.886403Z"
    }
   },
   "outputs": [
    {
     "data": {
      "text/plain": [
       "65536"
      ]
     },
     "execution_count": 389,
     "metadata": {},
     "output_type": "execute_result"
    }
   ],
   "source": [
    "solution('E=M*C^2', 'e=m*c^2')"
   ]
  },
  {
   "cell_type": "code",
   "execution_count": 390,
   "metadata": {
    "ExecuteTime": {
     "end_time": "2022-05-02T05:24:38.406452Z",
     "start_time": "2022-05-02T05:24:38.392488Z"
    }
   },
   "outputs": [
    {
     "data": {
      "text/plain": [
       "65536"
      ]
     },
     "execution_count": 390,
     "metadata": {},
     "output_type": "execute_result"
    }
   ],
   "source": [
    "solution('E=M*C^2', 'e=m*c^2')"
   ]
  },
  {
   "cell_type": "code",
   "execution_count": 403,
   "metadata": {
    "ExecuteTime": {
     "end_time": "2022-05-02T05:29:51.991164Z",
     "start_time": "2022-05-02T05:29:51.983321Z"
    }
   },
   "outputs": [
    {
     "data": {
      "text/plain": [
       "2"
      ]
     },
     "execution_count": 403,
     "metadata": {},
     "output_type": "execute_result"
    }
   ],
   "source": [
    "\n",
    "import math\n",
    "math.floor(2.3)"
   ]
  },
  {
   "cell_type": "code",
   "execution_count": 547,
   "metadata": {
    "ExecuteTime": {
     "end_time": "2022-05-02T06:40:38.378761Z",
     "start_time": "2022-05-02T06:40:38.358792Z"
    }
   },
   "outputs": [],
   "source": [
    "def sharp(m) : \n",
    "    m = m.replace('C#', 'c').replace('D#', 'd').replace('F#', 'f').replace('G#','g').replace('A#','a')\n",
    "    return m\n",
    "def solution(m, musicinfos):\n",
    "    answer = []\n",
    "    mel_dict = {}\n",
    "    m = sharp(m)\n",
    "    for info in musicinfos : \n",
    "        t1, t2, title, melody = info.split(',')\n",
    "        start = int(t1.split(':')[0])*60 + int(t1.split(':')[1])\n",
    "        end = int(t2.split(':')[0])*60 + int(t2.split(':')[1])\n",
    "        runtime = end-start\n",
    "        melody = sharp(melody)\n",
    "        q, r = divmod(runtime, len(melody))\n",
    "        mel_dict[title] = (melody*q + melody[:r], runtime)\n",
    "    \n",
    "    for t in mel_dict : \n",
    "        if m in mel_dict[t][0] :\n",
    "            answer.append((t, mel_dict[t][1]))\n",
    "    \n",
    "    if len(answer) == 0 : \n",
    "        return \"(None)\"\n",
    "    \n",
    "    answer = sorted(answer, key = lambda x : x[1], reverse = True)[0]\n",
    "    \n",
    "    return answer[0]"
   ]
  },
  {
   "cell_type": "code",
   "execution_count": 548,
   "metadata": {
    "ExecuteTime": {
     "end_time": "2022-05-02T06:40:39.340494Z",
     "start_time": "2022-05-02T06:40:39.332619Z"
    }
   },
   "outputs": [
    {
     "data": {
      "text/plain": [
       "'WORLD'"
      ]
     },
     "execution_count": 548,
     "metadata": {},
     "output_type": "execute_result"
    }
   ],
   "source": [
    "solution(\"ABC\", \t[\"12:00,12:14,HELLO,C#DEFGAB\", \"13:00,13:05,WORLD,ABCDEF\"])"
   ]
  },
  {
   "cell_type": "code",
   "execution_count": null,
   "metadata": {},
   "outputs": [],
   "source": []
  },
  {
   "cell_type": "code",
   "execution_count": 475,
   "metadata": {
    "ExecuteTime": {
     "end_time": "2022-05-02T06:00:41.884999Z",
     "start_time": "2022-05-02T06:00:41.866961Z"
    }
   },
   "outputs": [
    {
     "data": {
      "text/plain": [
       "[('dfagd', 1), ('asd', 3), ('asadasd', 6), ('df', 14)]"
      ]
     },
     "execution_count": 475,
     "metadata": {},
     "output_type": "execute_result"
    }
   ],
   "source": [
    "sorted(a, key = lambda x: x[1])"
   ]
  },
  {
   "cell_type": "code",
   "execution_count": 458,
   "metadata": {
    "ExecuteTime": {
     "end_time": "2022-05-02T05:57:12.135265Z",
     "start_time": "2022-05-02T05:57:12.128297Z"
    }
   },
   "outputs": [
    {
     "data": {
      "text/plain": [
       "['asadasd', 'dfagd', 'asd', 'df']"
      ]
     },
     "execution_count": 458,
     "metadata": {},
     "output_type": "execute_result"
    }
   ],
   "source": [
    "sorted(a, key = lambda x: len(x), reverse = True)"
   ]
  },
  {
   "cell_type": "code",
   "execution_count": null,
   "metadata": {},
   "outputs": [],
   "source": []
  }
 ],
 "metadata": {
  "hide_input": false,
  "kernelspec": {
   "display_name": "Python 3",
   "language": "python",
   "name": "python3"
  },
  "language_info": {
   "codemirror_mode": {
    "name": "ipython",
    "version": 3
   },
   "file_extension": ".py",
   "mimetype": "text/x-python",
   "name": "python",
   "nbconvert_exporter": "python",
   "pygments_lexer": "ipython3",
   "version": "3.8.5"
  },
  "toc": {
   "base_numbering": 1,
   "nav_menu": {},
   "number_sections": true,
   "sideBar": true,
   "skip_h1_title": false,
   "title_cell": "Table of Contents",
   "title_sidebar": "Contents",
   "toc_cell": false,
   "toc_position": {},
   "toc_section_display": true,
   "toc_window_display": false
  },
  "varInspector": {
   "cols": {
    "lenName": 16,
    "lenType": 16,
    "lenVar": 40
   },
   "kernels_config": {
    "python": {
     "delete_cmd_postfix": "",
     "delete_cmd_prefix": "del ",
     "library": "var_list.py",
     "varRefreshCmd": "print(var_dic_list())"
    },
    "r": {
     "delete_cmd_postfix": ") ",
     "delete_cmd_prefix": "rm(",
     "library": "var_list.r",
     "varRefreshCmd": "cat(var_dic_list()) "
    }
   },
   "types_to_exclude": [
    "module",
    "function",
    "builtin_function_or_method",
    "instance",
    "_Feature"
   ],
   "window_display": false
  }
 },
 "nbformat": 4,
 "nbformat_minor": 4
}
