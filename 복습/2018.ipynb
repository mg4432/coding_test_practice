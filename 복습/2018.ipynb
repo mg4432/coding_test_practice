{
 "cells": [
  {
   "cell_type": "code",
   "execution_count": 57,
   "metadata": {
    "ExecuteTime": {
     "end_time": "2022-05-01T15:06:38.241528Z",
     "start_time": "2022-05-01T15:06:38.223712Z"
    }
   },
   "outputs": [],
   "source": [
    "def convert(num, n) : \n",
    "    res = bin(num).split('b')[1]\n",
    "    while len(res) < n :\n",
    "        res = '0'+res\n",
    "    arr = [0 for i in range(n)]\n",
    "    for i in range(n) : \n",
    "        arr[i] = int(res[i])\n",
    "    return arr\n",
    "\n",
    "\n",
    "\n",
    "def solution(n, arr1, arr2):\n",
    "    array1 = []\n",
    "    array2 = []\n",
    "    n = len(arr1)\n",
    "    for i in range(n) : \n",
    "        array1.append(convert(arr1[i], n))\n",
    "        array2.append(convert(arr2[i], n))\n",
    "        \n",
    "    arr = [[' ' for _ in range(n)] for _ in range(n)]\n",
    "    for i in range(n) : \n",
    "        for j in range(n) : \n",
    "            sum_ = (array1[i][j] + array2[i][j])\n",
    "            if sum_ > 0 : \n",
    "                arr[i][j] = '#'\n",
    "            \n",
    "    array = [0 for i in range(n)]\n",
    "    for i in range(n) : \n",
    "        array[i] = ''.join(arr[i])\n",
    "    \n",
    "    return array"
   ]
  },
  {
   "cell_type": "code",
   "execution_count": 58,
   "metadata": {
    "ExecuteTime": {
     "end_time": "2022-05-01T15:06:38.408776Z",
     "start_time": "2022-05-01T15:06:38.402289Z"
    }
   },
   "outputs": [
    {
     "data": {
      "text/plain": [
       "['#####', '# # #', '### #', '#  ##', '#####']"
      ]
     },
     "execution_count": 58,
     "metadata": {},
     "output_type": "execute_result"
    }
   ],
   "source": [
    "solution(5, [9, 20, 28, 18, 11], [30, 1, 21, 17, 28])"
   ]
  },
  {
   "cell_type": "code",
   "execution_count": 56,
   "metadata": {
    "ExecuteTime": {
     "end_time": "2022-05-01T15:06:17.334941Z",
     "start_time": "2022-05-01T15:06:17.322859Z"
    }
   },
   "outputs": [
    {
     "data": {
      "text/plain": [
       "'ab'"
      ]
     },
     "execution_count": 56,
     "metadata": {},
     "output_type": "execute_result"
    }
   ],
   "source": [
    "''.join(['a','b'])"
   ]
  },
  {
   "cell_type": "code",
   "execution_count": 180,
   "metadata": {
    "ExecuteTime": {
     "end_time": "2022-05-02T03:29:20.521247Z",
     "start_time": "2022-05-02T03:29:20.506280Z"
    }
   },
   "outputs": [],
   "source": [
    "\n",
    "def solution(dartResult):\n",
    "    num = ['0', '1', '2', '3', '4', '5', '6', '7', '8', '9']\n",
    "    answer = []\n",
    "    for i in range(len(dartResult)) : \n",
    "        if dartResult[i] in num : \n",
    "            if i > 0 and dartResult[i-1] in num : \n",
    "                answer.pop()\n",
    "                answer.append(int(dartResult[i-1] + dartResult[i]))\n",
    "            else : \n",
    "                answer.append(int(dartResult[i]))\n",
    "\n",
    "        elif dartResult[i] == 'S' :\n",
    "            val = answer.pop()\n",
    "            answer.append(val)\n",
    "\n",
    "        elif dartResult[i] == 'D' :\n",
    "            val = answer.pop() \n",
    "            val = val ** 2 \n",
    "            answer.append(val)\n",
    "            \n",
    "        elif dartResult[i] == 'T' : \n",
    "            val = answer.pop()\n",
    "            val = val ** 3\n",
    "            answer.append(val)\n",
    "\n",
    "        else : \n",
    "            answer.append(dartResult[i])    \n",
    "    \n",
    "    scorelist = [] \n",
    "    for i in answer : \n",
    "        cnt = 0\n",
    "        if type(i) == int : \n",
    "            scorelist.append(i)\n",
    "        \n",
    "        if i == '*' : \n",
    "            if len(scorelist) == 1 : \n",
    "                scorelist[0] *= 2 \n",
    "            elif len(scorelist) == 2 : \n",
    "                scorelist[0] *= 2 \n",
    "                scorelist[1] *= 2 \n",
    "            elif len(scorelist) == 3 : \n",
    "                scorelist[1] *= 2 \n",
    "                scorelist[2] *= 2\n",
    "                \n",
    "        elif i == '#' : \n",
    "            val = scorelist.pop()\n",
    "            scorelist.append(-val)\n",
    "            \n",
    "    return sum(scorelist)"
   ]
  },
  {
   "cell_type": "code",
   "execution_count": 181,
   "metadata": {
    "ExecuteTime": {
     "end_time": "2022-05-02T03:29:20.626814Z",
     "start_time": "2022-05-02T03:29:20.622337Z"
    }
   },
   "outputs": [
    {
     "data": {
      "text/plain": [
       "37"
      ]
     },
     "execution_count": 181,
     "metadata": {},
     "output_type": "execute_result"
    }
   ],
   "source": [
    "solution('1S2D*3T')"
   ]
  },
  {
   "cell_type": "code",
   "execution_count": 109,
   "metadata": {
    "ExecuteTime": {
     "end_time": "2022-05-02T02:59:25.937625Z",
     "start_time": "2022-05-02T02:59:25.921958Z"
    }
   },
   "outputs": [
    {
     "data": {
      "text/plain": [
       "True"
      ]
     },
     "execution_count": 109,
     "metadata": {},
     "output_type": "execute_result"
    }
   ],
   "source": [
    "'S' in ['S', 'D', 'T']"
   ]
  },
  {
   "cell_type": "code",
   "execution_count": 212,
   "metadata": {
    "ExecuteTime": {
     "end_time": "2022-05-02T03:49:38.225482Z",
     "start_time": "2022-05-02T03:49:38.208788Z"
    }
   },
   "outputs": [],
   "source": [
    "def convert(num, base) :\n",
    "    q, r = divmod(num, base)[0], str(divmod(num, base)[1])\n",
    "    \n",
    "    if r == '10' : \n",
    "        r = 'A'\n",
    "    if r == '11' : \n",
    "        r = 'B'\n",
    "    if r == '12' : \n",
    "        r = 'C'\n",
    "    if r == '13' : \n",
    "        r = 'D'\n",
    "    if r == '14' : \n",
    "        r = 'E'\n",
    "    if r == '15' : \n",
    "        r = 'F'\n",
    "    \n",
    "    if q : \n",
    "        return convert(q, base) + r\n",
    "    else : \n",
    "        return r\n",
    "\n",
    "def solution(n, t, m, p):\n",
    "    answer = ''\n",
    "    for i in range(t*m) : \n",
    "        for j in convert(i, n) : \n",
    "            answer += j\n",
    "            if len(answer) >= t*m : \n",
    "                break\n",
    "    \n",
    "    res = ''\n",
    "    \n",
    "    for i in range(len(answer)) : \n",
    "        if i % m == (p-1) :\n",
    "            res += answer[i]\n",
    "        if len(res) == t : \n",
    "            break\n",
    "    return res"
   ]
  },
  {
   "cell_type": "code",
   "execution_count": 214,
   "metadata": {
    "ExecuteTime": {
     "end_time": "2022-05-02T03:49:48.855990Z",
     "start_time": "2022-05-02T03:49:48.840930Z"
    }
   },
   "outputs": [
    {
     "data": {
      "text/plain": [
       "'02468ACE11111111'"
      ]
     },
     "execution_count": 214,
     "metadata": {},
     "output_type": "execute_result"
    }
   ],
   "source": [
    "solution(16, 16, 2, 1)"
   ]
  },
  {
   "cell_type": "code",
   "execution_count": 219,
   "metadata": {
    "ExecuteTime": {
     "end_time": "2022-05-02T06:39:43.089168Z",
     "start_time": "2022-05-02T06:39:43.052349Z"
    }
   },
   "outputs": [
    {
     "ename": "IndexError",
     "evalue": "list index out of range",
     "output_type": "error",
     "traceback": [
      "\u001b[1;31m---------------------------------------------------------------------------\u001b[0m",
      "\u001b[1;31mIndexError\u001b[0m                                Traceback (most recent call last)",
      "\u001b[1;32m<ipython-input-219-1f4d1a93a15a>\u001b[0m in \u001b[0;36m<module>\u001b[1;34m\u001b[0m\n\u001b[0;32m      1\u001b[0m \u001b[0manswer\u001b[0m\u001b[1;33m=\u001b[0m  \u001b[1;33m[\u001b[0m\u001b[1;33m]\u001b[0m\u001b[1;33m\u001b[0m\u001b[1;33m\u001b[0m\u001b[0m\n\u001b[1;32m----> 2\u001b[1;33m \u001b[0manswer\u001b[0m \u001b[1;33m=\u001b[0m \u001b[0msorted\u001b[0m\u001b[1;33m(\u001b[0m\u001b[0manswer\u001b[0m\u001b[1;33m,\u001b[0m \u001b[0mkey\u001b[0m \u001b[1;33m=\u001b[0m \u001b[1;32mlambda\u001b[0m \u001b[0mx\u001b[0m \u001b[1;33m:\u001b[0m \u001b[0mx\u001b[0m\u001b[1;33m[\u001b[0m\u001b[1;36m1\u001b[0m\u001b[1;33m]\u001b[0m\u001b[1;33m,\u001b[0m \u001b[0mreverse\u001b[0m \u001b[1;33m=\u001b[0m \u001b[1;32mTrue\u001b[0m\u001b[1;33m)\u001b[0m\u001b[1;33m[\u001b[0m\u001b[1;36m0\u001b[0m\u001b[1;33m]\u001b[0m\u001b[1;33m\u001b[0m\u001b[1;33m\u001b[0m\u001b[0m\n\u001b[0m\u001b[0;32m      3\u001b[0m \u001b[0manswer\u001b[0m\u001b[1;33m\u001b[0m\u001b[1;33m\u001b[0m\u001b[0m\n",
      "\u001b[1;31mIndexError\u001b[0m: list index out of range"
     ]
    }
   ],
   "source": [
    "answer =  []\n",
    "answer = sorted(answer, key = lambda x : x[1], reverse = True)[0]\n",
    "answer"
   ]
  },
  {
   "cell_type": "code",
   "execution_count": null,
   "metadata": {},
   "outputs": [],
   "source": []
  }
 ],
 "metadata": {
  "hide_input": false,
  "kernelspec": {
   "display_name": "Python 3",
   "language": "python",
   "name": "python3"
  },
  "language_info": {
   "codemirror_mode": {
    "name": "ipython",
    "version": 3
   },
   "file_extension": ".py",
   "mimetype": "text/x-python",
   "name": "python",
   "nbconvert_exporter": "python",
   "pygments_lexer": "ipython3",
   "version": "3.8.5"
  },
  "toc": {
   "base_numbering": 1,
   "nav_menu": {},
   "number_sections": true,
   "sideBar": true,
   "skip_h1_title": false,
   "title_cell": "Table of Contents",
   "title_sidebar": "Contents",
   "toc_cell": false,
   "toc_position": {},
   "toc_section_display": true,
   "toc_window_display": false
  },
  "varInspector": {
   "cols": {
    "lenName": 16,
    "lenType": 16,
    "lenVar": 40
   },
   "kernels_config": {
    "python": {
     "delete_cmd_postfix": "",
     "delete_cmd_prefix": "del ",
     "library": "var_list.py",
     "varRefreshCmd": "print(var_dic_list())"
    },
    "r": {
     "delete_cmd_postfix": ") ",
     "delete_cmd_prefix": "rm(",
     "library": "var_list.r",
     "varRefreshCmd": "cat(var_dic_list()) "
    }
   },
   "types_to_exclude": [
    "module",
    "function",
    "builtin_function_or_method",
    "instance",
    "_Feature"
   ],
   "window_display": false
  }
 },
 "nbformat": 4,
 "nbformat_minor": 4
}
