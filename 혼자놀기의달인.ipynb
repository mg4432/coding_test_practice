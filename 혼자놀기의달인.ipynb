{
 "cells": [
  {
   "cell_type": "markdown",
   "metadata": {},
   "source": [
    "# 정답코드"
   ]
  },
  {
   "cell_type": "code",
   "execution_count": 84,
   "metadata": {
    "ExecuteTime": {
     "end_time": "2022-10-13T08:29:45.819268Z",
     "start_time": "2022-10-13T08:29:45.806963Z"
    },
    "code_folding": []
   },
   "outputs": [],
   "source": [
    "def find(s1, s2, cards):\n",
    "    answer = 0\n",
    "    idx_cards = {(k+1) : v for k, v in enumerate(cards)}\n",
    "    cards_idx = {v : k for k, v in idx_cards.items()}\n",
    "    \n",
    "    g1, g2 = [], []\n",
    "    cards = [0] + cards\n",
    "    visited = [0 for _ in range(len(cards))]\n",
    "    start1, start2 = s1, s2\n",
    "    \n",
    "    now_idx = cards_idx[s1]\n",
    "    now = s1\n",
    "    \n",
    "    while True : \n",
    "        if visited[now_idx] == 0 : \n",
    "            g1.append(now)\n",
    "            visited[now_idx] = 1 \n",
    "            now_idx = now \n",
    "            now = idx_cards[now_idx]\n",
    "            \n",
    "        else : \n",
    "            break\n",
    "    \n",
    "    now_idx = cards_idx[s2]\n",
    "    now = s2\n",
    "    \n",
    "    if s2 in g1 : \n",
    "        return 0\n",
    "    \n",
    "    while True : \n",
    "        if visited[now_idx] == 0 : \n",
    "            g2.append(now)\n",
    "            visited[now_idx] = 1 \n",
    "            now_idx = now \n",
    "            now = idx_cards[now_idx]\n",
    "            \n",
    "        else : \n",
    "            break\n",
    "        \n",
    "    return len(g1) * len(g2)\n",
    "    \n",
    "def solution(cards) : \n",
    "    arr = [[0 for _ in range(len(cards) + 1)] for _ in range(len(cards) + 1)]\n",
    "    \n",
    "    for i in range(1, len(cards) + 1) : \n",
    "        for j in range(1, len(cards) + 1) : \n",
    "            arr[i][j] = find(i, j, cards)\n",
    "            \n",
    "    max_score = max(map(max, arr))\n",
    "    return max_score"
   ]
  }
 ],
 "metadata": {
  "hide_input": false,
  "kernelspec": {
   "display_name": "Python 3",
   "language": "python",
   "name": "python3"
  },
  "language_info": {
   "codemirror_mode": {
    "name": "ipython",
    "version": 3
   },
   "file_extension": ".py",
   "mimetype": "text/x-python",
   "name": "python",
   "nbconvert_exporter": "python",
   "pygments_lexer": "ipython3",
   "version": "3.8.5"
  },
  "toc": {
   "base_numbering": 1,
   "nav_menu": {},
   "number_sections": true,
   "sideBar": true,
   "skip_h1_title": false,
   "title_cell": "Table of Contents",
   "title_sidebar": "Contents",
   "toc_cell": false,
   "toc_position": {},
   "toc_section_display": true,
   "toc_window_display": false
  },
  "varInspector": {
   "cols": {
    "lenName": 16,
    "lenType": 16,
    "lenVar": 40
   },
   "kernels_config": {
    "python": {
     "delete_cmd_postfix": "",
     "delete_cmd_prefix": "del ",
     "library": "var_list.py",
     "varRefreshCmd": "print(var_dic_list())"
    },
    "r": {
     "delete_cmd_postfix": ") ",
     "delete_cmd_prefix": "rm(",
     "library": "var_list.r",
     "varRefreshCmd": "cat(var_dic_list()) "
    }
   },
   "types_to_exclude": [
    "module",
    "function",
    "builtin_function_or_method",
    "instance",
    "_Feature"
   ],
   "window_display": false
  }
 },
 "nbformat": 4,
 "nbformat_minor": 4
}
