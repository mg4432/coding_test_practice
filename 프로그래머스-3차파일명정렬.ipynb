{
 "cells": [
  {
   "cell_type": "code",
   "execution_count": null,
   "metadata": {},
   "outputs": [],
   "source": [
    "def decompose(string) : \n",
    "    answer = []\n",
    "    for f in string :\n",
    "        head, number, tail = '', '', ''\n",
    "        \n",
    "        number_check = False \n",
    "        \n",
    "        for i in range(len(f)) : \n",
    "            if f[i].isdigit() : \n",
    "                number += f[i]\n",
    "                number_check = True \n",
    "        \n",
    "            elif not number_check :\n",
    "                    head += f[i]\n",
    "                    \n",
    "            else : \n",
    "                tail = f[i:]\n",
    "                break\n",
    "        answer.append([head, number, tail])\n",
    "        \n",
    "    return answer\n",
    "                     \n",
    "\n",
    "def solution(files) : \n",
    "    answer = decompose(files)\n",
    "    answer.sort(key = lambda x : (x[0].upper(), int(x[1])))\n",
    "    return [''.join(answer[i]) for i in range(len(answer))]"
   ]
  }
 ],
 "metadata": {
  "hide_input": false,
  "kernelspec": {
   "display_name": "Python 3",
   "language": "python",
   "name": "python3"
  },
  "language_info": {
   "codemirror_mode": {
    "name": "ipython",
    "version": 3
   },
   "file_extension": ".py",
   "mimetype": "text/x-python",
   "name": "python",
   "nbconvert_exporter": "python",
   "pygments_lexer": "ipython3",
   "version": "3.8.5"
  },
  "toc": {
   "base_numbering": 1,
   "nav_menu": {},
   "number_sections": true,
   "sideBar": true,
   "skip_h1_title": false,
   "title_cell": "Table of Contents",
   "title_sidebar": "Contents",
   "toc_cell": false,
   "toc_position": {},
   "toc_section_display": true,
   "toc_window_display": false
  },
  "varInspector": {
   "cols": {
    "lenName": 16,
    "lenType": 16,
    "lenVar": 40
   },
   "kernels_config": {
    "python": {
     "delete_cmd_postfix": "",
     "delete_cmd_prefix": "del ",
     "library": "var_list.py",
     "varRefreshCmd": "print(var_dic_list())"
    },
    "r": {
     "delete_cmd_postfix": ") ",
     "delete_cmd_prefix": "rm(",
     "library": "var_list.r",
     "varRefreshCmd": "cat(var_dic_list()) "
    }
   },
   "types_to_exclude": [
    "module",
    "function",
    "builtin_function_or_method",
    "instance",
    "_Feature"
   ],
   "window_display": false
  }
 },
 "nbformat": 4,
 "nbformat_minor": 4
}
