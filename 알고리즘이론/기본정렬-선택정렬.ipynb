{
 "cells": [
  {
   "cell_type": "markdown",
   "metadata": {},
   "source": [
    "## 대표적인 정렬3: 선택 정렬 (selection sort) "
   ]
  },
  {
   "cell_type": "markdown",
   "metadata": {},
   "source": [
    "### 1. 선택 정렬 (selection sort) 란?\n",
    "* 다음과 같은 순서를 반복하며 정렬하는 알고리즘\n",
    "  1. 주어진 데이터 중, 최소값을 찾음\n",
    "  2. 해당 최소값을 데이터 맨 앞에 위치한 값과 교체함\n",
    "  3. 맨 앞의 위치를 뺀 나머지 데이터를 동일한 방법으로 반복함\n",
    "\n",
    "#### 직접 눈으로 보면 더 이해가 쉽다: https://visualgo.net/en/sorting\n",
    "\n",
    "<img src=\"https://upload.wikimedia.org/wikipedia/commons/9/94/Selection-Sort-Animation.gif\" width=100>\n",
    "\n",
    "출처: https://en.wikipedia.org/wiki/Selection_sort"
   ]
  },
  {
   "cell_type": "markdown",
   "metadata": {},
   "source": [
    "### 2. 어떻게 코드로 만들까?"
   ]
  },
  {
   "cell_type": "markdown",
   "metadata": {},
   "source": [
    "* 데이터가 두 개 일때\n",
    "  - 예: dataList = [9, 1]\n",
    "    - data_list[0] > data_list[1] 이므로 data_list[0] 값과 data_ list[1] 값을 교환\n",
    "* 데이터가 세 개 일때\n",
    "  - 예: data_list = [9, 1, 7]\n",
    "    - 처음 한번 실행하면, 1, 9, 7 이 됨\n",
    "    - 두 번째 실행하면, 1, 7, 9 가 됨\n",
    "* 데이터가 네 개 일때\n",
    "  - 예: data_list = [9, 3, 2, 1]\n",
    "    - 처음 한번 실행하면, 1, 3, 2, 9 가 됨\n",
    "    - 두 번째 실행하면, 1, 2, 3, 9 가 됨\n",
    "    - 세 번째 실행하면, 변화 없음"
   ]
  },
  {
   "cell_type": "markdown",
   "metadata": {},
   "source": [
    "<div class=\"alert alert-block alert-warning\">\n",
    "<strong><font color=\"blue\" size=\"4em\">프로그래밍 연습</font></strong><br>\n",
    "데이터가 두개 일때 동작하는 선택 정렬 알고리즘을 함수로 만들어보세요<br>\n",
    "프로그래밍 근육을 키우는 방법\n",
    "</div>\n",
    "<pre>\n",
    "* 데이터가 두 개 일때\n",
    "  - 예: data_list = [9, 1]\n",
    "    - data_list[0] > data_list[1] 이므로 data_list[0] 값과 data_ list[1] 값을 교환\n",
    "</pre>"
   ]
  },
  {
   "cell_type": "markdown",
   "metadata": {},
   "source": [
    "<div class=\"alert alert-block alert-warning\">\n",
    "<strong><font color=\"blue\" size=\"4em\">프로그래밍 연습</font></strong><br>\n",
    "데이터가 두개 일때 동작하는 선택 정렬 알고리즘을 함수로 만들어보세요<br>\n",
    "프로그래밍 근육을 키우는 방법\n",
    "</div>\n",
    "\n",
    "* 데이터가 세 개 일때\n",
    "  - 예: data_list = [9, 1, 7]\n",
    "    - 처음 한번 실행하면, 1, 9, 7 이 됨\n",
    "    - 두 번째 실행하면, 1, 7, 9 가 됨\n",
    "</pre>"
   ]
  },
  {
   "cell_type": "markdown",
   "metadata": {},
   "source": [
    "<div class=\"alert alert-block alert-warning\">\n",
    "<strong><font color=\"blue\" size=\"4em\">프로그래밍 연습</font></strong><br>\n",
    "데이터가 두개 일때 동작하는 선택 정렬 알고리즘을 함수로 만들어보세요<br>\n",
    "프로그래밍 근육을 키우는 방법\n",
    "</div>\n",
    "\n",
    "* 데이터가 네 개 일때\n",
    "  - 예: data_list = [9, 3, 2, 1]\n",
    "    - 처음 한번 실행하면, 1, 3, 2, 9 가 됨\n",
    "    - 두 번째 실행하면, 1, 2, 3, 9 가 됨\n",
    "    - 세 번째 실행하면, 변화 없음\n",
    "</pre>"
   ]
  },
  {
   "cell_type": "markdown",
   "metadata": {},
   "source": [
    "### 3. 알고리즘 구현\n",
    "1. for stand in range(len(data_list) - 1) 로 반복\n",
    "2. lowest = stand 로 놓고,\n",
    "3. for num in range(stand, len(data_list)) stand 이후부터 반복\n",
    "   - 내부 반복문 안에서 data_list[lowest] > data_list[num] 이면, \n",
    "     - lowest = num\n",
    "4. data_list[num], data_list[lowest] = data_list[lowest], data_list[num]   "
   ]
  },
  {
   "cell_type": "code",
   "execution_count": 62,
   "metadata": {
    "ExecuteTime": {
     "end_time": "2022-02-07T06:56:42.651998Z",
     "start_time": "2022-02-07T06:56:42.632019Z"
    }
   },
   "outputs": [],
   "source": [
    "def selection_sort(data) : \n",
    "    for index in range(len(data) - 1) :\n",
    "        lowest = index\n",
    "        for index2 in range(index + 1, len(data)) :\n",
    "            if data[lowest] > data[index2] : \n",
    "                lowest = index2\n",
    "        data[index], data[lowest] = data[lowest], data[index]\n",
    "    return data "
   ]
  },
  {
   "cell_type": "code",
   "execution_count": 60,
   "metadata": {
    "ExecuteTime": {
     "end_time": "2022-02-07T06:54:16.917293Z",
     "start_time": "2022-02-07T06:54:16.900336Z"
    }
   },
   "outputs": [
    {
     "data": {
      "text/plain": [
       "[4, 24, 97, 79, 2, 45, 57, 14, 12, 23]"
      ]
     },
     "execution_count": 60,
     "metadata": {},
     "output_type": "execute_result"
    }
   ],
   "source": [
    "import random \n",
    "list_data = random.sample(range(100), 10) \n",
    "list_data"
   ]
  },
  {
   "cell_type": "code",
   "execution_count": 61,
   "metadata": {
    "ExecuteTime": {
     "end_time": "2022-02-07T06:54:17.787547Z",
     "start_time": "2022-02-07T06:54:17.764610Z"
    }
   },
   "outputs": [
    {
     "data": {
      "text/plain": [
       "[2, 4, 12, 14, 23, 24, 45, 57, 79, 97]"
      ]
     },
     "execution_count": 61,
     "metadata": {},
     "output_type": "execute_result"
    }
   ],
   "source": [
    "selection_sort(list_data)"
   ]
  },
  {
   "cell_type": "markdown",
   "metadata": {},
   "source": [
    "### 4. 알고리즘 분석\n",
    "* 반복문이 두 개 O($n^2$)\n",
    "  - 실제로 상세하게 계산하면, <font size=5em>$\\frac { n * (n - 1)}{ 2 }$</font>"
   ]
  },
  {
   "cell_type": "markdown",
   "metadata": {},
   "source": [
    "<div class=\"alert alert-block alert-info\">\n",
    "<strong><font color=\"blue\" size=\"4em\">프로그래밍 연습</font></strong><br>\n",
    "지금 설명한 선택 정렬을 지금 다시 스스로 작성해보세요<br>\n",
    "</div>"
   ]
  }
 ],
 "metadata": {
  "hide_input": false,
  "kernelspec": {
   "display_name": "Python 3",
   "language": "python",
   "name": "python3"
  },
  "language_info": {
   "codemirror_mode": {
    "name": "ipython",
    "version": 3
   },
   "file_extension": ".py",
   "mimetype": "text/x-python",
   "name": "python",
   "nbconvert_exporter": "python",
   "pygments_lexer": "ipython3",
   "version": "3.8.5"
  },
  "nbTranslate": {
   "displayLangs": [
    "*"
   ],
   "hotkey": "alt-t",
   "langInMainMenu": true,
   "sourceLang": "en",
   "targetLang": "fr",
   "useGoogleTranslate": true
  },
  "toc": {
   "base_numbering": 1,
   "nav_menu": {},
   "number_sections": false,
   "sideBar": true,
   "skip_h1_title": false,
   "title_cell": "Table of Contents",
   "title_sidebar": "Contents",
   "toc_cell": false,
   "toc_position": {},
   "toc_section_display": true,
   "toc_window_display": true
  },
  "varInspector": {
   "cols": {
    "lenName": 16,
    "lenType": 16,
    "lenVar": 40
   },
   "kernels_config": {
    "python": {
     "delete_cmd_postfix": "",
     "delete_cmd_prefix": "del ",
     "library": "var_list.py",
     "varRefreshCmd": "print(var_dic_list())"
    },
    "r": {
     "delete_cmd_postfix": ") ",
     "delete_cmd_prefix": "rm(",
     "library": "var_list.r",
     "varRefreshCmd": "cat(var_dic_list()) "
    }
   },
   "types_to_exclude": [
    "module",
    "function",
    "builtin_function_or_method",
    "instance",
    "_Feature"
   ],
   "window_display": false
  }
 },
 "nbformat": 4,
 "nbformat_minor": 1
}
