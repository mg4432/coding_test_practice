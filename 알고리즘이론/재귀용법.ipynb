{
 "cells": [
  {
   "cell_type": "markdown",
   "metadata": {},
   "source": [
    "## 재귀 용법 (recursive call, 재귀 호출)\n",
    "\n",
    "> 고급 정렬 알고리즘에서 재귀 용법을 사용하므로, 고급 정렬 알고리즘을 익히기 전에 재귀 용법을 먼저 익히기로 합니다."
   ]
  },
  {
   "cell_type": "markdown",
   "metadata": {},
   "source": [
    "### 1. 재귀 용법 (recursive call, 재귀 호출)\n",
    "* 함수 안에서 동일한 함수를 호출하는 형태\n",
    "* 여러 알고리즘 작성시 사용되므로, 익숙해져야 함"
   ]
  },
  {
   "cell_type": "markdown",
   "metadata": {},
   "source": [
    "### 2. 재귀 용법 이해\n",
    "- 예제를 풀어보며, 재귀 용법을 이해해보기"
   ]
  },
  {
   "cell_type": "markdown",
   "metadata": {},
   "source": [
    "### 예제\n",
    "- 팩토리얼을 구하는 알고리즘을 Recursive Call 을 활용해서 알고리즘 작성하기"
   ]
  },
  {
   "cell_type": "markdown",
   "metadata": {},
   "source": [
    "### 예제 - 분석하기\n",
    "- 간단한 경우부터 생각해보기\n",
    "  * 2! = 1 X 2\n",
    "  * 3! = 1 X 2 X 3\n",
    "  * 4! = 1 X 2 X 3 X 4 = 4 X 3!\n",
    "- 규칙이 보임: n! = n X (n - 1)!\n",
    "  1. 함수를 하나 만든다.\n",
    "  2. 함수(n) 은 n > 1 이면 return n X 함수(n - 1)\n",
    "  3. 함수(n) 은 n = 1 이면 return n\n",
    "- 검증 (코드로 검증하지 않고, 직접 간단한 경우부터 대입해서 검증해야 함)\n",
    "    1. 먼저 2! 부터 \n",
    "     - 함수(2) 이면, 2 > 1 이므로 2 X 함수(1)\n",
    "       - 함수(1) 은 1 이므로, return 2 X 1 = 2 맞다!\n",
    "    2. 먼저 3! 부터 \n",
    "     - 함수(3) 이면, 3 > 1 이므로 3 X 함수(2)\n",
    "       - 함수(2) 는 결국 1번에 의해 2! 이므로, return 2 X 1 = 2 \n",
    "       - 3 X 함수(2) = 3 X 2 = 3 X 2 X 1 = 6 맞다!\n",
    "    3. 먼저 4! 부터 \n",
    "     - 함수(4) 이면, 4 > 1 이므로 4 X 함수(3)\n",
    "       - 함수(3) 은 결국 2번에 의해 3 X 2 X 1 = 6 \n",
    "       - 4 X 함수(3) = 4 X 6 = 24 맞다! "
   ]
  },
  {
   "cell_type": "markdown",
   "metadata": {
    "collapsed": true
   },
   "source": [
    "### 예제 - 코드 레벨로 적어보기"
   ]
  },
  {
   "cell_type": "code",
   "execution_count": 47,
   "metadata": {
    "ExecuteTime": {
     "end_time": "2022-02-13T09:34:03.284964Z",
     "start_time": "2022-02-13T09:34:03.274047Z"
    }
   },
   "outputs": [],
   "source": [
    "def factorial(num) : \n",
    "    if num > 1 :\n",
    "        return num * factorial(num-1)\n",
    "    else : \n",
    "        return num"
   ]
  },
  {
   "cell_type": "code",
   "execution_count": 48,
   "metadata": {
    "ExecuteTime": {
     "end_time": "2022-02-13T09:34:03.601645Z",
     "start_time": "2022-02-13T09:34:03.584986Z"
    },
    "scrolled": true
   },
   "outputs": [
    {
     "name": "stdout",
     "output_type": "stream",
     "text": [
      "0\n",
      "1\n",
      "2\n",
      "6\n",
      "24\n",
      "120\n",
      "720\n",
      "5040\n",
      "40320\n",
      "362880\n"
     ]
    }
   ],
   "source": [
    "for num in range(10) : \n",
    "    print(factorial(num))"
   ]
  },
  {
   "cell_type": "markdown",
   "metadata": {},
   "source": [
    "### 예제 - 시간 복잡도와 공간 복잡도\n",
    "* factorial(n) 은 n - 1 번의 factorial() 함수를 호출해서, 곱셈을 함 \n",
    "  - 일종의 n-1번 반복문을 호출한 것과 동일\n",
    "  - factorial() 함수를 호출할 때마다, 지역변수 n 이 생성됨\n",
    "\n",
    "* 시간 복잡도/공간 복잡도는 O(n-1) 이므로 결국, 둘 다 O(n)\n"
   ]
  },
  {
   "cell_type": "markdown",
   "metadata": {},
   "source": [
    "### 3. 재귀 호출의 일반적인 형태"
   ]
  },
  {
   "cell_type": "markdown",
   "metadata": {
    "ExecuteTime": {
     "end_time": "2022-02-13T09:34:05.810273Z",
     "start_time": "2022-02-13T09:34:05.802295Z"
    }
   },
   "source": [
    "```python\n",
    "# 일반적인 형태1\n",
    "def function(입력):\n",
    "    if 입력 > 일정값: # 입력이 일정 값 이상이면\n",
    "        return function(입력 - 1) # 입력보다 작은 값\n",
    "    else:\n",
    "        return 일정값, 입력값, 또는 특정값 # 재귀 호출 종료\n",
    "```"
   ]
  },
  {
   "cell_type": "markdown",
   "metadata": {
    "ExecuteTime": {
     "end_time": "2022-09-06T08:03:33.076446Z",
     "start_time": "2022-09-06T08:03:33.067468Z"
    }
   },
   "source": [
    "```python\n",
    "# 일반적인 형태2\n",
    "def function(입력):\n",
    "    if 입력 <= 일정값:              # 입력이 일정 값보다 작으면\n",
    "        return 일정값, 입력값, 또는 특정값              # 재귀 호출 종료\n",
    "    function(입력보다 작은 값)\n",
    "    return 결과값\n",
    "```"
   ]
  },
  {
   "cell_type": "code",
   "execution_count": 53,
   "metadata": {
    "ExecuteTime": {
     "end_time": "2022-02-13T09:34:14.751000Z",
     "start_time": "2022-02-13T09:34:14.734919Z"
    }
   },
   "outputs": [],
   "source": [
    "def factorial(num):\n",
    "    if num <= 1:\n",
    "        return num\n",
    "    \n",
    "    return num * factorial(num - 1)"
   ]
  },
  {
   "cell_type": "code",
   "execution_count": 54,
   "metadata": {
    "ExecuteTime": {
     "end_time": "2022-02-13T09:34:15.219676Z",
     "start_time": "2022-02-13T09:34:15.205650Z"
    }
   },
   "outputs": [
    {
     "name": "stdout",
     "output_type": "stream",
     "text": [
      "0\n",
      "1\n",
      "2\n",
      "6\n",
      "24\n",
      "120\n",
      "720\n",
      "5040\n",
      "40320\n",
      "362880\n"
     ]
    }
   ],
   "source": [
    "for num in range(10):\n",
    "    print (factorial(num))"
   ]
  },
  {
   "cell_type": "markdown",
   "metadata": {},
   "source": [
    "### 재귀 호출은 스택의 전형적인 예\n",
    "* 함수는 내부적으로 스택처럼 관리된다."
   ]
  },
  {
   "cell_type": "markdown",
   "metadata": {},
   "source": [
    "<img src=\"https://www.fun-coding.org/00_Images/recursivecall.png\" />"
   ]
  },
  {
   "cell_type": "markdown",
   "metadata": {},
   "source": [
    "* 재귀 호출이 이해가 가지 않는다면? - [코드분석]( http://pythontutor.com/live.html#code=%23%20factorial%20%ED%95%A8%EC%88%98%20%EC%95%88%EC%97%90%EC%84%9C%20factorial%20%ED%95%A8%EC%88%98%EB%A5%BC%20%ED%98%B8%EC%B6%9C%0Adef%20factorial%28num%29%3A%0A%20%20%20%20if%20num%20%3E%201%3A%0A%20%20%20%20%20%20%20%20return%20num%20*%20factorial%28num%20-%201%29%0A%20%20%20%20else%3A%0A%20%20%20%20%20%20%20%20return%20num%0A%0Afactorial%285%29&cumulative=false&curInstr=22&heapPrimitives=false&mode=display&origin=opt-live.js&py=3&rawInputLstJSON=%5B%5D&textReferences=false)\n",
    "\n",
    "> 참고: 파이썬에서 재귀 함수는 깊이가(한번에 호출되는...) 1000회 이하가 되어야 함"
   ]
  },
  {
   "cell_type": "markdown",
   "metadata": {},
   "source": [
    "### 4. 재귀 용법을 활용한 프로그래밍 연습"
   ]
  },
  {
   "cell_type": "markdown",
   "metadata": {},
   "source": [
    "<div class=\"alert alert-block alert-warning\">\n",
    "<strong><font color=\"blue\" size=\"4em\">프로그래밍 연습</font></strong><br>\n",
    "다음 함수를 재귀 함수를 활용해서 완성해서 1부터 num까지의 곱이 출력되게 만들기.\n",
    "</div>\n",
    "\n",
    "```python\n",
    "def muliple(data):\n",
    "    if data <= 1:\n",
    "        return data\n",
    "    \n",
    "    #return -------------------------\n",
    "    \n",
    "multiple(10)\n",
    "```"
   ]
  },
  {
   "cell_type": "code",
   "execution_count": 18,
   "metadata": {
    "ExecuteTime": {
     "end_time": "2022-09-06T08:10:57.423191Z",
     "start_time": "2022-09-06T08:10:57.406202Z"
    }
   },
   "outputs": [
    {
     "name": "stdout",
     "output_type": "stream",
     "text": [
      "Wall time: 0 ns\n"
     ]
    },
    {
     "data": {
      "text/plain": [
       "3628800"
      ]
     },
     "execution_count": 18,
     "metadata": {},
     "output_type": "execute_result"
    }
   ],
   "source": [
    "%%time \n",
    "\n",
    "def multiple(num) : \n",
    "    val = 1 \n",
    "    for idx in range(1, num + 1) : \n",
    "        val *= idx\n",
    "    return val\n",
    "\n",
    "multiple(10)"
   ]
  },
  {
   "cell_type": "code",
   "execution_count": 17,
   "metadata": {
    "ExecuteTime": {
     "end_time": "2022-09-06T08:10:54.596975Z",
     "start_time": "2022-09-06T08:10:54.589027Z"
    }
   },
   "outputs": [
    {
     "name": "stdout",
     "output_type": "stream",
     "text": [
      "Wall time: 0 ns\n"
     ]
    },
    {
     "data": {
      "text/plain": [
       "3628800"
      ]
     },
     "execution_count": 17,
     "metadata": {},
     "output_type": "execute_result"
    }
   ],
   "source": [
    "%%time \n",
    "\n",
    "def multiple(num) : \n",
    "    if num <= 1 : \n",
    "        return num \n",
    "    return num * multiple(num - 1)\n",
    "    \n",
    "multiple(10)"
   ]
  },
  {
   "cell_type": "code",
   "execution_count": 57,
   "metadata": {
    "ExecuteTime": {
     "end_time": "2022-02-13T09:34:20.107769Z",
     "start_time": "2022-02-13T09:34:20.101627Z"
    }
   },
   "outputs": [],
   "source": [
    "def multiple(num) : \n",
    "    if num == 1 : \n",
    "        return num\n",
    "    return num*multiple(num-1)\n",
    "# num*multiple(num-1)을 호출해야 하는데 multiple(num-1)값을 계산해야 함 \n",
    "# ...\n",
    "# multiple(1)까지 가면 multiple(1) = 1 반환하고 multiple(2)계산됨 \n",
    "# ... \n",
    "# multiple(num-1)계산됨"
   ]
  },
  {
   "cell_type": "code",
   "execution_count": 58,
   "metadata": {
    "ExecuteTime": {
     "end_time": "2022-02-13T09:34:20.655601Z",
     "start_time": "2022-02-13T09:34:20.636651Z"
    }
   },
   "outputs": [
    {
     "data": {
      "text/plain": [
       "3628800"
      ]
     },
     "execution_count": 58,
     "metadata": {},
     "output_type": "execute_result"
    }
   ],
   "source": [
    "multiple(10)"
   ]
  },
  {
   "cell_type": "markdown",
   "metadata": {},
   "source": [
    "<div class=\"alert alert-block alert-warning\">\n",
    "<strong><font color=\"blue\" size=\"4em\">프로그래밍 연습</font></strong><br>\n",
    "숫자가 들어 있는 리스트가 주어졌을 때, 리스트의 합을 리턴하는 함수를 만드세요\n",
    "</div>\n",
    "<pre>\n",
    "참고: 임의 값으로 리스트 만들기 random.sample(0 ~ 99까지 중에서, 임의로 10개를 만들어서 10개 값을 가지는 리스트 변수 만들기\n",
    "import random \n",
    "data = random.sample(range(100), 10)\n",
    "</pre>"
   ]
  },
  {
   "cell_type": "code",
   "execution_count": 27,
   "metadata": {
    "ExecuteTime": {
     "end_time": "2022-09-06T08:14:39.865665Z",
     "start_time": "2022-09-06T08:14:39.854176Z"
    }
   },
   "outputs": [
    {
     "name": "stdout",
     "output_type": "stream",
     "text": [
      "[11, 52, 42, 23, 76, 85, 6, 83, 38, 3]\n",
      "419\n"
     ]
    }
   ],
   "source": [
    "# sum 함수 이용\n",
    "import random \n",
    "data = random.sample(range(100), 10)\n",
    "print(data)\n",
    "print(sum(data))"
   ]
  },
  {
   "cell_type": "code",
   "execution_count": 28,
   "metadata": {
    "ExecuteTime": {
     "end_time": "2022-09-06T08:14:46.483897Z",
     "start_time": "2022-09-06T08:14:46.462897Z"
    }
   },
   "outputs": [
    {
     "data": {
      "text/plain": [
       "419"
      ]
     },
     "execution_count": 28,
     "metadata": {},
     "output_type": "execute_result"
    }
   ],
   "source": [
    "# 재귀 함수 이용\n",
    "def sum_list(lst) : \n",
    "    if len(lst) == 1 : \n",
    "        return lst[0]\n",
    "    return lst[0] + sum_list(lst[1:])\n",
    "sum_list(data)"
   ]
  },
  {
   "cell_type": "markdown",
   "metadata": {},
   "source": [
    "<div class=\"alert alert-block alert-warning\">\n",
    "<strong><font color=\"blue\" size=\"4em\">프로그래밍 연습</font></strong><br>\n",
    "회문(palindrome)은 순서를 거꾸로 읽어도 제대로 읽은 것과 같은 단어와 문장을 의미함<br>\n",
    "회문을 판별할 수 있는 함수를 리스트 슬라이싱을 활용해서 만드세요\n",
    "<img src=\"https://www.fun-coding.org/00_Images/palindrome.png\" width=200/>\n",
    "</div>\n",
    "<pre>\n",
    "참고 - 리스트 슬라이싱\n",
    "string = 'Dave' \n",
    "string[-1] --> e\n",
    "string[0] --> D\n",
    "string[1:-1] --> av\n",
    "string[:-1] --> Dav\n",
    "</pre>"
   ]
  },
  {
   "cell_type": "code",
   "execution_count": 43,
   "metadata": {
    "ExecuteTime": {
     "end_time": "2022-09-06T08:18:31.216766Z",
     "start_time": "2022-09-06T08:18:31.203699Z"
    }
   },
   "outputs": [],
   "source": [
    "def palindrome(string) : \n",
    "    if len(string) <= 1 : \n",
    "        return True\n",
    "    \n",
    "    else : \n",
    "        if string[0] == string[-1] : \n",
    "            return palindrome(string[1:-1])\n",
    "        else : \n",
    "            return False\n",
    "        "
   ]
  },
  {
   "cell_type": "markdown",
   "metadata": {
    "solution2": "shown",
    "solution2_first": true
   },
   "source": [
    "<div class=\"alert alert-block alert-warning\">\n",
    "<strong><font color=\"blue\" size=\"4em\">프로그래밍 연습</font></strong><br>\n",
    "회문(palindrome)은 순서를 거꾸로 읽어도 제대로 읽은 것과 같은 단어와 문장을 의미함<br>\n",
    "회문을 판별할 수 있는 함수를 재귀함수를 활용해서 만들어봅니다.\n",
    "</div>"
   ]
  },
  {
   "cell_type": "code",
   "execution_count": 69,
   "metadata": {
    "ExecuteTime": {
     "end_time": "2022-02-13T09:43:59.588418Z",
     "start_time": "2022-02-13T09:43:59.564482Z"
    }
   },
   "outputs": [
    {
     "data": {
      "text/plain": [
       "'a'"
      ]
     },
     "execution_count": 69,
     "metadata": {},
     "output_type": "execute_result"
    }
   ],
   "source": [
    "'' + 'a'"
   ]
  },
  {
   "cell_type": "code",
   "execution_count": 75,
   "metadata": {
    "ExecuteTime": {
     "end_time": "2022-02-13T09:47:16.175011Z",
     "start_time": "2022-02-13T09:47:16.157060Z"
    }
   },
   "outputs": [],
   "source": [
    "def palindrome(data) :\n",
    "    def pal(data) :\n",
    "        if len(data) == 1 : \n",
    "            return data \n",
    "        else : \n",
    "            return data[-1] + pal(data[:-1]) \n",
    "    if pal(data) == data :\n",
    "        return True \n",
    "    else :\n",
    "        return False"
   ]
  },
  {
   "cell_type": "code",
   "execution_count": 76,
   "metadata": {
    "ExecuteTime": {
     "end_time": "2022-02-13T09:47:17.308116Z",
     "start_time": "2022-02-13T09:47:17.299140Z"
    }
   },
   "outputs": [
    {
     "data": {
      "text/plain": [
       "False"
      ]
     },
     "execution_count": 76,
     "metadata": {},
     "output_type": "execute_result"
    }
   ],
   "source": [
    "palindrome('ab')"
   ]
  },
  {
   "cell_type": "code",
   "execution_count": 77,
   "metadata": {
    "ExecuteTime": {
     "end_time": "2022-02-13T09:47:22.267592Z",
     "start_time": "2022-02-13T09:47:22.258617Z"
    }
   },
   "outputs": [
    {
     "data": {
      "text/plain": [
       "True"
      ]
     },
     "execution_count": 77,
     "metadata": {},
     "output_type": "execute_result"
    }
   ],
   "source": [
    "palindrome('aba')"
   ]
  },
  {
   "cell_type": "code",
   "execution_count": 78,
   "metadata": {
    "ExecuteTime": {
     "end_time": "2022-02-13T09:48:03.269629Z",
     "start_time": "2022-02-13T09:48:03.258729Z"
    }
   },
   "outputs": [
    {
     "data": {
      "text/plain": [
       "True"
      ]
     },
     "execution_count": 78,
     "metadata": {},
     "output_type": "execute_result"
    }
   ],
   "source": [
    "palindrome('level')"
   ]
  },
  {
   "cell_type": "code",
   "execution_count": 83,
   "metadata": {
    "ExecuteTime": {
     "end_time": "2022-02-13T09:51:39.875804Z",
     "start_time": "2022-02-13T09:51:39.860152Z"
    }
   },
   "outputs": [],
   "source": [
    "def palindrome_(data) : \n",
    "    if len(data) <= 1 : \n",
    "        return True \n",
    "    \n",
    "    else : \n",
    "        if data[0] == data[-1] : \n",
    "            return palindrome_(data[1:-1])\n",
    "        else : \n",
    "            return False"
   ]
  },
  {
   "cell_type": "code",
   "execution_count": 84,
   "metadata": {
    "ExecuteTime": {
     "end_time": "2022-02-13T09:51:40.208284Z",
     "start_time": "2022-02-13T09:51:40.199307Z"
    }
   },
   "outputs": [
    {
     "data": {
      "text/plain": [
       "True"
      ]
     },
     "execution_count": 84,
     "metadata": {},
     "output_type": "execute_result"
    }
   ],
   "source": [
    "palindrome_('level')"
   ]
  },
  {
   "cell_type": "code",
   "execution_count": 85,
   "metadata": {
    "ExecuteTime": {
     "end_time": "2022-02-13T09:51:40.463391Z",
     "start_time": "2022-02-13T09:51:40.453260Z"
    }
   },
   "outputs": [
    {
     "data": {
      "text/plain": [
       "False"
      ]
     },
     "execution_count": 85,
     "metadata": {},
     "output_type": "execute_result"
    }
   ],
   "source": [
    "palindrome_('aaaas')"
   ]
  },
  {
   "cell_type": "code",
   "execution_count": 87,
   "metadata": {
    "ExecuteTime": {
     "end_time": "2022-02-13T09:51:43.423339Z",
     "start_time": "2022-02-13T09:51:43.410376Z"
    }
   },
   "outputs": [
    {
     "data": {
      "text/plain": [
       "True"
      ]
     },
     "execution_count": 87,
     "metadata": {},
     "output_type": "execute_result"
    }
   ],
   "source": [
    "palindrome_('aaaa')"
   ]
  },
  {
   "cell_type": "markdown",
   "metadata": {
    "solution2": "shown",
    "solution2_first": true
   },
   "source": [
    "<div class=\"alert alert-block alert-warning\">\n",
    "<strong><font color=\"blue\" size=\"4em\">프로그래밍 연습</font></strong><br>\n",
    "1, 정수 n에 대해<br>\n",
    "2. n이 홀수이면 3 X n + 1 을 하고,<br>\n",
    "3. n이 짝수이면 n 을 2로 나눕니다.<br>\n",
    "4. 이렇게 계속 진행해서 n 이 결국 1이 될 때까지 2와 3의 과정을 반복합니다.<br>\n",
    "<br>\n",
    "예를 들어 n에 3을 넣으면,  \n",
    "<pre>\n",
    "3\n",
    "10\n",
    "5\n",
    "16\n",
    "8\n",
    "4\n",
    "2\n",
    "1\n",
    "</pre>\n",
    "이 됩니다.\n",
    "\n",
    "이렇게 정수 n을 입력받아, 위 알고리즘에 의해 1이 되는 과정을 모두 출력하는 함수를 작성하세요."
   ]
  },
  {
   "cell_type": "code",
   "execution_count": 48,
   "metadata": {
    "ExecuteTime": {
     "end_time": "2022-09-08T05:15:25.351526Z",
     "start_time": "2022-09-08T05:15:25.343242Z"
    }
   },
   "outputs": [],
   "source": [
    "def func(num) :\n",
    "    print(num)\n",
    "    if num <= 1 : \n",
    "        return num\n",
    "    \n",
    "    if num % 2 == 1 : \n",
    "        return func(3 * num + 1) \n",
    "    else : \n",
    "        return func(num // 2)"
   ]
  },
  {
   "cell_type": "code",
   "execution_count": 49,
   "metadata": {
    "ExecuteTime": {
     "end_time": "2022-09-08T05:15:28.477750Z",
     "start_time": "2022-09-08T05:15:28.446833Z"
    }
   },
   "outputs": [
    {
     "name": "stdout",
     "output_type": "stream",
     "text": [
      "3\n",
      "10\n",
      "5\n",
      "16\n",
      "8\n",
      "4\n",
      "2\n",
      "1\n"
     ]
    },
    {
     "data": {
      "text/plain": [
       "1"
      ]
     },
     "execution_count": 49,
     "metadata": {},
     "output_type": "execute_result"
    }
   ],
   "source": [
    "func(3)"
   ]
  },
  {
   "cell_type": "code",
   "execution_count": 50,
   "metadata": {
    "ExecuteTime": {
     "end_time": "2022-09-08T07:36:34.178126Z",
     "start_time": "2022-09-08T07:36:34.169149Z"
    }
   },
   "outputs": [],
   "source": [
    "def func(data) :\n",
    "    print(data)\n",
    "    if data <= 1 : \n",
    "        return data \n",
    "    \n",
    "    else : \n",
    "        if data % 2 == 1 : \n",
    "            return func(data * 3 + 1)\n",
    "        else : \n",
    "            return func(data // 2)"
   ]
  },
  {
   "cell_type": "code",
   "execution_count": 51,
   "metadata": {
    "ExecuteTime": {
     "end_time": "2022-09-08T07:36:35.290375Z",
     "start_time": "2022-09-08T07:36:35.272308Z"
    }
   },
   "outputs": [
    {
     "name": "stdout",
     "output_type": "stream",
     "text": [
      "3\n",
      "10\n",
      "5\n",
      "16\n",
      "8\n",
      "4\n",
      "2\n",
      "1\n"
     ]
    },
    {
     "data": {
      "text/plain": [
       "1"
      ]
     },
     "execution_count": 51,
     "metadata": {},
     "output_type": "execute_result"
    }
   ],
   "source": [
    "func(3)"
   ]
  },
  {
   "cell_type": "code",
   "execution_count": 118,
   "metadata": {
    "ExecuteTime": {
     "end_time": "2022-02-13T10:06:19.157505Z",
     "start_time": "2022-02-13T10:06:19.152544Z"
    }
   },
   "outputs": [],
   "source": [
    "def func_(data) : \n",
    "    print(data)\n",
    "    if data <= 1 : \n",
    "        return data \n",
    "    else :\n",
    "        if data % 2 == 1 : \n",
    "            return(func(3 * data + 1))\n",
    "        else : \n",
    "            return(func(int(data / 2)))"
   ]
  },
  {
   "cell_type": "code",
   "execution_count": 119,
   "metadata": {
    "ExecuteTime": {
     "end_time": "2022-02-13T10:06:19.489349Z",
     "start_time": "2022-02-13T10:06:19.478321Z"
    }
   },
   "outputs": [
    {
     "name": "stdout",
     "output_type": "stream",
     "text": [
      "3\n",
      "10\n",
      "5\n",
      "16\n",
      "8\n",
      "4\n",
      "2\n",
      "1\n"
     ]
    },
    {
     "data": {
      "text/plain": [
       "1"
      ]
     },
     "execution_count": 119,
     "metadata": {},
     "output_type": "execute_result"
    }
   ],
   "source": [
    "func_(3)"
   ]
  },
  {
   "cell_type": "markdown",
   "metadata": {
    "solution2": "hidden",
    "solution2_first": true
   },
   "source": [
    "<div class=\"alert alert-block alert-warning\">\n",
    "<strong><font color=\"blue\" size=\"4em\">프로그래밍 연습</font></strong><br>\n",
    "<pre>\n",
    "문제: 정수 4를 1, 2, 3의 조합으로 나타내는 방법은 다음과 같이 총 7가지가 있음\n",
    "1+1+1+1\n",
    "1+1+2\n",
    "1+2+1\n",
    "2+1+1\n",
    "2+2\n",
    "1+3\n",
    "3+1\n",
    "정수 n이 입력으로 주어졌을 때, n을 1, 2, 3의 합으로 나타낼 수 있는 방법의 수를 구하시오\n",
    "</pre>    \n",
    "\n",
    "힌트: 정수 n을 만들 수 있는 경우의 수를 리턴하는 함수를 f(n) 이라고 하면,<br>\n",
    "f(n)은 f(n-1) + f(n-2) + f(n-3) 과 동일하다는 패턴 찾기<br>\n",
    "출처: ACM-ICPC > Regionals > Asia > Korea > Asia Regional - Taejon 2001 \n",
    "</div>"
   ]
  },
  {
   "cell_type": "markdown",
   "metadata": {},
   "source": [
    "1의 경우는 \n",
    "- 1\n",
    "> 1가지\n",
    "\n",
    "2의 경우는 \n",
    "- 1+1 \n",
    "- 2\n",
    "> 2가지\n",
    "\n",
    "3의 경우는 \n",
    "- 1 + 1 + 1 \n",
    "- 1 + 2\n",
    "- 2 + 1\n",
    "- 3\n",
    "> 4가지\n",
    "\n",
    "4의 경우는 \n",
    "- 1 + 1 + 1 + 1\n",
    "- 1 + 1 + 2\n",
    "- 1 + 2 + 1\n",
    "- 2 + 1 + 1\n",
    "- 1 + 3\n",
    "- 3 + 1\n",
    "- 2 + 2\n",
    "> 7가지\n",
    "\n",
    "5의 경우는 \n",
    "- 1 + 1 + 1 + 1 + 1\n",
    "- 1 + 1 + 1 + 2\n",
    "- 1 + 1 + 2 + 1\n",
    "- 1 + 2 + 1 + 1\n",
    "- 2 + 1 + 1 + 1\n",
    "- 1 + 1 + 3\n",
    "- 1 + 3 + 1\n",
    "- 3 + 1 + 1\n",
    "- 2 + 2 + 1\n",
    "- 2 + 1 + 2\n",
    "- 1 + 2 + 2\n",
    "- 1 + 4\n",
    "- 4 + 1\n",
    "> 13가지\n",
    "\n",
    "f(n) = f(n-1) + f(n-2) + f(n-3) "
   ]
  },
  {
   "cell_type": "code",
   "execution_count": 52,
   "metadata": {
    "ExecuteTime": {
     "end_time": "2022-09-08T07:48:58.742472Z",
     "start_time": "2022-09-08T07:48:58.723520Z"
    }
   },
   "outputs": [],
   "source": [
    "def func(n) : \n",
    "    if n == 1 : \n",
    "        return 1 \n",
    "    elif n == 2 : \n",
    "        return 2 \n",
    "    elif n == 3 : \n",
    "        return 4 \n",
    "    \n",
    "    return func(n-1) + func(n-2) + func(n-3)"
   ]
  },
  {
   "cell_type": "code",
   "execution_count": 54,
   "metadata": {
    "ExecuteTime": {
     "end_time": "2022-09-08T07:49:11.369973Z",
     "start_time": "2022-09-08T07:49:11.348935Z"
    }
   },
   "outputs": [
    {
     "data": {
      "text/plain": [
       "24"
      ]
     },
     "execution_count": 54,
     "metadata": {},
     "output_type": "execute_result"
    }
   ],
   "source": [
    "func(6)"
   ]
  },
  {
   "cell_type": "code",
   "execution_count": null,
   "metadata": {},
   "outputs": [],
   "source": []
  }
 ],
 "metadata": {
  "hide_input": false,
  "kernelspec": {
   "display_name": "Python 3",
   "language": "python",
   "name": "python3"
  },
  "language_info": {
   "codemirror_mode": {
    "name": "ipython",
    "version": 3
   },
   "file_extension": ".py",
   "mimetype": "text/x-python",
   "name": "python",
   "nbconvert_exporter": "python",
   "pygments_lexer": "ipython3",
   "version": "3.8.5"
  },
  "nbTranslate": {
   "displayLangs": [
    "*"
   ],
   "hotkey": "alt-t",
   "langInMainMenu": true,
   "sourceLang": "en",
   "targetLang": "fr",
   "useGoogleTranslate": true
  },
  "toc": {
   "base_numbering": 1,
   "nav_menu": {},
   "number_sections": false,
   "sideBar": true,
   "skip_h1_title": false,
   "title_cell": "Table of Contents",
   "title_sidebar": "Contents",
   "toc_cell": false,
   "toc_position": {
    "height": "calc(100% - 180px)",
    "left": "10px",
    "top": "150px",
    "width": "384px"
   },
   "toc_section_display": true,
   "toc_window_display": true
  },
  "varInspector": {
   "cols": {
    "lenName": 16,
    "lenType": 16,
    "lenVar": 40
   },
   "kernels_config": {
    "python": {
     "delete_cmd_postfix": "",
     "delete_cmd_prefix": "del ",
     "library": "var_list.py",
     "varRefreshCmd": "print(var_dic_list())"
    },
    "r": {
     "delete_cmd_postfix": ") ",
     "delete_cmd_prefix": "rm(",
     "library": "var_list.r",
     "varRefreshCmd": "cat(var_dic_list()) "
    }
   },
   "types_to_exclude": [
    "module",
    "function",
    "builtin_function_or_method",
    "instance",
    "_Feature"
   ],
   "window_display": false
  }
 },
 "nbformat": 4,
 "nbformat_minor": 1
}
