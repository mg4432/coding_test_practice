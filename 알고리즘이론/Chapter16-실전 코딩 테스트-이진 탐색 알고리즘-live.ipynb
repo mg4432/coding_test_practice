{
 "cells": [
  {
   "cell_type": "markdown",
   "metadata": {},
   "source": [
    "<div class=\"alert alert-block\" style=\"border: 1px solid #455A64;background-color:#ECEFF1;padding:5px;font-size:0.9em;\">\n",
    "본 자료와 관련 영상 컨텐츠는 저작권법 제25조 2항에 의해 보호를 받습니다. <br>본 컨텐츠 및 컨텐츠 일부 문구 등을 외부에 공개하거나, 요약해서 게시하지 말아주세요.<br>\n",
    "    <a href='www.fun-coding.org'>잔재미코딩(www.fun-coding.org) Dave Lee</a>\n",
    "</div>"
   ]
  },
  {
   "cell_type": "markdown",
   "metadata": {},
   "source": [
    "### 실전 코딩 테스트 - 탐색 알고리즘\n",
    "> 본 문제는 각 자료구조/알고리즘을 보다 실전 문제와 연결하여 연습함으로써, 해당 자료구조/알고리즘 이해도와 숙련도를 높이기 위함입니다. 따라서, 해당 문제에서 나오는 핵심 컨셉의 구현에만 초점을 맞춤니다."
   ]
  },
  {
   "cell_type": "markdown",
   "metadata": {},
   "source": [
    "### 1. https://www.acmicpc.net/problem/1920"
   ]
  },
  {
   "cell_type": "markdown",
   "metadata": {},
   "source": [
    "### 왜 다음 코드가 좋지 않을까요?\n",
    "> 실제로 다음과 같이 작성하면, 시간 제한에 걸립니다."
   ]
  },
  {
   "cell_type": "markdown",
   "metadata": {},
   "source": [
    "```python\n",
    "N = int(input())\n",
    "N_list = list(map(int, input().split())\n",
    "M = int(input())\n",
    "M_list = list(map(int, input().split())\n",
    "```"
   ]
  },
  {
   "cell_type": "code",
   "execution_count": 31,
   "metadata": {},
   "outputs": [],
   "source": [
    "# 여러 차례 테스트를 위해, input 구문으로 직접 입력을 받지 않고, 그대로 실제 테스트 예제 입력을 변수로 넣었습니다.\n",
    "N = 5\n",
    "N_list = [4, 1, 5, 2, 3]\n",
    "M = 5\n",
    "M_list = [1, 3, 7, 9, 5]"
   ]
  },
  {
   "cell_type": "code",
   "execution_count": 32,
   "metadata": {
    "scrolled": true
   },
   "outputs": [
    {
     "name": "stdout",
     "output_type": "stream",
     "text": [
      "1\n",
      "1\n",
      "0\n",
      "0\n",
      "1\n"
     ]
    }
   ],
   "source": [
    "for item in M_list:\n",
    "    if item in N_list:\n",
    "        print(1)\n",
    "    else:\n",
    "        print(0)"
   ]
  },
  {
   "cell_type": "markdown",
   "metadata": {},
   "source": [
    "### 시간복잡도 개선 코드\n",
    "> 이진 탐색 알고리즘 기반 코드 개선"
   ]
  },
  {
   "cell_type": "code",
   "execution_count": 28,
   "metadata": {},
   "outputs": [],
   "source": [
    "# 여러 차례 테스트를 위해, input 구문으로 직접 입력을 받지 않고, 그대로 실제 테스트 예제 입력을 변수로 넣었습니다.\n",
    "N = 5\n",
    "N_list = [4, 1, 5, 2, 3]\n",
    "M = 5\n",
    "M_list = [1, 3, 7, 9, 5]"
   ]
  },
  {
   "cell_type": "code",
   "execution_count": 29,
   "metadata": {},
   "outputs": [
    {
     "name": "stdout",
     "output_type": "stream",
     "text": [
      "1\n",
      "0\n",
      "0\n",
      "0\n",
      "1\n"
     ]
    }
   ],
   "source": [
    "N_list.sort()\n",
    "def binary_search(data, search):\n",
    "    if len(data) == 0:\n",
    "        return 0\n",
    "    elif len(data) == 1:\n",
    "        if data[0] == search:\n",
    "            return 1\n",
    "        else:\n",
    "            return 0\n",
    "    \n",
    "    medium = len(data) // 2\n",
    "    if search == data[medium]:\n",
    "        return 1\n",
    "    else:\n",
    "        if search > data[medium]:\n",
    "            return binary_search(data[medium+1:], search)\n",
    "        else:\n",
    "            return binary_search(data[:medium], search)\n",
    "        \n",
    "for item in M_list:\n",
    "    print(binary_search(N_list, item))        "
   ]
  },
  {
   "cell_type": "markdown",
   "metadata": {},
   "source": [
    "### 참고 코드\n",
    "- 테스트시 input() 실행 후, 정확히 값을 입력하지 않을 경우, 해당 코드가 실행중인 상태가 되므로, 더이상 다른 코드가 동작하지 않습니다. \n",
    "- 이 부분이 정확히 이해가 안가는 경우, 다음 코드 실행 보다는, 위의 코드를 테스트해보시면 좋을 것 같습니다. \n",
    "- 해당 부분의 테스트와, 다른 코드가 실행되지 않는 상황에 대한 당황스러움을 방지하고자 해당 코드는 실행이 안되는 Raw NBConvert 타입으로 바꿔놓았습니다."
   ]
  },
  {
   "cell_type": "raw",
   "metadata": {},
   "source": [
    "N = int(input())\n",
    "N_list = list(map(int, input().split()))\n",
    "M = int(input())\n",
    "M_list = list(map(int, input().split()))\n",
    "N_list.sort()\n",
    "\n",
    "def binary_search(value, start, end):\n",
    "    if start > end:\n",
    "        return False\n",
    "    \n",
    "    median = (start + end) // 2\n",
    "    if N_list[median] > value:\n",
    "        return binary_search(value, start, median - 1)\n",
    "    elif N_list[median] < value:\n",
    "        return binary_search(value, median + 1, end)\n",
    "    else:\n",
    "        return True\n",
    "        \n",
    "for item in M_list:\n",
    "    if binary_search(item, 0, N - 1):\n",
    "        print (1)\n",
    "    else:\n",
    "        print (0)"
   ]
  },
  {
   "cell_type": "markdown",
   "metadata": {},
   "source": [
    "<div class=\"alert alert-block\" style=\"border: 1px solid #455A64;background-color:#ECEFF1;padding:5px;font-size:0.9em;\">\n",
    "본 자료와 관련 영상 컨텐츠는 저작권법 제25조 2항에 의해 보호를 받습니다. <br>본 컨텐츠 및 컨텐츠 일부 문구 등을 외부에 공개하거나, 요약해서 게시하지 말아주세요.<br>\n",
    "    <a href='www.fun-coding.org'>잔재미코딩(www.fun-coding.org) Dave Lee</a>\n",
    "</div>"
   ]
  }
 ],
 "metadata": {
  "kernelspec": {
   "display_name": "Python 3",
   "language": "python",
   "name": "python3"
  },
  "language_info": {
   "codemirror_mode": {
    "name": "ipython",
    "version": 3
   },
   "file_extension": ".py",
   "mimetype": "text/x-python",
   "name": "python",
   "nbconvert_exporter": "python",
   "pygments_lexer": "ipython3",
   "version": "3.8.5"
  }
 },
 "nbformat": 4,
 "nbformat_minor": 4
}
