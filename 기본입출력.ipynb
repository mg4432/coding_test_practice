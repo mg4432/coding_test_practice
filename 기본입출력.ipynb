{
 "cells": [
  {
   "cell_type": "markdown",
   "metadata": {},
   "source": [
    "`input()` 함수는 한 줄의 문자열을 입력받는 함수\n",
    "`map()` 함수는 리스트의 모든 원소에 각각 특정한 함수를 적용할 때 사용\n",
    "\n",
    "ex. 공백을 기준으로 구분된 데이터를 입력받을 때는 다음과 같이 사용 \n",
    "- list(map(int, input().split()))\n",
    "\n",
    "ex. 공백을 기준으로 구분된 데이터의 개수가 많지 않다면 다음과 같이 사용 \n",
    "- a, b, c = map(int, input().split())"
   ]
  },
  {
   "cell_type": "code",
   "execution_count": 3,
   "metadata": {
    "ExecuteTime": {
     "end_time": "2021-07-11T07:44:57.654018Z",
     "start_time": "2021-07-11T07:43:29.959089Z"
    }
   },
   "outputs": [
    {
     "name": "stdout",
     "output_type": "stream",
     "text": [
      "5\n",
      "5\n",
      "13 24 56 14 52\n",
      "[56, 52, 24, 14, 13]\n"
     ]
    }
   ],
   "source": [
    "# 데이터의 개수 입력\n",
    "n = int(input())\n",
    "print(n)\n",
    "# 각 데이터를 공백을 기준으로 구분하여 입력\n",
    "data = list(map(int, input().split()))\n",
    "\n",
    "data.sort(reverse = True)\n",
    "print(data)"
   ]
  },
  {
   "cell_type": "code",
   "execution_count": 5,
   "metadata": {
    "ExecuteTime": {
     "end_time": "2021-07-11T07:45:49.284212Z",
     "start_time": "2021-07-11T07:45:47.114621Z"
    }
   },
   "outputs": [
    {
     "name": "stdout",
     "output_type": "stream",
     "text": [
      "12 34 56\n",
      "12\n",
      "34\n",
      "56\n"
     ]
    }
   ],
   "source": [
    "a, b, c = map(int, input().split())\n",
    "print(a)\n",
    "print(b)\n",
    "print(c)"
   ]
  },
  {
   "cell_type": "markdown",
   "metadata": {},
   "source": [
    "## 빠르게 입력받기 \n",
    "사용자로부터 입력을 최대한 빠르게 받아야 하는 경우\n",
    "\n",
    "파이썬의 경우 sys라이브러리에 정의되어 있는 `sys.stdin.readline()` 메서드를 이용\n",
    "- 단, 입력 후 Enter가 줄 바꿈 기호로 입력되므로 `rstrip()` 메서드를 함께 사용"
   ]
  },
  {
   "cell_type": "markdown",
   "metadata": {},
   "source": [
    "이진 탐색, 정렬, 그래프 이론에서 자주 사용되는 테크닉"
   ]
  },
  {
   "cell_type": "code",
   "execution_count": 6,
   "metadata": {
    "ExecuteTime": {
     "end_time": "2021-07-11T07:48:59.771124Z",
     "start_time": "2021-07-11T07:48:59.756164Z"
    }
   },
   "outputs": [
    {
     "name": "stdout",
     "output_type": "stream",
     "text": [
      "\n"
     ]
    }
   ],
   "source": [
    "import sys \n",
    "\n",
    "# 문자열 입력받기\n",
    "data = sys.stdin.readline().rstrip()\n",
    "print(data)"
   ]
  },
  {
   "cell_type": "markdown",
   "metadata": {},
   "source": [
    "## 자주 사용되는 표준 출력 방법\n",
    "파이썬에서 기본 출력은 `print()` 함수를 이용\n",
    "- 각 변수를 콤마를 이용하여 띄어쓰기로 구분하여 출력할 수 있음\n",
    "\n",
    "`print()`는 기본적으로 출력 이후에 줄 바꿈을 수행\n",
    "- 줄 바꿈을 원지 않는 경우 `end` 속성을 이용할 수 있다."
   ]
  },
  {
   "cell_type": "code",
   "execution_count": 12,
   "metadata": {
    "ExecuteTime": {
     "end_time": "2021-07-11T08:01:08.891918Z",
     "start_time": "2021-07-11T08:01:08.884456Z"
    }
   },
   "outputs": [
    {
     "name": "stdout",
     "output_type": "stream",
     "text": [
      "1 2\n",
      "7 8\n",
      "정답은 7입니다.\n"
     ]
    }
   ],
   "source": [
    "# 출력할 변수들 \n",
    "a = 1 \n",
    "b = 2 \n",
    "print(a, b)\n",
    "print(7, end = \" \")\n",
    "print(8, end = \"\\n\")\n",
    "\n",
    "# 출력할 변수 \n",
    "answer = 7\n",
    "print(\"정답은 \" + str(answer) + \"입니다.\") # 정수형 데이터 answer를 문자열로 바꿔서 출력"
   ]
  },
  {
   "cell_type": "markdown",
   "metadata": {},
   "source": [
    "## f-string \n",
    "문자열 앞에 접두사 'f'를 붙여서 사용 \n",
    "\n",
    "중괄호 안에 변수명을 기입하여 간단히 문자열과 정수를 함께 넣을 수 있다."
   ]
  },
  {
   "cell_type": "code",
   "execution_count": 14,
   "metadata": {
    "ExecuteTime": {
     "end_time": "2021-07-11T08:02:38.825954Z",
     "start_time": "2021-07-11T08:02:38.815981Z"
    }
   },
   "outputs": [
    {
     "name": "stdout",
     "output_type": "stream",
     "text": [
      "정답은 7입니다.\n"
     ]
    }
   ],
   "source": [
    "answer = 7\n",
    "print(f\"정답은 {answer}입니다.\")"
   ]
  }
 ],
 "metadata": {
  "hide_input": false,
  "kernelspec": {
   "display_name": "Python 3",
   "language": "python",
   "name": "python3"
  },
  "language_info": {
   "codemirror_mode": {
    "name": "ipython",
    "version": 3
   },
   "file_extension": ".py",
   "mimetype": "text/x-python",
   "name": "python",
   "nbconvert_exporter": "python",
   "pygments_lexer": "ipython3",
   "version": "3.8.5"
  },
  "varInspector": {
   "cols": {
    "lenName": 16,
    "lenType": 16,
    "lenVar": 40
   },
   "kernels_config": {
    "python": {
     "delete_cmd_postfix": "",
     "delete_cmd_prefix": "del ",
     "library": "var_list.py",
     "varRefreshCmd": "print(var_dic_list())"
    },
    "r": {
     "delete_cmd_postfix": ") ",
     "delete_cmd_prefix": "rm(",
     "library": "var_list.r",
     "varRefreshCmd": "cat(var_dic_list()) "
    }
   },
   "types_to_exclude": [
    "module",
    "function",
    "builtin_function_or_method",
    "instance",
    "_Feature"
   ],
   "window_display": false
  }
 },
 "nbformat": 4,
 "nbformat_minor": 4
}
