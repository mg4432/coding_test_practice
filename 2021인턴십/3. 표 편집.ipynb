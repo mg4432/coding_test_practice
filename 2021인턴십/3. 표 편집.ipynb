{
 "cells": [
  {
   "cell_type": "code",
   "execution_count": 29,
   "metadata": {
    "ExecuteTime": {
     "end_time": "2022-04-27T03:38:10.572131Z",
     "start_time": "2022-04-27T03:38:10.554132Z"
    }
   },
   "outputs": [],
   "source": [
    "class Node : \n",
    "    def __init__(self) : \n",
    "        self.removed = False \n",
    "        self.prev = None \n",
    "        self.next = None \n",
    "        \n",
    "def solution(n, k, cmd) : \n",
    "    nodeArr = [Node() for _ in range(n)]\n",
    "    for i in range(1, n) : \n",
    "        nodeArr[i-1].next = nodeArr[i]\n",
    "        nodeArr[i].prev = nodeArr[i-1]\n",
    "    \n",
    "    curr = nodeArr[k]\n",
    "    mystack = []\n",
    "    \n",
    "    for str in cmd : \n",
    "        if str[0] == 'U' : \n",
    "            x = int(str[2:])\n",
    "            for _ in range(x) : \n",
    "                curr = curr.prev \n",
    "                \n",
    "        elif  str[0] == 'D' : \n",
    "            x = int(str[2:])\n",
    "            for _ in range(x) : \n",
    "                curr = curr.next\n",
    "                \n",
    "        elif str[0] == 'C' :  \n",
    "            mystack.append(curr)\n",
    "            curr.removed = True \n",
    "            up = curr.prev \n",
    "            down = curr.next\n",
    "            \n",
    "            if up : \n",
    "                up.next = down\n",
    "                \n",
    "            if down :\n",
    "                down.prev = up\n",
    "                curr = down\n",
    "            else : \n",
    "                curr = up \n",
    "                \n",
    "        elif  str[0] == 'Z' : \n",
    "            node = mystack.pop()\n",
    "            node.removed = False \n",
    "            up = node.prev \n",
    "            down = node.next\n",
    "            \n",
    "            if up : \n",
    "                up.next = node \n",
    "                \n",
    "\n",
    "            if down : \n",
    "                down.prev = node \n",
    "    \n",
    "    answer = '' \n",
    "    \n",
    "    for i in range(n) : \n",
    "        if nodeArr[i].removed : \n",
    "            answer += 'X'\n",
    "        else : \n",
    "            answer += 'O'\n",
    "            \n",
    "    return answer"
   ]
  },
  {
   "cell_type": "code",
   "execution_count": 30,
   "metadata": {
    "ExecuteTime": {
     "end_time": "2022-04-27T03:38:10.828189Z",
     "start_time": "2022-04-27T03:38:10.814388Z"
    }
   },
   "outputs": [
    {
     "data": {
      "text/plain": [
       "'OOOOXOOO'"
      ]
     },
     "execution_count": 30,
     "metadata": {},
     "output_type": "execute_result"
    }
   ],
   "source": [
    "solution(8, 2, [\"D 2\",\"C\",\"U 3\",\"C\",\"D 4\",\"C\",\"U 2\",\"Z\",\"Z\"])"
   ]
  },
  {
   "cell_type": "code",
   "execution_count": 32,
   "metadata": {
    "ExecuteTime": {
     "end_time": "2022-04-27T03:39:02.836236Z",
     "start_time": "2022-04-27T03:39:02.822182Z"
    }
   },
   "outputs": [
    {
     "data": {
      "text/plain": [
       "'OOXOXOOO'"
      ]
     },
     "execution_count": 32,
     "metadata": {},
     "output_type": "execute_result"
    }
   ],
   "source": [
    "solution(8, 2, [\"D 2\",\"C\",\"U 3\",\"C\",\"D 4\",\"C\",\"U 2\",\"Z\",\"Z\",\"U 1\",\"C\"])"
   ]
  },
  {
   "cell_type": "code",
   "execution_count": null,
   "metadata": {},
   "outputs": [],
   "source": []
  }
 ],
 "metadata": {
  "hide_input": false,
  "kernelspec": {
   "display_name": "Python 3",
   "language": "python",
   "name": "python3"
  },
  "language_info": {
   "codemirror_mode": {
    "name": "ipython",
    "version": 3
   },
   "file_extension": ".py",
   "mimetype": "text/x-python",
   "name": "python",
   "nbconvert_exporter": "python",
   "pygments_lexer": "ipython3",
   "version": "3.8.5"
  },
  "toc": {
   "base_numbering": 1,
   "nav_menu": {},
   "number_sections": true,
   "sideBar": true,
   "skip_h1_title": false,
   "title_cell": "Table of Contents",
   "title_sidebar": "Contents",
   "toc_cell": false,
   "toc_position": {},
   "toc_section_display": true,
   "toc_window_display": false
  },
  "varInspector": {
   "cols": {
    "lenName": 16,
    "lenType": 16,
    "lenVar": 40
   },
   "kernels_config": {
    "python": {
     "delete_cmd_postfix": "",
     "delete_cmd_prefix": "del ",
     "library": "var_list.py",
     "varRefreshCmd": "print(var_dic_list())"
    },
    "r": {
     "delete_cmd_postfix": ") ",
     "delete_cmd_prefix": "rm(",
     "library": "var_list.r",
     "varRefreshCmd": "cat(var_dic_list()) "
    }
   },
   "types_to_exclude": [
    "module",
    "function",
    "builtin_function_or_method",
    "instance",
    "_Feature"
   ],
   "window_display": false
  }
 },
 "nbformat": 4,
 "nbformat_minor": 4
}
