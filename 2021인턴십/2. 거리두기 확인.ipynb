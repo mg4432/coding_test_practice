{
 "cells": [
  {
   "cell_type": "code",
   "execution_count": 696,
   "metadata": {
    "ExecuteTime": {
     "end_time": "2022-04-26T06:34:30.814929Z",
     "start_time": "2022-04-26T06:34:30.784391Z"
    }
   },
   "outputs": [],
   "source": [
    "places = [[\"POOOP\", \"OXXOX\", \"OPXPX\", \"OOXOX\", \"POXXP\"], [\"POOPX\", \"OXPXP\", \"PXXXO\", \"OXXXO\", \"OOOPP\"], [\"PXOPX\", \"OXOXP\", \"OXPOX\", \"OXXOP\", \"PXPOX\"], [\"OOOXX\", \"XOOOX\", \"OOOXX\", \"OXOOX\", \"OOOOO\"], [\"PXPXP\", \"XPXPX\", \"PXPXP\", \"XPXPX\", \"PXPXP\"]]"
   ]
  },
  {
   "cell_type": "markdown",
   "metadata": {},
   "source": [
    "## 풀이 1. "
   ]
  },
  {
   "cell_type": "code",
   "execution_count": 728,
   "metadata": {
    "ExecuteTime": {
     "end_time": "2022-04-26T11:13:22.095628Z",
     "start_time": "2022-04-26T11:13:22.076707Z"
    }
   },
   "outputs": [],
   "source": [
    "def convert(ip) :\n",
    "    arr = [[0 for _ in range(9)] for _ in range(9)]\n",
    "    for i in range(5) : \n",
    "        for j in range(5) :\n",
    "            arr[i+2][j+2] = ip[i][j]\n",
    "\n",
    "    for i in range(5) : \n",
    "        for j in range(5) : \n",
    "            if arr[i+2][j+2] == 'P' : \n",
    "                arr[i+2][j+2] = 1\n",
    "            elif arr[i+2][j+2] == 'O' : \n",
    "                arr[i+2][j+2] = 0\n",
    "            else : \n",
    "                arr[i+2][j+2] = -1\n",
    "                \n",
    "    return arr\n",
    "\n",
    "def check(arr) :\n",
    "    res = []\n",
    "    for a in range(2, 7) : \n",
    "        for b in range(2, 7) : \n",
    "            for i in [-2, -1, 0, 1, 2] : \n",
    "                if abs(i) == 2 : \n",
    "                    res.append(arr[a][b] + arr[int(a+(i/2))][b] + arr[a+i][b])\n",
    "                elif abs(i) == 1 : \n",
    "                    res.append(arr[a][b] + arr[a+i][b])\n",
    "                    res.append(arr[a][b] + arr[a+i][b] + arr[a+i][b+1])\n",
    "                    res.append(arr[a][b] + arr[a+i][b] + arr[a+i][b-1])\n",
    "                else : \n",
    "                    res.append(arr[a][b] + arr[a][b-1])\n",
    "                    res.append(arr[a][b] + arr[a][b+1] + arr[a][b+2])\n",
    "                    res.append(arr[a][b] + arr[a][b-1] + arr[a][b-2])\n",
    "    ok = 2 not in res\n",
    "    return ok\n",
    "\n",
    "def solution(places) : \n",
    "    answer = [] \n",
    "    for place in places : \n",
    "        if check(convert(place)) : \n",
    "            answer.append(1)\n",
    "        else : \n",
    "            answer.append(0)\n",
    "        \n",
    "    return answer \n"
   ]
  },
  {
   "cell_type": "code",
   "execution_count": 729,
   "metadata": {
    "ExecuteTime": {
     "end_time": "2022-04-26T11:13:22.701245Z",
     "start_time": "2022-04-26T11:13:22.683322Z"
    }
   },
   "outputs": [
    {
     "data": {
      "text/plain": [
       "0.0030503273010253906"
      ]
     },
     "execution_count": 729,
     "metadata": {},
     "output_type": "execute_result"
    }
   ],
   "source": [
    "import time\n",
    "start = time.time()\n",
    "solution(places)\n",
    "\n",
    "time.time() - start"
   ]
  },
  {
   "cell_type": "markdown",
   "metadata": {},
   "source": [
    "## 풀이 2. "
   ]
  },
  {
   "cell_type": "code",
   "execution_count": 730,
   "metadata": {
    "ExecuteTime": {
     "end_time": "2022-04-26T11:13:25.887286Z",
     "start_time": "2022-04-26T11:13:25.875352Z"
    }
   },
   "outputs": [],
   "source": [
    "import queue \n",
    "\n",
    "D = ((-1, 0), (1, 0), (0, -1), (0, 1))\n",
    "\n",
    "def bfs(place, row, col) : \n",
    "    visited = [[False for _ in range(5)] for _ in range(5)]\n",
    "    q = queue.Queue()\n",
    "    visited[row][col] = True \n",
    "    q.put((row, col, 0))\n",
    "    \n",
    "    # 탐색 시작 (queue가 empty가 아니면 계속 진행)\n",
    "    while not q.empty() :\n",
    "        curr = q.get()\n",
    "        \n",
    "        if curr[2] > 2 :\n",
    "            continue \n",
    "        \n",
    "        # 거리 2 이하인 경우에만 실행\n",
    "        # curr[0] : 행의 좌표, curr[1] : 열의 좌표\n",
    "        # curr[2] != 0으로 자신을 제외해야 함 \n",
    "        if curr[2] != 0 and place[curr[0]][curr[1]] == 'P' : \n",
    "            # 만족하지 않음 -> False 반환 \n",
    "            return False \n",
    "        \n",
    "        # 4방향으로 이동해보기\n",
    "        for i in range(4) : \n",
    "            nr = curr[0] + D[i][0] # 새로운 x좌표\n",
    "            nc = curr[1] + D[i][1] # 새로운 y좌표\n",
    "            if nr < 0 or nr > 4 or nc < 0 or nc > 4 : \n",
    "                continue \n",
    "            \n",
    "            # 이미 queue에 넣은 적이 있다면 고려할 필요 없음\n",
    "            if visited[nr][nc] : \n",
    "                continue \n",
    "                \n",
    "            # 파티션도 고려해야 함 \n",
    "            if place[nr][nc] == 'X' : \n",
    "                continue\n",
    "                \n",
    "            # \n",
    "            visited[nr][nc] = True \n",
    "            q.put((nr, nc, curr[2] + 1))\n",
    "    return True \n",
    "\n",
    "def check(place) : # 거리두기가 bfs에서 거리두기 만족하지 않는다는 결과 나오면 False 반환  \n",
    "    for r in range(5) : \n",
    "        for c in range(5) : \n",
    "            if place[r][c] == 'P' : \n",
    "                if bfs(place, r, c) == False : \n",
    "                    return False \n",
    "    return True \n",
    "\n",
    "def solution(places) : \n",
    "    answer = [] \n",
    "    \n",
    "    for place in places : \n",
    "        if check(place) : # 각각의 대기실에 대해서 거리두기를 확인하는지 check 함수로 확인 \n",
    "            answer.append(1) \n",
    "        else : \n",
    "            answer.append(0)\n",
    "            \n",
    "    return answer\n",
    "            "
   ]
  },
  {
   "cell_type": "code",
   "execution_count": 731,
   "metadata": {
    "ExecuteTime": {
     "end_time": "2022-04-26T11:13:26.402698Z",
     "start_time": "2022-04-26T11:13:26.388708Z"
    }
   },
   "outputs": [
    {
     "data": {
      "text/plain": [
       "[1, 0, 1, 1, 1]"
      ]
     },
     "execution_count": 731,
     "metadata": {},
     "output_type": "execute_result"
    }
   ],
   "source": [
    "solution(places)\n"
   ]
  },
  {
   "cell_type": "code",
   "execution_count": 732,
   "metadata": {
    "ExecuteTime": {
     "end_time": "2022-04-26T11:13:28.455764Z",
     "start_time": "2022-04-26T11:13:28.441293Z"
    }
   },
   "outputs": [
    {
     "data": {
      "text/plain": [
       "0.000997304916381836"
      ]
     },
     "execution_count": 732,
     "metadata": {},
     "output_type": "execute_result"
    }
   ],
   "source": [
    "import time\n",
    "start = time.time()\n",
    "solution(places)\n",
    "\n",
    "time.time() - start"
   ]
  },
  {
   "cell_type": "code",
   "execution_count": 742,
   "metadata": {
    "ExecuteTime": {
     "end_time": "2022-04-26T12:19:28.628485Z",
     "start_time": "2022-04-26T12:19:28.609644Z"
    }
   },
   "outputs": [],
   "source": [
    "import queue \n",
    "\n",
    "D = ((-1, 0), (1, 0), (0, -1), (0, 1))\n",
    "\n",
    "def bfs(place, r, c) :\n",
    "    visited = [[False for _ in range(5)] for _ in range(5)]\n",
    "    visited[r][c] = True \n",
    "    q = queue.Queue()\n",
    "    q.put((r, c, 0))\n",
    "    \n",
    "    while not q.empty() :\n",
    "        curr = q.get()\n",
    "        \n",
    "        # 거리 > 2 제외\n",
    "        if curr[2] > 2 : \n",
    "            continue \n",
    "        \n",
    "        # 자기 자신 제외하고 거리 근방에서 P를 찾으면 False\n",
    "        if curr[2] != 0 and place[curr[0]][curr[1]] == 'P' : \n",
    "            return False \n",
    "        \n",
    "        # P가 존재하지 않는다면 한 칸 더 이동(2칸까지 이동) \n",
    "        for i in range(4) : \n",
    "            nr = curr[0] + D[i][0]\n",
    "            nc = curr[1] + D[i][1]\n",
    "            \n",
    "            # 시험장 밖의 좌표는 고려하지 않아도 됨 \n",
    "            if nr < 0 or nr > 4 or nc < 0 or nc > 4 : \n",
    "                continue \n",
    "            \n",
    "            # 만약 이동했을 때의 점이 이미 탐색했던 점이라면(ex. 위 > 오른쪽, 오른쪽 > 위) pass\n",
    "            if visited[nr][nc]: \n",
    "                continue \n",
    "                \n",
    "            # 만약 그 점이 파티션이라면 거리두기 만족\n",
    "            if place[nr][nc] == 'X' : \n",
    "                continue \n",
    "                \n",
    "            visited[nr][nc] = True # 방문했다는 정보 입력 \n",
    "            q.put((nr, nc, curr[2] + 1)) # 한 칸 이동했을 때의 점이기 때문에 curr[2] + 1 \n",
    "            \n",
    "    return True # 모든 과정 수행했을 때 False 없으면 True 반환\n",
    "                \n",
    "            \n",
    "            \n",
    "\n",
    "def check(place) : \n",
    "    for r in range(5) : \n",
    "        for c in range(5) : \n",
    "            if place[r][c] == 'P' :\n",
    "                if bfs(place, r, c) == False :\n",
    "                    return False\n",
    "\n",
    "    return True\n",
    "\n",
    "def solution(places) : \n",
    "    answer = []\n",
    "    for place in places : \n",
    "        if check(place) :\n",
    "            answer.append(1)\n",
    "        else :\n",
    "            answer.append(0)\n",
    "    \n",
    "    return answer "
   ]
  },
  {
   "cell_type": "code",
   "execution_count": 743,
   "metadata": {
    "ExecuteTime": {
     "end_time": "2022-04-26T12:19:28.856227Z",
     "start_time": "2022-04-26T12:19:28.837877Z"
    }
   },
   "outputs": [
    {
     "data": {
      "text/plain": [
       "[1, 0, 1, 1, 1]"
      ]
     },
     "execution_count": 743,
     "metadata": {},
     "output_type": "execute_result"
    }
   ],
   "source": [
    "solution(places)"
   ]
  },
  {
   "cell_type": "code",
   "execution_count": 735,
   "metadata": {
    "ExecuteTime": {
     "end_time": "2022-04-26T12:18:00.222540Z",
     "start_time": "2022-04-26T12:18:00.195582Z"
    }
   },
   "outputs": [
    {
     "data": {
      "text/plain": [
       "[['POOOP', 'OXXOX', 'OPXPX', 'OOXOX', 'POXXP'],\n",
       " ['POOPX', 'OXPXP', 'PXXXO', 'OXXXO', 'OOOPP'],\n",
       " ['PXOPX', 'OXOXP', 'OXPOX', 'OXXOP', 'PXPOX'],\n",
       " ['OOOXX', 'XOOOX', 'OOOXX', 'OXOOX', 'OOOOO'],\n",
       " ['PXPXP', 'XPXPX', 'PXPXP', 'XPXPX', 'PXPXP']]"
      ]
     },
     "execution_count": 735,
     "metadata": {},
     "output_type": "execute_result"
    }
   ],
   "source": [
    "places"
   ]
  },
  {
   "cell_type": "code",
   "execution_count": null,
   "metadata": {},
   "outputs": [],
   "source": []
  }
 ],
 "metadata": {
  "hide_input": false,
  "kernelspec": {
   "display_name": "Python 3",
   "language": "python",
   "name": "python3"
  },
  "language_info": {
   "codemirror_mode": {
    "name": "ipython",
    "version": 3
   },
   "file_extension": ".py",
   "mimetype": "text/x-python",
   "name": "python",
   "nbconvert_exporter": "python",
   "pygments_lexer": "ipython3",
   "version": "3.8.5"
  },
  "toc": {
   "base_numbering": 1,
   "nav_menu": {},
   "number_sections": false,
   "sideBar": true,
   "skip_h1_title": false,
   "title_cell": "Table of Contents",
   "title_sidebar": "Contents",
   "toc_cell": false,
   "toc_position": {
    "height": "calc(100% - 180px)",
    "left": "10px",
    "top": "150px",
    "width": "349.091px"
   },
   "toc_section_display": true,
   "toc_window_display": true
  },
  "varInspector": {
   "cols": {
    "lenName": 16,
    "lenType": 16,
    "lenVar": 40
   },
   "kernels_config": {
    "python": {
     "delete_cmd_postfix": "",
     "delete_cmd_prefix": "del ",
     "library": "var_list.py",
     "varRefreshCmd": "print(var_dic_list())"
    },
    "r": {
     "delete_cmd_postfix": ") ",
     "delete_cmd_prefix": "rm(",
     "library": "var_list.r",
     "varRefreshCmd": "cat(var_dic_list()) "
    }
   },
   "types_to_exclude": [
    "module",
    "function",
    "builtin_function_or_method",
    "instance",
    "_Feature"
   ],
   "window_display": false
  }
 },
 "nbformat": 4,
 "nbformat_minor": 4
}
