{
 "cells": [
  {
   "cell_type": "markdown",
   "metadata": {},
   "source": [
    "# 풀이 1"
   ]
  },
  {
   "cell_type": "code",
   "execution_count": null,
   "metadata": {},
   "outputs": [],
   "source": [
    "def solution(s):\n",
    "    answer = '' \n",
    "    \n",
    "    while len(s) > 0 : \n",
    "        if s[0] in ['0','1','2','3','4','5','6','7','8','9'] : \n",
    "            answer += s[0]\n",
    "            s = s[1:]\n",
    "\n",
    "        else : \n",
    "            if s[0] == 'z' : \n",
    "                answer += '0'\n",
    "                s = s[4:]\n",
    "            \n",
    "            elif s[0] == 'o' : \n",
    "                answer += '1'\n",
    "                s = s[3:]\n",
    "                \n",
    "            elif s[0] == 't' : \n",
    "                if s[1] == 'w' : \n",
    "                    answer += '2'\n",
    "                    s = s[3:]\n",
    "                else : \n",
    "                    answer += '3' \n",
    "                    s = s[5:]\n",
    "            elif s[0] == 'f' : \n",
    "                if s[1] == 'o' : \n",
    "                    answer += '4'\n",
    "                    s = s[4:]\n",
    "                else : \n",
    "                    answer += '5' \n",
    "                    s = s[4:]\n",
    "                    \n",
    "            elif s[0] == 's' : \n",
    "                if s[1] == 'i' : \n",
    "                    answer += '6'\n",
    "                    s = s[3:]\n",
    "                else : \n",
    "                    answer += '7' \n",
    "                    s = s[5:]\n",
    "                    \n",
    "            elif s[0] == 'e' : \n",
    "                answer += '8'\n",
    "                s = s[5:]\n",
    "                \n",
    "            else : \n",
    "                answer += '9'\n",
    "                s = s[4:]\n",
    "    \n",
    "    answer = int(answer)\n",
    "    return answer"
   ]
  },
  {
   "cell_type": "code",
   "execution_count": null,
   "metadata": {},
   "outputs": [],
   "source": [
    "import time\n",
    "start = time.time()\n",
    "solution('1234one')\n",
    "\n",
    "time.time() - start"
   ]
  },
  {
   "cell_type": "markdown",
   "metadata": {},
   "source": [
    "# 풀이 2 "
   ]
  },
  {
   "cell_type": "code",
   "execution_count": null,
   "metadata": {},
   "outputs": [],
   "source": [
    "num_dic = {\"zero\":\"0\", \"one\":\"1\", \"two\":\"2\", \"three\":\"3\", \"four\":\"4\", \"five\":\"5\", \"six\":\"6\", \"seven\":\"7\", \"eight\":\"8\", \"nine\":\"9\"}\n",
    "\n",
    "def solution(s):\n",
    "    answer = s\n",
    "    for key, value in num_dic.items():\n",
    "        answer = answer.replace(key, value)\n",
    "    return int(answer)"
   ]
  },
  {
   "cell_type": "code",
   "execution_count": null,
   "metadata": {},
   "outputs": [],
   "source": [
    "import time\n",
    "start = time.time()\n",
    "solution('1234one')\n",
    "\n",
    "time.time() - start"
   ]
  },
  {
   "cell_type": "markdown",
   "metadata": {},
   "source": [
    "# 풀이 3"
   ]
  },
  {
   "cell_type": "code",
   "execution_count": null,
   "metadata": {},
   "outputs": [],
   "source": [
    "Word = ('zero', 'one', 'two', 'three', 'four', 'five', 'six', 'seven', 'eight', 'nine')\n",
    "\n",
    "def solution(s) : \n",
    "    result = '' \n",
    "    pos = 0 \n",
    "    \n",
    "    while pos < len(s) :\n",
    "        if s[pos] >= '0' and s[pos] <= '9' : # 숫자 \n",
    "            result += s[pos]\n",
    "            pos += 1\n",
    "            \n",
    "        else : \n",
    "            for i in range(10) : \n",
    "                if s.find(Word[i], pos, pos+5) >= 0 : \n",
    "                    result += str(i)\n",
    "                    pos += len(Word[i])\n",
    "                    break\n",
    "                    \n",
    "    answer = int(result)\n",
    "    \n",
    "    return answer\n",
    "                \n",
    "        \n",
    "        "
   ]
  },
  {
   "cell_type": "code",
   "execution_count": null,
   "metadata": {},
   "outputs": [],
   "source": [
    "import time\n",
    "start = time.time()\n",
    "solution('1234one')\n",
    "\n",
    "time.time() - start"
   ]
  },
  {
   "cell_type": "code",
   "execution_count": 11,
   "metadata": {
    "ExecuteTime": {
     "end_time": "2022-05-04T08:38:24.237422Z",
     "start_time": "2022-05-04T08:38:24.226451Z"
    }
   },
   "outputs": [],
   "source": []
  },
  {
   "cell_type": "code",
   "execution_count": 12,
   "metadata": {
    "ExecuteTime": {
     "end_time": "2022-05-04T08:38:24.539990Z",
     "start_time": "2022-05-04T08:38:24.524033Z"
    }
   },
   "outputs": [
    {
     "name": "stdout",
     "output_type": "stream",
     "text": [
      "o\n",
      "on\n",
      "one\n",
      "s\n",
      "se\n",
      "sev\n",
      "seve\n",
      "seven\n",
      "sevene\n",
      "sevenei\n",
      "seveneig\n",
      "seveneigh\n",
      "seveneight\n",
      "1\n",
      "10\n"
     ]
    },
    {
     "data": {
      "text/plain": [
       "'10'"
      ]
     },
     "execution_count": 12,
     "metadata": {},
     "output_type": "execute_result"
    }
   ],
   "source": [
    "solution('one4seveneight')"
   ]
  },
  {
   "cell_type": "code",
   "execution_count": 8,
   "metadata": {
    "ExecuteTime": {
     "end_time": "2022-05-04T08:37:01.813338Z",
     "start_time": "2022-05-04T08:37:01.794271Z"
    }
   },
   "outputs": [
    {
     "data": {
      "text/plain": [
       "False"
      ]
     },
     "execution_count": 8,
     "metadata": {},
     "output_type": "execute_result"
    }
   ],
   "source": [
    "'7'.isalpha()"
   ]
  },
  {
   "cell_type": "code",
   "execution_count": null,
   "metadata": {},
   "outputs": [],
   "source": []
  }
 ],
 "metadata": {
  "hide_input": false,
  "kernelspec": {
   "display_name": "Python 3",
   "language": "python",
   "name": "python3"
  },
  "language_info": {
   "codemirror_mode": {
    "name": "ipython",
    "version": 3
   },
   "file_extension": ".py",
   "mimetype": "text/x-python",
   "name": "python",
   "nbconvert_exporter": "python",
   "pygments_lexer": "ipython3",
   "version": "3.8.5"
  },
  "toc": {
   "base_numbering": 1,
   "nav_menu": {},
   "number_sections": true,
   "sideBar": true,
   "skip_h1_title": false,
   "title_cell": "Table of Contents",
   "title_sidebar": "Contents",
   "toc_cell": false,
   "toc_position": {},
   "toc_section_display": true,
   "toc_window_display": false
  },
  "varInspector": {
   "cols": {
    "lenName": 16,
    "lenType": 16,
    "lenVar": 40
   },
   "kernels_config": {
    "python": {
     "delete_cmd_postfix": "",
     "delete_cmd_prefix": "del ",
     "library": "var_list.py",
     "varRefreshCmd": "print(var_dic_list())"
    },
    "r": {
     "delete_cmd_postfix": ") ",
     "delete_cmd_prefix": "rm(",
     "library": "var_list.r",
     "varRefreshCmd": "cat(var_dic_list()) "
    }
   },
   "types_to_exclude": [
    "module",
    "function",
    "builtin_function_or_method",
    "instance",
    "_Feature"
   ],
   "window_display": false
  }
 },
 "nbformat": 4,
 "nbformat_minor": 4
}
